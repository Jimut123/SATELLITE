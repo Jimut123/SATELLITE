{
 "cells": [
  {
   "cell_type": "code",
   "execution_count": null,
   "metadata": {},
   "outputs": [],
   "source": [
    "# Load the Drive helper and mount\n",
    "from google.colab import drive\n",
    "drive.mount('/content/drive')"
   ]
  },
  {
   "cell_type": "code",
   "execution_count": null,
   "metadata": {},
   "outputs": [],
   "source": [
    "! mkdir building_segmentation\n",
    "! mkdir building_segmentation/training\n",
    "! mkdir building_segmentation/training/input\n",
    "! mkdir building_segmentation/training\n",
    "! mkdir building_segmentation/training/output\n",
    "! mkdir building_segmentation/testing\n",
    "! mkdir building_segmentation/testing/input\n",
    "! mkdir building_segmentation/testing\n",
    "! mkdir building_segmentation/testing/output\n",
    "! mkdir building_segmentation/validation\n",
    "! mkdir building_segmentation/validation/input\n",
    "! mkdir building_segmentation/validation\n",
    "! mkdir building_segmentation/validation/output"
   ]
  },
  {
   "cell_type": "code",
   "execution_count": null,
   "metadata": {},
   "outputs": [],
   "source": [
    "# code from https://github.com/BBarbosa/tflearn-image-recognition-toolkit/blob/4a0528dcfb206b1e45997f2fbc097aafacfa0fa0/scripts/html_link_parser.py\n",
    "\n",
    "import re\n",
    "import argparse\n",
    "\n",
    "from PIL import Image\n",
    "from io import BytesIO\n",
    "from bs4 import BeautifulSoup\n",
    "from skimage import io as skio\n",
    "from urllib.request import urlopen\n",
    "import os\n",
    "\n",
    "\n",
    "def html_url_parser(url, save_dir, show=False, wait=False):\n",
    "    \"\"\"\n",
    "    HTML parser to download images from URL.\n",
    "    Params:\\n\n",
    "    `url` - Image url\\n\n",
    "    `save_dir` - Directory to save extracted images\\n\n",
    "    `show` - Show downloaded image\\n\n",
    "    `wait` - Press key to continue executing\n",
    "    \"\"\"\n",
    "\n",
    "    website = urlopen(url)\n",
    "    html = website.read()\n",
    "\n",
    "    soup = BeautifulSoup(html, \"html5lib\")\n",
    "\n",
    "    for image_id, link in enumerate(soup.find_all(\"a\", href=True)):\n",
    "        if image_id == 0:\n",
    "            continue\n",
    "\n",
    "        img_url = link[\"href\"]\n",
    "\n",
    "        try:\n",
    "            if os.path.isfile(save_dir + \"img-%d.png\" % image_id) == False:\n",
    "                print(\"[INFO] Downloading image from URL:\", link[\"href\"])\n",
    "                image = Image.open(urlopen(img_url))\n",
    "                image.save(save_dir + \"img-%d.png\" % image_id, \"PNG\")\n",
    "                if show:\n",
    "                    image.show()\n",
    "            else:\n",
    "                print(\"skipped\")\n",
    "        except KeyboardInterrupt:\n",
    "            print(\"[EXCEPTION] Pressed 'Ctrl+C'\")\n",
    "            break\n",
    "        except Exception as image_exception:\n",
    "            print(\"[EXCEPTION]\", image_exception)\n",
    "            continue\n",
    "\n",
    "        if wait:\n",
    "            key = input(\"[INFO] Press any key to continue ('q' to exit)... \")\n",
    "            if key.lower() == \"q\":\n",
    "                break\n",
    "\n",
    "\n",
    "# ///////////////////////////////////////////////////\n",
    "#                   Main method\n",
    "# ///////////////////////////////////////////////////\n",
    "if __name__ == \"__main__\":\n",
    "    URL_TRAIN_IMG = (\n",
    "        #\"https://www.cs.toronto.edu/~vmnih/data/mass_roads/train/sat/index.html\"\n",
    "        \"https://www.cs.toronto.edu/~vmnih/data/mass_buildings/train/sat/index.html\"\n",
    "    )\n",
    "    URL_TRAIN_GT = (\n",
    "        #\"https://www.cs.toronto.edu/~vmnih/data/mass_roads/train/map/index.html\"\n",
    "        \"https://www.cs.toronto.edu/~vmnih/data/mass_buildings/train/map/index.html\"\n",
    "    )\n",
    "    URL_VALID_IMG = (\n",
    "        \"https://www.cs.toronto.edu/~vmnih/data/mass_buildings/valid/sat/index.html\"\n",
    "    )\n",
    "    URL_VALID_GT = (\n",
    "        \"https://www.cs.toronto.edu/~vmnih/data/mass_buildings/valid/map/index.html\"\n",
    "    )\n",
    "\n",
    "    URL_TEST_IMG = (\n",
    "        #\"https://www.cs.toronto.edu/~vmnih/data/mass_roads/valid/sat/index.html\"\n",
    "        \"https://www.cs.toronto.edu/~vmnih/data/mass_buildings/test/sat/index.html\"\n",
    "    )\n",
    "    URL_TEST_GT = (\n",
    "        #\"https://www.cs.toronto.edu/~vmnih/data/mass_roads/valid/map/index.html\"\n",
    "        \"https://www.cs.toronto.edu/~vmnih/data/mass_buildings/test/map/index.html\"\n",
    "    )\n",
    "\n",
    "    html_url_parser(url=URL_TRAIN_IMG, save_dir=\"./building_segmentation/training/input/\")\n",
    "    html_url_parser(url=URL_TRAIN_GT, save_dir=\"./building_segmentation/training/output/\")\n",
    "    \n",
    "    html_url_parser(url=URL_VALID_IMG, save_dir=\"./building_segmentation/validation/input/\")\n",
    "    html_url_parser(url=URL_VALID_GT, save_dir=\"./building_segmentation/validation/output/\")\n",
    "\n",
    "    html_url_parser(url=URL_TEST_IMG, save_dir=\"./building_segmentation/testing/input/\")\n",
    "    html_url_parser(url=URL_TEST_GT, save_dir=\"./building_segmentation/testing/output/\")\n",
    "\n",
    "    print(\"[INFO] All done!\")"
   ]
  },
  {
   "cell_type": "code",
   "execution_count": null,
   "metadata": {},
   "outputs": [],
   "source": [
    "! du -hs building_segmentation"
   ]
  },
  {
   "cell_type": "code",
   "execution_count": null,
   "metadata": {},
   "outputs": [],
   "source": [
    "import glob\n",
    "all_testing_img = glob.glob('/content/building_segmentation/testing/input/*')\n",
    "all_testing_mask = glob.glob('/content/building_segmentation/testing/output/*')\n",
    "all_validation_img = glob.glob('/content/building_segmentation/validation/input/*')\n",
    "all_validation_mask = glob.glob('/content/building_segmentation/validation/output/*')\n",
    "all_training_img = glob.glob('/content/building_segmentation/training/input/*')\n",
    "all_training_mask = glob.glob('/content/building_segmentation/training/output/*')\n",
    "\n",
    "print(len(all_testing_img))\n",
    "print(len(all_testing_mask))\n",
    "print(len(all_validation_img))\n",
    "print(len(all_validation_mask))\n",
    "print(len(all_training_img))\n",
    "print(len(all_training_mask))"
   ]
  },
  {
   "cell_type": "code",
   "execution_count": null,
   "metadata": {},
   "outputs": [],
   "source": [
    "! zip -r building_segmentation.zip building_segmentation"
   ]
  },
  {
   "cell_type": "code",
   "execution_count": null,
   "metadata": {},
   "outputs": [],
   "source": [
    "! cp building_segmentation.zip /content/drive/'My Drive'/"
   ]
  },
  {
   "cell_type": "code",
   "execution_count": null,
   "metadata": {},
   "outputs": [],
   "source": [
    "! du -hs building_segmentation.zip"
   ]
  }
 ],
 "metadata": {
  "kernelspec": {
   "display_name": "Python 3",
   "language": "python",
   "name": "python3"
  },
  "language_info": {
   "codemirror_mode": {
    "name": "ipython",
    "version": 3
   },
   "file_extension": ".py",
   "mimetype": "text/x-python",
   "name": "python",
   "nbconvert_exporter": "python",
   "pygments_lexer": "ipython3",
   "version": "3.8.5"
  }
 },
 "nbformat": 4,
 "nbformat_minor": 4
}
