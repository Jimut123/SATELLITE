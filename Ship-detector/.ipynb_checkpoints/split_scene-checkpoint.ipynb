{
 "cells": [
  {
   "cell_type": "code",
   "execution_count": 1,
   "metadata": {},
   "outputs": [],
   "source": [
    "import glob\n",
    "import cv2\n",
    "files = glob.glob('ship_scenes/*')"
   ]
  },
  {
   "cell_type": "code",
   "execution_count": null,
   "metadata": {},
   "outputs": [],
   "source": []
  },
  {
   "cell_type": "code",
   "execution_count": 15,
   "metadata": {},
   "outputs": [
    {
     "name": "stdout",
     "output_type": "stream",
     "text": [
      "1007  ,  2211\n",
      "0   500\n",
      "0   501\n",
      "0   502\n",
      "0   503\n",
      "0   504\n",
      "0   505\n",
      "0   506\n",
      "0   507\n",
      "0   508\n",
      "0   509\n",
      "0   510\n"
     ]
    }
   ],
   "source": [
    "# find . -name '*.jpeg' -exec rm {} \\; &       just in case\n",
    "file_counter = 0\n",
    "for item in files:\n",
    "    img = cv2.imread(item,cv2.IMREAD_UNCHANGED)\n",
    "    print(img.shape[0], \" , \", img.shape[1])\n",
    "    for i in range(img.shape[0]):\n",
    "        for j in range(img.shape[1]):\n",
    "            if i+500 <= img.shape[0] and j+500 <= img.shape[1]:\n",
    "                copy_img = img[i:i+500,j:j+500]\n",
    "                copy_img1 = copy_img.copy()\n",
    "            if file_counter <= 10:\n",
    "                print(i,\" \",j)\n",
    "                cv2.imwrite(str(\"img_{}_{}.jpeg\".format(i,j)),copy_img1)\n",
    "                file_counter += 1\n",
    "                j += 500\n",
    "        i += 500\n",
    "        break\n",
    "    break"
   ]
  },
  {
   "cell_type": "code",
   "execution_count": null,
   "metadata": {},
   "outputs": [],
   "source": []
  }
 ],
 "metadata": {
  "kernelspec": {
   "display_name": "Python 3",
   "language": "python",
   "name": "python3"
  },
  "language_info": {
   "codemirror_mode": {
    "name": "ipython",
    "version": 3
   },
   "file_extension": ".py",
   "mimetype": "text/x-python",
   "name": "python",
   "nbconvert_exporter": "python",
   "pygments_lexer": "ipython3",
   "version": "3.6.9"
  }
 },
 "nbformat": 4,
 "nbformat_minor": 4
}
