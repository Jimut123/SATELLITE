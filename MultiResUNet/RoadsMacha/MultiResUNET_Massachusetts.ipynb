{
  "nbformat": 4,
  "nbformat_minor": 0,
  "metadata": {
    "colab": {
      "name": "MultiResUNET_Massachusetts.ipynb",
      "provenance": []
    },
    "kernelspec": {
      "name": "python3",
      "display_name": "Python 3"
    },
    "accelerator": "GPU"
  },
  "cells": [
    {
      "cell_type": "code",
      "metadata": {
        "colab": {
          "base_uri": "https://localhost:8080/"
        },
        "id": "ADZ-eFMvfmJo",
        "outputId": "f58f61ea-60da-4689-ca81-a1cc3877482f"
      },
      "source": [
        "! gdown https://drive.google.com/u/3/uc?id=1x0pHc_SEVHPngVoPs9famWJwkpyvmGtZ"
      ],
      "execution_count": 1,
      "outputs": [
        {
          "output_type": "stream",
          "text": [
            "Downloading...\n",
            "From: https://drive.google.com/u/3/uc?id=1x0pHc_SEVHPngVoPs9famWJwkpyvmGtZ\n",
            "To: /content/road_segmentation.zip\n",
            "5.07GB [01:37, 52.2MB/s]\n"
          ],
          "name": "stdout"
        }
      ]
    },
    {
      "cell_type": "code",
      "metadata": {
        "id": "3x0ZAty8f9S_"
      },
      "source": [
        "! unzip -qq road_segmentation.zip"
      ],
      "execution_count": 2,
      "outputs": []
    },
    {
      "cell_type": "code",
      "metadata": {
        "id": "OzR_pbuclO6j"
      },
      "source": [
        "import os\n",
        "import cv2\n",
        "import numpy as np\n",
        "import pandas as pd\n",
        "from tqdm import tqdm\n",
        "import matplotlib.pyplot as plt\n",
        "from keras.layers import Input, Conv2D, MaxPooling2D, Conv2DTranspose, concatenate, BatchNormalization, Activation, add\n",
        "from keras.models import Model, model_from_json\n",
        "from keras.optimizers import Adam\n",
        "from keras.layers.advanced_activations import ELU, LeakyReLU\n",
        "from keras.utils.vis_utils import plot_model\n",
        "from keras import backend as K \n",
        "from sklearn.model_selection import train_test_split\n",
        "from sklearn.metrics import classification_report\n",
        "import glob\n"
      ],
      "execution_count": 5,
      "outputs": []
    },
    {
      "cell_type": "code",
      "metadata": {
        "colab": {
          "base_uri": "https://localhost:8080/"
        },
        "id": "qBXx9XJUf_aY",
        "outputId": "2967e980-f9ba-4b8a-c185-54b3939f8b1a"
      },
      "source": [
        "import glob\n",
        "all_img_files = glob.glob('road_segmentation/training/input/*')\n",
        "all_mask_files = glob.glob('road_segmentation/training/output/*')\n",
        "print(len(all_img_files))\n",
        "print(len(all_mask_files))\n",
        "print(all_img_files[:10])\n",
        "print(all_mask_files[:10])\n",
        "\n",
        "#img = cv2.imread('trainx/X_img_144.bmp', cv2.IMREAD_COLOR)\n",
        "#img.shape\n",
        "\n",
        "#plt.imshow(img[:,:,::-1])\n",
        "\n",
        "img_files = glob.glob('road_segmentation/training/input/*')\n",
        "msk_files = glob.glob('road_segmentation/training/output/*')\n",
        "\n",
        "img_files.sort()\n",
        "msk_files.sort()\n",
        "\n",
        "print(len(img_files))\n",
        "print(len(msk_files))\n"
      ],
      "execution_count": 6,
      "outputs": [
        {
          "output_type": "stream",
          "text": [
            "1107\n",
            "1107\n",
            "['road_segmentation/training/input/img-215.png', 'road_segmentation/training/input/img-995.png', 'road_segmentation/training/input/img-220.png', 'road_segmentation/training/input/img-98.png', 'road_segmentation/training/input/img-377.png', 'road_segmentation/training/input/img-78.png', 'road_segmentation/training/input/img-791.png', 'road_segmentation/training/input/img-444.png', 'road_segmentation/training/input/img-226.png', 'road_segmentation/training/input/img-263.png']\n",
            "['road_segmentation/training/output/img-215.png', 'road_segmentation/training/output/img-995.png', 'road_segmentation/training/output/img-220.png', 'road_segmentation/training/output/img-98.png', 'road_segmentation/training/output/img-377.png', 'road_segmentation/training/output/img-78.png', 'road_segmentation/training/output/img-791.png', 'road_segmentation/training/output/img-444.png', 'road_segmentation/training/output/img-226.png', 'road_segmentation/training/output/img-263.png']\n",
            "1107\n",
            "1107\n"
          ],
          "name": "stdout"
        }
      ]
    },
    {
      "cell_type": "code",
      "metadata": {
        "colab": {
          "base_uri": "https://localhost:8080/"
        },
        "id": "2HjgST2kj54g",
        "outputId": "b613835c-8bc9-448f-bc58-249d93f3f35a"
      },
      "source": [
        "X = []\n",
        "Y = []\n",
        "\n",
        "for img_fl in tqdm(img_files):\n",
        "  #print(img_fl)\n",
        "  #break\n",
        "  img = cv2.imread('{}'.format(img_fl), cv2.IMREAD_COLOR)\n",
        "  resized_img = cv2.resize(img,(256, 256), interpolation = cv2.INTER_CUBIC)\n",
        "  #plt.imshow(resized_img)\n",
        "  #plt.show()\n",
        "  X.append(resized_img)\n",
        "  #print(img_fl)\n",
        "  mask_name = 'road_segmentation/training/output/img-'+str(img_fl.split('.')[0]).split('-')[-1]+\".png\"\n",
        "  #print(\"mn = \",mask_name)\n",
        "  #break\n",
        "  msk = cv2.imread('{}'.format(mask_name), cv2.IMREAD_GRAYSCALE)\n",
        "  resized_msk = cv2.resize(msk,(256, 256), interpolation = cv2.INTER_CUBIC)\n",
        "  #plt.imshow(resized_msk)\n",
        "  Y.append(resized_msk)\n",
        "  #break\n",
        "print(len(X))\n",
        "print(len(Y))"
      ],
      "execution_count": 15,
      "outputs": [
        {
          "output_type": "stream",
          "text": [
            "100%|██████████| 1107/1107 [01:21<00:00, 13.64it/s]"
          ],
          "name": "stderr"
        },
        {
          "output_type": "stream",
          "text": [
            "1107\n",
            "1107\n"
          ],
          "name": "stdout"
        },
        {
          "output_type": "stream",
          "text": [
            "\n"
          ],
          "name": "stderr"
        }
      ]
    },
    {
      "cell_type": "code",
      "metadata": {
        "colab": {
          "base_uri": "https://localhost:8080/"
        },
        "id": "0u4ozTd9lMVF",
        "outputId": "b5d44497-52f4-4c0a-9c73-1bf85d87bd0a"
      },
      "source": [
        "\n",
        "X = np.array(X)\n",
        "Y = np.array(Y)\n",
        "\n",
        "X_train, X_test, Y_train, Y_test = train_test_split(X, Y, test_size=0.2, random_state=3)\n",
        "\n",
        "Y_train = Y_train.reshape((Y_train.shape[0],Y_train.shape[1],Y_train.shape[2],1))\n",
        "Y_test = Y_test.reshape((Y_test.shape[0],Y_test.shape[1],Y_test.shape[2],1))\n",
        "\n",
        "X_train = X_train / 255\n",
        "X_test = X_test / 255\n",
        "Y_train = Y_train / 255\n",
        "Y_test = Y_test / 255\n",
        "\n",
        "Y_train = np.round(Y_train,0)\t\n",
        "Y_test = np.round(Y_test,0)\t\n",
        "\n",
        "print(X_train.shape)\n",
        "print(Y_train.shape)\n",
        "print(X_test.shape)\n",
        "print(Y_test.shape)\n"
      ],
      "execution_count": 16,
      "outputs": [
        {
          "output_type": "stream",
          "text": [
            "(885, 256, 256, 3)\n",
            "(885, 256, 256, 1)\n",
            "(222, 256, 256, 3)\n",
            "(222, 256, 256, 1)\n"
          ],
          "name": "stdout"
        }
      ]
    },
    {
      "cell_type": "code",
      "metadata": {
        "id": "3WWlpiSDlT4H"
      },
      "source": [
        "def conv2d_bn(x, filters, num_row, num_col, padding='same', strides=(1, 1), activation='relu', name=None):\n",
        "    '''\n",
        "    2D Convolutional layers\n",
        "\n",
        "    Arguments:\n",
        "        x {keras layer} -- input layer\n",
        "        filters {int} -- number of filters\n",
        "        num_row {int} -- number of rows in filters\n",
        "        num_col {int} -- number of columns in filters\n",
        "\n",
        "    Keyword Arguments:\n",
        "        padding {str} -- mode of padding (default: {'same'})\n",
        "        strides {tuple} -- stride of convolution operation (default: {(1, 1)})\n",
        "        activation {str} -- activation function (default: {'relu'})\n",
        "        name {str} -- name of the layer (default: {None})\n",
        "\n",
        "    Returns:\n",
        "        [keras layer] -- [output layer]\n",
        "    '''\n",
        "\n",
        "    x = Conv2D(filters, (num_row, num_col), strides=strides, padding=padding, use_bias=False)(x)\n",
        "    x = BatchNormalization(axis=3, scale=False)(x)\n",
        "\n",
        "    if(activation == None):\n",
        "        return x\n",
        "\n",
        "    x = Activation(activation, name=name)(x)\n",
        "\n",
        "    return x\n",
        "\n",
        "\n",
        "def trans_conv2d_bn(x, filters, num_row, num_col, padding='same', strides=(2, 2), name=None):\n",
        "    '''\n",
        "    2D Transposed Convolutional layers\n",
        "\n",
        "    Arguments:\n",
        "        x {keras layer} -- input layer\n",
        "        filters {int} -- number of filters\n",
        "        num_row {int} -- number of rows in filters\n",
        "        num_col {int} -- number of columns in filters\n",
        "\n",
        "    Keyword Arguments:\n",
        "        padding {str} -- mode of padding (default: {'same'})\n",
        "        strides {tuple} -- stride of convolution operation (default: {(2, 2)})\n",
        "        name {str} -- name of the layer (default: {None})\n",
        "\n",
        "    Returns:\n",
        "        [keras layer] -- [output layer]\n",
        "    '''\n",
        "\n",
        "    x = Conv2DTranspose(filters, (num_row, num_col), strides=strides, padding=padding)(x)\n",
        "    x = BatchNormalization(axis=3, scale=False)(x)\n",
        "\n",
        "    return x\n",
        "\n",
        "\n",
        "def MultiResBlock(U, inp, alpha = 1.67):\n",
        "    '''\n",
        "    MultiRes Block\n",
        "\n",
        "    Arguments:\n",
        "        U {int} -- Number of filters in a corrsponding UNet stage\n",
        "        inp {keras layer} -- input layer\n",
        "\n",
        "    Returns:\n",
        "        [keras layer] -- [output layer]\n",
        "    '''\n",
        "\n",
        "    W = alpha * U\n",
        "\n",
        "    shortcut = inp\n",
        "\n",
        "    shortcut = conv2d_bn(shortcut, int(W*0.167) + int(W*0.333) +\n",
        "                         int(W*0.5), 1, 1, activation=None, padding='same')\n",
        "\n",
        "    conv3x3 = conv2d_bn(inp, int(W*0.167), 3, 3,\n",
        "                        activation='relu', padding='same')\n",
        "\n",
        "    conv5x5 = conv2d_bn(conv3x3, int(W*0.333), 3, 3,\n",
        "                        activation='relu', padding='same')\n",
        "\n",
        "    conv7x7 = conv2d_bn(conv5x5, int(W*0.5), 3, 3,\n",
        "                        activation='relu', padding='same')\n",
        "\n",
        "    out = concatenate([conv3x3, conv5x5, conv7x7], axis=3)\n",
        "    out = BatchNormalization(axis=3)(out)\n",
        "\n",
        "    out = add([shortcut, out])\n",
        "    out = Activation('relu')(out)\n",
        "    out = BatchNormalization(axis=3)(out)\n",
        "\n",
        "    return out\n",
        "\n",
        "\n",
        "def ResPath(filters, length, inp):\n",
        "    '''\n",
        "    ResPath\n",
        "\n",
        "    Arguments:\n",
        "        filters {int} -- [description]\n",
        "        length {int} -- length of ResPath\n",
        "        inp {keras layer} -- input layer\n",
        "\n",
        "    Returns:\n",
        "        [keras layer] -- [output layer]\n",
        "    '''\n",
        "\n",
        "\n",
        "    shortcut = inp\n",
        "    shortcut = conv2d_bn(shortcut, filters, 1, 1,\n",
        "                         activation=None, padding='same')\n",
        "\n",
        "    out = conv2d_bn(inp, filters, 3, 3, activation='relu', padding='same')\n",
        "\n",
        "    out = add([shortcut, out])\n",
        "    out = Activation('relu')(out)\n",
        "    out = BatchNormalization(axis=3)(out)\n",
        "\n",
        "    for i in range(length-1):\n",
        "\n",
        "        shortcut = out\n",
        "        shortcut = conv2d_bn(shortcut, filters, 1, 1,\n",
        "                             activation=None, padding='same')\n",
        "\n",
        "        out = conv2d_bn(out, filters, 3, 3, activation='relu', padding='same')\n",
        "\n",
        "        out = add([shortcut, out])\n",
        "        out = Activation('relu')(out)\n",
        "        out = BatchNormalization(axis=3)(out)\n",
        "\n",
        "    return out\n",
        "\n",
        "\n",
        "def MultiResUnet(height, width, n_channels):\n",
        "    '''\n",
        "    MultiResUNet\n",
        "\n",
        "    Arguments:\n",
        "        height {int} -- height of image\n",
        "        width {int} -- width of image\n",
        "        n_channels {int} -- number of channels in image\n",
        "\n",
        "    Returns:\n",
        "        [keras model] -- MultiResUNet model\n",
        "    '''\n",
        "\n",
        "\n",
        "    inputs = Input((height, width, n_channels))\n",
        "\n",
        "    mresblock1 = MultiResBlock(32, inputs)\n",
        "    pool1 = MaxPooling2D(pool_size=(2, 2))(mresblock1)\n",
        "    mresblock1 = ResPath(32, 4, mresblock1)\n",
        "\n",
        "    mresblock2 = MultiResBlock(32*2, pool1)\n",
        "    pool2 = MaxPooling2D(pool_size=(2, 2))(mresblock2)\n",
        "    mresblock2 = ResPath(32*2, 3, mresblock2)\n",
        "\n",
        "    mresblock3 = MultiResBlock(32*4, pool2)\n",
        "    pool3 = MaxPooling2D(pool_size=(2, 2))(mresblock3)\n",
        "    mresblock3 = ResPath(32*4, 2, mresblock3)\n",
        "\n",
        "    mresblock4 = MultiResBlock(32*8, pool3)\n",
        "    pool4 = MaxPooling2D(pool_size=(2, 2))(mresblock4)\n",
        "    mresblock4 = ResPath(32*8, 1, mresblock4)\n",
        "\n",
        "    mresblock5 = MultiResBlock(32*16, pool4)\n",
        "\n",
        "    up6 = concatenate([Conv2DTranspose(\n",
        "        32*8, (2, 2), strides=(2, 2), padding='same')(mresblock5), mresblock4], axis=3)\n",
        "    mresblock6 = MultiResBlock(32*8, up6)\n",
        "\n",
        "    up7 = concatenate([Conv2DTranspose(\n",
        "        32*4, (2, 2), strides=(2, 2), padding='same')(mresblock6), mresblock3], axis=3)\n",
        "    mresblock7 = MultiResBlock(32*4, up7)\n",
        "\n",
        "    up8 = concatenate([Conv2DTranspose(\n",
        "        32*2, (2, 2), strides=(2, 2), padding='same')(mresblock7), mresblock2], axis=3)\n",
        "    mresblock8 = MultiResBlock(32*2, up8)\n",
        "\n",
        "    up9 = concatenate([Conv2DTranspose(32, (2, 2), strides=(\n",
        "        2, 2), padding='same')(mresblock8), mresblock1], axis=3)\n",
        "    mresblock9 = MultiResBlock(32, up9)\n",
        "\n",
        "    conv10 = conv2d_bn(mresblock9, 1, 1, 1, activation='sigmoid')\n",
        "\n",
        "    model = Model(inputs=[inputs], outputs=[conv10])\n",
        "\n",
        "    return model"
      ],
      "execution_count": 17,
      "outputs": []
    },
    {
      "cell_type": "code",
      "metadata": {
        "id": "J4TZ9D1Ymbho"
      },
      "source": [
        "def dice_coef(y_true, y_pred):\n",
        "    smooth = 0.0\n",
        "    y_true_f = K.flatten(y_true)\n",
        "    y_pred_f = K.flatten(y_pred)\n",
        "    intersection = K.sum(y_true_f * y_pred_f)\n",
        "    return (2. * intersection + smooth) / (K.sum(y_true_f) + K.sum(y_pred_f) + smooth)\n",
        "\n",
        "def jacard(y_true, y_pred):\n",
        "\n",
        "    y_true_f = K.flatten(y_true)\n",
        "    y_pred_f = K.flatten(y_pred)\n",
        "    intersection = K.sum ( y_true_f * y_pred_f)\n",
        "    union = K.sum ( y_true_f + y_pred_f - y_true_f * y_pred_f)\n",
        "\n",
        "    return intersection/union\n",
        "\n",
        "def saveModel(model):\n",
        "\n",
        "    model_json = model.to_json()\n",
        "\n",
        "    try:\n",
        "        os.makedirs('models')\n",
        "    except:\n",
        "        pass\n",
        "\n",
        "    fp = open('models/MultiResUNET_Massachusetts.json','w')\n",
        "    fp.write(model_json)\n",
        "    model.save_weights('models/MultiResUNET_Massachusetts.h5')"
      ],
      "execution_count": 20,
      "outputs": []
    },
    {
      "cell_type": "code",
      "metadata": {
        "id": "tzuVoJe3lWfV"
      },
      "source": [
        "jaccard_index_list = []\n",
        "dice_coeff_list = []\n",
        "\n",
        "def evaluateModel(model, X_test, Y_test, batchSize):\n",
        "\n",
        "    try:\n",
        "        os.makedirs('results')\n",
        "    except:\n",
        "        pass\n",
        "\n",
        "\n",
        "    yp = model.predict(x=X_test, batch_size=batchSize, verbose=1)\n",
        "\n",
        "    yp = np.round(yp,0)\n",
        "\n",
        "    for i in range(10):\n",
        "\n",
        "        plt.figure(figsize=(20,10))\n",
        "        plt.subplot(1,3,1)\n",
        "        plt.imshow(X_test[i])\n",
        "        plt.title('Input')\n",
        "        plt.subplot(1,3,2)\n",
        "        plt.imshow(Y_test[i].reshape(Y_test[i].shape[0],Y_test[i].shape[1]))\n",
        "        plt.title('Ground Truth')\n",
        "        plt.subplot(1,3,3)\n",
        "        plt.imshow(yp[i].reshape(yp[i].shape[0],yp[i].shape[1]))\n",
        "        plt.title('Prediction')\n",
        "\n",
        "        intersection = yp[i].ravel() * Y_test[i].ravel()\n",
        "        union = yp[i].ravel() + Y_test[i].ravel() - intersection\n",
        "\n",
        "        jacard = (np.sum(intersection)/np.sum(union))\n",
        "        plt.suptitle('Jacard Index'+ str(np.sum(intersection)) +'/'+ str(np.sum(union)) +'='+str(jacard))\n",
        "\n",
        "        plt.savefig('results/'+str(i)+'.png',format='png')\n",
        "        plt.close()\n",
        "\n",
        "\n",
        "    jacard = 0\n",
        "    dice = 0\n",
        "\n",
        "\n",
        "    for i in range(len(Y_test)):\n",
        "        yp_2 = yp[i].ravel()\n",
        "        y2 = Y_test[i].ravel()\n",
        "\n",
        "        intersection = yp_2 * y2\n",
        "        union = yp_2 + y2 - intersection\n",
        "\n",
        "        jacard += (np.sum(intersection)/np.sum(union))\n",
        "\n",
        "        dice += (2. * np.sum(intersection) ) / (np.sum(yp_2) + np.sum(y2))\n",
        "\n",
        "\n",
        "    jacard /= len(Y_test)\n",
        "    dice /= len(Y_test)\n",
        "\n",
        "\n",
        "\n",
        "    print('Jacard Index : '+str(jacard))\n",
        "    print('Dice Coefficient : '+str(dice))\n",
        "\n",
        "    jaccard_index_list.append(jacard)\n",
        "    dice_coeff_list.append(dice)\n",
        "    fp = open('models/log.txt','a')\n",
        "    fp.write(str(jacard)+'\\n')\n",
        "    fp.close()\n",
        "\n",
        "    fp = open('models/best.txt','r')\n",
        "    best = fp.read()\n",
        "    fp.close()\n",
        "\n",
        "    if(jacard>float(best)):\n",
        "        print('***********************************************')\n",
        "        print('Jacard Index improved from '+str(best)+' to '+str(jacard))\n",
        "        print('***********************************************')\n",
        "        fp = open('models/best.txt','w')\n",
        "        fp.write(str(jacard))\n",
        "        fp.close()\n",
        "\n",
        "        saveModel(model)"
      ],
      "execution_count": 21,
      "outputs": []
    },
    {
      "cell_type": "code",
      "metadata": {
        "colab": {
          "base_uri": "https://localhost:8080/"
        },
        "id": "TY1BMDmbmKpW",
        "outputId": "da37d026-addd-4176-8e36-52be5ae64f71"
      },
      "source": [
        "from tensorflow.keras.metrics import Recall, Precision\n",
        "import json \n",
        "\n",
        "def trainStep(model, X_train, Y_train, X_test, Y_test, epochs, batchSize):\n",
        "    epochs = 10\n",
        "    #for epoch in range(epochs):\n",
        "    #print('Epoch : {}'.format(epoch+1))\n",
        "    history = model.fit(x=X_train, y=Y_train, batch_size=batchSize, epochs=epochs, verbose=1)\n",
        "\n",
        "    # convert the history.history dict to a pandas DataFrame:\n",
        "    hist_df = pd.DataFrame(history.history)\n",
        "\n",
        "    \n",
        "\n",
        "    # save to json:\n",
        "    hist_json_file = 'history.json'\n",
        "    # with open(hist_json_file, 'a') as out:\n",
        "    #     out.write(hist_df.to_json())\n",
        "    #     out.write(\",\")\n",
        "    #     out.close()\n",
        "\n",
        "    with open(hist_json_file, mode='w') as f:\n",
        "       hist_df.to_json(f)\n",
        "\n",
        "    # or save to csv:\n",
        "    hist_csv_file = 'history.csv'\n",
        "    # with open(hist_csv_file, 'a') as out:\n",
        "    #     out.write(str(hist_df.to_csv()))\n",
        "    #     out.write(\",\")\n",
        "    #     out.close()\n",
        "\n",
        "\n",
        "    with open(hist_csv_file, mode='w') as f:\n",
        "        hist_df.to_csv(f)\n",
        "\n",
        "    evaluateModel(model,X_test, Y_test,batchSize)\n",
        "\n",
        "    return model\n",
        "\n",
        "model = MultiResUnet(height=256, width=256, n_channels=3)\n",
        "\n",
        "model.compile(optimizer='adam', loss='binary_crossentropy', metrics=[dice_coef, jacard, Recall(), Precision() ,'accuracy'])\n",
        "\n",
        "saveModel(model)\n",
        "\n",
        "fp = open('models/log.txt','w')\n",
        "fp.close()\n",
        "fp = open('models/best.txt','w')\n",
        "fp.write('-1.0')\n",
        "fp.close()\n",
        "\n",
        "trainStep(model, X_train, Y_train, X_test, Y_test, epochs=150, batchSize=2)"
      ],
      "execution_count": 22,
      "outputs": [
        {
          "output_type": "stream",
          "text": [
            "Epoch 1/10\n",
            "443/443 [==============================] - 45s 102ms/step - loss: 0.5878 - dice_coef: 0.1165 - jacard: 0.0626 - recall: 0.5617 - precision: 0.2043 - accuracy: 0.8768\n",
            "Epoch 2/10\n",
            "443/443 [==============================] - 44s 99ms/step - loss: 0.4266 - dice_coef: 0.1445 - jacard: 0.0789 - recall: 0.5278 - precision: 0.5166 - accuracy: 0.9547\n",
            "Epoch 3/10\n",
            "443/443 [==============================] - 44s 99ms/step - loss: 0.3302 - dice_coef: 0.1677 - jacard: 0.0929 - recall: 0.5160 - precision: 0.6234 - accuracy: 0.9627\n",
            "Epoch 4/10\n",
            "443/443 [==============================] - 44s 98ms/step - loss: 0.2658 - dice_coef: 0.1897 - jacard: 0.1066 - recall: 0.5025 - precision: 0.6755 - accuracy: 0.9653\n",
            "Epoch 5/10\n",
            "443/443 [==============================] - 44s 98ms/step - loss: 0.2199 - dice_coef: 0.2137 - jacard: 0.1221 - recall: 0.5003 - precision: 0.7137 - accuracy: 0.9671\n",
            "Epoch 6/10\n",
            "443/443 [==============================] - 44s 98ms/step - loss: 0.1881 - dice_coef: 0.2383 - jacard: 0.1378 - recall: 0.4946 - precision: 0.7319 - accuracy: 0.9678\n",
            "Epoch 7/10\n",
            "443/443 [==============================] - 44s 99ms/step - loss: 0.1647 - dice_coef: 0.2615 - jacard: 0.1535 - recall: 0.4932 - precision: 0.7470 - accuracy: 0.9684\n",
            "Epoch 8/10\n",
            "443/443 [==============================] - 44s 100ms/step - loss: 0.1462 - dice_coef: 0.2879 - jacard: 0.1716 - recall: 0.5013 - precision: 0.7628 - accuracy: 0.9693\n",
            "Epoch 9/10\n",
            "443/443 [==============================] - 44s 99ms/step - loss: 0.1341 - dice_coef: 0.3063 - jacard: 0.1846 - recall: 0.4943 - precision: 0.7723 - accuracy: 0.9694\n",
            "Epoch 10/10\n",
            "443/443 [==============================] - 44s 99ms/step - loss: 0.1251 - dice_coef: 0.3223 - jacard: 0.1960 - recall: 0.4865 - precision: 0.7828 - accuracy: 0.9696\n",
            "111/111 [==============================] - 2s 20ms/step\n",
            "Jacard Index : 0.33352126942480426\n",
            "Dice Coefficient : 0.47538132687488116\n",
            "***********************************************\n",
            "Jacard Index improved from -1.0 to 0.33352126942480426\n",
            "***********************************************\n"
          ],
          "name": "stdout"
        },
        {
          "output_type": "execute_result",
          "data": {
            "text/plain": [
              "<tensorflow.python.keras.engine.functional.Functional at 0x7f995f20c5c0>"
            ]
          },
          "metadata": {
            "tags": []
          },
          "execution_count": 22
        }
      ]
    },
    {
      "cell_type": "code",
      "metadata": {
        "colab": {
          "base_uri": "https://localhost:8080/"
        },
        "id": "lMpPjvbGmMQK",
        "outputId": "bbe5e398-5375-441d-fe9d-79bd112e2185"
      },
      "source": [
        "import json\n",
        "\n",
        "with open('history.json', 'r') as f:\n",
        "    array = json.load(f)\n",
        "print (array)"
      ],
      "execution_count": 23,
      "outputs": [
        {
          "output_type": "stream",
          "text": [
            "{'loss': {'0': 0.5877548456, '1': 0.4265699387, '2': 0.3301500678, '3': 0.2657523751, '4': 0.2198743075, '5': 0.1881373376, '6': 0.1646528542, '7': 0.1462429762, '8': 0.1341453046, '9': 0.1250639558}, 'dice_coef': {'0': 0.1164778545, '1': 0.1445209235, '2': 0.1677111238, '3': 0.1896627843, '4': 0.2136935443, '5': 0.238277629, '6': 0.2614889145, '7': 0.2878563404, '8': 0.30631724, '9': 0.322321862}, 'jacard': {'0': 0.0626178309, '1': 0.0789307803, '2': 0.0928526223, '3': 0.1066410765, '4': 0.1220748946, '5': 0.1377890706, '6': 0.1535110623, '7': 0.171558544, '8': 0.1845856607, '9': 0.1959743351}, 'recall': {'0': 0.5617191792, '1': 0.5278069377, '2': 0.5159754157, '3': 0.5025466084, '4': 0.5003265738, '5': 0.494564414, '6': 0.4931569993, '7': 0.5012806654, '8': 0.4943428934, '9': 0.486476779}, 'precision': {'0': 0.2043302506, '1': 0.5166440606, '2': 0.6234273911, '3': 0.6755040884, '4': 0.7136770487, '5': 0.7318701744, '6': 0.7469514608, '7': 0.7628489137, '8': 0.772300303, '9': 0.7828118205}, 'accuracy': {'0': 0.8767725825, '1': 0.9546636939, '2': 0.9626561403, '3': 0.9653235674, '4': 0.9671288729, '5': 0.967774868, '6': 0.9683718085, '7': 0.9692805409, '8': 0.9694278836, '9': 0.9695644975}}\n"
          ],
          "name": "stdout"
        }
      ]
    },
    {
      "cell_type": "code",
      "metadata": {
        "colab": {
          "base_uri": "https://localhost:8080/"
        },
        "id": "malK2GAhmuQL",
        "outputId": "eb352511-b8d3-4124-f526-fcbff71a50db"
      },
      "source": [
        "accuracy = []\n",
        "for item in array['accuracy']:\n",
        "  accuracy.append(array['accuracy'][item])\n",
        "print(accuracy)"
      ],
      "execution_count": 24,
      "outputs": [
        {
          "output_type": "stream",
          "text": [
            "[0.8767725825, 0.9546636939, 0.9626561403, 0.9653235674, 0.9671288729, 0.967774868, 0.9683718085, 0.9692805409, 0.9694278836, 0.9695644975]\n"
          ],
          "name": "stdout"
        }
      ]
    },
    {
      "cell_type": "code",
      "metadata": {
        "colab": {
          "base_uri": "https://localhost:8080/",
          "height": 298
        },
        "id": "v3SwuZBXmvjY",
        "outputId": "3b25122f-84b2-4743-95db-b15450e7023d"
      },
      "source": [
        "plt.title('accuracy')\n",
        "plt.plot(accuracy,color='green')"
      ],
      "execution_count": 25,
      "outputs": [
        {
          "output_type": "execute_result",
          "data": {
            "text/plain": [
              "[<matplotlib.lines.Line2D at 0x7f995fbc7f28>]"
            ]
          },
          "metadata": {
            "tags": []
          },
          "execution_count": 25
        },
        {
          "output_type": "display_data",
          "data": {
            "image/png": "[encoded data removed]",
            "text/plain": [
              "<Figure size 432x288 with 1 Axes>"
            ]
          },
          "metadata": {
            "tags": [],
            "needs_background": "light"
          }
        }
      ]
    },
    {
      "cell_type": "code",
      "metadata": {
        "colab": {
          "base_uri": "https://localhost:8080/",
          "height": 298
        },
        "id": "_y8j6PKpmxEt",
        "outputId": "2211638a-3629-4478-8cd0-65c8a30b4481"
      },
      "source": [
        "dice_coef = []\n",
        "for item in array['dice_coef']:\n",
        "  dice_coef.append(array['dice_coef'][item])\n",
        "#print(dice_coef)\n",
        "plt.title('Dice Coef')\n",
        "plt.plot(dice_coef,color='orange')"
      ],
      "execution_count": 26,
      "outputs": [
        {
          "output_type": "execute_result",
          "data": {
            "text/plain": [
              "[<matplotlib.lines.Line2D at 0x7f97ccd45438>]"
            ]
          },
          "metadata": {
            "tags": []
          },
          "execution_count": 26
        },
        {
          "output_type": "display_data",
          "data": {
            "image/png": "[encoded data removed]",
            "text/plain": [
              "<Figure size 432x288 with 1 Axes>"
            ]
          },
          "metadata": {
            "tags": [],
            "needs_background": "light"
          }
        }
      ]
    },
    {
      "cell_type": "code",
      "metadata": {
        "colab": {
          "base_uri": "https://localhost:8080/",
          "height": 298
        },
        "id": "nfspr1kumyhj",
        "outputId": "1f497651-7ef5-47af-f5cc-5aaccaf1fe9d"
      },
      "source": [
        "loss = []\n",
        "for item in array['loss']:\n",
        "  loss.append(array['loss'][item])\n",
        "#print(loss)\n",
        "plt.title('loss')\n",
        "plt.plot(loss,color='red')"
      ],
      "execution_count": 27,
      "outputs": [
        {
          "output_type": "execute_result",
          "data": {
            "text/plain": [
              "[<matplotlib.lines.Line2D at 0x7f97ccd45048>]"
            ]
          },
          "metadata": {
            "tags": []
          },
          "execution_count": 27
        },
        {
          "output_type": "display_data",
          "data": {
            "image/png": "[encoded data removed]",
            "text/plain": [
              "<Figure size 432x288 with 1 Axes>"
            ]
          },
          "metadata": {
            "tags": [],
            "needs_background": "light"
          }
        }
      ]
    },
    {
      "cell_type": "code",
      "metadata": {
        "colab": {
          "base_uri": "https://localhost:8080/",
          "height": 298
        },
        "id": "V8EKGelum3Fi",
        "outputId": "b12c81b2-7248-4683-ec2d-f4d2fa92ccfa"
      },
      "source": [
        "recall = []\n",
        "for item in array['recall']:\n",
        "  recall.append(array['recall'][item])\n",
        "#print(recall)\n",
        "plt.title('recall')\n",
        "plt.plot(recall,color='blue')"
      ],
      "execution_count": 28,
      "outputs": [
        {
          "output_type": "execute_result",
          "data": {
            "text/plain": [
              "[<matplotlib.lines.Line2D at 0x7f97cccd39e8>]"
            ]
          },
          "metadata": {
            "tags": []
          },
          "execution_count": 28
        },
        {
          "output_type": "display_data",
          "data": {
            "image/png": "[encoded data removed]",
            "text/plain": [
              "<Figure size 432x288 with 1 Axes>"
            ]
          },
          "metadata": {
            "tags": [],
            "needs_background": "light"
          }
        }
      ]
    },
    {
      "cell_type": "code",
      "metadata": {
        "colab": {
          "base_uri": "https://localhost:8080/",
          "height": 298
        },
        "id": "sQ6AuADam5BS",
        "outputId": "1c41ca00-eb86-4ab9-97ae-f5dfcbbf4855"
      },
      "source": [
        "precision = []\n",
        "for item in array['precision']:\n",
        "  precision.append(array['precision'][item])\n",
        "#print(precision)\n",
        "plt.title('precision')\n",
        "plt.plot(precision)"
      ],
      "execution_count": 29,
      "outputs": [
        {
          "output_type": "execute_result",
          "data": {
            "text/plain": [
              "[<matplotlib.lines.Line2D at 0x7f97ccd452b0>]"
            ]
          },
          "metadata": {
            "tags": []
          },
          "execution_count": 29
        },
        {
          "output_type": "display_data",
          "data": {
            "image/png": "[encoded data removed]",
            "text/plain": [
              "<Figure size 432x288 with 1 Axes>"
            ]
          },
          "metadata": {
            "tags": [],
            "needs_background": "light"
          }
        }
      ]
    },
    {
      "cell_type": "code",
      "metadata": {
        "id": "R_2acgRsm6mH"
      },
      "source": [
        ""
      ],
      "execution_count": null,
      "outputs": []
    }
  ]
}