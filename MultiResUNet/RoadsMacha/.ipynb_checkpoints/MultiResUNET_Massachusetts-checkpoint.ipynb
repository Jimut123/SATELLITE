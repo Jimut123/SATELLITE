{
 "cells": [
  {
   "cell_type": "code",
   "execution_count": 1,
   "metadata": {
    "colab": {
     "base_uri": "https://localhost:8080/"
    },
    "id": "ADZ-eFMvfmJo",
    "outputId": "f58f61ea-60da-4689-ca81-a1cc3877482f"
   },
   "outputs": [
    {
     "name": "stdout",
     "output_type": "stream",
     "text": [
      "Downloading...\n",
      "From: https://drive.google.com/u/3/uc?id=1x0pHc_SEVHPngVoPs9famWJwkpyvmGtZ\n",
      "To: /content/road_segmentation.zip\n",
      "5.07GB [01:37, 52.2MB/s]\n"
     ]
    }
   ],
   "source": [
    "! gdown https://drive.google.com/u/3/uc?id=1x0pHc_SEVHPngVoPs9famWJwkpyvmGtZ"
   ]
  },
  {
   "cell_type": "code",
   "execution_count": 2,
   "metadata": {
    "id": "3x0ZAty8f9S_"
   },
   "outputs": [],
   "source": [
    "! unzip -qq road_segmentation.zip"
   ]
  },
  {
   "cell_type": "code",
   "execution_count": 2,
   "metadata": {
    "id": "OzR_pbuclO6j"
   },
   "outputs": [],
   "source": [
    "import os\n",
    "import cv2\n",
    "import numpy as np\n",
    "import pandas as pd\n",
    "from tqdm import tqdm\n",
    "import matplotlib.pyplot as plt\n",
    "from keras.layers import Input, Conv2D, MaxPooling2D, Conv2DTranspose, concatenate, BatchNormalization, Activation, add\n",
    "from keras.models import Model, model_from_json\n",
    "from keras.optimizers import Adam\n",
    "from keras.layers.advanced_activations import ELU, LeakyReLU\n",
    "from keras.utils.vis_utils import plot_model\n",
    "from keras import backend as K \n",
    "from sklearn.model_selection import train_test_split\n",
    "from sklearn.metrics import classification_report\n",
    "import glob\n"
   ]
  },
  {
   "cell_type": "code",
   "execution_count": 6,
   "metadata": {
    "colab": {
     "base_uri": "https://localhost:8080/"
    },
    "id": "qBXx9XJUf_aY",
    "outputId": "2967e980-f9ba-4b8a-c185-54b3939f8b1a"
   },
   "outputs": [
    {
     "name": "stdout",
     "output_type": "stream",
     "text": [
      "1107\n",
      "1107\n",
      "['road_segmentation/training/input/img-215.png', 'road_segmentation/training/input/img-995.png', 'road_segmentation/training/input/img-220.png', 'road_segmentation/training/input/img-98.png', 'road_segmentation/training/input/img-377.png', 'road_segmentation/training/input/img-78.png', 'road_segmentation/training/input/img-791.png', 'road_segmentation/training/input/img-444.png', 'road_segmentation/training/input/img-226.png', 'road_segmentation/training/input/img-263.png']\n",
      "['road_segmentation/training/output/img-215.png', 'road_segmentation/training/output/img-995.png', 'road_segmentation/training/output/img-220.png', 'road_segmentation/training/output/img-98.png', 'road_segmentation/training/output/img-377.png', 'road_segmentation/training/output/img-78.png', 'road_segmentation/training/output/img-791.png', 'road_segmentation/training/output/img-444.png', 'road_segmentation/training/output/img-226.png', 'road_segmentation/training/output/img-263.png']\n",
      "1107\n",
      "1107\n"
     ]
    }
   ],
   "source": [
    "import glob\n",
    "all_img_files = glob.glob('road_segmentation/training/input/*')\n",
    "all_mask_files = glob.glob('road_segmentation/training/output/*')\n",
    "print(len(all_img_files))\n",
    "print(len(all_mask_files))\n",
    "print(all_img_files[:10])\n",
    "print(all_mask_files[:10])\n",
    "\n",
    "#img = cv2.imread('trainx/X_img_144.bmp', cv2.IMREAD_COLOR)\n",
    "#img.shape\n",
    "\n",
    "#plt.imshow(img[:,:,::-1])\n",
    "\n",
    "img_files = glob.glob('road_segmentation/training/input/*')\n",
    "msk_files = glob.glob('road_segmentation/training/output/*')\n",
    "\n",
    "img_files.sort()\n",
    "msk_files.sort()\n",
    "\n",
    "print(len(img_files))\n",
    "print(len(msk_files))\n"
   ]
  },
  {
   "cell_type": "code",
   "execution_count": 15,
   "metadata": {
    "colab": {
     "base_uri": "https://localhost:8080/"
    },
    "id": "2HjgST2kj54g",
    "outputId": "b613835c-8bc9-448f-bc58-249d93f3f35a"
   },
   "outputs": [
    {
     "name": "stderr",
     "output_type": "stream",
     "text": [
      "100%|██████████| 1107/1107 [01:21<00:00, 13.64it/s]"
     ]
    },
    {
     "name": "stdout",
     "output_type": "stream",
     "text": [
      "1107\n",
      "1107\n"
     ]
    },
    {
     "name": "stderr",
     "output_type": "stream",
     "text": [
      "\n"
     ]
    }
   ],
   "source": [
    "X = []\n",
    "Y = []\n",
    "\n",
    "for img_fl in tqdm(img_files):\n",
    "  #print(img_fl)\n",
    "  #break\n",
    "  img = cv2.imread('{}'.format(img_fl), cv2.IMREAD_COLOR)\n",
    "  resized_img = cv2.resize(img,(256, 256), interpolation = cv2.INTER_CUBIC)\n",
    "  #plt.imshow(resized_img)\n",
    "  #plt.show()\n",
    "  X.append(resized_img)\n",
    "  #print(img_fl)\n",
    "  mask_name = 'road_segmentation/training/output/img-'+str(img_fl.split('.')[0]).split('-')[-1]+\".png\"\n",
    "  #print(\"mn = \",mask_name)\n",
    "  #break\n",
    "  msk = cv2.imread('{}'.format(mask_name), cv2.IMREAD_GRAYSCALE)\n",
    "  resized_msk = cv2.resize(msk,(256, 256), interpolation = cv2.INTER_CUBIC)\n",
    "  #plt.imshow(resized_msk)\n",
    "  Y.append(resized_msk)\n",
    "  #break\n",
    "print(len(X))\n",
    "print(len(Y))"
   ]
  },
  {
   "cell_type": "code",
   "execution_count": 16,
   "metadata": {
    "colab": {
     "base_uri": "https://localhost:8080/"
    },
    "id": "0u4ozTd9lMVF",
    "outputId": "b5d44497-52f4-4c0a-9c73-1bf85d87bd0a"
   },
   "outputs": [
    {
     "name": "stdout",
     "output_type": "stream",
     "text": [
      "(885, 256, 256, 3)\n",
      "(885, 256, 256, 1)\n",
      "(222, 256, 256, 3)\n",
      "(222, 256, 256, 1)\n"
     ]
    }
   ],
   "source": [
    "\n",
    "X = np.array(X)\n",
    "Y = np.array(Y)\n",
    "\n",
    "X_train, X_test, Y_train, Y_test = train_test_split(X, Y, test_size=0.2, random_state=3)\n",
    "\n",
    "Y_train = Y_train.reshape((Y_train.shape[0],Y_train.shape[1],Y_train.shape[2],1))\n",
    "Y_test = Y_test.reshape((Y_test.shape[0],Y_test.shape[1],Y_test.shape[2],1))\n",
    "\n",
    "X_train = X_train / 255\n",
    "X_test = X_test / 255\n",
    "Y_train = Y_train / 255\n",
    "Y_test = Y_test / 255\n",
    "\n",
    "Y_train = np.round(Y_train,0)\t\n",
    "Y_test = np.round(Y_test,0)\t\n",
    "\n",
    "print(X_train.shape)\n",
    "print(Y_train.shape)\n",
    "print(X_test.shape)\n",
    "print(Y_test.shape)\n"
   ]
  },
  {
   "cell_type": "code",
   "execution_count": 17,
   "metadata": {
    "id": "3WWlpiSDlT4H"
   },
   "outputs": [],
   "source": [
    "def conv2d_bn(x, filters, num_row, num_col, padding='same', strides=(1, 1), activation='relu', name=None):\n",
    "    '''\n",
    "    2D Convolutional layers\n",
    "\n",
    "    Arguments:\n",
    "        x {keras layer} -- input layer\n",
    "        filters {int} -- number of filters\n",
    "        num_row {int} -- number of rows in filters\n",
    "        num_col {int} -- number of columns in filters\n",
    "\n",
    "    Keyword Arguments:\n",
    "        padding {str} -- mode of padding (default: {'same'})\n",
    "        strides {tuple} -- stride of convolution operation (default: {(1, 1)})\n",
    "        activation {str} -- activation function (default: {'relu'})\n",
    "        name {str} -- name of the layer (default: {None})\n",
    "\n",
    "    Returns:\n",
    "        [keras layer] -- [output layer]\n",
    "    '''\n",
    "\n",
    "    x = Conv2D(filters, (num_row, num_col), strides=strides, padding=padding, use_bias=False)(x)\n",
    "    x = BatchNormalization(axis=3, scale=False)(x)\n",
    "\n",
    "    if(activation == None):\n",
    "        return x\n",
    "\n",
    "    x = Activation(activation, name=name)(x)\n",
    "\n",
    "    return x\n",
    "\n",
    "\n",
    "def trans_conv2d_bn(x, filters, num_row, num_col, padding='same', strides=(2, 2), name=None):\n",
    "    '''\n",
    "    2D Transposed Convolutional layers\n",
    "\n",
    "    Arguments:\n",
    "        x {keras layer} -- input layer\n",
    "        filters {int} -- number of filters\n",
    "        num_row {int} -- number of rows in filters\n",
    "        num_col {int} -- number of columns in filters\n",
    "\n",
    "    Keyword Arguments:\n",
    "        padding {str} -- mode of padding (default: {'same'})\n",
    "        strides {tuple} -- stride of convolution operation (default: {(2, 2)})\n",
    "        name {str} -- name of the layer (default: {None})\n",
    "\n",
    "    Returns:\n",
    "        [keras layer] -- [output layer]\n",
    "    '''\n",
    "\n",
    "    x = Conv2DTranspose(filters, (num_row, num_col), strides=strides, padding=padding)(x)\n",
    "    x = BatchNormalization(axis=3, scale=False)(x)\n",
    "\n",
    "    return x\n",
    "\n",
    "\n",
    "def MultiResBlock(U, inp, alpha = 1.67):\n",
    "    '''\n",
    "    MultiRes Block\n",
    "\n",
    "    Arguments:\n",
    "        U {int} -- Number of filters in a corrsponding UNet stage\n",
    "        inp {keras layer} -- input layer\n",
    "\n",
    "    Returns:\n",
    "        [keras layer] -- [output layer]\n",
    "    '''\n",
    "\n",
    "    W = alpha * U\n",
    "\n",
    "    shortcut = inp\n",
    "\n",
    "    shortcut = conv2d_bn(shortcut, int(W*0.167) + int(W*0.333) +\n",
    "                         int(W*0.5), 1, 1, activation=None, padding='same')\n",
    "\n",
    "    conv3x3 = conv2d_bn(inp, int(W*0.167), 3, 3,\n",
    "                        activation='relu', padding='same')\n",
    "\n",
    "    conv5x5 = conv2d_bn(conv3x3, int(W*0.333), 3, 3,\n",
    "                        activation='relu', padding='same')\n",
    "\n",
    "    conv7x7 = conv2d_bn(conv5x5, int(W*0.5), 3, 3,\n",
    "                        activation='relu', padding='same')\n",
    "\n",
    "    out = concatenate([conv3x3, conv5x5, conv7x7], axis=3)\n",
    "    out = BatchNormalization(axis=3)(out)\n",
    "\n",
    "    out = add([shortcut, out])\n",
    "    out = Activation('relu')(out)\n",
    "    out = BatchNormalization(axis=3)(out)\n",
    "\n",
    "    return out\n",
    "\n",
    "\n",
    "def ResPath(filters, length, inp):\n",
    "    '''\n",
    "    ResPath\n",
    "\n",
    "    Arguments:\n",
    "        filters {int} -- [description]\n",
    "        length {int} -- length of ResPath\n",
    "        inp {keras layer} -- input layer\n",
    "\n",
    "    Returns:\n",
    "        [keras layer] -- [output layer]\n",
    "    '''\n",
    "\n",
    "\n",
    "    shortcut = inp\n",
    "    shortcut = conv2d_bn(shortcut, filters, 1, 1,\n",
    "                         activation=None, padding='same')\n",
    "\n",
    "    out = conv2d_bn(inp, filters, 3, 3, activation='relu', padding='same')\n",
    "\n",
    "    out = add([shortcut, out])\n",
    "    out = Activation('relu')(out)\n",
    "    out = BatchNormalization(axis=3)(out)\n",
    "\n",
    "    for i in range(length-1):\n",
    "\n",
    "        shortcut = out\n",
    "        shortcut = conv2d_bn(shortcut, filters, 1, 1,\n",
    "                             activation=None, padding='same')\n",
    "\n",
    "        out = conv2d_bn(out, filters, 3, 3, activation='relu', padding='same')\n",
    "\n",
    "        out = add([shortcut, out])\n",
    "        out = Activation('relu')(out)\n",
    "        out = BatchNormalization(axis=3)(out)\n",
    "\n",
    "    return out\n",
    "\n",
    "\n",
    "def MultiResUnet(height, width, n_channels):\n",
    "    '''\n",
    "    MultiResUNet\n",
    "\n",
    "    Arguments:\n",
    "        height {int} -- height of image\n",
    "        width {int} -- width of image\n",
    "        n_channels {int} -- number of channels in image\n",
    "\n",
    "    Returns:\n",
    "        [keras model] -- MultiResUNet model\n",
    "    '''\n",
    "\n",
    "\n",
    "    inputs = Input((height, width, n_channels))\n",
    "\n",
    "    mresblock1 = MultiResBlock(32, inputs)\n",
    "    pool1 = MaxPooling2D(pool_size=(2, 2))(mresblock1)\n",
    "    mresblock1 = ResPath(32, 4, mresblock1)\n",
    "\n",
    "    mresblock2 = MultiResBlock(32*2, pool1)\n",
    "    pool2 = MaxPooling2D(pool_size=(2, 2))(mresblock2)\n",
    "    mresblock2 = ResPath(32*2, 3, mresblock2)\n",
    "\n",
    "    mresblock3 = MultiResBlock(32*4, pool2)\n",
    "    pool3 = MaxPooling2D(pool_size=(2, 2))(mresblock3)\n",
    "    mresblock3 = ResPath(32*4, 2, mresblock3)\n",
    "\n",
    "    mresblock4 = MultiResBlock(32*8, pool3)\n",
    "    pool4 = MaxPooling2D(pool_size=(2, 2))(mresblock4)\n",
    "    mresblock4 = ResPath(32*8, 1, mresblock4)\n",
    "\n",
    "    mresblock5 = MultiResBlock(32*16, pool4)\n",
    "\n",
    "    up6 = concatenate([Conv2DTranspose(\n",
    "        32*8, (2, 2), strides=(2, 2), padding='same')(mresblock5), mresblock4], axis=3)\n",
    "    mresblock6 = MultiResBlock(32*8, up6)\n",
    "\n",
    "    up7 = concatenate([Conv2DTranspose(\n",
    "        32*4, (2, 2), strides=(2, 2), padding='same')(mresblock6), mresblock3], axis=3)\n",
    "    mresblock7 = MultiResBlock(32*4, up7)\n",
    "\n",
    "    up8 = concatenate([Conv2DTranspose(\n",
    "        32*2, (2, 2), strides=(2, 2), padding='same')(mresblock7), mresblock2], axis=3)\n",
    "    mresblock8 = MultiResBlock(32*2, up8)\n",
    "\n",
    "    up9 = concatenate([Conv2DTranspose(32, (2, 2), strides=(\n",
    "        2, 2), padding='same')(mresblock8), mresblock1], axis=3)\n",
    "    mresblock9 = MultiResBlock(32, up9)\n",
    "\n",
    "    conv10 = conv2d_bn(mresblock9, 1, 1, 1, activation='sigmoid')\n",
    "\n",
    "    model = Model(inputs=[inputs], outputs=[conv10])\n",
    "\n",
    "    return model"
   ]
  },
  {
   "cell_type": "code",
   "execution_count": 20,
   "metadata": {
    "id": "J4TZ9D1Ymbho"
   },
   "outputs": [],
   "source": [
    "def dice_coef(y_true, y_pred):\n",
    "    smooth = 0.0\n",
    "    y_true_f = K.flatten(y_true)\n",
    "    y_pred_f = K.flatten(y_pred)\n",
    "    intersection = K.sum(y_true_f * y_pred_f)\n",
    "    return (2. * intersection + smooth) / (K.sum(y_true_f) + K.sum(y_pred_f) + smooth)\n",
    "\n",
    "def jacard(y_true, y_pred):\n",
    "\n",
    "    y_true_f = K.flatten(y_true)\n",
    "    y_pred_f = K.flatten(y_pred)\n",
    "    intersection = K.sum ( y_true_f * y_pred_f)\n",
    "    union = K.sum ( y_true_f + y_pred_f - y_true_f * y_pred_f)\n",
    "\n",
    "    return intersection/union\n",
    "\n",
    "def saveModel(model):\n",
    "\n",
    "    model_json = model.to_json()\n",
    "\n",
    "    try:\n",
    "        os.makedirs('models')\n",
    "    except:\n",
    "        pass\n",
    "\n",
    "    fp = open('models/MultiResUNET_Massachusetts.json','w')\n",
    "    fp.write(model_json)\n",
    "    model.save_weights('models/MultiResUNET_Massachusetts.h5')"
   ]
  },
  {
   "cell_type": "code",
   "execution_count": 21,
   "metadata": {
    "id": "tzuVoJe3lWfV"
   },
   "outputs": [],
   "source": [
    "jaccard_index_list = []\n",
    "dice_coeff_list = []\n",
    "\n",
    "def evaluateModel(model, X_test, Y_test, batchSize):\n",
    "\n",
    "    try:\n",
    "        os.makedirs('results')\n",
    "    except:\n",
    "        pass\n",
    "\n",
    "\n",
    "    yp = model.predict(x=X_test, batch_size=batchSize, verbose=1)\n",
    "\n",
    "    yp = np.round(yp,0)\n",
    "\n",
    "    for i in range(10):\n",
    "\n",
    "        plt.figure(figsize=(20,10))\n",
    "        plt.subplot(1,3,1)\n",
    "        plt.imshow(X_test[i])\n",
    "        plt.title('Input')\n",
    "        plt.subplot(1,3,2)\n",
    "        plt.imshow(Y_test[i].reshape(Y_test[i].shape[0],Y_test[i].shape[1]))\n",
    "        plt.title('Ground Truth')\n",
    "        plt.subplot(1,3,3)\n",
    "        plt.imshow(yp[i].reshape(yp[i].shape[0],yp[i].shape[1]))\n",
    "        plt.title('Prediction')\n",
    "\n",
    "        intersection = yp[i].ravel() * Y_test[i].ravel()\n",
    "        union = yp[i].ravel() + Y_test[i].ravel() - intersection\n",
    "\n",
    "        jacard = (np.sum(intersection)/np.sum(union))\n",
    "        plt.suptitle('Jacard Index'+ str(np.sum(intersection)) +'/'+ str(np.sum(union)) +'='+str(jacard))\n",
    "\n",
    "        plt.savefig('results/'+str(i)+'.png',format='png')\n",
    "        plt.close()\n",
    "\n",
    "\n",
    "    jacard = 0\n",
    "    dice = 0\n",
    "\n",
    "\n",
    "    for i in range(len(Y_test)):\n",
    "        yp_2 = yp[i].ravel()\n",
    "        y2 = Y_test[i].ravel()\n",
    "\n",
    "        intersection = yp_2 * y2\n",
    "        union = yp_2 + y2 - intersection\n",
    "\n",
    "        jacard += (np.sum(intersection)/np.sum(union))\n",
    "\n",
    "        dice += (2. * np.sum(intersection) ) / (np.sum(yp_2) + np.sum(y2))\n",
    "\n",
    "\n",
    "    jacard /= len(Y_test)\n",
    "    dice /= len(Y_test)\n",
    "\n",
    "\n",
    "\n",
    "    print('Jacard Index : '+str(jacard))\n",
    "    print('Dice Coefficient : '+str(dice))\n",
    "\n",
    "    jaccard_index_list.append(jacard)\n",
    "    dice_coeff_list.append(dice)\n",
    "    fp = open('models/log.txt','a')\n",
    "    fp.write(str(jacard)+'\\n')\n",
    "    fp.close()\n",
    "\n",
    "    fp = open('models/best.txt','r')\n",
    "    best = fp.read()\n",
    "    fp.close()\n",
    "\n",
    "    if(jacard>float(best)):\n",
    "        print('***********************************************')\n",
    "        print('Jacard Index improved from '+str(best)+' to '+str(jacard))\n",
    "        print('***********************************************')\n",
    "        fp = open('models/best.txt','w')\n",
    "        fp.write(str(jacard))\n",
    "        fp.close()\n",
    "\n",
    "        saveModel(model)"
   ]
  },
  {
   "cell_type": "code",
   "execution_count": 22,
   "metadata": {
    "colab": {
     "base_uri": "https://localhost:8080/"
    },
    "id": "TY1BMDmbmKpW",
    "outputId": "da37d026-addd-4176-8e36-52be5ae64f71"
   },
   "outputs": [
    {
     "name": "stdout",
     "output_type": "stream",
     "text": [
      "Epoch 1/10\n",
      "443/443 [==============================] - 45s 102ms/step - loss: 0.5878 - dice_coef: 0.1165 - jacard: 0.0626 - recall: 0.5617 - precision: 0.2043 - accuracy: 0.8768\n",
      "Epoch 2/10\n",
      "443/443 [==============================] - 44s 99ms/step - loss: 0.4266 - dice_coef: 0.1445 - jacard: 0.0789 - recall: 0.5278 - precision: 0.5166 - accuracy: 0.9547\n",
      "Epoch 3/10\n",
      "443/443 [==============================] - 44s 99ms/step - loss: 0.3302 - dice_coef: 0.1677 - jacard: 0.0929 - recall: 0.5160 - precision: 0.6234 - accuracy: 0.9627\n",
      "Epoch 4/10\n",
      "443/443 [==============================] - 44s 98ms/step - loss: 0.2658 - dice_coef: 0.1897 - jacard: 0.1066 - recall: 0.5025 - precision: 0.6755 - accuracy: 0.9653\n",
      "Epoch 5/10\n",
      "443/443 [==============================] - 44s 98ms/step - loss: 0.2199 - dice_coef: 0.2137 - jacard: 0.1221 - recall: 0.5003 - precision: 0.7137 - accuracy: 0.9671\n",
      "Epoch 6/10\n",
      "443/443 [==============================] - 44s 98ms/step - loss: 0.1881 - dice_coef: 0.2383 - jacard: 0.1378 - recall: 0.4946 - precision: 0.7319 - accuracy: 0.9678\n",
      "Epoch 7/10\n",
      "443/443 [==============================] - 44s 99ms/step - loss: 0.1647 - dice_coef: 0.2615 - jacard: 0.1535 - recall: 0.4932 - precision: 0.7470 - accuracy: 0.9684\n",
      "Epoch 8/10\n",
      "443/443 [==============================] - 44s 100ms/step - loss: 0.1462 - dice_coef: 0.2879 - jacard: 0.1716 - recall: 0.5013 - precision: 0.7628 - accuracy: 0.9693\n",
      "Epoch 9/10\n",
      "443/443 [==============================] - 44s 99ms/step - loss: 0.1341 - dice_coef: 0.3063 - jacard: 0.1846 - recall: 0.4943 - precision: 0.7723 - accuracy: 0.9694\n",
      "Epoch 10/10\n",
      "443/443 [==============================] - 44s 99ms/step - loss: 0.1251 - dice_coef: 0.3223 - jacard: 0.1960 - recall: 0.4865 - precision: 0.7828 - accuracy: 0.9696\n",
      "111/111 [==============================] - 2s 20ms/step\n",
      "Jacard Index : 0.33352126942480426\n",
      "Dice Coefficient : 0.47538132687488116\n",
      "***********************************************\n",
      "Jacard Index improved from -1.0 to 0.33352126942480426\n",
      "***********************************************\n"
     ]
    },
    {
     "data": {
      "text/plain": [
       "<tensorflow.python.keras.engine.functional.Functional at 0x7f995f20c5c0>"
      ]
     },
     "execution_count": 22,
     "metadata": {
      "tags": []
     },
     "output_type": "execute_result"
    }
   ],
   "source": [
    "from tensorflow.keras.metrics import Recall, Precision\n",
    "import json \n",
    "\n",
    "def trainStep(model, X_train, Y_train, X_test, Y_test, epochs, batchSize):\n",
    "    epochs = 10\n",
    "    #for epoch in range(epochs):\n",
    "    #print('Epoch : {}'.format(epoch+1))\n",
    "    history = model.fit(x=X_train, y=Y_train, batch_size=batchSize, epochs=epochs, verbose=1)\n",
    "\n",
    "    # convert the history.history dict to a pandas DataFrame:\n",
    "    hist_df = pd.DataFrame(history.history)\n",
    "\n",
    "    \n",
    "\n",
    "    # save to json:\n",
    "    hist_json_file = 'history.json'\n",
    "    # with open(hist_json_file, 'a') as out:\n",
    "    #     out.write(hist_df.to_json())\n",
    "    #     out.write(\",\")\n",
    "    #     out.close()\n",
    "\n",
    "    with open(hist_json_file, mode='w') as f:\n",
    "       hist_df.to_json(f)\n",
    "\n",
    "    # or save to csv:\n",
    "    hist_csv_file = 'history.csv'\n",
    "    # with open(hist_csv_file, 'a') as out:\n",
    "    #     out.write(str(hist_df.to_csv()))\n",
    "    #     out.write(\",\")\n",
    "    #     out.close()\n",
    "\n",
    "\n",
    "    with open(hist_csv_file, mode='w') as f:\n",
    "        hist_df.to_csv(f)\n",
    "\n",
    "    evaluateModel(model,X_test, Y_test,batchSize)\n",
    "\n",
    "    return model\n",
    "\n",
    "model = MultiResUnet(height=256, width=256, n_channels=3)\n",
    "\n",
    "model.compile(optimizer='adam', loss='binary_crossentropy', metrics=[dice_coef, jacard, Recall(), Precision() ,'accuracy'])\n",
    "\n",
    "saveModel(model)\n",
    "\n",
    "fp = open('models/log.txt','w')\n",
    "fp.close()\n",
    "fp = open('models/best.txt','w')\n",
    "fp.write('-1.0')\n",
    "fp.close()\n",
    "\n",
    "trainStep(model, X_train, Y_train, X_test, Y_test, epochs=150, batchSize=2)"
   ]
  },
  {
   "cell_type": "code",
   "execution_count": 1,
   "metadata": {
    "colab": {
     "base_uri": "https://localhost:8080/"
    },
    "id": "lMpPjvbGmMQK",
    "outputId": "bbe5e398-5375-441d-fe9d-79bd112e2185"
   },
   "outputs": [
    {
     "name": "stdout",
     "output_type": "stream",
     "text": [
      "{'loss': {'0': 0.5890361071, '1': 0.4260228276, '2': 0.3309844732, '3': 0.2658081949, '4': 0.2205479145, '5': 0.189381972, '6': 0.165148139, '7': 0.1480985433, '8': 0.1352097094, '9': 0.1253240705, '10': 0.1185350493, '11': 0.1132410839, '12': 0.1097688749, '13': 0.1073269621, '14': 0.1057957634, '15': 0.1039940268, '16': 0.1030970886, '17': 0.1030271575, '18': 0.1026259884, '19': 0.1021095067, '20': 0.1007916629, '21': 0.100317657, '22': 0.0996334627, '23': 0.0990766659, '24': 0.0986117721, '25': 0.0980263352, '26': 0.0972618982, '27': 0.0960981026, '28': 0.0958097726, '29': 0.0950527787, '30': 0.0948194116, '31': 0.0939353406, '32': 0.0935610384, '33': 0.0926879868, '34': 0.0929063261, '35': 0.0918049514, '36': 0.0913958028, '37': 0.0905015022, '38': 0.0902009532, '39': 0.0902302489, '40': 0.0890744403, '41': 0.089198105, '42': 0.0888132527, '43': 0.0879685879, '44': 0.0880127996, '45': 0.0870793387, '46': 0.0867876634, '47': 0.0861393586, '48': 0.0856069699, '49': 0.085224472, '50': 0.0851213336, '51': 0.0847426653, '52': 0.0843628645, '53': 0.0835980251, '54': 0.0835093036, '55': 0.0842015669, '56': 0.0829376727, '57': 0.0820797309, '58': 0.0820308104, '59': 0.0810560435, '60': 0.08100871, '61': 0.0806437358, '62': 0.0793646201, '63': 0.0794995129, '64': 0.0796244368, '65': 0.0799454227, '66': 0.0787158981, '67': 0.0938692316, '68': 0.0835956261, '69': 0.0803363323, '70': 0.0784868747, '71': 0.0772903785, '72': 0.0774531215, '73': 0.0770985782, '74': 0.0767652094, '75': 0.0766618103, '76': 0.0758219212, '77': 0.0757234991, '78': 0.075528942, '79': 0.0751764774, '80': 0.0750715062, '81': 0.0750126466, '82': 0.0740704611, '83': 0.0743888468, '84': 0.0870328322, '85': 0.0765580833, '86': 0.0745678842, '87': 0.0736537576, '88': 0.072713688, '89': 0.0727327093, '90': 0.0724875256, '91': 0.0725180954, '92': 0.0721868724, '93': 0.0717084035, '94': 0.0721263811, '95': 0.0722015649, '96': 0.0716077983, '97': 0.0706730112, '98': 0.070853442, '99': 0.0742110983, '100': 0.0711464211, '101': 0.0696471855, '102': 0.0691404268, '103': 0.0691988096, '104': 0.0693962947, '105': 0.0690512583, '106': 0.0715657473, '107': 0.0741758272, '108': 0.0699621364, '109': 0.0683520958, '110': 0.0682008639, '111': 0.067777358, '112': 0.0682287961, '113': 0.067606777, '114': 0.0671812817, '115': 0.0668135658, '116': 0.0666682571, '117': 0.0676849559, '118': 0.0666292459, '119': 0.0668386593, '120': 0.0664167702, '121': 0.0665795803, '122': 0.0656232312, '123': 0.0657273233, '124': 0.0664926022, '125': 0.0661111325, '126': 0.0670522749, '127': 0.0667064264, '128': 0.074662365, '129': 0.0669935644, '130': 0.0659434125, '131': 0.065059714, '132': 0.0644264668, '133': 0.0643787608, '134': 0.0640701875, '135': 0.0640192702, '136': 0.0634118319, '137': 0.0640916973, '138': 0.0636855885, '139': 0.0645141602, '140': 0.0641592443, '141': 0.0638122112, '142': 0.0637808517, '143': 0.0638838112, '144': 0.0636463538, '145': 0.0635578409, '146': 0.0631815493, '147': 0.0624917224, '148': 0.0630623177, '149': 0.0620988049}, 'dice_coef': {'0': 0.1163907722, '1': 0.1445530206, '2': 0.1657095701, '3': 0.1892022341, '4': 0.2129150778, '5': 0.2350762784, '6': 0.2595236599, '7': 0.2830354571, '8': 0.3051757514, '9': 0.3221196532, '10': 0.3363148272, '11': 0.3504452109, '12': 0.3595134318, '13': 0.3700530529, '14': 0.3738500476, '15': 0.3823577464, '16': 0.3846496642, '17': 0.3859326243, '18': 0.3853341639, '19': 0.3886462748, '20': 0.3934960365, '21': 0.3933723271, '22': 0.4005064368, '23': 0.4004725218, '24': 0.4071355164, '25': 0.4040052295, '26': 0.4060018063, '27': 0.411575079, '28': 0.411067307, '29': 0.4155731797, '30': 0.4145025611, '31': 0.4216894209, '32': 0.4201169312, '33': 0.4269959033, '34': 0.4250408709, '35': 0.4300689697, '36': 0.4323518574, '37': 0.4381322861, '38': 0.4383402765, '39': 0.4371920228, '40': 0.4443337917, '41': 0.4420621693, '42': 0.4365404546, '43': 0.4444164634, '44': 0.4432379603, '45': 0.4512057602, '46': 0.4521910548, '47': 0.4549135268, '48': 0.4561917782, '49': 0.4583812952, '50': 0.4575132132, '51': 0.4585366547, '52': 0.4584957957, '53': 0.4578705132, '54': 0.4647532701, '55': 0.4609089494, '56': 0.4646083713, '57': 0.4689470232, '58': 0.4689226747, '59': 0.4755980968, '60': 0.4737016261, '61': 0.4757624269, '62': 0.4810625315, '63': 0.4794097543, '64': 0.4766297638, '65': 0.4730117023, '66': 0.4816352129, '67': 0.4193081558, '68': 0.4629064798, '69': 0.4742589295, '70': 0.4825650156, '71': 0.4892282188, '72': 0.4852750897, '73': 0.4900554717, '74': 0.491248548, '75': 0.4927196503, '76': 0.4958908856, '77': 0.4942318201, '78': 0.4921297729, '79': 0.4926463962, '80': 0.4936131835, '81': 0.4952669442, '82': 0.5005134344, '83': 0.4993886948, '84': 0.4464288056, '85': 0.4909309447, '86': 0.4971025288, '87': 0.5041924119, '88': 0.5070461035, '89': 0.5047755241, '90': 0.5075237751, '91': 0.5055805445, '92': 0.5123954415, '93': 0.5078005195, '94': 0.5101749897, '95': 0.5100265145, '96': 0.5096907616, '97': 0.5154410005, '98': 0.511937201, '99': 0.4972577095, '100': 0.5114988685, '101': 0.5211286545, '102': 0.5220592022, '103': 0.521417737, '104': 0.5206926465, '105': 0.5165328979, '106': 0.5118089318, '107': 0.4984419942, '108': 0.516012609, '109': 0.5228137374, '110': 0.5267145634, '111': 0.5275447369, '112': 0.5262535214, '113': 0.5247154236, '114': 0.5299425721, '115': 0.5308710933, '116': 0.5310219526, '117': 0.5234712362, '118': 0.5344811678, '119': 0.5285428762, '120': 0.5337336659, '121': 0.5318200588, '122': 0.5350263119, '123': 0.5371901393, '124': 0.5336589813, '125': 0.5302394032, '126': 0.5298894644, '127': 0.5282950997, '128': 0.4997598529, '129': 0.5271973014, '130': 0.5383883119, '131': 0.5378158092, '132': 0.5402284861, '133': 0.5410266519, '134': 0.5402573347, '135': 0.5417572856, '136': 0.5416685343, '137': 0.5405159593, '138': 0.5450807214, '139': 0.5398238301, '140': 0.5412050486, '141': 0.5389670134, '142': 0.5415765047, '143': 0.5385573506, '144': 0.5445533991, '145': 0.5438383222, '146': 0.5458015203, '147': 0.5485189557, '148': 0.5465574861, '149': 0.5505520701}, 'jacard': {'0': 0.0625492856, '1': 0.0788149983, '2': 0.0916706175, '3': 0.1062057093, '4': 0.1212220713, '5': 0.1358493418, '6': 0.152393505, '7': 0.1684171408, '8': 0.1835098565, '9': 0.1956228018, '10': 0.2060925812, '11': 0.2160127759, '12': 0.2227836251, '13': 0.2303156406, '14': 0.233146742, '15': 0.2398004085, '16': 0.2413757741, '17': 0.24236992, '18': 0.2418450266, '19': 0.244549945, '20': 0.2484931797, '21': 0.2484428436, '22': 0.2535161078, '23': 0.2535804212, '24': 0.258895576, '25': 0.2565289438, '26': 0.2577640712, '27': 0.2627709806, '28': 0.2626921237, '29': 0.2657773495, '30': 0.2650000155, '31': 0.2706540823, '32': 0.2699093819, '33': 0.2747321427, '34': 0.2736712992, '35': 0.27784428, '36': 0.27930969, '37': 0.2838978171, '38': 0.2841758728, '39': 0.283395499, '40': 0.2891348004, '41': 0.2876296043, '42': 0.2832164466, '43': 0.2892538607, '44': 0.2890029848, '45': 0.2951752543, '46': 0.2958003283, '47': 0.2982364893, '48': 0.2997908294, '49': 0.3014258146, '50': 0.3007546365, '51': 0.3018459678, '52': 0.3021655381, '53': 0.3015885055, '54': 0.3068615198, '55': 0.3039897084, '56': 0.3067477942, '57': 0.3105555773, '58': 0.3106513321, '59': 0.3158178031, '60': 0.3148354888, '61': 0.3166860342, '62': 0.3204945624, '63': 0.3196249902, '64': 0.317813009, '65': 0.3144553304, '66': 0.3218637407, '67': 0.26954934, '68': 0.3052078187, '69': 0.3151714504, '70': 0.3225133419, '71': 0.3282848895, '72': 0.3252538443, '73': 0.3291455209, '74': 0.3304267228, '75': 0.3313526511, '76': 0.3342975378, '77': 0.3333171606, '78': 0.3314659894, '79': 0.3316113949, '80': 0.3332344592, '81': 0.3346329033, '82': 0.338857621, '83': 0.3375783861, '84': 0.2916767597, '85': 0.3297937512, '86': 0.3358231187, '87': 0.3420649767, '88': 0.3443149924, '89': 0.3420388103, '90': 0.3450613022, '91': 0.3434414268, '92': 0.3487595916, '93': 0.3452887237, '94': 0.346891582, '95': 0.3469917774, '96': 0.3472045064, '97': 0.3517991602, '98': 0.3496768177, '99': 0.3360207975, '100': 0.3487048149, '101': 0.3571020663, '102': 0.3576447964, '103': 0.3572578132, '104': 0.3566794693, '105': 0.3534057438, '106': 0.3487592638, '107': 0.3363499641, '108': 0.3529447913, '109': 0.3587911725, '110': 0.3618691266, '111': 0.3624583483, '112': 0.3614640534, '113': 0.360119164, '114': 0.3646785915, '115': 0.3658469319, '116': 0.365970701, '117': 0.3594176173, '118': 0.3685919344, '119': 0.3644340038, '120': 0.3681788445, '121': 0.3664086461, '122': 0.3693508804, '123': 0.3713804781, '124': 0.3679246604, '125': 0.3650815189, '126': 0.364977926, '127': 0.3640536666, '128': 0.3376957178, '129': 0.3625558317, '130': 0.3726019263, '131': 0.3725784719, '132': 0.3745695055, '133': 0.3750297129, '134': 0.3746314049, '135': 0.3756808937, '136': 0.3758974075, '137': 0.375253588, '138': 0.3788899779, '139': 0.3741540015, '140': 0.3754467666, '141': 0.3738685548, '142': 0.376062125, '143': 0.3738100827, '144': 0.3789659441, '145': 0.3777200282, '146': 0.3801354468, '147': 0.3818054199, '148': 0.3803712428, '149': 0.3841995895}, 'recall': {'0': 0.5710036159, '1': 0.5303333998, '2': 0.5126751661, '3': 0.5017666817, '4': 0.4975694418, '5': 0.4865761399, '6': 0.4919552207, '7': 0.4923835993, '8': 0.489466995, '9': 0.4858634174, '10': 0.4784832299, '11': 0.4684535265, '12': 0.4573694766, '13': 0.4458177388, '14': 0.4308339953, '15': 0.4257392287, '16': 0.4170669913, '17': 0.3974506259, '18': 0.3955906332, '19': 0.391588062, '20': 0.4103094935, '21': 0.4097011089, '22': 0.4079226553, '23': 0.4089689553, '24': 0.4238068461, '25': 0.4110684991, '26': 0.4185104072, '27': 0.4258163869, '28': 0.4333471954, '29': 0.4330646992, '30': 0.426392436, '31': 0.4386072755, '32': 0.4400363564, '33': 0.4470058084, '34': 0.4361796677, '35': 0.4463669658, '36': 0.444206804, '37': 0.4598885477, '38': 0.4614895582, '39': 0.4478871524, '40': 0.461959064, '41': 0.4578415453, '42': 0.4515216053, '43': 0.472561866, '44': 0.461338222, '45': 0.4850316942, '46': 0.4756647348, '47': 0.4807506502, '48': 0.487178266, '49': 0.4890323877, '50': 0.4858428538, '51': 0.4811140001, '52': 0.496222645, '53': 0.4924519062, '54': 0.4948688745, '55': 0.4867135286, '56': 0.4815996587, '57': 0.509088099, '58': 0.4870606959, '59': 0.51147753, '60': 0.5041700602, '61': 0.5096256137, '62': 0.5355655551, '63': 0.5166769624, '64': 0.5188988447, '65': 0.4939254522, '66': 0.5258194804, '67': 0.4305415452, '68': 0.4909420013, '69': 0.5171207786, '70': 0.5303649902, '71': 0.549480617, '72': 0.5175447464, '73': 0.5174216628, '74': 0.5236346722, '75': 0.5183922648, '76': 0.5322477818, '77': 0.5377742052, '78': 0.525054574, '79': 0.5558464527, '80': 0.5415133238, '81': 0.5361577868, '82': 0.544461906, '83': 0.532874167, '84': 0.4772352576, '85': 0.5308635235, '86': 0.539367497, '87': 0.5429391265, '88': 0.555836916, '89': 0.5563552976, '90': 0.5528023839, '91': 0.5587237477, '92': 0.540988028, '93': 0.5524864793, '94': 0.5389027596, '95': 0.5498409867, '96': 0.5616164804, '97': 0.5609639883, '98': 0.5638677478, '99': 0.5308969617, '100': 0.5565114021, '101': 0.573369503, '102': 0.5865516663, '103': 0.580971241, '104': 0.5503670573, '105': 0.564416945, '106': 0.552433908, '107': 0.5179029107, '108': 0.5399321914, '109': 0.5660998821, '110': 0.5778570175, '111': 0.5762773156, '112': 0.5520250201, '113': 0.5783569813, '114': 0.5926070809, '115': 0.5880656242, '116': 0.5984792113, '117': 0.5742967725, '118': 0.5874120593, '119': 0.5779341459, '120': 0.58475703, '121': 0.5789036751, '122': 0.5827849507, '123': 0.5914179087, '124': 0.5680690408, '125': 0.5792581439, '126': 0.5716556907, '127': 0.5656495094, '128': 0.5168702006, '129': 0.5883536339, '130': 0.5793918967, '131': 0.5795373917, '132': 0.5726641417, '133': 0.5745036006, '134': 0.5968770981, '135': 0.6017944217, '136': 0.6045210361, '137': 0.5776945949, '138': 0.597448349, '139': 0.5772277117, '140': 0.5829712152, '141': 0.5865321755, '142': 0.5802177787, '143': 0.5796306729, '144': 0.5900075436, '145': 0.591027379, '146': 0.5809727311, '147': 0.5951651335, '148': 0.587572217, '149': 0.6195790172}, 'precision': {'0': 0.1963451803, '1': 0.5227052569, '2': 0.6192845106, '3': 0.6788473129, '4': 0.7074482441, '5': 0.7264013886, '6': 0.7480342388, '7': 0.756216228, '8': 0.7678649426, '9': 0.7834570408, '10': 0.7911093831, '11': 0.8019836545, '12': 0.8086317182, '13': 0.8120296001, '14': 0.8232257962, '15': 0.8285992742, '16': 0.8304145336, '17': 0.8322169185, '18': 0.8358871341, '19': 0.8368537426, '20': 0.8445217013, '21': 0.8466176391, '22': 0.845023632, '23': 0.8501873612, '24': 0.8502776027, '25': 0.8525705934, '26': 0.8568941951, '27': 0.856898129, '28': 0.8609172106, '29': 0.8635798693, '30': 0.8646400571, '31': 0.8656833768, '32': 0.8724400401, '33': 0.87048316, '34': 0.8695818782, '35': 0.8746585846, '36': 0.8765985966, '37': 0.8787967563, '38': 0.8784532547, '39': 0.8827893734, '40': 0.8844134808, '41': 0.8853139281, '42': 0.8897158504, '43': 0.8903397322, '44': 0.8919327855, '45': 0.8933922648, '46': 0.89689219, '47': 0.8978580236, '48': 0.8996325731, '49': 0.9004030228, '50': 0.9021871686, '51': 0.9047923088, '52': 0.9070449471, '53': 0.910566926, '54': 0.9114252925, '55': 0.9076815248, '56': 0.9105117321, '57': 0.9145860076, '58': 0.9144361615, '59': 0.9172254205, '60': 0.9194474816, '61': 0.9213337898, '62': 0.923265636, '63': 0.9246032834, '64': 0.9255880117, '65': 0.9245670438, '66': 0.9284082651, '67': 0.8715590239, '68': 0.9093137383, '69': 0.9223365188, '70': 0.9273271561, '71': 0.9320145249, '72': 0.9340183735, '73': 0.9330242872, '74': 0.9334672689, '75': 0.9340499043, '76': 0.9358302951, '77': 0.9375898838, '78': 0.9372789264, '79': 0.9408662319, '80': 0.9411293268, '81': 0.9390746355, '82': 0.9409279823, '83': 0.9390473366, '84': 0.8956952095, '85': 0.9337227345, '86': 0.9408172965, '87': 0.9421070814, '88': 0.9446017742, '89': 0.9457560778, '90': 0.9463070035, '91': 0.9467037916, '92': 0.9451550245, '93': 0.9466073513, '94': 0.9455532432, '95': 0.9454693198, '96': 0.9482289553, '97': 0.9483997226, '98': 0.9491921663, '99': 0.9361945987, '100': 0.9462507963, '101': 0.9508485794, '102': 0.9514553547, '103': 0.9518241286, '104': 0.9497589469, '105': 0.9527575374, '106': 0.9419206977, '107': 0.9341173172, '108': 0.9486814737, '109': 0.9513629079, '110': 0.9519462585, '111': 0.9533323646, '112': 0.9511511922, '113': 0.9536720514, '114': 0.9545717835, '115': 0.9547720551, '116': 0.9553525448, '117': 0.9546481967, '118': 0.9537712336, '119': 0.9543356895, '120': 0.954041481, '121': 0.9560201168, '122': 0.9567090869, '123': 0.9561876655, '124': 0.9534154534, '125': 0.956633985, '126': 0.9506545067, '127': 0.9543350339, '128': 0.9279334545, '129': 0.9509301186, '130': 0.9529528022, '131': 0.9590811133, '132': 0.9593932033, '133': 0.9596410394, '134': 0.9608903527, '135': 0.9607910514, '136': 0.9614270329, '137': 0.9597091675, '138': 0.960667491, '139': 0.957971096, '140': 0.959495604, '141': 0.9613034129, '142': 0.9598429203, '143': 0.9596047997, '144': 0.9611657858, '145': 0.9588000774, '146': 0.9595983028, '147': 0.9608421326, '148': 0.9605355263, '149': 0.9628439546}, 'accuracy': {'0': 0.8701790571, '1': 0.9552305341, '2': 0.9623374343, '3': 0.9654761553, '4': 0.9667629004, '5': 0.9673032165, '6': 0.9683802724, '7': 0.9687271714, '8': 0.9690946937, '9': 0.9695683718, '10': 0.9695951939, '11': 0.9696250558, '12': 0.9694535732, '13': 0.969147861, '14': 0.9689455628, '15': 0.9689151645, '16': 0.968644619, '17': 0.9679603577, '18': 0.9679889679, '19': 0.9678635001, '20': 0.9687796831, '21': 0.9688123465, '22': 0.968701303, '23': 0.9688795209, '24': 0.9694560766, '25': 0.9690239429, '26': 0.9694295526, '27': 0.9697157145, '28': 0.97012043, '29': 0.9701822996, '30': 0.9699466825, '31': 0.9704592824, '32': 0.9707000852, '33': 0.970925808, '34': 0.9704687595, '35': 0.9710144997, '36': 0.9709807038, '37': 0.9716741443, '38': 0.9717302322, '39': 0.9712976813, '40': 0.9719150066, '41': 0.9717724919, '42': 0.9716320038, '43': 0.9725147486, '44': 0.9720962644, '45': 0.9731153846, '46': 0.9728260636, '47': 0.9730638266, '48': 0.9733808637, '49': 0.9734809995, '50': 0.9733974338, '51': 0.973271966, '52': 0.9739707708, '53': 0.9739097357, '54': 0.974036932, '55': 0.9735873342, '56': 0.9734495878, '57': 0.9747292399, '58': 0.9737879634, '59': 0.9749071598, '60': 0.9746568799, '61': 0.9749435782, '62': 0.9761139154, '63': 0.9753392935, '64': 0.975463748, '65': 0.9743572474, '66': 0.9758428931, '67': 0.970297277, '68': 0.9738109112, '69': 0.975294292, '70': 0.976008296, '71': 0.9769749045, '72': 0.9756416082, '73': 0.9756084085, '74': 0.9758918881, '75': 0.97567904, '76': 0.9763342738, '77': 0.976626873, '78': 0.9760611653, '79': 0.9775154591, '80': 0.9768921733, '81': 0.9765993357, '82': 0.9770165086, '83': 0.9764536619, '84': 0.9728579521, '85': 0.9762133956, '86': 0.9767894149, '87': 0.9769836068, '88': 0.9776246548, '89': 0.9776815176, '90': 0.9775394797, '91': 0.9778141975, '92': 0.9769844413, '93': 0.9775350094, '94': 0.9769031405, '95': 0.9773843288, '96': 0.9779869318, '97': 0.9779627323, '98': 0.9781143665, '99': 0.9762862325, '100': 0.9777026772, '101': 0.9785860181, '102': 0.9791914821, '103': 0.9789546132, '104': 0.9775311947, '105': 0.978243649, '106': 0.9773960114, '107': 0.9756599665, '108': 0.9770371914, '109': 0.9782779813, '110': 0.9788188934, '111': 0.9787895679, '112': 0.9776452184, '113': 0.9788928032, '114': 0.9795566201, '115': 0.9793595672, '116': 0.9798437953, '117': 0.9787401557, '118': 0.9792999029, '119': 0.9788939953, '120': 0.9791904092, '121': 0.9789883494, '122': 0.9791814685, '123': 0.9795535803, '124': 0.9784264565, '125': 0.9790210128, '126': 0.9785039425, '127': 0.9783449769, '128': 0.9754416347, '129': 0.9792562127, '130': 0.9789177179, '131': 0.9791063666, '132': 0.9788070917, '133': 0.9788966775, '134': 0.9799405336, '135': 0.9801591039, '136': 0.9803012013, '137': 0.9790421128, '138': 0.9799602628, '139': 0.9789699912, '140': 0.9792730212, '141': 0.9794874191, '142': 0.979159236, '143': 0.9791262746, '144': 0.979639709, '145': 0.9796147346, '146': 0.9791861176, '147': 0.9798619151, '148': 0.9795111418, '149': 0.9810239077}}\n"
     ]
    }
   ],
   "source": [
    "import json\n",
    "\n",
    "with open('history.json', 'r') as f:\n",
    "    array = json.load(f)\n",
    "print (array)"
   ]
  },
  {
   "cell_type": "code",
   "execution_count": 3,
   "metadata": {
    "colab": {
     "base_uri": "https://localhost:8080/"
    },
    "id": "malK2GAhmuQL",
    "outputId": "eb352511-b8d3-4124-f526-fcbff71a50db"
   },
   "outputs": [
    {
     "name": "stdout",
     "output_type": "stream",
     "text": [
      "[0.8701790571, 0.9552305341, 0.9623374343, 0.9654761553, 0.9667629004, 0.9673032165, 0.9683802724, 0.9687271714, 0.9690946937, 0.9695683718, 0.9695951939, 0.9696250558, 0.9694535732, 0.969147861, 0.9689455628, 0.9689151645, 0.968644619, 0.9679603577, 0.9679889679, 0.9678635001, 0.9687796831, 0.9688123465, 0.968701303, 0.9688795209, 0.9694560766, 0.9690239429, 0.9694295526, 0.9697157145, 0.97012043, 0.9701822996, 0.9699466825, 0.9704592824, 0.9707000852, 0.970925808, 0.9704687595, 0.9710144997, 0.9709807038, 0.9716741443, 0.9717302322, 0.9712976813, 0.9719150066, 0.9717724919, 0.9716320038, 0.9725147486, 0.9720962644, 0.9731153846, 0.9728260636, 0.9730638266, 0.9733808637, 0.9734809995, 0.9733974338, 0.973271966, 0.9739707708, 0.9739097357, 0.974036932, 0.9735873342, 0.9734495878, 0.9747292399, 0.9737879634, 0.9749071598, 0.9746568799, 0.9749435782, 0.9761139154, 0.9753392935, 0.975463748, 0.9743572474, 0.9758428931, 0.970297277, 0.9738109112, 0.975294292, 0.976008296, 0.9769749045, 0.9756416082, 0.9756084085, 0.9758918881, 0.97567904, 0.9763342738, 0.976626873, 0.9760611653, 0.9775154591, 0.9768921733, 0.9765993357, 0.9770165086, 0.9764536619, 0.9728579521, 0.9762133956, 0.9767894149, 0.9769836068, 0.9776246548, 0.9776815176, 0.9775394797, 0.9778141975, 0.9769844413, 0.9775350094, 0.9769031405, 0.9773843288, 0.9779869318, 0.9779627323, 0.9781143665, 0.9762862325, 0.9777026772, 0.9785860181, 0.9791914821, 0.9789546132, 0.9775311947, 0.978243649, 0.9773960114, 0.9756599665, 0.9770371914, 0.9782779813, 0.9788188934, 0.9787895679, 0.9776452184, 0.9788928032, 0.9795566201, 0.9793595672, 0.9798437953, 0.9787401557, 0.9792999029, 0.9788939953, 0.9791904092, 0.9789883494, 0.9791814685, 0.9795535803, 0.9784264565, 0.9790210128, 0.9785039425, 0.9783449769, 0.9754416347, 0.9792562127, 0.9789177179, 0.9791063666, 0.9788070917, 0.9788966775, 0.9799405336, 0.9801591039, 0.9803012013, 0.9790421128, 0.9799602628, 0.9789699912, 0.9792730212, 0.9794874191, 0.979159236, 0.9791262746, 0.979639709, 0.9796147346, 0.9791861176, 0.9798619151, 0.9795111418, 0.9810239077]\n"
     ]
    }
   ],
   "source": [
    "accuracy = []\n",
    "for item in array['accuracy']:\n",
    "  accuracy.append(array['accuracy'][item])\n",
    "print(accuracy)"
   ]
  },
  {
   "cell_type": "code",
   "execution_count": 4,
   "metadata": {
    "colab": {
     "base_uri": "https://localhost:8080/",
     "height": 298
    },
    "id": "v3SwuZBXmvjY",
    "outputId": "3b25122f-84b2-4743-95db-b15450e7023d"
   },
   "outputs": [
    {
     "data": {
      "text/plain": [
       "[<matplotlib.lines.Line2D at 0x7f77647c7ac0>]"
      ]
     },
     "execution_count": 4,
     "metadata": {},
     "output_type": "execute_result"
    },
    {
     "data": {
      "image/png": "[encoded data removed]",
      "text/plain": [
       "<Figure size 432x288 with 1 Axes>"
      ]
     },
     "metadata": {
      "needs_background": "light"
     },
     "output_type": "display_data"
    }
   ],
   "source": [
    "plt.title('accuracy')\n",
    "plt.plot(accuracy,color='green')"
   ]
  },
  {
   "cell_type": "code",
   "execution_count": 5,
   "metadata": {
    "colab": {
     "base_uri": "https://localhost:8080/",
     "height": 298
    },
    "id": "_y8j6PKpmxEt",
    "outputId": "2211638a-3629-4478-8cd0-65c8a30b4481"
   },
   "outputs": [
    {
     "data": {
      "text/plain": [
       "[<matplotlib.lines.Line2D at 0x7f776472e790>]"
      ]
     },
     "execution_count": 5,
     "metadata": {},
     "output_type": "execute_result"
    },
    {
     "data": {
      "image/png": "[encoded data removed]",
      "text/plain": [
       "<Figure size 432x288 with 1 Axes>"
      ]
     },
     "metadata": {
      "needs_background": "light"
     },
     "output_type": "display_data"
    }
   ],
   "source": [
    "dice_coef = []\n",
    "for item in array['dice_coef']:\n",
    "  dice_coef.append(array['dice_coef'][item])\n",
    "#print(dice_coef)\n",
    "plt.title('Dice Coef')\n",
    "plt.plot(dice_coef,color='orange')"
   ]
  },
  {
   "cell_type": "code",
   "execution_count": 6,
   "metadata": {
    "colab": {
     "base_uri": "https://localhost:8080/",
     "height": 298
    },
    "id": "nfspr1kumyhj",
    "outputId": "1f497651-7ef5-47af-f5cc-5aaccaf1fe9d"
   },
   "outputs": [
    {
     "data": {
      "text/plain": [
       "[<matplotlib.lines.Line2D at 0x7f776468bd30>]"
      ]
     },
     "execution_count": 6,
     "metadata": {},
     "output_type": "execute_result"
    },
    {
     "data": {
      "image/png": "[encoded data removed]",
      "text/plain": [
       "<Figure size 432x288 with 1 Axes>"
      ]
     },
     "metadata": {
      "needs_background": "light"
     },
     "output_type": "display_data"
    }
   ],
   "source": [
    "loss = []\n",
    "for item in array['loss']:\n",
    "  loss.append(array['loss'][item])\n",
    "#print(loss)\n",
    "plt.title('loss')\n",
    "plt.plot(loss,color='red')"
   ]
  },
  {
   "cell_type": "code",
   "execution_count": 7,
   "metadata": {
    "colab": {
     "base_uri": "https://localhost:8080/",
     "height": 298
    },
    "id": "V8EKGelum3Fi",
    "outputId": "b12c81b2-7248-4683-ec2d-f4d2fa92ccfa"
   },
   "outputs": [
    {
     "data": {
      "text/plain": [
       "[<matplotlib.lines.Line2D at 0x7f7764673130>]"
      ]
     },
     "execution_count": 7,
     "metadata": {},
     "output_type": "execute_result"
    },
    {
     "data": {
      "image/png": "[encoded data removed]",
      "text/plain": [
       "<Figure size 432x288 with 1 Axes>"
      ]
     },
     "metadata": {
      "needs_background": "light"
     },
     "output_type": "display_data"
    }
   ],
   "source": [
    "recall = []\n",
    "for item in array['recall']:\n",
    "  recall.append(array['recall'][item])\n",
    "#print(recall)\n",
    "plt.title('recall')\n",
    "plt.plot(recall,color='blue')"
   ]
  },
  {
   "cell_type": "code",
   "execution_count": 8,
   "metadata": {
    "colab": {
     "base_uri": "https://localhost:8080/",
     "height": 298
    },
    "id": "sQ6AuADam5BS",
    "outputId": "1c41ca00-eb86-4ab9-97ae-f5dfcbbf4855"
   },
   "outputs": [
    {
     "data": {
      "text/plain": [
       "[<matplotlib.lines.Line2D at 0x7f77645c0fd0>]"
      ]
     },
     "execution_count": 8,
     "metadata": {},
     "output_type": "execute_result"
    },
    {
     "data": {
      "image/png": "[encoded data removed]",
      "text/plain": [
       "<Figure size 432x288 with 1 Axes>"
      ]
     },
     "metadata": {
      "needs_background": "light"
     },
     "output_type": "display_data"
    }
   ],
   "source": [
    "precision = []\n",
    "for item in array['precision']:\n",
    "  precision.append(array['precision'][item])\n",
    "#print(precision)\n",
    "plt.title('precision')\n",
    "plt.plot(precision)"
   ]
  },
  {
   "cell_type": "code",
   "execution_count": null,
   "metadata": {
    "id": "R_2acgRsm6mH"
   },
   "outputs": [],
   "source": []
  },
  {
   "cell_type": "code",
   "execution_count": null,
   "metadata": {},
   "outputs": [],
   "source": []
  }
 ],
 "metadata": {
  "accelerator": "GPU",
  "colab": {
   "name": "MultiResUNET_Massachusetts.ipynb",
   "provenance": []
  },
  "kernelspec": {
   "display_name": "Python 3",
   "language": "python",
   "name": "python3"
  },
  "language_info": {
   "codemirror_mode": {
    "name": "ipython",
    "version": 3
   },
   "file_extension": ".py",
   "mimetype": "text/x-python",
   "name": "python",
   "nbconvert_exporter": "python",
   "pygments_lexer": "ipython3",
   "version": "3.8.5"
  }
 },
 "nbformat": 4,
 "nbformat_minor": 1
}
