{
 "cells": [
  {
   "cell_type": "code",
   "execution_count": 2,
   "metadata": {
    "colab": {
     "base_uri": "https://localhost:8080/"
    },
    "id": "JT14WiGgq1Rv",
    "outputId": "68d3de28-6d5e-4bf3-be0c-9adf68a9ca8e"
   },
   "outputs": [
    {
     "name": "stdout",
     "output_type": "stream",
     "text": [
      "Downloading...\n",
      "From: https://drive.google.com/u/3/uc?id=1--qv7im7ND4OMJamMZy2WY43Kw4-7SjX\n",
      "To: /content/znz-classify.zip\n",
      "495MB [00:02, 184MB/s]\n"
     ]
    }
   ],
   "source": [
    "! gdown https://drive.google.com/u/3/uc?id=1--qv7im7ND4OMJamMZy2WY43Kw4-7SjX"
   ]
  },
  {
   "cell_type": "code",
   "execution_count": 3,
   "metadata": {
    "id": "YKmPJQU58wEZ"
   },
   "outputs": [],
   "source": [
    "! unzip -qq znz-classify.zip"
   ]
  },
  {
   "cell_type": "code",
   "execution_count": 7,
   "metadata": {
    "id": "1cBG92ni83-o"
   },
   "outputs": [],
   "source": [
    "import os\n",
    "import cv2\n",
    "import numpy as np\n",
    "import pandas as pd\n",
    "from tqdm import tqdm\n",
    "import matplotlib.pyplot as plt\n",
    "from keras.layers import Input, Conv2D, MaxPooling2D, Conv2DTranspose, concatenate, BatchNormalization, Activation, add\n",
    "from keras.models import Model, model_from_json\n",
    "from keras.optimizers import Adam\n",
    "from keras.layers.advanced_activations import ELU, LeakyReLU\n",
    "from keras.utils.vis_utils import plot_model\n",
    "from keras import backend as K \n",
    "from sklearn.model_selection import train_test_split\n",
    "from sklearn.metrics import classification_report\n",
    "import glob\n"
   ]
  },
  {
   "cell_type": "code",
   "execution_count": 5,
   "metadata": {
    "colab": {
     "base_uri": "https://localhost:8080/"
    },
    "id": "B77SCwB19Dw9",
    "outputId": "2c18bc93-5707-4d90-d785-6f2942dc3e9c"
   },
   "outputs": [
    {
     "name": "stdout",
     "output_type": "stream",
     "text": [
      "2691\n",
      "2691\n",
      "['znz-segment-z19/znz-train-z19-all-buffered/images-512/grid_029_corrected_19_319460_270686_img.jpg', 'znz-segment-z19/znz-train-z19-all-buffered/images-512/grid_043_corrected_19_319455_270772_img.jpg', 'znz-segment-z19/znz-train-z19-all-buffered/images-512/grid_001_19_319384_270505_img.jpg', 'znz-segment-z19/znz-train-z19-all-buffered/images-512/grid_043_corrected_19_319461_270794_img.jpg', 'znz-segment-z19/znz-train-z19-all-buffered/images-512/grid_001_19_319366_270499_img.jpg', 'znz-segment-z19/znz-train-z19-all-buffered/images-512/grid_050_19_319442_270804_img.jpg', 'znz-segment-z19/znz-train-z19-all-buffered/images-512/grid_029_corrected_19_319452_270708_img.jpg', 'znz-segment-z19/znz-train-z19-all-buffered/images-512/grid_043_corrected_19_319457_270795_img.jpg', 'znz-segment-z19/znz-train-z19-all-buffered/images-512/grid_029_corrected_19_319443_270717_img.jpg', 'znz-segment-z19/znz-train-z19-all-buffered/images-512/grid_050_19_319469_270832_img.jpg']\n",
      "['znz-segment-z19/znz-train-z19-all-buffered/masks-512/grid_023_19_319443_270643_mask_buffered.png', 'znz-segment-z19/znz-train-z19-all-buffered/masks-512/grid_058_19_319441_270841_mask_buffered.png', 'znz-segment-z19/znz-train-z19-all-buffered/masks-512/grid_001_19_319370_270496_mask_buffered.png', 'znz-segment-z19/znz-train-z19-all-buffered/masks-512/grid_022_19_319423_270666_mask_buffered.png', 'znz-segment-z19/znz-train-z19-all-buffered/masks-512/grid_050_19_319439_270804_mask_buffered.png', 'znz-segment-z19/znz-train-z19-all-buffered/masks-512/grid_001_19_319390_270495_mask_buffered.png', 'znz-segment-z19/znz-train-z19-all-buffered/masks-512/grid_022_19_319433_270656_mask_buffered.png', 'znz-segment-z19/znz-train-z19-all-buffered/masks-512/grid_050_19_319442_270803_mask_buffered.png', 'znz-segment-z19/znz-train-z19-all-buffered/masks-512/grid_043_corrected_19_319454_270773_mask_buffered.png', 'znz-segment-z19/znz-train-z19-all-buffered/masks-512/grid_023_19_319449_270670_mask_buffered.png']\n",
      "2691\n",
      "2691\n"
     ]
    }
   ],
   "source": [
    "import glob\n",
    "all_img_files = glob.glob('znz-segment-z19/znz-train-z19-all-buffered/images-512/*')\n",
    "all_mask_files = glob.glob('znz-segment-z19/znz-train-z19-all-buffered/masks-512/*')\n",
    "print(len(all_img_files))\n",
    "print(len(all_mask_files))\n",
    "print(all_img_files[:10])\n",
    "print(all_mask_files[:10])\n",
    "\n",
    "#img = cv2.imread('trainx/X_img_144.bmp', cv2.IMREAD_COLOR)\n",
    "#img.shape\n",
    "\n",
    "#plt.imshow(img[:,:,::-1])\n",
    "\n",
    "img_files = glob.glob('znz-segment-z19/znz-train-z19-all-buffered/images-512/*')\n",
    "msk_files = glob.glob('znz-segment-z19/znz-train-z19-all-buffered/masks-512/*')\n",
    "\n",
    "img_files.sort()\n",
    "msk_files.sort()\n",
    "\n",
    "print(len(img_files))\n",
    "print(len(msk_files))\n"
   ]
  },
  {
   "cell_type": "code",
   "execution_count": 6,
   "metadata": {
    "colab": {
     "base_uri": "https://localhost:8080/"
    },
    "id": "pogHnNS59Io7",
    "outputId": "96d5b4b1-751f-4a1b-eeba-6bb9569165d1"
   },
   "outputs": [
    {
     "name": "stderr",
     "output_type": "stream",
     "text": [
      "100%|██████████| 2691/2691 [00:18<00:00, 147.20it/s]"
     ]
    },
    {
     "name": "stdout",
     "output_type": "stream",
     "text": [
      "2691\n",
      "2691\n"
     ]
    },
    {
     "name": "stderr",
     "output_type": "stream",
     "text": [
      "\n"
     ]
    }
   ],
   "source": [
    "X = []\n",
    "Y = []\n",
    "\n",
    "for img_fl in tqdm(img_files):\n",
    "  #print(img_fl)\n",
    "  #break\n",
    "  img = cv2.imread('{}'.format(img_fl), cv2.IMREAD_COLOR)\n",
    "  resized_img = cv2.resize(img,(256, 256), interpolation = cv2.INTER_CUBIC)\n",
    "\n",
    "  X.append(resized_img)\n",
    "  mask_name = 'znz-segment-z19/znz-train-z19-all-buffered/masks-512/'+str(img_fl.split('.')[0][:-4]).split('/')[-1]+\"_mask_buffered.png\"\n",
    "  #print(\"mn = \",mask_name)\n",
    "  #break\n",
    "  msk = cv2.imread('{}'.format(mask_name), cv2.IMREAD_GRAYSCALE)\n",
    "  resized_msk = cv2.resize(msk,(256, 256), interpolation = cv2.INTER_CUBIC)\n",
    "\n",
    "  Y.append(resized_msk)\n",
    "\n",
    "print(len(X))\n",
    "print(len(Y))"
   ]
  },
  {
   "cell_type": "code",
   "execution_count": 7,
   "metadata": {
    "colab": {
     "base_uri": "https://localhost:8080/"
    },
    "id": "hcKyhcNz9Sm5",
    "outputId": "bc285a83-a662-42ec-d8e2-f92d7fab4591"
   },
   "outputs": [
    {
     "name": "stdout",
     "output_type": "stream",
     "text": [
      "(2152, 256, 256, 3)\n",
      "(2152, 256, 256, 1)\n",
      "(539, 256, 256, 3)\n",
      "(539, 256, 256, 1)\n"
     ]
    }
   ],
   "source": [
    "\n",
    "X = np.array(X)\n",
    "Y = np.array(Y)\n",
    "\n",
    "X_train, X_test, Y_train, Y_test = train_test_split(X, Y, test_size=0.2, random_state=3)\n",
    "\n",
    "Y_train = Y_train.reshape((Y_train.shape[0],Y_train.shape[1],Y_train.shape[2],1))\n",
    "Y_test = Y_test.reshape((Y_test.shape[0],Y_test.shape[1],Y_test.shape[2],1))\n",
    "\n",
    "X_train = X_train / 255\n",
    "X_test = X_test / 255\n",
    "Y_train = Y_train / 255\n",
    "Y_test = Y_test / 255\n",
    "\n",
    "Y_train = np.round(Y_train,0)\t\n",
    "Y_test = np.round(Y_test,0)\t\n",
    "\n",
    "print(X_train.shape)\n",
    "print(Y_train.shape)\n",
    "print(X_test.shape)\n",
    "print(Y_test.shape)\n"
   ]
  },
  {
   "cell_type": "code",
   "execution_count": 8,
   "metadata": {
    "id": "fJfkGVv1-NUL"
   },
   "outputs": [],
   "source": [
    "def conv2d_bn(x, filters, num_row, num_col, padding='same', strides=(1, 1), activation='relu', name=None):\n",
    "    '''\n",
    "    2D Convolutional layers\n",
    "\n",
    "    Arguments:\n",
    "        x {keras layer} -- input layer\n",
    "        filters {int} -- number of filters\n",
    "        num_row {int} -- number of rows in filters\n",
    "        num_col {int} -- number of columns in filters\n",
    "\n",
    "    Keyword Arguments:\n",
    "        padding {str} -- mode of padding (default: {'same'})\n",
    "        strides {tuple} -- stride of convolution operation (default: {(1, 1)})\n",
    "        activation {str} -- activation function (default: {'relu'})\n",
    "        name {str} -- name of the layer (default: {None})\n",
    "\n",
    "    Returns:\n",
    "        [keras layer] -- [output layer]\n",
    "    '''\n",
    "\n",
    "    x = Conv2D(filters, (num_row, num_col), strides=strides, padding=padding, use_bias=False)(x)\n",
    "    x = BatchNormalization(axis=3, scale=False)(x)\n",
    "\n",
    "    if(activation == None):\n",
    "        return x\n",
    "\n",
    "    x = Activation(activation, name=name)(x)\n",
    "\n",
    "    return x\n",
    "\n",
    "\n",
    "def trans_conv2d_bn(x, filters, num_row, num_col, padding='same', strides=(2, 2), name=None):\n",
    "    '''\n",
    "    2D Transposed Convolutional layers\n",
    "\n",
    "    Arguments:\n",
    "        x {keras layer} -- input layer\n",
    "        filters {int} -- number of filters\n",
    "        num_row {int} -- number of rows in filters\n",
    "        num_col {int} -- number of columns in filters\n",
    "\n",
    "    Keyword Arguments:\n",
    "        padding {str} -- mode of padding (default: {'same'})\n",
    "        strides {tuple} -- stride of convolution operation (default: {(2, 2)})\n",
    "        name {str} -- name of the layer (default: {None})\n",
    "\n",
    "    Returns:\n",
    "        [keras layer] -- [output layer]\n",
    "    '''\n",
    "\n",
    "    x = Conv2DTranspose(filters, (num_row, num_col), strides=strides, padding=padding)(x)\n",
    "    x = BatchNormalization(axis=3, scale=False)(x)\n",
    "\n",
    "    return x\n",
    "\n",
    "\n",
    "def MultiResBlock(U, inp, alpha = 1.67):\n",
    "    '''\n",
    "    MultiRes Block\n",
    "\n",
    "    Arguments:\n",
    "        U {int} -- Number of filters in a corrsponding UNet stage\n",
    "        inp {keras layer} -- input layer\n",
    "\n",
    "    Returns:\n",
    "        [keras layer] -- [output layer]\n",
    "    '''\n",
    "\n",
    "    W = alpha * U\n",
    "\n",
    "    shortcut = inp\n",
    "\n",
    "    shortcut = conv2d_bn(shortcut, int(W*0.167) + int(W*0.333) +\n",
    "                         int(W*0.5), 1, 1, activation=None, padding='same')\n",
    "\n",
    "    conv3x3 = conv2d_bn(inp, int(W*0.167), 3, 3,\n",
    "                        activation='relu', padding='same')\n",
    "\n",
    "    conv5x5 = conv2d_bn(conv3x3, int(W*0.333), 3, 3,\n",
    "                        activation='relu', padding='same')\n",
    "\n",
    "    conv7x7 = conv2d_bn(conv5x5, int(W*0.5), 3, 3,\n",
    "                        activation='relu', padding='same')\n",
    "\n",
    "    out = concatenate([conv3x3, conv5x5, conv7x7], axis=3)\n",
    "    out = BatchNormalization(axis=3)(out)\n",
    "\n",
    "    out = add([shortcut, out])\n",
    "    out = Activation('relu')(out)\n",
    "    out = BatchNormalization(axis=3)(out)\n",
    "\n",
    "    return out\n",
    "\n",
    "\n",
    "def ResPath(filters, length, inp):\n",
    "    '''\n",
    "    ResPath\n",
    "\n",
    "    Arguments:\n",
    "        filters {int} -- [description]\n",
    "        length {int} -- length of ResPath\n",
    "        inp {keras layer} -- input layer\n",
    "\n",
    "    Returns:\n",
    "        [keras layer] -- [output layer]\n",
    "    '''\n",
    "\n",
    "\n",
    "    shortcut = inp\n",
    "    shortcut = conv2d_bn(shortcut, filters, 1, 1,\n",
    "                         activation=None, padding='same')\n",
    "\n",
    "    out = conv2d_bn(inp, filters, 3, 3, activation='relu', padding='same')\n",
    "\n",
    "    out = add([shortcut, out])\n",
    "    out = Activation('relu')(out)\n",
    "    out = BatchNormalization(axis=3)(out)\n",
    "\n",
    "    for i in range(length-1):\n",
    "\n",
    "        shortcut = out\n",
    "        shortcut = conv2d_bn(shortcut, filters, 1, 1,\n",
    "                             activation=None, padding='same')\n",
    "\n",
    "        out = conv2d_bn(out, filters, 3, 3, activation='relu', padding='same')\n",
    "\n",
    "        out = add([shortcut, out])\n",
    "        out = Activation('relu')(out)\n",
    "        out = BatchNormalization(axis=3)(out)\n",
    "\n",
    "    return out\n",
    "\n",
    "\n",
    "def MultiResUnet(height, width, n_channels):\n",
    "    '''\n",
    "    MultiResUNet\n",
    "\n",
    "    Arguments:\n",
    "        height {int} -- height of image\n",
    "        width {int} -- width of image\n",
    "        n_channels {int} -- number of channels in image\n",
    "\n",
    "    Returns:\n",
    "        [keras model] -- MultiResUNet model\n",
    "    '''\n",
    "\n",
    "\n",
    "    inputs = Input((height, width, n_channels))\n",
    "\n",
    "    mresblock1 = MultiResBlock(32, inputs)\n",
    "    pool1 = MaxPooling2D(pool_size=(2, 2))(mresblock1)\n",
    "    mresblock1 = ResPath(32, 4, mresblock1)\n",
    "\n",
    "    mresblock2 = MultiResBlock(32*2, pool1)\n",
    "    pool2 = MaxPooling2D(pool_size=(2, 2))(mresblock2)\n",
    "    mresblock2 = ResPath(32*2, 3, mresblock2)\n",
    "\n",
    "    mresblock3 = MultiResBlock(32*4, pool2)\n",
    "    pool3 = MaxPooling2D(pool_size=(2, 2))(mresblock3)\n",
    "    mresblock3 = ResPath(32*4, 2, mresblock3)\n",
    "\n",
    "    mresblock4 = MultiResBlock(32*8, pool3)\n",
    "    pool4 = MaxPooling2D(pool_size=(2, 2))(mresblock4)\n",
    "    mresblock4 = ResPath(32*8, 1, mresblock4)\n",
    "\n",
    "    mresblock5 = MultiResBlock(32*16, pool4)\n",
    "\n",
    "    up6 = concatenate([Conv2DTranspose(\n",
    "        32*8, (2, 2), strides=(2, 2), padding='same')(mresblock5), mresblock4], axis=3)\n",
    "    mresblock6 = MultiResBlock(32*8, up6)\n",
    "\n",
    "    up7 = concatenate([Conv2DTranspose(\n",
    "        32*4, (2, 2), strides=(2, 2), padding='same')(mresblock6), mresblock3], axis=3)\n",
    "    mresblock7 = MultiResBlock(32*4, up7)\n",
    "\n",
    "    up8 = concatenate([Conv2DTranspose(\n",
    "        32*2, (2, 2), strides=(2, 2), padding='same')(mresblock7), mresblock2], axis=3)\n",
    "    mresblock8 = MultiResBlock(32*2, up8)\n",
    "\n",
    "    up9 = concatenate([Conv2DTranspose(32, (2, 2), strides=(\n",
    "        2, 2), padding='same')(mresblock8), mresblock1], axis=3)\n",
    "    mresblock9 = MultiResBlock(32, up9)\n",
    "\n",
    "    conv10 = conv2d_bn(mresblock9, 1, 1, 1, activation='sigmoid')\n",
    "\n",
    "    model = Model(inputs=[inputs], outputs=[conv10])\n",
    "\n",
    "    return model"
   ]
  },
  {
   "cell_type": "code",
   "execution_count": 9,
   "metadata": {
    "id": "fKab8pcn-Rcl"
   },
   "outputs": [],
   "source": [
    "def dice_coef(y_true, y_pred):\n",
    "    smooth = 0.0\n",
    "    y_true_f = K.flatten(y_true)\n",
    "    y_pred_f = K.flatten(y_pred)\n",
    "    intersection = K.sum(y_true_f * y_pred_f)\n",
    "    return (2. * intersection + smooth) / (K.sum(y_true_f) + K.sum(y_pred_f) + smooth)\n",
    "\n",
    "def jacard(y_true, y_pred):\n",
    "\n",
    "    y_true_f = K.flatten(y_true)\n",
    "    y_pred_f = K.flatten(y_pred)\n",
    "    intersection = K.sum ( y_true_f * y_pred_f)\n",
    "    union = K.sum ( y_true_f + y_pred_f - y_true_f * y_pred_f)\n",
    "\n",
    "    return intersection/union\n",
    "\n",
    "def saveModel(model):\n",
    "\n",
    "    model_json = model.to_json()\n",
    "\n",
    "    try:\n",
    "        os.makedirs('models')\n",
    "    except:\n",
    "        pass\n",
    "\n",
    "    fp = open('models/MultiResUNET_Zanzibar.json','w')\n",
    "    fp.write(model_json)\n",
    "    model.save_weights('models/MultiResUNET_Zanzibar.h5')"
   ]
  },
  {
   "cell_type": "code",
   "execution_count": 10,
   "metadata": {
    "id": "aHBqEtnD9c_V"
   },
   "outputs": [],
   "source": [
    "jaccard_index_list = []\n",
    "dice_coeff_list = []\n",
    "\n",
    "def evaluateModel(model, X_test, Y_test, batchSize):\n",
    "\n",
    "    try:\n",
    "        os.makedirs('results')\n",
    "    except:\n",
    "        pass\n",
    "\n",
    "\n",
    "    yp = model.predict(x=X_test, batch_size=batchSize, verbose=1)\n",
    "\n",
    "    yp = np.round(yp,0)\n",
    "\n",
    "    for i in range(10):\n",
    "\n",
    "        plt.figure(figsize=(20,10))\n",
    "        plt.subplot(1,3,1)\n",
    "        plt.imshow(X_test[i])\n",
    "        plt.title('Input')\n",
    "        plt.subplot(1,3,2)\n",
    "        plt.imshow(Y_test[i].reshape(Y_test[i].shape[0],Y_test[i].shape[1]))\n",
    "        plt.title('Ground Truth')\n",
    "        plt.subplot(1,3,3)\n",
    "        plt.imshow(yp[i].reshape(yp[i].shape[0],yp[i].shape[1]))\n",
    "        plt.title('Prediction')\n",
    "\n",
    "        intersection = yp[i].ravel() * Y_test[i].ravel()\n",
    "        union = yp[i].ravel() + Y_test[i].ravel() - intersection\n",
    "\n",
    "        jacard = (np.sum(intersection)/np.sum(union))\n",
    "        plt.suptitle('Jacard Index'+ str(np.sum(intersection)) +'/'+ str(np.sum(union)) +'='+str(jacard))\n",
    "\n",
    "        plt.savefig('results/'+str(i)+'.png',format='png')\n",
    "        plt.close()\n",
    "\n",
    "\n",
    "    jacard = 0\n",
    "    dice = 0\n",
    "\n",
    "\n",
    "    for i in range(len(Y_test)):\n",
    "        yp_2 = yp[i].ravel()\n",
    "        y2 = Y_test[i].ravel()\n",
    "\n",
    "        intersection = yp_2 * y2\n",
    "        union = yp_2 + y2 - intersection\n",
    "\n",
    "        jacard += (np.sum(intersection)/np.sum(union))\n",
    "\n",
    "        dice += (2. * np.sum(intersection) ) / (np.sum(yp_2) + np.sum(y2))\n",
    "\n",
    "\n",
    "    jacard /= len(Y_test)\n",
    "    dice /= len(Y_test)\n",
    "\n",
    "\n",
    "\n",
    "    print('Jacard Index : '+str(jacard))\n",
    "    print('Dice Coefficient : '+str(dice))\n",
    "\n",
    "    jaccard_index_list.append(jacard)\n",
    "    dice_coeff_list.append(dice)\n",
    "    fp = open('models/log.txt','a')\n",
    "    fp.write(str(jacard)+'\\n')\n",
    "    fp.close()\n",
    "\n",
    "    fp = open('models/best.txt','r')\n",
    "    best = fp.read()\n",
    "    fp.close()\n",
    "\n",
    "    if(jacard>float(best)):\n",
    "        print('***********************************************')\n",
    "        print('Jacard Index improved from '+str(best)+' to '+str(jacard))\n",
    "        print('***********************************************')\n",
    "        fp = open('models/best.txt','w')\n",
    "        fp.write(str(jacard))\n",
    "        fp.close()\n",
    "\n",
    "        saveModel(model)"
   ]
  },
  {
   "cell_type": "code",
   "execution_count": 11,
   "metadata": {
    "colab": {
     "base_uri": "https://localhost:8080/"
    },
    "id": "eGSy57fp9c8P",
    "outputId": "2a2fd523-176d-46ad-9ba5-af6eb76c47b3"
   },
   "outputs": [
    {
     "name": "stdout",
     "output_type": "stream",
     "text": [
      "Epoch 1/10\n",
      "1076/1076 [==============================] - 143s 133ms/step - loss: 0.4606 - dice_coef: 0.2455 - jacard: 0.1477 - recall: 0.6674 - precision: 0.4857 - accuracy: 0.9020\n",
      "Epoch 2/10\n",
      "1076/1076 [==============================] - 145s 134ms/step - loss: 0.2657 - dice_coef: 0.3204 - jacard: 0.2007 - recall: 0.6807 - precision: 0.7919 - accuracy: 0.9530\n",
      "Epoch 3/10\n",
      "1076/1076 [==============================] - 144s 134ms/step - loss: 0.1995 - dice_coef: 0.3603 - jacard: 0.2297 - recall: 0.5995 - precision: 0.8627 - accuracy: 0.9532\n",
      "Epoch 4/10\n",
      "1076/1076 [==============================] - 144s 134ms/step - loss: 0.1749 - dice_coef: 0.3842 - jacard: 0.2464 - recall: 0.4640 - precision: 0.8848 - accuracy: 0.9438\n",
      "Epoch 5/10\n",
      "1076/1076 [==============================] - 144s 134ms/step - loss: 0.1663 - dice_coef: 0.3943 - jacard: 0.2540 - recall: 0.3978 - precision: 0.8969 - accuracy: 0.9389\n",
      "Epoch 6/10\n",
      "1076/1076 [==============================] - 144s 134ms/step - loss: 0.1633 - dice_coef: 0.3983 - jacard: 0.2572 - recall: 0.3732 - precision: 0.9077 - accuracy: 0.9373\n",
      "Epoch 7/10\n",
      "1076/1076 [==============================] - 144s 134ms/step - loss: 0.1598 - dice_coef: 0.4073 - jacard: 0.2635 - recall: 0.3564 - precision: 0.9065 - accuracy: 0.9359\n",
      "Epoch 8/10\n",
      "1076/1076 [==============================] - 145s 135ms/step - loss: 0.1582 - dice_coef: 0.4088 - jacard: 0.2648 - recall: 0.3432 - precision: 0.9119 - accuracy: 0.9350\n",
      "Epoch 9/10\n",
      "1076/1076 [==============================] - 145s 134ms/step - loss: 0.1565 - dice_coef: 0.4156 - jacard: 0.2702 - recall: 0.3583 - precision: 0.9106 - accuracy: 0.9362\n",
      "Epoch 10/10\n",
      "1076/1076 [==============================] - 144s 134ms/step - loss: 0.1585 - dice_coef: 0.4101 - jacard: 0.2660 - recall: 0.3436 - precision: 0.9122 - accuracy: 0.9350\n",
      "  1/270 [..............................] - ETA: 0sWARNING:tensorflow:Callbacks method `on_predict_batch_end` is slow compared to the batch time (batch time: 0.0107s vs `on_predict_batch_end` time: 0.0212s). Check your callbacks.\n",
      "270/270 [==============================] - 9s 34ms/step\n"
     ]
    },
    {
     "name": "stderr",
     "output_type": "stream",
     "text": [
      "/usr/local/lib/python3.6/dist-packages/ipykernel_launcher.py:50: RuntimeWarning: invalid value encountered in double_scalars\n",
      "/usr/local/lib/python3.6/dist-packages/ipykernel_launcher.py:52: RuntimeWarning: invalid value encountered in double_scalars\n"
     ]
    },
    {
     "name": "stdout",
     "output_type": "stream",
     "text": [
      "Jacard Index : nan\n",
      "Dice Coefficient : nan\n"
     ]
    },
    {
     "data": {
      "text/plain": [
       "<tensorflow.python.keras.engine.functional.Functional at 0x7f2b7a910a58>"
      ]
     },
     "execution_count": 11,
     "metadata": {
      "tags": []
     },
     "output_type": "execute_result"
    }
   ],
   "source": [
    "from tensorflow.keras.metrics import Recall, Precision\n",
    "import json \n",
    "\n",
    "def trainStep(model, X_train, Y_train, X_test, Y_test, epochs, batchSize):\n",
    "    epochs = 10\n",
    "    #for epoch in range(epochs):\n",
    "    #print('Epoch : {}'.format(epoch+1))\n",
    "    history = model.fit(x=X_train, y=Y_train, batch_size=batchSize, epochs=epochs, verbose=1)\n",
    "\n",
    "    # convert the history.history dict to a pandas DataFrame:\n",
    "    hist_df = pd.DataFrame(history.history)\n",
    "\n",
    "    \n",
    "\n",
    "    # save to json:\n",
    "    hist_json_file = 'history.json'\n",
    "    # with open(hist_json_file, 'a') as out:\n",
    "    #     out.write(hist_df.to_json())\n",
    "    #     out.write(\",\")\n",
    "    #     out.close()\n",
    "\n",
    "    with open(hist_json_file, mode='w') as f:\n",
    "       hist_df.to_json(f)\n",
    "\n",
    "    # or save to csv:\n",
    "    hist_csv_file = 'history.csv'\n",
    "    # with open(hist_csv_file, 'a') as out:\n",
    "    #     out.write(str(hist_df.to_csv()))\n",
    "    #     out.write(\",\")\n",
    "    #     out.close()\n",
    "\n",
    "\n",
    "    with open(hist_csv_file, mode='w') as f:\n",
    "        hist_df.to_csv(f)\n",
    "\n",
    "    evaluateModel(model,X_test, Y_test,batchSize)\n",
    "\n",
    "    return model\n",
    "\n",
    "model = MultiResUnet(height=256, width=256, n_channels=3)\n",
    "\n",
    "model.compile(optimizer='adam', loss='binary_crossentropy', metrics=[dice_coef, jacard, Recall(), Precision() ,'accuracy'])\n",
    "\n",
    "saveModel(model)\n",
    "\n",
    "fp = open('models/log.txt','w')\n",
    "fp.close()\n",
    "fp = open('models/best.txt','w')\n",
    "fp.write('-1.0')\n",
    "fp.close()\n",
    "\n",
    "trainStep(model, X_train, Y_train, X_test, Y_test, epochs=150, batchSize=2)"
   ]
  },
  {
   "cell_type": "code",
   "execution_count": 8,
   "metadata": {
    "colab": {
     "base_uri": "https://localhost:8080/"
    },
    "id": "QucZ7KQSdkeM",
    "outputId": "9bbf1a4c-ec4f-4bbf-9fbf-e8c1f62e1cce"
   },
   "outputs": [
    {
     "name": "stdout",
     "output_type": "stream",
     "text": [
      "{'loss': {'0': 0.4605790675, '1': 0.2664444447, '2': 0.1996907592, '3': 0.1751337051, '4': 0.1665803492, '5': 0.1605593115, '6': 0.1591892838, '7': 0.1588069201, '8': 0.1556586772, '9': 0.1553037465, '10': 0.1550097466, '11': 0.1510612369, '12': 0.1513164639, '13': 0.15005292, '14': 0.1470440477, '15': 0.1488874853, '16': 0.1461991817, '17': 0.1453700066, '18': 0.1462641209, '19': 0.1452869326, '20': 0.1435291022, '21': 0.1437609345, '22': 0.1457051337, '23': 0.1418890059, '24': 0.1408963948, '25': 0.1436172426, '26': 0.1414496601, '27': 0.1408609301, '28': 0.1406999677, '29': 0.1402002275, '30': 0.1403392404, '31': 0.1398740709, '32': 0.1385137737, '33': 0.139462173, '34': 0.138973847, '35': 0.1391180903, '36': 0.1394917518, '37': 0.1374524087, '38': 0.1380073279, '39': 0.1386809796, '40': 0.1377324909, '41': 0.1369819045, '42': 0.1386297941, '43': 0.1372914463, '44': 0.1384297907, '45': 0.1379238665, '46': 0.1369653791, '47': 0.1368995607, '48': 0.1358970404, '49': 0.1358538419, '50': 0.135494858, '51': 0.1358505934, '52': 0.1369893402, '53': 0.1356393695, '54': 0.1343152672, '55': 0.1345527917, '56': 0.1353988796, '57': 0.1352799982, '58': 0.1344181895, '59': 0.1333232969, '60': 0.1351821125, '61': 0.1335091293, '62': 0.1330461353, '63': 0.1353012025, '64': 0.1347433627, '65': 0.1318613142, '66': 0.1326249391, '67': 0.1317928433, '68': 0.1321233809, '69': 0.1315687746, '70': 0.1324165761, '71': 0.1330696344, '72': 0.1317064613, '73': 0.1313111782, '74': 0.131927833, '75': 0.1314499378, '76': 0.132929787, '77': 0.1320470423, '78': 0.1311484724, '79': 0.1314401031, '80': 0.1307514757, '81': 0.1309898049, '82': 0.1300017089, '83': 0.1313797683, '84': 0.1301436275, '85': 0.1303493828, '86': 0.1304593533, '87': 0.1313083619, '88': 0.1294727027, '89': 0.1303080022, '90': 0.131064266, '91': 0.1285165548, '92': 0.1289941221, '93': 0.1293993443, '94': 0.1290487349, '95': 0.1304813474, '96': 0.1296797246, '97': 0.1311810315, '98': 0.1297672093, '99': 0.1299756318, '100': 0.1290140897, '101': 0.1283345371, '102': 0.1288810968, '103': 0.1286825389, '104': 0.1292731017, '105': 0.1303602755, '106': 0.130057171, '107': 0.1292853206, '108': 0.1289683878, '109': 0.1282165349, '110': 0.1281866878, '111': 0.1280448437, '112': 0.129119724, '113': 0.1304574311, '114': 0.1296847761, '115': 0.1289455444, '116': 0.1288856566, '117': 0.1273038685, '118': 0.1279464811, '119': 0.1285551041, '120': 0.1282705069, '121': 0.129876256, '122': 0.1274175495, '123': 0.128142938, '124': 0.1279748827, '125': 0.1292118728, '126': 0.1280936748, '127': 0.1284086108, '128': 0.1280290782, '129': 0.1292354316, '130': 0.1278043091, '131': 0.1273682117, '132': 0.1295504868, '133': 0.1275627017, '134': 0.1276388615, '135': 0.127940312, '136': 0.1282425672, '137': 0.1286021769, '138': 0.1278003901, '139': 0.1273614764, '140': 0.1268963516, '141': 0.1274185777, '142': 0.1274973303, '143': 0.1285519749, '144': 0.1273155063, '145': 0.1263637543, '146': 0.1267108172, '147': 0.1271716058, '148': 0.1264238656, '149': 0.1274065524}, 'dice_coef': {'0': 0.2465558499, '1': 0.3204157054, '2': 0.3584178984, '3': 0.3830122054, '4': 0.3946956396, '5': 0.4070761502, '6': 0.4109634161, '7': 0.4135868251, '8': 0.4154614508, '9': 0.4161744714, '10': 0.4160992503, '11': 0.427675426, '12': 0.4245865941, '13': 0.4264293909, '14': 0.4349946678, '15': 0.4306706488, '16': 0.4351975322, '17': 0.4389190078, '18': 0.4381166697, '19': 0.4342129529, '20': 0.442588836, '21': 0.441734612, '22': 0.4368959963, '23': 0.4450829625, '24': 0.4492672086, '25': 0.4400176108, '26': 0.4443935156, '27': 0.4499157965, '28': 0.4474461973, '29': 0.4516500831, '30': 0.4476057887, '31': 0.4462608695, '32': 0.4523214996, '33': 0.4476090074, '34': 0.452119261, '35': 0.4487174153, '36': 0.4503731132, '37': 0.4562682807, '38': 0.4541295767, '39': 0.4536850452, '40': 0.4536649585, '41': 0.4568950534, '42': 0.4497445822, '43': 0.4546642303, '44': 0.4497193098, '45': 0.4535510242, '46': 0.4578182995, '47': 0.4542243481, '48': 0.4567612112, '49': 0.4592578411, '50': 0.4575797617, '51': 0.4579620659, '52': 0.4529158175, '53': 0.4623275101, '54': 0.4614104331, '55': 0.4606117904, '56': 0.4582124352, '57': 0.4569604695, '58': 0.4611970782, '59': 0.4640467763, '60': 0.4596883655, '61': 0.4629870653, '62': 0.4655979872, '63': 0.458121419, '64': 0.4604440033, '65': 0.4669655263, '66': 0.4674070477, '67': 0.4693937898, '68': 0.4668453038, '69': 0.4724173546, '70': 0.4649856091, '71': 0.4676318467, '72': 0.4670625031, '73': 0.4668143094, '74': 0.4648306966, '75': 0.4670929015, '76': 0.4680248499, '77': 0.4634491503, '78': 0.4682391882, '79': 0.4680201113, '80': 0.4717247486, '81': 0.4672193229, '82': 0.4710613191, '83': 0.4704904258, '84': 0.4742987454, '85': 0.4692860842, '86': 0.4699199796, '87': 0.46675843, '88': 0.4726267457, '89': 0.4728195667, '90': 0.4685499072, '91': 0.4733238816, '92': 0.4725906849, '93': 0.4733755589, '94': 0.4740791619, '95': 0.4704135656, '96': 0.4686215222, '97': 0.4650858939, '98': 0.472258091, '99': 0.4694188237, '100': 0.4750252962, '101': 0.4800075889, '102': 0.4708767831, '103': 0.4771108031, '104': 0.4751091301, '105': 0.4716607034, '106': 0.4698372781, '107': 0.4743900895, '108': 0.4725201428, '109': 0.4773010015, '110': 0.4757832289, '111': 0.4781185091, '112': 0.4758144915, '113': 0.4677928984, '114': 0.4694765508, '115': 0.4747255445, '116': 0.4709241986, '117': 0.4767301083, '118': 0.4795402884, '119': 0.4766950607, '120': 0.4723854661, '121': 0.4717067778, '122': 0.4780493975, '123': 0.4768932164, '124': 0.4783087373, '125': 0.47036466, '126': 0.4759431779, '127': 0.4746664166, '128': 0.4731708169, '129': 0.4718782902, '130': 0.4782836735, '131': 0.4795608819, '132': 0.4699380994, '133': 0.4756456316, '134': 0.4744485915, '135': 0.4772806168, '136': 0.4767962694, '137': 0.4757170677, '138': 0.4730994105, '139': 0.4773915708, '140': 0.475784868, '141': 0.4754390121, '142': 0.4742553234, '143': 0.4739353359, '144': 0.4737497866, '145': 0.4793216884, '146': 0.4767954051, '147': 0.4738787115, '148': 0.4846164882, '149': 0.4773447216}, 'jacard': {'0': 0.1488613039, '1': 0.2010415792, '2': 0.2285240144, '3': 0.2454894632, '4': 0.2540307343, '5': 0.2628934681, '6': 0.2662870586, '7': 0.2686209381, '8': 0.2702643275, '9': 0.2711378336, '10': 0.2712568641, '11': 0.2799807191, '12': 0.2777398527, '13': 0.2794978917, '14': 0.2860920727, '15': 0.2831699848, '16': 0.2864364684, '17': 0.2897131443, '18': 0.2886946201, '19': 0.2862099111, '20': 0.2922774255, '21': 0.2917277217, '22': 0.2880984247, '23': 0.2950386107, '24': 0.2981696427, '25': 0.290890038, '26': 0.2947573364, '27': 0.2987220287, '28': 0.2970592678, '29': 0.3002305627, '30': 0.2968971729, '31': 0.296310544, '32': 0.3011024892, '33': 0.2976992726, '34': 0.3007842302, '35': 0.2986531258, '36': 0.2997298539, '37': 0.3040837646, '38': 0.3024607599, '39': 0.3021227419, '40': 0.3018284738, '41': 0.3047715724, '42': 0.2994678617, '43': 0.3031260371, '44': 0.2994183898, '45': 0.3023761809, '46': 0.3059918284, '47': 0.3027300239, '48': 0.3053940833, '49': 0.3071005642, '50': 0.3057749569, '51': 0.3061298728, '52': 0.3023104072, '53': 0.3095837235, '54': 0.3088442683, '55': 0.3082341552, '56': 0.3066985011, '57': 0.3056247234, '58': 0.309224844, '59': 0.3110745847, '60': 0.3071359396, '61': 0.3105244339, '62': 0.3125899732, '63': 0.3065588772, '64': 0.3084073365, '65': 0.3136557937, '66': 0.3135776222, '67': 0.3157311678, '68': 0.3135130703, '69': 0.317820251, '70': 0.3123704791, '71': 0.3140364289, '72': 0.3134147823, '73': 0.3136107326, '74': 0.3125347495, '75': 0.3138928711, '76': 0.3140673935, '77': 0.3111694157, '78': 0.3148352206, '79': 0.3147321641, '80': 0.3174293041, '81': 0.3142346144, '82': 0.3175013065, '83': 0.3163865805, '84': 0.3194762766, '85': 0.3159621656, '86': 0.31592682, '87': 0.3137487471, '88': 0.3182751536, '89': 0.3188436627, '90': 0.3155400455, '91': 0.3190528452, '92': 0.3189807236, '93': 0.3191199601, '94': 0.3195245266, '95': 0.3169203699, '96': 0.3160858154, '97': 0.312951237, '98': 0.3180092871, '99': 0.3160429299, '100': 0.3207990825, '101': 0.3243719637, '102': 0.3171855807, '103': 0.3222534359, '104': 0.3207349479, '105': 0.3179676533, '106': 0.3165658712, '107': 0.3202199042, '108': 0.3186400831, '109': 0.322527796, '110': 0.3214045763, '111': 0.3228189647, '112': 0.3210047185, '113': 0.314971447, '114': 0.3165960908, '115': 0.3202880919, '116': 0.3178191185, '117': 0.3219987154, '118': 0.3244798481, '119': 0.3215556443, '120': 0.3190237284, '121': 0.3178189099, '122': 0.3232137263, '123': 0.3223064244, '124': 0.3237045407, '125': 0.3171876669, '126': 0.3209973574, '127': 0.3206484616, '128': 0.3194057345, '129': 0.318462193, '130': 0.3236947656, '131': 0.3244912028, '132': 0.3168007731, '133': 0.3210893273, '134': 0.3202899396, '135': 0.3225875497, '136': 0.3220871985, '137': 0.3216493726, '138': 0.319280535, '139': 0.3228709102, '140': 0.3217398226, '141': 0.3208885491, '142': 0.3200921714, '143': 0.3199875057, '144': 0.3203876615, '145': 0.3245787621, '146': 0.322319299, '147': 0.3199247122, '148': 0.3286040127, '149': 0.322735697}, 'recall': {'0': 0.682651639, '1': 0.6912909746, '2': 0.5990116, '3': 0.4699201584, '4': 0.3944105208, '5': 0.359116286, '6': 0.3603706658, '7': 0.3655185699, '8': 0.3599699736, '9': 0.3596558273, '10': 0.3556340933, '11': 0.3761386871, '12': 0.365978539, '13': 0.3703906238, '14': 0.3751440644, '15': 0.3827325404, '16': 0.3779328465, '17': 0.3877020478, '18': 0.3793455362, '19': 0.3729139864, '20': 0.3870303631, '21': 0.3725748062, '22': 0.3753465116, '23': 0.398640573, '24': 0.402736485, '25': 0.3659975827, '26': 0.3874716759, '27': 0.3976680636, '28': 0.392424047, '29': 0.3975656331, '30': 0.3904708922, '31': 0.392721653, '32': 0.4126388729, '33': 0.3949325979, '34': 0.3956594169, '35': 0.3966537416, '36': 0.3884242773, '37': 0.4048669636, '38': 0.3955593109, '39': 0.3909943402, '40': 0.3911078274, '41': 0.4068434238, '42': 0.3868283629, '43': 0.38326177, '44': 0.3927561641, '45': 0.4016816318, '46': 0.4181835949, '47': 0.3943497539, '48': 0.3972932398, '49': 0.4056027234, '50': 0.3935496211, '51': 0.4003282487, '52': 0.388800472, '53': 0.4198064208, '54': 0.4027625918, '55': 0.4050583839, '56': 0.4257777035, '57': 0.4022306502, '58': 0.4151563942, '59': 0.4070964456, '60': 0.3937871158, '61': 0.4230160713, '62': 0.4149968028, '63': 0.4034238756, '64': 0.4064188898, '65': 0.4228759706, '66': 0.4167920947, '67': 0.4328546226, '68': 0.4064641595, '69': 0.4309280217, '70': 0.4053572416, '71': 0.4053365588, '72': 0.4071090817, '73': 0.4052621126, '74': 0.4157690406, '75': 0.3949712813, '76': 0.4015753567, '77': 0.3983362317, '78': 0.4108434319, '79': 0.4023203552, '80': 0.4145700634, '81': 0.4215176404, '82': 0.4223362505, '83': 0.4089143574, '84': 0.4144147635, '85': 0.4183064699, '86': 0.4013440907, '87': 0.4062219858, '88': 0.4372505844, '89': 0.4311743975, '90': 0.416747272, '91': 0.4493508637, '92': 0.4169501662, '93': 0.4162743688, '94': 0.4199438393, '95': 0.4137825072, '96': 0.4147970378, '97': 0.416323632, '98': 0.4238058329, '99': 0.4052289426, '100': 0.418961823, '101': 0.4260430336, '102': 0.4099948704, '103': 0.4160850644, '104': 0.4320815504, '105': 0.4165030718, '106': 0.4095330238, '107': 0.4122129083, '108': 0.4165891111, '109': 0.4208517373, '110': 0.4245380461, '111': 0.4226466417, '112': 0.4184143841, '113': 0.4055378139, '114': 0.4127652347, '115': 0.4216785729, '116': 0.4206784666, '117': 0.42643103, '118': 0.4286361337, '119': 0.4174190164, '120': 0.4247784019, '121': 0.4088120162, '122': 0.4277198017, '123': 0.4151293933, '124': 0.4276189506, '125': 0.4066300094, '126': 0.4116674364, '127': 0.4267694652, '128': 0.4091151059, '129': 0.4242290854, '130': 0.4411795139, '131': 0.4265079796, '132': 0.4169459641, '133': 0.4266088903, '134': 0.4183685184, '135': 0.4240259528, '136': 0.4183143675, '137': 0.415931046, '138': 0.3985056579, '139': 0.4211604595, '140': 0.422829479, '141': 0.4088728428, '142': 0.4120443761, '143': 0.4077479541, '144': 0.4162059128, '145': 0.4402848482, '146': 0.424531281, '147': 0.4136511683, '148': 0.4511969984, '149': 0.4110587537}, 'precision': {'0': 0.4871278107, '1': 0.7944701314, '2': 0.8655061126, '3': 0.8860501051, '4': 0.8899432421, '5': 0.9031050205, '6': 0.9104342461, '7': 0.915453732, '8': 0.9190963507, '9': 0.9237894416, '10': 0.9217701554, '11': 0.9336019754, '12': 0.9318207502, '13': 0.9381632805, '14': 0.9413737655, '15': 0.9362887144, '16': 0.943559289, '17': 0.9479669929, '18': 0.9459216595, '19': 0.9526596665, '20': 0.9507632256, '21': 0.9515448809, '22': 0.9495484829, '23': 0.9574849606, '24': 0.9589427114, '25': 0.9515622854, '26': 0.9595074058, '27': 0.9600781202, '28': 0.9599393606, '29': 0.9611382484, '30': 0.9623346925, '31': 0.961191833, '32': 0.964115262, '33': 0.9632107019, '34': 0.9617430568, '35': 0.9655675292, '36': 0.9635125399, '37': 0.9657600522, '38': 0.9674035907, '39': 0.9659011364, '40': 0.965931356, '41': 0.9677349329, '42': 0.9673194289, '43': 0.9687719345, '44': 0.9665504694, '45': 0.9687462449, '46': 0.9710662365, '47': 0.9708175063, '48': 0.9707107544, '49': 0.9724808335, '50': 0.9704340696, '51': 0.9719361067, '52': 0.972186923, '53': 0.9724786878, '54': 0.9753798246, '55': 0.9747084379, '56': 0.9746833444, '57': 0.9752824306, '58': 0.9754263163, '59': 0.976752758, '60': 0.9747939706, '61': 0.9777383804, '62': 0.9775072336, '63': 0.971182704, '64': 0.9768132567, '65': 0.9800522923, '66': 0.9802635312, '67': 0.9806047678, '68': 0.9790503383, '69': 0.9800838232, '70': 0.9789150357, '71': 0.9792930484, '72': 0.9801037312, '73': 0.9815105796, '74': 0.9818274379, '75': 0.981862247, '76': 0.9803395271, '77': 0.9804430604, '78': 0.9824005961, '79': 0.9830988646, '80': 0.981768012, '81': 0.9829625487, '82': 0.9843743443, '83': 0.9818693399, '84': 0.9831221104, '85': 0.9843280911, '86': 0.9849534631, '87': 0.983259201, '88': 0.9847844839, '89': 0.9846038222, '90': 0.9837463498, '91': 0.9856183529, '92': 0.9862120152, '93': 0.9859601259, '94': 0.9846432209, '95': 0.9852500558, '96': 0.9866807461, '97': 0.9857600331, '98': 0.9864649773, '99': 0.9849982858, '100': 0.9858840108, '101': 0.9869357347, '102': 0.9871434569, '103': 0.9870522022, '104': 0.9874641299, '105': 0.986176312, '106': 0.9866964817, '107': 0.9865598083, '108': 0.9886440635, '109': 0.9882906675, '110': 0.987693131, '111': 0.9875596166, '112': 0.9868927002, '113': 0.9873040318, '114': 0.9873737693, '115': 0.9878919125, '116': 0.9890876412, '117': 0.988828063, '118': 0.985393405, '119': 0.9880514145, '120': 0.9897372127, '121': 0.9845315218, '122': 0.9892402887, '123': 0.9890990257, '124': 0.9882027507, '125': 0.9874175787, '126': 0.9881947041, '127': 0.9890336394, '128': 0.9889482856, '129': 0.9858796597, '130': 0.9894152284, '131': 0.9886669517, '132': 0.9887605309, '133': 0.9899781942, '134': 0.9895969033, '135': 0.9885273576, '136': 0.9878919125, '137': 0.9881823659, '138': 0.9887243509, '139': 0.9901064634, '140': 0.9901199937, '141': 0.9892520308, '142': 0.9891383052, '143': 0.9886290431, '144': 0.9891067147, '145': 0.9896537066, '146': 0.9898626804, '147': 0.9896381497, '148': 0.9900779724, '149': 0.989400804}, 'accuracy': {'0': 0.9023196697, '1': 0.9540346265, '2': 0.9534195065, '3': 0.9443271756, '4': 0.9383076429, '5': 0.9359463453, '6': 0.9363538027, '7': 0.9369993806, '8': 0.9366717339, '9': 0.9368313551, '10': 0.9364039898, '11': 0.9386609197, '12': 0.9377013445, '13': 0.938339293, '14': 0.9388864636, '15': 0.9393499494, '16': 0.9392212629, '17': 0.9402665496, '18': 0.939440906, '19': 0.9391320944, '20': 0.9403196573, '21': 0.9390587807, '22': 0.939227879, '23': 0.9416351914, '24': 0.9420648217, '25': 0.938470304, '26': 0.940710187, '27': 0.9416537285, '28': 0.9411738515, '29': 0.9416876435, '30': 0.9410937428, '31': 0.9412519932, '32': 0.9431753159, '33': 0.9415334463, '34': 0.9415396452, '35': 0.9417830706, '36': 0.940955162, '37': 0.9425377846, '38': 0.9417569637, '39': 0.9412823319, '40': 0.9412938356, '41': 0.9427984357, '42': 0.9409587383, '43': 0.9406906962, '44': 0.9414682984, '45': 0.942369163, '46': 0.9439718723, '47': 0.9417821169, '48': 0.9420474172, '49': 0.9428787231, '50': 0.9416937828, '51': 0.9423746467, '52': 0.9413276911, '53': 0.9441803098, '54': 0.9427343011, '55': 0.9429185987, '56': 0.9448210597, '57': 0.9426819682, '58': 0.9438759089, '59': 0.9431884289, '60': 0.9418871403, '61': 0.9446947575, '62': 0.9439462423, '63': 0.9426261187, '64': 0.9431288242, '65': 0.9447772503, '66': 0.944224596, '67': 0.94572258, '68': 0.9432216287, '69': 0.9455235004, '70': 0.9431153536, '71': 0.9431275129, '72': 0.9433233738, '73': 0.9432091117, '74': 0.9441934824, '75': 0.9422704577, '76': 0.9428218603, '77': 0.9425265789, '78': 0.9437612891, '79': 0.9429991841, '80': 0.944080174, '81': 0.9447723627, '82': 0.944906652, '83': 0.9435612559, '84': 0.9441208243, '85': 0.9445310235, '86': 0.9429814219, '87': 0.9433680177, '88': 0.9463076591, '89': 0.9457365274, '90': 0.9443617463, '91': 0.9474669099, '92': 0.9444811344, '93': 0.9444081783, '94': 0.944696188, '95': 0.9441480637, '96': 0.9442988634, '97': 0.9444050789, '98': 0.9451294541, '99': 0.9433440566, '100': 0.9446545839, '101': 0.9453556538, '102': 0.9438716769, '103': 0.9444342852, '104': 0.9459400177, '105': 0.9444379807, '106': 0.9438111186, '107': 0.944054842, '108': 0.9445456862, '109': 0.9449285269, '110': 0.9452479482, '111': 0.9450662136, '112': 0.9446448684, '113': 0.9434627891, '114': 0.9441378713, '115': 0.9449890852, '116': 0.9449445009, '117': 0.9454702735, '118': 0.9455336332, '119': 0.9445982575, '120': 0.9453532696, '121': 0.9436575174, '122': 0.9456079006, '123': 0.9444271326, '124': 0.9455553293, '125': 0.943569839, '126': 0.9440686703, '127': 0.945510447, '128': 0.9438612461, '129': 0.9451439381, '130': 0.9468696117, '131': 0.9454709291, '132': 0.9445829391, '133': 0.9455336928, '134': 0.944750011, '135': 0.9452345967, '136': 0.9446757436, '137': 0.9444656968, '138': 0.9428635836, '139': 0.9450311661, '140': 0.9451870918, '141': 0.9438501596, '142': 0.9441412091, '143': 0.9437214732, '144': 0.9445284009, '145': 0.9467973113, '146': 0.9453359246, '147': 0.9443109035, '148': 0.9478338957, '149': 0.9440597296}}\n"
     ]
    }
   ],
   "source": [
    "import json\n",
    "\n",
    "with open('history.json', 'r') as f:\n",
    "    array = json.load(f)\n",
    "print (array)"
   ]
  },
  {
   "cell_type": "code",
   "execution_count": null,
   "metadata": {
    "id": "rPSVeLQruH_P"
   },
   "outputs": [],
   "source": []
  },
  {
   "cell_type": "code",
   "execution_count": 9,
   "metadata": {
    "colab": {
     "base_uri": "https://localhost:8080/"
    },
    "id": "qAovCdJ6ekSI",
    "outputId": "74124253-d8c9-46d5-ba98-bb5c4d1dee74"
   },
   "outputs": [
    {
     "data": {
      "text/plain": [
       "{'0': 0.9023196697,\n",
       " '1': 0.9540346265,\n",
       " '2': 0.9534195065,\n",
       " '3': 0.9443271756,\n",
       " '4': 0.9383076429,\n",
       " '5': 0.9359463453,\n",
       " '6': 0.9363538027,\n",
       " '7': 0.9369993806,\n",
       " '8': 0.9366717339,\n",
       " '9': 0.9368313551,\n",
       " '10': 0.9364039898,\n",
       " '11': 0.9386609197,\n",
       " '12': 0.9377013445,\n",
       " '13': 0.938339293,\n",
       " '14': 0.9388864636,\n",
       " '15': 0.9393499494,\n",
       " '16': 0.9392212629,\n",
       " '17': 0.9402665496,\n",
       " '18': 0.939440906,\n",
       " '19': 0.9391320944,\n",
       " '20': 0.9403196573,\n",
       " '21': 0.9390587807,\n",
       " '22': 0.939227879,\n",
       " '23': 0.9416351914,\n",
       " '24': 0.9420648217,\n",
       " '25': 0.938470304,\n",
       " '26': 0.940710187,\n",
       " '27': 0.9416537285,\n",
       " '28': 0.9411738515,\n",
       " '29': 0.9416876435,\n",
       " '30': 0.9410937428,\n",
       " '31': 0.9412519932,\n",
       " '32': 0.9431753159,\n",
       " '33': 0.9415334463,\n",
       " '34': 0.9415396452,\n",
       " '35': 0.9417830706,\n",
       " '36': 0.940955162,\n",
       " '37': 0.9425377846,\n",
       " '38': 0.9417569637,\n",
       " '39': 0.9412823319,\n",
       " '40': 0.9412938356,\n",
       " '41': 0.9427984357,\n",
       " '42': 0.9409587383,\n",
       " '43': 0.9406906962,\n",
       " '44': 0.9414682984,\n",
       " '45': 0.942369163,\n",
       " '46': 0.9439718723,\n",
       " '47': 0.9417821169,\n",
       " '48': 0.9420474172,\n",
       " '49': 0.9428787231,\n",
       " '50': 0.9416937828,\n",
       " '51': 0.9423746467,\n",
       " '52': 0.9413276911,\n",
       " '53': 0.9441803098,\n",
       " '54': 0.9427343011,\n",
       " '55': 0.9429185987,\n",
       " '56': 0.9448210597,\n",
       " '57': 0.9426819682,\n",
       " '58': 0.9438759089,\n",
       " '59': 0.9431884289,\n",
       " '60': 0.9418871403,\n",
       " '61': 0.9446947575,\n",
       " '62': 0.9439462423,\n",
       " '63': 0.9426261187,\n",
       " '64': 0.9431288242,\n",
       " '65': 0.9447772503,\n",
       " '66': 0.944224596,\n",
       " '67': 0.94572258,\n",
       " '68': 0.9432216287,\n",
       " '69': 0.9455235004,\n",
       " '70': 0.9431153536,\n",
       " '71': 0.9431275129,\n",
       " '72': 0.9433233738,\n",
       " '73': 0.9432091117,\n",
       " '74': 0.9441934824,\n",
       " '75': 0.9422704577,\n",
       " '76': 0.9428218603,\n",
       " '77': 0.9425265789,\n",
       " '78': 0.9437612891,\n",
       " '79': 0.9429991841,\n",
       " '80': 0.944080174,\n",
       " '81': 0.9447723627,\n",
       " '82': 0.944906652,\n",
       " '83': 0.9435612559,\n",
       " '84': 0.9441208243,\n",
       " '85': 0.9445310235,\n",
       " '86': 0.9429814219,\n",
       " '87': 0.9433680177,\n",
       " '88': 0.9463076591,\n",
       " '89': 0.9457365274,\n",
       " '90': 0.9443617463,\n",
       " '91': 0.9474669099,\n",
       " '92': 0.9444811344,\n",
       " '93': 0.9444081783,\n",
       " '94': 0.944696188,\n",
       " '95': 0.9441480637,\n",
       " '96': 0.9442988634,\n",
       " '97': 0.9444050789,\n",
       " '98': 0.9451294541,\n",
       " '99': 0.9433440566,\n",
       " '100': 0.9446545839,\n",
       " '101': 0.9453556538,\n",
       " '102': 0.9438716769,\n",
       " '103': 0.9444342852,\n",
       " '104': 0.9459400177,\n",
       " '105': 0.9444379807,\n",
       " '106': 0.9438111186,\n",
       " '107': 0.944054842,\n",
       " '108': 0.9445456862,\n",
       " '109': 0.9449285269,\n",
       " '110': 0.9452479482,\n",
       " '111': 0.9450662136,\n",
       " '112': 0.9446448684,\n",
       " '113': 0.9434627891,\n",
       " '114': 0.9441378713,\n",
       " '115': 0.9449890852,\n",
       " '116': 0.9449445009,\n",
       " '117': 0.9454702735,\n",
       " '118': 0.9455336332,\n",
       " '119': 0.9445982575,\n",
       " '120': 0.9453532696,\n",
       " '121': 0.9436575174,\n",
       " '122': 0.9456079006,\n",
       " '123': 0.9444271326,\n",
       " '124': 0.9455553293,\n",
       " '125': 0.943569839,\n",
       " '126': 0.9440686703,\n",
       " '127': 0.945510447,\n",
       " '128': 0.9438612461,\n",
       " '129': 0.9451439381,\n",
       " '130': 0.9468696117,\n",
       " '131': 0.9454709291,\n",
       " '132': 0.9445829391,\n",
       " '133': 0.9455336928,\n",
       " '134': 0.944750011,\n",
       " '135': 0.9452345967,\n",
       " '136': 0.9446757436,\n",
       " '137': 0.9444656968,\n",
       " '138': 0.9428635836,\n",
       " '139': 0.9450311661,\n",
       " '140': 0.9451870918,\n",
       " '141': 0.9438501596,\n",
       " '142': 0.9441412091,\n",
       " '143': 0.9437214732,\n",
       " '144': 0.9445284009,\n",
       " '145': 0.9467973113,\n",
       " '146': 0.9453359246,\n",
       " '147': 0.9443109035,\n",
       " '148': 0.9478338957,\n",
       " '149': 0.9440597296}"
      ]
     },
     "execution_count": 9,
     "metadata": {},
     "output_type": "execute_result"
    }
   ],
   "source": [
    "array['accuracy']"
   ]
  },
  {
   "cell_type": "code",
   "execution_count": 10,
   "metadata": {
    "colab": {
     "base_uri": "https://localhost:8080/"
    },
    "id": "MPlGzQ-1d2UH",
    "outputId": "fdfb5a29-e760-4c32-e35f-97b4f8370d91"
   },
   "outputs": [
    {
     "name": "stdout",
     "output_type": "stream",
     "text": [
      "[0.9023196697, 0.9540346265, 0.9534195065, 0.9443271756, 0.9383076429, 0.9359463453, 0.9363538027, 0.9369993806, 0.9366717339, 0.9368313551, 0.9364039898, 0.9386609197, 0.9377013445, 0.938339293, 0.9388864636, 0.9393499494, 0.9392212629, 0.9402665496, 0.939440906, 0.9391320944, 0.9403196573, 0.9390587807, 0.939227879, 0.9416351914, 0.9420648217, 0.938470304, 0.940710187, 0.9416537285, 0.9411738515, 0.9416876435, 0.9410937428, 0.9412519932, 0.9431753159, 0.9415334463, 0.9415396452, 0.9417830706, 0.940955162, 0.9425377846, 0.9417569637, 0.9412823319, 0.9412938356, 0.9427984357, 0.9409587383, 0.9406906962, 0.9414682984, 0.942369163, 0.9439718723, 0.9417821169, 0.9420474172, 0.9428787231, 0.9416937828, 0.9423746467, 0.9413276911, 0.9441803098, 0.9427343011, 0.9429185987, 0.9448210597, 0.9426819682, 0.9438759089, 0.9431884289, 0.9418871403, 0.9446947575, 0.9439462423, 0.9426261187, 0.9431288242, 0.9447772503, 0.944224596, 0.94572258, 0.9432216287, 0.9455235004, 0.9431153536, 0.9431275129, 0.9433233738, 0.9432091117, 0.9441934824, 0.9422704577, 0.9428218603, 0.9425265789, 0.9437612891, 0.9429991841, 0.944080174, 0.9447723627, 0.944906652, 0.9435612559, 0.9441208243, 0.9445310235, 0.9429814219, 0.9433680177, 0.9463076591, 0.9457365274, 0.9443617463, 0.9474669099, 0.9444811344, 0.9444081783, 0.944696188, 0.9441480637, 0.9442988634, 0.9444050789, 0.9451294541, 0.9433440566, 0.9446545839, 0.9453556538, 0.9438716769, 0.9444342852, 0.9459400177, 0.9444379807, 0.9438111186, 0.944054842, 0.9445456862, 0.9449285269, 0.9452479482, 0.9450662136, 0.9446448684, 0.9434627891, 0.9441378713, 0.9449890852, 0.9449445009, 0.9454702735, 0.9455336332, 0.9445982575, 0.9453532696, 0.9436575174, 0.9456079006, 0.9444271326, 0.9455553293, 0.943569839, 0.9440686703, 0.945510447, 0.9438612461, 0.9451439381, 0.9468696117, 0.9454709291, 0.9445829391, 0.9455336928, 0.944750011, 0.9452345967, 0.9446757436, 0.9444656968, 0.9428635836, 0.9450311661, 0.9451870918, 0.9438501596, 0.9441412091, 0.9437214732, 0.9445284009, 0.9467973113, 0.9453359246, 0.9443109035, 0.9478338957, 0.9440597296]\n"
     ]
    }
   ],
   "source": [
    "accuracy = []\n",
    "for item in array['accuracy']:\n",
    "  accuracy.append(array['accuracy'][item])\n",
    "print(accuracy)"
   ]
  },
  {
   "cell_type": "code",
   "execution_count": 11,
   "metadata": {
    "id": "V5QN-4GkwmJc"
   },
   "outputs": [],
   "source": [
    "# accuracy = []\n",
    "# for item in array['accuracy']:\n",
    "#   accuracy.append(array['accuracy'][item])\n",
    "# #print(accuracy)\n",
    "\n",
    "# dice_coef = []\n",
    "# for item in array['dice_coef']:\n",
    "#   dice_coef.append(array['dice_coef'][item])\n",
    "# #print(dice_coef)\n",
    "\n",
    "# loss = []\n",
    "# for item in array['loss']:\n",
    "#   loss.append(array['loss'][item])\n",
    "# #print(loss)\n",
    "\n",
    "# precision = []\n",
    "# for item in array['precision']:\n",
    "#   precision.append(array['precision'][item])\n",
    "# #print(precision)\n",
    "\n",
    "# recall = []\n",
    "# for item in array['recall']:\n",
    "#   recall.append(array['recall'][item])\n",
    "# #print(recall)\n",
    "\n",
    "# plt.figure(figsize=(12,7))\n",
    "\n",
    "# plt.plot(accuracy)\n",
    "# plt.plot(dice_coef)\n",
    "# plt.plot(loss)\n",
    "# plt.plot(precision)\n",
    "# plt.plot(recall)\n",
    "\n",
    "# plt.legend('accuracy', loc='upper left')\n",
    "# plt.legend('dice coef', loc='upper left')\n",
    "# plt.legend('loss', loc='upper left')\n",
    "# plt.legend('precision', loc='upper left')\n",
    "# plt.legend('recall', loc='upper left')\n",
    "# plt.show()\n"
   ]
  },
  {
   "cell_type": "code",
   "execution_count": 12,
   "metadata": {
    "colab": {
     "base_uri": "https://localhost:8080/",
     "height": 298
    },
    "id": "lnUuGPKBepN5",
    "outputId": "56be2bd8-ad18-40ef-833e-7f2762146ae2"
   },
   "outputs": [
    {
     "data": {
      "text/plain": [
       "[<matplotlib.lines.Line2D at 0x7f1678f36670>]"
      ]
     },
     "execution_count": 12,
     "metadata": {},
     "output_type": "execute_result"
    },
    {
     "data": {
      "image/png": "[encoded data removed]",
      "text/plain": [
       "<Figure size 432x288 with 1 Axes>"
      ]
     },
     "metadata": {
      "needs_background": "light"
     },
     "output_type": "display_data"
    }
   ],
   "source": [
    "plt.title('accuracy')\n",
    "plt.plot(accuracy,color='green')"
   ]
  },
  {
   "cell_type": "code",
   "execution_count": 13,
   "metadata": {
    "colab": {
     "base_uri": "https://localhost:8080/",
     "height": 298
    },
    "id": "U5A4c3TaezR1",
    "outputId": "4dc96715-ca20-4c77-8eee-8d8912661b62"
   },
   "outputs": [
    {
     "data": {
      "text/plain": [
       "[<matplotlib.lines.Line2D at 0x7f1676e17370>]"
      ]
     },
     "execution_count": 13,
     "metadata": {},
     "output_type": "execute_result"
    },
    {
     "data": {
      "image/png": "[encoded data removed]",
      "text/plain": [
       "<Figure size 432x288 with 1 Axes>"
      ]
     },
     "metadata": {
      "needs_background": "light"
     },
     "output_type": "display_data"
    }
   ],
   "source": [
    "dice_coef = []\n",
    "for item in array['dice_coef']:\n",
    "  dice_coef.append(array['dice_coef'][item])\n",
    "#print(dice_coef)\n",
    "plt.title('Dice Coef')\n",
    "plt.plot(dice_coef,color='orange')"
   ]
  },
  {
   "cell_type": "code",
   "execution_count": 14,
   "metadata": {
    "colab": {
     "base_uri": "https://localhost:8080/",
     "height": 298
    },
    "id": "uzxmqCCKuVju",
    "outputId": "04d4745d-0391-403d-e69b-435056644dd7"
   },
   "outputs": [
    {
     "data": {
      "text/plain": [
       "[<matplotlib.lines.Line2D at 0x7f1676df38b0>]"
      ]
     },
     "execution_count": 14,
     "metadata": {},
     "output_type": "execute_result"
    },
    {
     "data": {
      "image/png": "[encoded data removed]",
      "text/plain": [
       "<Figure size 432x288 with 1 Axes>"
      ]
     },
     "metadata": {
      "needs_background": "light"
     },
     "output_type": "display_data"
    }
   ],
   "source": [
    "loss = []\n",
    "for item in array['loss']:\n",
    "  loss.append(array['loss'][item])\n",
    "#print(loss)\n",
    "plt.title('loss')\n",
    "plt.plot(loss,color='red')"
   ]
  },
  {
   "cell_type": "code",
   "execution_count": 15,
   "metadata": {
    "colab": {
     "base_uri": "https://localhost:8080/",
     "height": 298
    },
    "id": "Bp5NR7CruktC",
    "outputId": "febbbf3b-d1d2-404f-aa0d-8938f7f911db"
   },
   "outputs": [
    {
     "data": {
      "text/plain": [
       "[<matplotlib.lines.Line2D at 0x7f1676d580d0>]"
      ]
     },
     "execution_count": 15,
     "metadata": {},
     "output_type": "execute_result"
    },
    {
     "data": {
      "image/png": "[encoded data removed]",
      "text/plain": [
       "<Figure size 432x288 with 1 Axes>"
      ]
     },
     "metadata": {
      "needs_background": "light"
     },
     "output_type": "display_data"
    }
   ],
   "source": [
    "recall = []\n",
    "for item in array['recall']:\n",
    "  recall.append(array['recall'][item])\n",
    "#print(recall)\n",
    "plt.title('recall')\n",
    "plt.plot(recall,color='blue')"
   ]
  },
  {
   "cell_type": "code",
   "execution_count": 16,
   "metadata": {
    "colab": {
     "base_uri": "https://localhost:8080/",
     "height": 298
    },
    "id": "xd5N5RpcuwST",
    "outputId": "b584a659-f46e-4ab6-c167-2d2335f970cb"
   },
   "outputs": [
    {
     "data": {
      "text/plain": [
       "[<matplotlib.lines.Line2D at 0x7f1676d2dcd0>]"
      ]
     },
     "execution_count": 16,
     "metadata": {},
     "output_type": "execute_result"
    },
    {
     "data": {
      "image/png": "[encoded data removed]",
      "text/plain": [
       "<Figure size 432x288 with 1 Axes>"
      ]
     },
     "metadata": {
      "needs_background": "light"
     },
     "output_type": "display_data"
    }
   ],
   "source": [
    "precision = []\n",
    "for item in array['precision']:\n",
    "  precision.append(array['precision'][item])\n",
    "#print(precision)\n",
    "plt.title('precision')\n",
    "plt.plot(precision)"
   ]
  },
  {
   "cell_type": "code",
   "execution_count": null,
   "metadata": {
    "id": "H_oOWBE6ypia"
   },
   "outputs": [],
   "source": []
  }
 ],
 "metadata": {
  "accelerator": "GPU",
  "colab": {
   "collapsed_sections": [],
   "name": "MultiResUNET_Zanzibar.ipynb",
   "provenance": []
  },
  "kernelspec": {
   "display_name": "Python 3",
   "language": "python",
   "name": "python3"
  },
  "language_info": {
   "codemirror_mode": {
    "name": "ipython",
    "version": 3
   },
   "file_extension": ".py",
   "mimetype": "text/x-python",
   "name": "python",
   "nbconvert_exporter": "python",
   "pygments_lexer": "ipython3",
   "version": "3.8.5"
  }
 },
 "nbformat": 4,
 "nbformat_minor": 1
}
