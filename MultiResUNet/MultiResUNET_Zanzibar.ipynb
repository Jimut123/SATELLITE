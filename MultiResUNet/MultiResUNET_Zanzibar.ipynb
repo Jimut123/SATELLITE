{
  "nbformat": 4,
  "nbformat_minor": 0,
  "metadata": {
    "colab": {
      "name": "MultiResUNET_Zanzibar.ipynb",
      "provenance": [],
      "collapsed_sections": []
    },
    "kernelspec": {
      "name": "python3",
      "display_name": "Python 3"
    },
    "accelerator": "GPU"
  },
  "cells": [
    {
      "cell_type": "code",
      "metadata": {
        "colab": {
          "base_uri": "https://localhost:8080/"
        },
        "id": "JT14WiGgq1Rv",
        "outputId": "68d3de28-6d5e-4bf3-be0c-9adf68a9ca8e"
      },
      "source": [
        "! gdown https://drive.google.com/u/3/uc?id=1--qv7im7ND4OMJamMZy2WY43Kw4-7SjX"
      ],
      "execution_count": 2,
      "outputs": [
        {
          "output_type": "stream",
          "text": [
            "Downloading...\n",
            "From: https://drive.google.com/u/3/uc?id=1--qv7im7ND4OMJamMZy2WY43Kw4-7SjX\n",
            "To: /content/znz-classify.zip\n",
            "495MB [00:02, 184MB/s]\n"
          ],
          "name": "stdout"
        }
      ]
    },
    {
      "cell_type": "code",
      "metadata": {
        "id": "YKmPJQU58wEZ"
      },
      "source": [
        "! unzip -qq znz-classify.zip"
      ],
      "execution_count": 3,
      "outputs": []
    },
    {
      "cell_type": "code",
      "metadata": {
        "id": "1cBG92ni83-o"
      },
      "source": [
        "import os\n",
        "import cv2\n",
        "import numpy as np\n",
        "import pandas as pd\n",
        "from tqdm import tqdm\n",
        "import matplotlib.pyplot as plt\n",
        "from keras.layers import Input, Conv2D, MaxPooling2D, Conv2DTranspose, concatenate, BatchNormalization, Activation, add\n",
        "from keras.models import Model, model_from_json\n",
        "from keras.optimizers import Adam\n",
        "from keras.layers.advanced_activations import ELU, LeakyReLU\n",
        "from keras.utils.vis_utils import plot_model\n",
        "from keras import backend as K \n",
        "from sklearn.model_selection import train_test_split\n",
        "from sklearn.metrics import classification_report\n",
        "import glob\n"
      ],
      "execution_count": 4,
      "outputs": []
    },
    {
      "cell_type": "code",
      "metadata": {
        "colab": {
          "base_uri": "https://localhost:8080/"
        },
        "id": "B77SCwB19Dw9",
        "outputId": "2c18bc93-5707-4d90-d785-6f2942dc3e9c"
      },
      "source": [
        "import glob\n",
        "all_img_files = glob.glob('znz-segment-z19/znz-train-z19-all-buffered/images-512/*')\n",
        "all_mask_files = glob.glob('znz-segment-z19/znz-train-z19-all-buffered/masks-512/*')\n",
        "print(len(all_img_files))\n",
        "print(len(all_mask_files))\n",
        "print(all_img_files[:10])\n",
        "print(all_mask_files[:10])\n",
        "\n",
        "#img = cv2.imread('trainx/X_img_144.bmp', cv2.IMREAD_COLOR)\n",
        "#img.shape\n",
        "\n",
        "#plt.imshow(img[:,:,::-1])\n",
        "\n",
        "img_files = glob.glob('znz-segment-z19/znz-train-z19-all-buffered/images-512/*')\n",
        "msk_files = glob.glob('znz-segment-z19/znz-train-z19-all-buffered/masks-512/*')\n",
        "\n",
        "img_files.sort()\n",
        "msk_files.sort()\n",
        "\n",
        "print(len(img_files))\n",
        "print(len(msk_files))\n"
      ],
      "execution_count": 5,
      "outputs": [
        {
          "output_type": "stream",
          "text": [
            "2691\n",
            "2691\n",
            "['znz-segment-z19/znz-train-z19-all-buffered/images-512/grid_029_corrected_19_319460_270686_img.jpg', 'znz-segment-z19/znz-train-z19-all-buffered/images-512/grid_043_corrected_19_319455_270772_img.jpg', 'znz-segment-z19/znz-train-z19-all-buffered/images-512/grid_001_19_319384_270505_img.jpg', 'znz-segment-z19/znz-train-z19-all-buffered/images-512/grid_043_corrected_19_319461_270794_img.jpg', 'znz-segment-z19/znz-train-z19-all-buffered/images-512/grid_001_19_319366_270499_img.jpg', 'znz-segment-z19/znz-train-z19-all-buffered/images-512/grid_050_19_319442_270804_img.jpg', 'znz-segment-z19/znz-train-z19-all-buffered/images-512/grid_029_corrected_19_319452_270708_img.jpg', 'znz-segment-z19/znz-train-z19-all-buffered/images-512/grid_043_corrected_19_319457_270795_img.jpg', 'znz-segment-z19/znz-train-z19-all-buffered/images-512/grid_029_corrected_19_319443_270717_img.jpg', 'znz-segment-z19/znz-train-z19-all-buffered/images-512/grid_050_19_319469_270832_img.jpg']\n",
            "['znz-segment-z19/znz-train-z19-all-buffered/masks-512/grid_023_19_319443_270643_mask_buffered.png', 'znz-segment-z19/znz-train-z19-all-buffered/masks-512/grid_058_19_319441_270841_mask_buffered.png', 'znz-segment-z19/znz-train-z19-all-buffered/masks-512/grid_001_19_319370_270496_mask_buffered.png', 'znz-segment-z19/znz-train-z19-all-buffered/masks-512/grid_022_19_319423_270666_mask_buffered.png', 'znz-segment-z19/znz-train-z19-all-buffered/masks-512/grid_050_19_319439_270804_mask_buffered.png', 'znz-segment-z19/znz-train-z19-all-buffered/masks-512/grid_001_19_319390_270495_mask_buffered.png', 'znz-segment-z19/znz-train-z19-all-buffered/masks-512/grid_022_19_319433_270656_mask_buffered.png', 'znz-segment-z19/znz-train-z19-all-buffered/masks-512/grid_050_19_319442_270803_mask_buffered.png', 'znz-segment-z19/znz-train-z19-all-buffered/masks-512/grid_043_corrected_19_319454_270773_mask_buffered.png', 'znz-segment-z19/znz-train-z19-all-buffered/masks-512/grid_023_19_319449_270670_mask_buffered.png']\n",
            "2691\n",
            "2691\n"
          ],
          "name": "stdout"
        }
      ]
    },
    {
      "cell_type": "code",
      "metadata": {
        "colab": {
          "base_uri": "https://localhost:8080/"
        },
        "id": "pogHnNS59Io7",
        "outputId": "96d5b4b1-751f-4a1b-eeba-6bb9569165d1"
      },
      "source": [
        "X = []\n",
        "Y = []\n",
        "\n",
        "for img_fl in tqdm(img_files):\n",
        "  #print(img_fl)\n",
        "  #break\n",
        "  img = cv2.imread('{}'.format(img_fl), cv2.IMREAD_COLOR)\n",
        "  resized_img = cv2.resize(img,(256, 256), interpolation = cv2.INTER_CUBIC)\n",
        "\n",
        "  X.append(resized_img)\n",
        "  mask_name = 'znz-segment-z19/znz-train-z19-all-buffered/masks-512/'+str(img_fl.split('.')[0][:-4]).split('/')[-1]+\"_mask_buffered.png\"\n",
        "  #print(\"mn = \",mask_name)\n",
        "  #break\n",
        "  msk = cv2.imread('{}'.format(mask_name), cv2.IMREAD_GRAYSCALE)\n",
        "  resized_msk = cv2.resize(msk,(256, 256), interpolation = cv2.INTER_CUBIC)\n",
        "\n",
        "  Y.append(resized_msk)\n",
        "\n",
        "print(len(X))\n",
        "print(len(Y))"
      ],
      "execution_count": 6,
      "outputs": [
        {
          "output_type": "stream",
          "text": [
            "100%|██████████| 2691/2691 [00:18<00:00, 147.20it/s]"
          ],
          "name": "stderr"
        },
        {
          "output_type": "stream",
          "text": [
            "2691\n",
            "2691\n"
          ],
          "name": "stdout"
        },
        {
          "output_type": "stream",
          "text": [
            "\n"
          ],
          "name": "stderr"
        }
      ]
    },
    {
      "cell_type": "code",
      "metadata": {
        "colab": {
          "base_uri": "https://localhost:8080/"
        },
        "id": "hcKyhcNz9Sm5",
        "outputId": "bc285a83-a662-42ec-d8e2-f92d7fab4591"
      },
      "source": [
        "\n",
        "X = np.array(X)\n",
        "Y = np.array(Y)\n",
        "\n",
        "X_train, X_test, Y_train, Y_test = train_test_split(X, Y, test_size=0.2, random_state=3)\n",
        "\n",
        "Y_train = Y_train.reshape((Y_train.shape[0],Y_train.shape[1],Y_train.shape[2],1))\n",
        "Y_test = Y_test.reshape((Y_test.shape[0],Y_test.shape[1],Y_test.shape[2],1))\n",
        "\n",
        "X_train = X_train / 255\n",
        "X_test = X_test / 255\n",
        "Y_train = Y_train / 255\n",
        "Y_test = Y_test / 255\n",
        "\n",
        "Y_train = np.round(Y_train,0)\t\n",
        "Y_test = np.round(Y_test,0)\t\n",
        "\n",
        "print(X_train.shape)\n",
        "print(Y_train.shape)\n",
        "print(X_test.shape)\n",
        "print(Y_test.shape)\n"
      ],
      "execution_count": 7,
      "outputs": [
        {
          "output_type": "stream",
          "text": [
            "(2152, 256, 256, 3)\n",
            "(2152, 256, 256, 1)\n",
            "(539, 256, 256, 3)\n",
            "(539, 256, 256, 1)\n"
          ],
          "name": "stdout"
        }
      ]
    },
    {
      "cell_type": "code",
      "metadata": {
        "id": "fJfkGVv1-NUL"
      },
      "source": [
        "def conv2d_bn(x, filters, num_row, num_col, padding='same', strides=(1, 1), activation='relu', name=None):\n",
        "    '''\n",
        "    2D Convolutional layers\n",
        "\n",
        "    Arguments:\n",
        "        x {keras layer} -- input layer\n",
        "        filters {int} -- number of filters\n",
        "        num_row {int} -- number of rows in filters\n",
        "        num_col {int} -- number of columns in filters\n",
        "\n",
        "    Keyword Arguments:\n",
        "        padding {str} -- mode of padding (default: {'same'})\n",
        "        strides {tuple} -- stride of convolution operation (default: {(1, 1)})\n",
        "        activation {str} -- activation function (default: {'relu'})\n",
        "        name {str} -- name of the layer (default: {None})\n",
        "\n",
        "    Returns:\n",
        "        [keras layer] -- [output layer]\n",
        "    '''\n",
        "\n",
        "    x = Conv2D(filters, (num_row, num_col), strides=strides, padding=padding, use_bias=False)(x)\n",
        "    x = BatchNormalization(axis=3, scale=False)(x)\n",
        "\n",
        "    if(activation == None):\n",
        "        return x\n",
        "\n",
        "    x = Activation(activation, name=name)(x)\n",
        "\n",
        "    return x\n",
        "\n",
        "\n",
        "def trans_conv2d_bn(x, filters, num_row, num_col, padding='same', strides=(2, 2), name=None):\n",
        "    '''\n",
        "    2D Transposed Convolutional layers\n",
        "\n",
        "    Arguments:\n",
        "        x {keras layer} -- input layer\n",
        "        filters {int} -- number of filters\n",
        "        num_row {int} -- number of rows in filters\n",
        "        num_col {int} -- number of columns in filters\n",
        "\n",
        "    Keyword Arguments:\n",
        "        padding {str} -- mode of padding (default: {'same'})\n",
        "        strides {tuple} -- stride of convolution operation (default: {(2, 2)})\n",
        "        name {str} -- name of the layer (default: {None})\n",
        "\n",
        "    Returns:\n",
        "        [keras layer] -- [output layer]\n",
        "    '''\n",
        "\n",
        "    x = Conv2DTranspose(filters, (num_row, num_col), strides=strides, padding=padding)(x)\n",
        "    x = BatchNormalization(axis=3, scale=False)(x)\n",
        "\n",
        "    return x\n",
        "\n",
        "\n",
        "def MultiResBlock(U, inp, alpha = 1.67):\n",
        "    '''\n",
        "    MultiRes Block\n",
        "\n",
        "    Arguments:\n",
        "        U {int} -- Number of filters in a corrsponding UNet stage\n",
        "        inp {keras layer} -- input layer\n",
        "\n",
        "    Returns:\n",
        "        [keras layer] -- [output layer]\n",
        "    '''\n",
        "\n",
        "    W = alpha * U\n",
        "\n",
        "    shortcut = inp\n",
        "\n",
        "    shortcut = conv2d_bn(shortcut, int(W*0.167) + int(W*0.333) +\n",
        "                         int(W*0.5), 1, 1, activation=None, padding='same')\n",
        "\n",
        "    conv3x3 = conv2d_bn(inp, int(W*0.167), 3, 3,\n",
        "                        activation='relu', padding='same')\n",
        "\n",
        "    conv5x5 = conv2d_bn(conv3x3, int(W*0.333), 3, 3,\n",
        "                        activation='relu', padding='same')\n",
        "\n",
        "    conv7x7 = conv2d_bn(conv5x5, int(W*0.5), 3, 3,\n",
        "                        activation='relu', padding='same')\n",
        "\n",
        "    out = concatenate([conv3x3, conv5x5, conv7x7], axis=3)\n",
        "    out = BatchNormalization(axis=3)(out)\n",
        "\n",
        "    out = add([shortcut, out])\n",
        "    out = Activation('relu')(out)\n",
        "    out = BatchNormalization(axis=3)(out)\n",
        "\n",
        "    return out\n",
        "\n",
        "\n",
        "def ResPath(filters, length, inp):\n",
        "    '''\n",
        "    ResPath\n",
        "\n",
        "    Arguments:\n",
        "        filters {int} -- [description]\n",
        "        length {int} -- length of ResPath\n",
        "        inp {keras layer} -- input layer\n",
        "\n",
        "    Returns:\n",
        "        [keras layer] -- [output layer]\n",
        "    '''\n",
        "\n",
        "\n",
        "    shortcut = inp\n",
        "    shortcut = conv2d_bn(shortcut, filters, 1, 1,\n",
        "                         activation=None, padding='same')\n",
        "\n",
        "    out = conv2d_bn(inp, filters, 3, 3, activation='relu', padding='same')\n",
        "\n",
        "    out = add([shortcut, out])\n",
        "    out = Activation('relu')(out)\n",
        "    out = BatchNormalization(axis=3)(out)\n",
        "\n",
        "    for i in range(length-1):\n",
        "\n",
        "        shortcut = out\n",
        "        shortcut = conv2d_bn(shortcut, filters, 1, 1,\n",
        "                             activation=None, padding='same')\n",
        "\n",
        "        out = conv2d_bn(out, filters, 3, 3, activation='relu', padding='same')\n",
        "\n",
        "        out = add([shortcut, out])\n",
        "        out = Activation('relu')(out)\n",
        "        out = BatchNormalization(axis=3)(out)\n",
        "\n",
        "    return out\n",
        "\n",
        "\n",
        "def MultiResUnet(height, width, n_channels):\n",
        "    '''\n",
        "    MultiResUNet\n",
        "\n",
        "    Arguments:\n",
        "        height {int} -- height of image\n",
        "        width {int} -- width of image\n",
        "        n_channels {int} -- number of channels in image\n",
        "\n",
        "    Returns:\n",
        "        [keras model] -- MultiResUNet model\n",
        "    '''\n",
        "\n",
        "\n",
        "    inputs = Input((height, width, n_channels))\n",
        "\n",
        "    mresblock1 = MultiResBlock(32, inputs)\n",
        "    pool1 = MaxPooling2D(pool_size=(2, 2))(mresblock1)\n",
        "    mresblock1 = ResPath(32, 4, mresblock1)\n",
        "\n",
        "    mresblock2 = MultiResBlock(32*2, pool1)\n",
        "    pool2 = MaxPooling2D(pool_size=(2, 2))(mresblock2)\n",
        "    mresblock2 = ResPath(32*2, 3, mresblock2)\n",
        "\n",
        "    mresblock3 = MultiResBlock(32*4, pool2)\n",
        "    pool3 = MaxPooling2D(pool_size=(2, 2))(mresblock3)\n",
        "    mresblock3 = ResPath(32*4, 2, mresblock3)\n",
        "\n",
        "    mresblock4 = MultiResBlock(32*8, pool3)\n",
        "    pool4 = MaxPooling2D(pool_size=(2, 2))(mresblock4)\n",
        "    mresblock4 = ResPath(32*8, 1, mresblock4)\n",
        "\n",
        "    mresblock5 = MultiResBlock(32*16, pool4)\n",
        "\n",
        "    up6 = concatenate([Conv2DTranspose(\n",
        "        32*8, (2, 2), strides=(2, 2), padding='same')(mresblock5), mresblock4], axis=3)\n",
        "    mresblock6 = MultiResBlock(32*8, up6)\n",
        "\n",
        "    up7 = concatenate([Conv2DTranspose(\n",
        "        32*4, (2, 2), strides=(2, 2), padding='same')(mresblock6), mresblock3], axis=3)\n",
        "    mresblock7 = MultiResBlock(32*4, up7)\n",
        "\n",
        "    up8 = concatenate([Conv2DTranspose(\n",
        "        32*2, (2, 2), strides=(2, 2), padding='same')(mresblock7), mresblock2], axis=3)\n",
        "    mresblock8 = MultiResBlock(32*2, up8)\n",
        "\n",
        "    up9 = concatenate([Conv2DTranspose(32, (2, 2), strides=(\n",
        "        2, 2), padding='same')(mresblock8), mresblock1], axis=3)\n",
        "    mresblock9 = MultiResBlock(32, up9)\n",
        "\n",
        "    conv10 = conv2d_bn(mresblock9, 1, 1, 1, activation='sigmoid')\n",
        "\n",
        "    model = Model(inputs=[inputs], outputs=[conv10])\n",
        "\n",
        "    return model"
      ],
      "execution_count": 8,
      "outputs": []
    },
    {
      "cell_type": "code",
      "metadata": {
        "id": "fKab8pcn-Rcl"
      },
      "source": [
        "def dice_coef(y_true, y_pred):\n",
        "    smooth = 0.0\n",
        "    y_true_f = K.flatten(y_true)\n",
        "    y_pred_f = K.flatten(y_pred)\n",
        "    intersection = K.sum(y_true_f * y_pred_f)\n",
        "    return (2. * intersection + smooth) / (K.sum(y_true_f) + K.sum(y_pred_f) + smooth)\n",
        "\n",
        "def jacard(y_true, y_pred):\n",
        "\n",
        "    y_true_f = K.flatten(y_true)\n",
        "    y_pred_f = K.flatten(y_pred)\n",
        "    intersection = K.sum ( y_true_f * y_pred_f)\n",
        "    union = K.sum ( y_true_f + y_pred_f - y_true_f * y_pred_f)\n",
        "\n",
        "    return intersection/union\n",
        "\n",
        "def saveModel(model):\n",
        "\n",
        "    model_json = model.to_json()\n",
        "\n",
        "    try:\n",
        "        os.makedirs('models')\n",
        "    except:\n",
        "        pass\n",
        "\n",
        "    fp = open('models/MultiResUNET_Zanzibar.json','w')\n",
        "    fp.write(model_json)\n",
        "    model.save_weights('models/MultiResUNET_Zanzibar.h5')"
      ],
      "execution_count": 9,
      "outputs": []
    },
    {
      "cell_type": "code",
      "metadata": {
        "id": "aHBqEtnD9c_V"
      },
      "source": [
        "jaccard_index_list = []\n",
        "dice_coeff_list = []\n",
        "\n",
        "def evaluateModel(model, X_test, Y_test, batchSize):\n",
        "\n",
        "    try:\n",
        "        os.makedirs('results')\n",
        "    except:\n",
        "        pass\n",
        "\n",
        "\n",
        "    yp = model.predict(x=X_test, batch_size=batchSize, verbose=1)\n",
        "\n",
        "    yp = np.round(yp,0)\n",
        "\n",
        "    for i in range(10):\n",
        "\n",
        "        plt.figure(figsize=(20,10))\n",
        "        plt.subplot(1,3,1)\n",
        "        plt.imshow(X_test[i])\n",
        "        plt.title('Input')\n",
        "        plt.subplot(1,3,2)\n",
        "        plt.imshow(Y_test[i].reshape(Y_test[i].shape[0],Y_test[i].shape[1]))\n",
        "        plt.title('Ground Truth')\n",
        "        plt.subplot(1,3,3)\n",
        "        plt.imshow(yp[i].reshape(yp[i].shape[0],yp[i].shape[1]))\n",
        "        plt.title('Prediction')\n",
        "\n",
        "        intersection = yp[i].ravel() * Y_test[i].ravel()\n",
        "        union = yp[i].ravel() + Y_test[i].ravel() - intersection\n",
        "\n",
        "        jacard = (np.sum(intersection)/np.sum(union))\n",
        "        plt.suptitle('Jacard Index'+ str(np.sum(intersection)) +'/'+ str(np.sum(union)) +'='+str(jacard))\n",
        "\n",
        "        plt.savefig('results/'+str(i)+'.png',format='png')\n",
        "        plt.close()\n",
        "\n",
        "\n",
        "    jacard = 0\n",
        "    dice = 0\n",
        "\n",
        "\n",
        "    for i in range(len(Y_test)):\n",
        "        yp_2 = yp[i].ravel()\n",
        "        y2 = Y_test[i].ravel()\n",
        "\n",
        "        intersection = yp_2 * y2\n",
        "        union = yp_2 + y2 - intersection\n",
        "\n",
        "        jacard += (np.sum(intersection)/np.sum(union))\n",
        "\n",
        "        dice += (2. * np.sum(intersection) ) / (np.sum(yp_2) + np.sum(y2))\n",
        "\n",
        "\n",
        "    jacard /= len(Y_test)\n",
        "    dice /= len(Y_test)\n",
        "\n",
        "\n",
        "\n",
        "    print('Jacard Index : '+str(jacard))\n",
        "    print('Dice Coefficient : '+str(dice))\n",
        "\n",
        "    jaccard_index_list.append(jacard)\n",
        "    dice_coeff_list.append(dice)\n",
        "    fp = open('models/log.txt','a')\n",
        "    fp.write(str(jacard)+'\\n')\n",
        "    fp.close()\n",
        "\n",
        "    fp = open('models/best.txt','r')\n",
        "    best = fp.read()\n",
        "    fp.close()\n",
        "\n",
        "    if(jacard>float(best)):\n",
        "        print('***********************************************')\n",
        "        print('Jacard Index improved from '+str(best)+' to '+str(jacard))\n",
        "        print('***********************************************')\n",
        "        fp = open('models/best.txt','w')\n",
        "        fp.write(str(jacard))\n",
        "        fp.close()\n",
        "\n",
        "        saveModel(model)"
      ],
      "execution_count": 10,
      "outputs": []
    },
    {
      "cell_type": "code",
      "metadata": {
        "colab": {
          "base_uri": "https://localhost:8080/"
        },
        "id": "eGSy57fp9c8P",
        "outputId": "2a2fd523-176d-46ad-9ba5-af6eb76c47b3"
      },
      "source": [
        "from tensorflow.keras.metrics import Recall, Precision\n",
        "import json \n",
        "\n",
        "def trainStep(model, X_train, Y_train, X_test, Y_test, epochs, batchSize):\n",
        "    epochs = 10\n",
        "    #for epoch in range(epochs):\n",
        "    #print('Epoch : {}'.format(epoch+1))\n",
        "    history = model.fit(x=X_train, y=Y_train, batch_size=batchSize, epochs=epochs, verbose=1)\n",
        "\n",
        "    # convert the history.history dict to a pandas DataFrame:\n",
        "    hist_df = pd.DataFrame(history.history)\n",
        "\n",
        "    \n",
        "\n",
        "    # save to json:\n",
        "    hist_json_file = 'history.json'\n",
        "    # with open(hist_json_file, 'a') as out:\n",
        "    #     out.write(hist_df.to_json())\n",
        "    #     out.write(\",\")\n",
        "    #     out.close()\n",
        "\n",
        "    with open(hist_json_file, mode='w') as f:\n",
        "       hist_df.to_json(f)\n",
        "\n",
        "    # or save to csv:\n",
        "    hist_csv_file = 'history.csv'\n",
        "    # with open(hist_csv_file, 'a') as out:\n",
        "    #     out.write(str(hist_df.to_csv()))\n",
        "    #     out.write(\",\")\n",
        "    #     out.close()\n",
        "\n",
        "\n",
        "    with open(hist_csv_file, mode='w') as f:\n",
        "        hist_df.to_csv(f)\n",
        "\n",
        "    evaluateModel(model,X_test, Y_test,batchSize)\n",
        "\n",
        "    return model\n",
        "\n",
        "model = MultiResUnet(height=256, width=256, n_channels=3)\n",
        "\n",
        "model.compile(optimizer='adam', loss='binary_crossentropy', metrics=[dice_coef, jacard, Recall(), Precision() ,'accuracy'])\n",
        "\n",
        "saveModel(model)\n",
        "\n",
        "fp = open('models/log.txt','w')\n",
        "fp.close()\n",
        "fp = open('models/best.txt','w')\n",
        "fp.write('-1.0')\n",
        "fp.close()\n",
        "\n",
        "trainStep(model, X_train, Y_train, X_test, Y_test, epochs=150, batchSize=2)"
      ],
      "execution_count": 11,
      "outputs": [
        {
          "output_type": "stream",
          "text": [
            "Epoch 1/10\n",
            "1076/1076 [==============================] - 143s 133ms/step - loss: 0.4606 - dice_coef: 0.2455 - jacard: 0.1477 - recall: 0.6674 - precision: 0.4857 - accuracy: 0.9020\n",
            "Epoch 2/10\n",
            "1076/1076 [==============================] - 145s 134ms/step - loss: 0.2657 - dice_coef: 0.3204 - jacard: 0.2007 - recall: 0.6807 - precision: 0.7919 - accuracy: 0.9530\n",
            "Epoch 3/10\n",
            "1076/1076 [==============================] - 144s 134ms/step - loss: 0.1995 - dice_coef: 0.3603 - jacard: 0.2297 - recall: 0.5995 - precision: 0.8627 - accuracy: 0.9532\n",
            "Epoch 4/10\n",
            "1076/1076 [==============================] - 144s 134ms/step - loss: 0.1749 - dice_coef: 0.3842 - jacard: 0.2464 - recall: 0.4640 - precision: 0.8848 - accuracy: 0.9438\n",
            "Epoch 5/10\n",
            "1076/1076 [==============================] - 144s 134ms/step - loss: 0.1663 - dice_coef: 0.3943 - jacard: 0.2540 - recall: 0.3978 - precision: 0.8969 - accuracy: 0.9389\n",
            "Epoch 6/10\n",
            "1076/1076 [==============================] - 144s 134ms/step - loss: 0.1633 - dice_coef: 0.3983 - jacard: 0.2572 - recall: 0.3732 - precision: 0.9077 - accuracy: 0.9373\n",
            "Epoch 7/10\n",
            "1076/1076 [==============================] - 144s 134ms/step - loss: 0.1598 - dice_coef: 0.4073 - jacard: 0.2635 - recall: 0.3564 - precision: 0.9065 - accuracy: 0.9359\n",
            "Epoch 8/10\n",
            "1076/1076 [==============================] - 145s 135ms/step - loss: 0.1582 - dice_coef: 0.4088 - jacard: 0.2648 - recall: 0.3432 - precision: 0.9119 - accuracy: 0.9350\n",
            "Epoch 9/10\n",
            "1076/1076 [==============================] - 145s 134ms/step - loss: 0.1565 - dice_coef: 0.4156 - jacard: 0.2702 - recall: 0.3583 - precision: 0.9106 - accuracy: 0.9362\n",
            "Epoch 10/10\n",
            "1076/1076 [==============================] - 144s 134ms/step - loss: 0.1585 - dice_coef: 0.4101 - jacard: 0.2660 - recall: 0.3436 - precision: 0.9122 - accuracy: 0.9350\n",
            "  1/270 [..............................] - ETA: 0sWARNING:tensorflow:Callbacks method `on_predict_batch_end` is slow compared to the batch time (batch time: 0.0107s vs `on_predict_batch_end` time: 0.0212s). Check your callbacks.\n",
            "270/270 [==============================] - 9s 34ms/step\n"
          ],
          "name": "stdout"
        },
        {
          "output_type": "stream",
          "text": [
            "/usr/local/lib/python3.6/dist-packages/ipykernel_launcher.py:50: RuntimeWarning: invalid value encountered in double_scalars\n",
            "/usr/local/lib/python3.6/dist-packages/ipykernel_launcher.py:52: RuntimeWarning: invalid value encountered in double_scalars\n"
          ],
          "name": "stderr"
        },
        {
          "output_type": "stream",
          "text": [
            "Jacard Index : nan\n",
            "Dice Coefficient : nan\n"
          ],
          "name": "stdout"
        },
        {
          "output_type": "execute_result",
          "data": {
            "text/plain": [
              "<tensorflow.python.keras.engine.functional.Functional at 0x7f2b7a910a58>"
            ]
          },
          "metadata": {
            "tags": []
          },
          "execution_count": 11
        }
      ]
    },
    {
      "cell_type": "code",
      "metadata": {
        "id": "QucZ7KQSdkeM",
        "outputId": "9bbf1a4c-ec4f-4bbf-9fbf-e8c1f62e1cce",
        "colab": {
          "base_uri": "https://localhost:8080/"
        }
      },
      "source": [
        "import json\n",
        "\n",
        "with open('history.json', 'r') as f:\n",
        "    array = json.load(f)\n",
        "print (array)"
      ],
      "execution_count": 12,
      "outputs": [
        {
          "output_type": "stream",
          "text": [
            "{'loss': {'0': 0.4605630636, '1': 0.265735358, '2': 0.1995114535, '3': 0.1748921722, '4': 0.1662882119, '5': 0.1632785499, '6': 0.1598156393, '7': 0.1582370549, '8': 0.1565286666, '9': 0.1584675908}, 'dice_coef': {'0': 0.2455190569, '1': 0.3203893006, '2': 0.360291332, '3': 0.384200424, '4': 0.3942762911, '5': 0.3983168304, '6': 0.4072574675, '7': 0.4088110328, '8': 0.4156178832, '9': 0.4100791216}, 'jacard': {'0': 0.1477277428, '1': 0.2006661296, '2': 0.2296818793, '3': 0.2463770658, '4': 0.2539969981, '5': 0.2572262883, '6': 0.2634693086, '7': 0.2647812366, '8': 0.2701955438, '9': 0.2660119832}, 'recall': {'0': 0.6674135327, '1': 0.6806883216, '2': 0.5994978547, '3': 0.463973999, '4': 0.3978344202, '5': 0.3732051253, '6': 0.3564257324, '7': 0.3431951404, '8': 0.3582991362, '9': 0.3436109722}, 'precision': {'0': 0.4857269526, '1': 0.7918514013, '2': 0.8626923561, '3': 0.8848381639, '4': 0.8969002962, '5': 0.9077212214, '6': 0.9064848423, '7': 0.9119210839, '8': 0.9106305838, '9': 0.9121579528}, 'accuracy': {'0': 0.9020231366, '1': 0.9530266523, '2': 0.9532455802, '3': 0.9437714219, '4': 0.9389163256, '5': 0.9373300076, '6': 0.9358580709, '7': 0.9349519014, '8': 0.9361857176, '9': 0.9349962473}}\n"
          ],
          "name": "stdout"
        }
      ]
    },
    {
      "cell_type": "code",
      "metadata": {
        "id": "rPSVeLQruH_P"
      },
      "source": [
        ""
      ],
      "execution_count": null,
      "outputs": []
    },
    {
      "cell_type": "code",
      "metadata": {
        "id": "qAovCdJ6ekSI",
        "outputId": "74124253-d8c9-46d5-ba98-bb5c4d1dee74",
        "colab": {
          "base_uri": "https://localhost:8080/"
        }
      },
      "source": [
        "array['accuracy']"
      ],
      "execution_count": 13,
      "outputs": [
        {
          "output_type": "execute_result",
          "data": {
            "text/plain": [
              "{'0': 0.9020231366,\n",
              " '1': 0.9530266523,\n",
              " '2': 0.9532455802,\n",
              " '3': 0.9437714219,\n",
              " '4': 0.9389163256,\n",
              " '5': 0.9373300076,\n",
              " '6': 0.9358580709,\n",
              " '7': 0.9349519014,\n",
              " '8': 0.9361857176,\n",
              " '9': 0.9349962473}"
            ]
          },
          "metadata": {
            "tags": []
          },
          "execution_count": 13
        }
      ]
    },
    {
      "cell_type": "code",
      "metadata": {
        "id": "MPlGzQ-1d2UH",
        "outputId": "fdfb5a29-e760-4c32-e35f-97b4f8370d91",
        "colab": {
          "base_uri": "https://localhost:8080/"
        }
      },
      "source": [
        "accuracy = []\n",
        "for item in array['accuracy']:\n",
        "  accuracy.append(array['accuracy'][item])\n",
        "print(accuracy)"
      ],
      "execution_count": 14,
      "outputs": [
        {
          "output_type": "stream",
          "text": [
            "[0.9020231366, 0.9530266523, 0.9532455802, 0.9437714219, 0.9389163256, 0.9373300076, 0.9358580709, 0.9349519014, 0.9361857176, 0.9349962473]\n"
          ],
          "name": "stdout"
        }
      ]
    },
    {
      "cell_type": "code",
      "metadata": {
        "id": "V5QN-4GkwmJc"
      },
      "source": [
        "# accuracy = []\n",
        "# for item in array['accuracy']:\n",
        "#   accuracy.append(array['accuracy'][item])\n",
        "# #print(accuracy)\n",
        "\n",
        "# dice_coef = []\n",
        "# for item in array['dice_coef']:\n",
        "#   dice_coef.append(array['dice_coef'][item])\n",
        "# #print(dice_coef)\n",
        "\n",
        "# loss = []\n",
        "# for item in array['loss']:\n",
        "#   loss.append(array['loss'][item])\n",
        "# #print(loss)\n",
        "\n",
        "# precision = []\n",
        "# for item in array['precision']:\n",
        "#   precision.append(array['precision'][item])\n",
        "# #print(precision)\n",
        "\n",
        "# recall = []\n",
        "# for item in array['recall']:\n",
        "#   recall.append(array['recall'][item])\n",
        "# #print(recall)\n",
        "\n",
        "# plt.figure(figsize=(12,7))\n",
        "\n",
        "# plt.plot(accuracy)\n",
        "# plt.plot(dice_coef)\n",
        "# plt.plot(loss)\n",
        "# plt.plot(precision)\n",
        "# plt.plot(recall)\n",
        "\n",
        "# plt.legend('accuracy', loc='upper left')\n",
        "# plt.legend('dice coef', loc='upper left')\n",
        "# plt.legend('loss', loc='upper left')\n",
        "# plt.legend('precision', loc='upper left')\n",
        "# plt.legend('recall', loc='upper left')\n",
        "# plt.show()\n"
      ],
      "execution_count": 44,
      "outputs": []
    },
    {
      "cell_type": "code",
      "metadata": {
        "id": "lnUuGPKBepN5",
        "outputId": "56be2bd8-ad18-40ef-833e-7f2762146ae2",
        "colab": {
          "base_uri": "https://localhost:8080/",
          "height": 298
        }
      },
      "source": [
        "plt.title('accuracy')\n",
        "plt.plot(accuracy,color='green')"
      ],
      "execution_count": 43,
      "outputs": [
        {
          "output_type": "execute_result",
          "data": {
            "text/plain": [
              "[<matplotlib.lines.Line2D at 0x7f2b82b476a0>]"
            ]
          },
          "metadata": {
            "tags": []
          },
          "execution_count": 43
        },
        {
          "output_type": "display_data",
          "data": {
            "image/png": "[encoded data removed]",
            "text/plain": [
              "<Figure size 432x288 with 1 Axes>"
            ]
          },
          "metadata": {
            "tags": [],
            "needs_background": "light"
          }
        }
      ]
    },
    {
      "cell_type": "code",
      "metadata": {
        "id": "U5A4c3TaezR1",
        "outputId": "4dc96715-ca20-4c77-8eee-8d8912661b62",
        "colab": {
          "base_uri": "https://localhost:8080/",
          "height": 298
        }
      },
      "source": [
        "dice_coef = []\n",
        "for item in array['dice_coef']:\n",
        "  dice_coef.append(array['dice_coef'][item])\n",
        "#print(dice_coef)\n",
        "plt.title('Dice Coef')\n",
        "plt.plot(dice_coef,color='orange')"
      ],
      "execution_count": 42,
      "outputs": [
        {
          "output_type": "execute_result",
          "data": {
            "text/plain": [
              "[<matplotlib.lines.Line2D at 0x7f2b82871fd0>]"
            ]
          },
          "metadata": {
            "tags": []
          },
          "execution_count": 42
        },
        {
          "output_type": "display_data",
          "data": {
            "image/png": "[encoded data removed]",
            "text/plain": [
              "<Figure size 432x288 with 1 Axes>"
            ]
          },
          "metadata": {
            "tags": [],
            "needs_background": "light"
          }
        }
      ]
    },
    {
      "cell_type": "code",
      "metadata": {
        "id": "uzxmqCCKuVju",
        "outputId": "04d4745d-0391-403d-e69b-435056644dd7",
        "colab": {
          "base_uri": "https://localhost:8080/",
          "height": 298
        }
      },
      "source": [
        "loss = []\n",
        "for item in array['loss']:\n",
        "  loss.append(array['loss'][item])\n",
        "#print(loss)\n",
        "plt.title('loss')\n",
        "plt.plot(loss,color='red')"
      ],
      "execution_count": 40,
      "outputs": [
        {
          "output_type": "execute_result",
          "data": {
            "text/plain": [
              "[<matplotlib.lines.Line2D at 0x7f2b82952e80>]"
            ]
          },
          "metadata": {
            "tags": []
          },
          "execution_count": 40
        },
        {
          "output_type": "display_data",
          "data": {
            "image/png": "[encoded data removed]",
            "text/plain": [
              "<Figure size 432x288 with 1 Axes>"
            ]
          },
          "metadata": {
            "tags": [],
            "needs_background": "light"
          }
        }
      ]
    },
    {
      "cell_type": "code",
      "metadata": {
        "id": "Bp5NR7CruktC",
        "outputId": "febbbf3b-d1d2-404f-aa0d-8938f7f911db",
        "colab": {
          "base_uri": "https://localhost:8080/",
          "height": 298
        }
      },
      "source": [
        "recall = []\n",
        "for item in array['recall']:\n",
        "  recall.append(array['recall'][item])\n",
        "#print(recall)\n",
        "plt.title('recall')\n",
        "plt.plot(recall,color='blue')"
      ],
      "execution_count": 39,
      "outputs": [
        {
          "output_type": "execute_result",
          "data": {
            "text/plain": [
              "[<matplotlib.lines.Line2D at 0x7f2b82952b00>]"
            ]
          },
          "metadata": {
            "tags": []
          },
          "execution_count": 39
        },
        {
          "output_type": "display_data",
          "data": {
            "image/png": "[encoded data removed]",
            "text/plain": [
              "<Figure size 432x288 with 1 Axes>"
            ]
          },
          "metadata": {
            "tags": [],
            "needs_background": "light"
          }
        }
      ]
    },
    {
      "cell_type": "code",
      "metadata": {
        "id": "xd5N5RpcuwST",
        "outputId": "b584a659-f46e-4ab6-c167-2d2335f970cb",
        "colab": {
          "base_uri": "https://localhost:8080/",
          "height": 298
        }
      },
      "source": [
        "precision = []\n",
        "for item in array['precision']:\n",
        "  precision.append(array['precision'][item])\n",
        "#print(precision)\n",
        "plt.title('precision')\n",
        "plt.plot(precision)"
      ],
      "execution_count": 38,
      "outputs": [
        {
          "output_type": "execute_result",
          "data": {
            "text/plain": [
              "[<matplotlib.lines.Line2D at 0x7f2b82b47908>]"
            ]
          },
          "metadata": {
            "tags": []
          },
          "execution_count": 38
        },
        {
          "output_type": "display_data",
          "data": {
            "image/png": "[encoded data removed]",
            "text/plain": [
              "<Figure size 432x288 with 1 Axes>"
            ]
          },
          "metadata": {
            "tags": [],
            "needs_background": "light"
          }
        }
      ]
    },
    {
      "cell_type": "code",
      "metadata": {
        "id": "H_oOWBE6ypia"
      },
      "source": [
        ""
      ],
      "execution_count": null,
      "outputs": []
    }
  ]
}