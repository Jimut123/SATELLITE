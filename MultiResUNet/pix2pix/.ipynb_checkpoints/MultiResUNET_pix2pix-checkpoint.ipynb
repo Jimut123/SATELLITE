{
 "cells": [
  {
   "cell_type": "code",
   "execution_count": 1,
   "metadata": {
    "colab": {
     "base_uri": "https://localhost:8080/"
    },
    "id": "n32XboxYTf8X",
    "outputId": "a21bd046-8c23-4297-8b19-f0bd8e694ff0"
   },
   "outputs": [
    {
     "name": "stdout",
     "output_type": "stream",
     "text": [
      "Downloading...\n",
      "From: https://drive.google.com/u/3/uc?id=1qGPqpXifJUELdmIm3XJhf7i3wurBokO0\n",
      "To: /content/maps_ds.zip\n",
      "203MB [00:02, 74.6MB/s]\n"
     ]
    }
   ],
   "source": [
    "! gdown https://drive.google.com/u/3/uc?id=1qGPqpXifJUELdmIm3XJhf7i3wurBokO0"
   ]
  },
  {
   "cell_type": "code",
   "execution_count": 3,
   "metadata": {
    "id": "30_tTDsJXPT7"
   },
   "outputs": [],
   "source": [
    "! unzip -qq maps_ds.zip"
   ]
  },
  {
   "cell_type": "code",
   "execution_count": 1,
   "metadata": {
    "id": "UHdAHC20V7-P"
   },
   "outputs": [],
   "source": [
    "import os\n",
    "import cv2\n",
    "import numpy as np\n",
    "import pandas as pd\n",
    "from tqdm import tqdm\n",
    "import matplotlib.pyplot as plt\n",
    "from keras.layers import Input, Conv2D, MaxPooling2D, Conv2DTranspose, concatenate, BatchNormalization, Activation, add\n",
    "from keras.models import Model, model_from_json\n",
    "from keras.optimizers import Adam\n",
    "from keras.layers.advanced_activations import ELU, LeakyReLU\n",
    "from keras.utils.vis_utils import plot_model\n",
    "from keras import backend as K \n",
    "from sklearn.model_selection import train_test_split\n",
    "from sklearn.metrics import classification_report\n",
    "import glob\n"
   ]
  },
  {
   "cell_type": "code",
   "execution_count": 4,
   "metadata": {
    "colab": {
     "base_uri": "https://localhost:8080/"
    },
    "id": "NWUIlx43V76r",
    "outputId": "f1539afc-b5e8-4d49-e520-df7a7ac51300"
   },
   "outputs": [
    {
     "name": "stdout",
     "output_type": "stream",
     "text": [
      "Found GPU at: /device:GPU:0\n"
     ]
    }
   ],
   "source": [
    "%tensorflow_version 2.x\n",
    "import tensorflow as tf\n",
    "device_name = tf.test.gpu_device_name()\n",
    "if device_name != '/device:GPU:0':\n",
    "  raise SystemError('GPU device not found')\n",
    "print('Found GPU at: {}'.format(device_name))"
   ]
  },
  {
   "cell_type": "code",
   "execution_count": 7,
   "metadata": {
    "colab": {
     "base_uri": "https://localhost:8080/"
    },
    "id": "cF3-Guo3V73b",
    "outputId": "04669e37-2304-4dc7-87c9-fc90d2f62263"
   },
   "outputs": [
    {
     "name": "stdout",
     "output_type": "stream",
     "text": [
      "1096\n",
      "1096\n",
      "['maps_ds/train_images/277.jpg', 'maps_ds/train_images/678.jpg', 'maps_ds/train_images/943.jpg', 'maps_ds/train_images/448.jpg', 'maps_ds/train_images/579.jpg', 'maps_ds/train_images/817.jpg', 'maps_ds/train_images/860.jpg', 'maps_ds/train_images/806.jpg', 'maps_ds/train_images/340.jpg', 'maps_ds/train_images/253.jpg']\n",
      "['maps_ds/train_mask/277.jpg', 'maps_ds/train_mask/678.jpg', 'maps_ds/train_mask/943.jpg', 'maps_ds/train_mask/448.jpg', 'maps_ds/train_mask/579.jpg', 'maps_ds/train_mask/817.jpg', 'maps_ds/train_mask/860.jpg', 'maps_ds/train_mask/806.jpg', 'maps_ds/train_mask/340.jpg', 'maps_ds/train_mask/253.jpg']\n",
      "1096\n",
      "1096\n"
     ]
    }
   ],
   "source": [
    "import glob\n",
    "all_img_files = glob.glob('maps_ds/train_images/*')\n",
    "all_mask_files = glob.glob('maps_ds/train_mask/*')\n",
    "print(len(all_img_files))\n",
    "print(len(all_mask_files))\n",
    "print(all_img_files[:10])\n",
    "print(all_mask_files[:10])\n",
    "\n",
    "#img = cv2.imread('trainx/X_img_144.bmp', cv2.IMREAD_COLOR)\n",
    "#img.shape\n",
    "\n",
    "#plt.imshow(img[:,:,::-1])\n",
    "\n",
    "img_files = glob.glob('maps_ds/train_images/*')\n",
    "msk_files = glob.glob('maps_ds/train_mask/*')\n",
    "\n",
    "img_files.sort()\n",
    "msk_files.sort()\n",
    "\n",
    "print(len(img_files))\n",
    "print(len(msk_files))\n"
   ]
  },
  {
   "cell_type": "code",
   "execution_count": 8,
   "metadata": {
    "colab": {
     "base_uri": "https://localhost:8080/"
    },
    "id": "1dX4nDiZYOWo",
    "outputId": "b50720bc-fdad-4168-adbb-219ad2a0e08b"
   },
   "outputs": [
    {
     "data": {
      "text/plain": [
       "(600, 600, 3)"
      ]
     },
     "execution_count": 8,
     "metadata": {
      "tags": []
     },
     "output_type": "execute_result"
    }
   ],
   "source": [
    "im = cv2.imread(img_files[0])\n",
    "im.shape"
   ]
  },
  {
   "cell_type": "code",
   "execution_count": 15,
   "metadata": {
    "colab": {
     "base_uri": "https://localhost:8080/"
    },
    "id": "-G_g0R4rXc3I",
    "outputId": "d5fb9a21-8915-45bd-b444-73eb59f25c10"
   },
   "outputs": [
    {
     "name": "stderr",
     "output_type": "stream",
     "text": [
      "100%|██████████| 1096/1096 [00:09<00:00, 116.04it/s]"
     ]
    },
    {
     "name": "stdout",
     "output_type": "stream",
     "text": [
      "1096\n",
      "1096\n"
     ]
    },
    {
     "name": "stderr",
     "output_type": "stream",
     "text": [
      "\n"
     ]
    }
   ],
   "source": [
    "X = []\n",
    "Y = []\n",
    "\n",
    "for img_fl in tqdm(img_files):\n",
    "  #print(img_fl)\n",
    "  #break\n",
    "  img = cv2.imread('{}'.format(img_fl), cv2.IMREAD_COLOR)\n",
    "  resized_img = cv2.resize(img,(256, 256), interpolation = cv2.INTER_CUBIC)\n",
    "  #plt.imshow(resized_img)\n",
    "  #plt.show()\n",
    "  X.append(resized_img)\n",
    "  mask_name = 'maps_ds/train_mask/'+str(img_fl.split('.')[0]).split('/')[-1]+\".jpg\"\n",
    "  #print(\"mn = \",mask_name)\n",
    "  #break\n",
    "  msk = cv2.imread('{}'.format(mask_name), cv2.IMREAD_GRAYSCALE)\n",
    "  resized_msk = cv2.resize(msk,(256, 256), interpolation = cv2.INTER_CUBIC)\n",
    "  #plt.imshow(resized_msk)\n",
    "  Y.append(resized_msk)\n",
    "  #break\n",
    "print(len(X))\n",
    "print(len(Y))"
   ]
  },
  {
   "cell_type": "code",
   "execution_count": 16,
   "metadata": {
    "colab": {
     "base_uri": "https://localhost:8080/"
    },
    "id": "qvPqUUjFYrlG",
    "outputId": "8034890e-463a-4445-9024-aee4352ed22b"
   },
   "outputs": [
    {
     "name": "stdout",
     "output_type": "stream",
     "text": [
      "(876, 256, 256, 3)\n",
      "(876, 256, 256, 1)\n",
      "(220, 256, 256, 3)\n",
      "(220, 256, 256, 1)\n"
     ]
    }
   ],
   "source": [
    "\n",
    "X = np.array(X)\n",
    "Y = np.array(Y)\n",
    "\n",
    "X_train, X_test, Y_train, Y_test = train_test_split(X, Y, test_size=0.2, random_state=3)\n",
    "\n",
    "Y_train = Y_train.reshape((Y_train.shape[0],Y_train.shape[1],Y_train.shape[2],1))\n",
    "Y_test = Y_test.reshape((Y_test.shape[0],Y_test.shape[1],Y_test.shape[2],1))\n",
    "\n",
    "X_train = X_train / 255\n",
    "X_test = X_test / 255\n",
    "Y_train = Y_train / 255\n",
    "Y_test = Y_test / 255\n",
    "\n",
    "Y_train = np.round(Y_train,0)\t\n",
    "Y_test = np.round(Y_test,0)\t\n",
    "\n",
    "print(X_train.shape)\n",
    "print(Y_train.shape)\n",
    "print(X_test.shape)\n",
    "print(Y_test.shape)\n"
   ]
  },
  {
   "cell_type": "code",
   "execution_count": 17,
   "metadata": {
    "id": "8WJZc9MEZSV5"
   },
   "outputs": [],
   "source": [
    "def conv2d_bn(x, filters, num_row, num_col, padding='same', strides=(1, 1), activation='relu', name=None):\n",
    "    '''\n",
    "    2D Convolutional layers\n",
    "\n",
    "    Arguments:\n",
    "        x {keras layer} -- input layer\n",
    "        filters {int} -- number of filters\n",
    "        num_row {int} -- number of rows in filters\n",
    "        num_col {int} -- number of columns in filters\n",
    "\n",
    "    Keyword Arguments:\n",
    "        padding {str} -- mode of padding (default: {'same'})\n",
    "        strides {tuple} -- stride of convolution operation (default: {(1, 1)})\n",
    "        activation {str} -- activation function (default: {'relu'})\n",
    "        name {str} -- name of the layer (default: {None})\n",
    "\n",
    "    Returns:\n",
    "        [keras layer] -- [output layer]\n",
    "    '''\n",
    "\n",
    "    x = Conv2D(filters, (num_row, num_col), strides=strides, padding=padding, use_bias=False)(x)\n",
    "    x = BatchNormalization(axis=3, scale=False)(x)\n",
    "\n",
    "    if(activation == None):\n",
    "        return x\n",
    "\n",
    "    x = Activation(activation, name=name)(x)\n",
    "\n",
    "    return x\n",
    "\n",
    "\n",
    "def trans_conv2d_bn(x, filters, num_row, num_col, padding='same', strides=(2, 2), name=None):\n",
    "    '''\n",
    "    2D Transposed Convolutional layers\n",
    "\n",
    "    Arguments:\n",
    "        x {keras layer} -- input layer\n",
    "        filters {int} -- number of filters\n",
    "        num_row {int} -- number of rows in filters\n",
    "        num_col {int} -- number of columns in filters\n",
    "\n",
    "    Keyword Arguments:\n",
    "        padding {str} -- mode of padding (default: {'same'})\n",
    "        strides {tuple} -- stride of convolution operation (default: {(2, 2)})\n",
    "        name {str} -- name of the layer (default: {None})\n",
    "\n",
    "    Returns:\n",
    "        [keras layer] -- [output layer]\n",
    "    '''\n",
    "\n",
    "    x = Conv2DTranspose(filters, (num_row, num_col), strides=strides, padding=padding)(x)\n",
    "    x = BatchNormalization(axis=3, scale=False)(x)\n",
    "\n",
    "    return x\n",
    "\n",
    "\n",
    "def MultiResBlock(U, inp, alpha = 1.67):\n",
    "    '''\n",
    "    MultiRes Block\n",
    "\n",
    "    Arguments:\n",
    "        U {int} -- Number of filters in a corrsponding UNet stage\n",
    "        inp {keras layer} -- input layer\n",
    "\n",
    "    Returns:\n",
    "        [keras layer] -- [output layer]\n",
    "    '''\n",
    "\n",
    "    W = alpha * U\n",
    "\n",
    "    shortcut = inp\n",
    "\n",
    "    shortcut = conv2d_bn(shortcut, int(W*0.167) + int(W*0.333) +\n",
    "                         int(W*0.5), 1, 1, activation=None, padding='same')\n",
    "\n",
    "    conv3x3 = conv2d_bn(inp, int(W*0.167), 3, 3,\n",
    "                        activation='relu', padding='same')\n",
    "\n",
    "    conv5x5 = conv2d_bn(conv3x3, int(W*0.333), 3, 3,\n",
    "                        activation='relu', padding='same')\n",
    "\n",
    "    conv7x7 = conv2d_bn(conv5x5, int(W*0.5), 3, 3,\n",
    "                        activation='relu', padding='same')\n",
    "\n",
    "    out = concatenate([conv3x3, conv5x5, conv7x7], axis=3)\n",
    "    out = BatchNormalization(axis=3)(out)\n",
    "\n",
    "    out = add([shortcut, out])\n",
    "    out = Activation('relu')(out)\n",
    "    out = BatchNormalization(axis=3)(out)\n",
    "\n",
    "    return out\n",
    "\n",
    "\n",
    "def ResPath(filters, length, inp):\n",
    "    '''\n",
    "    ResPath\n",
    "\n",
    "    Arguments:\n",
    "        filters {int} -- [description]\n",
    "        length {int} -- length of ResPath\n",
    "        inp {keras layer} -- input layer\n",
    "\n",
    "    Returns:\n",
    "        [keras layer] -- [output layer]\n",
    "    '''\n",
    "\n",
    "\n",
    "    shortcut = inp\n",
    "    shortcut = conv2d_bn(shortcut, filters, 1, 1,\n",
    "                         activation=None, padding='same')\n",
    "\n",
    "    out = conv2d_bn(inp, filters, 3, 3, activation='relu', padding='same')\n",
    "\n",
    "    out = add([shortcut, out])\n",
    "    out = Activation('relu')(out)\n",
    "    out = BatchNormalization(axis=3)(out)\n",
    "\n",
    "    for i in range(length-1):\n",
    "\n",
    "        shortcut = out\n",
    "        shortcut = conv2d_bn(shortcut, filters, 1, 1,\n",
    "                             activation=None, padding='same')\n",
    "\n",
    "        out = conv2d_bn(out, filters, 3, 3, activation='relu', padding='same')\n",
    "\n",
    "        out = add([shortcut, out])\n",
    "        out = Activation('relu')(out)\n",
    "        out = BatchNormalization(axis=3)(out)\n",
    "\n",
    "    return out\n",
    "\n",
    "\n",
    "def MultiResUnet(height, width, n_channels):\n",
    "    '''\n",
    "    MultiResUNet\n",
    "\n",
    "    Arguments:\n",
    "        height {int} -- height of image\n",
    "        width {int} -- width of image\n",
    "        n_channels {int} -- number of channels in image\n",
    "\n",
    "    Returns:\n",
    "        [keras model] -- MultiResUNet model\n",
    "    '''\n",
    "\n",
    "\n",
    "    inputs = Input((height, width, n_channels))\n",
    "\n",
    "    mresblock1 = MultiResBlock(32, inputs)\n",
    "    pool1 = MaxPooling2D(pool_size=(2, 2))(mresblock1)\n",
    "    mresblock1 = ResPath(32, 4, mresblock1)\n",
    "\n",
    "    mresblock2 = MultiResBlock(32*2, pool1)\n",
    "    pool2 = MaxPooling2D(pool_size=(2, 2))(mresblock2)\n",
    "    mresblock2 = ResPath(32*2, 3, mresblock2)\n",
    "\n",
    "    mresblock3 = MultiResBlock(32*4, pool2)\n",
    "    pool3 = MaxPooling2D(pool_size=(2, 2))(mresblock3)\n",
    "    mresblock3 = ResPath(32*4, 2, mresblock3)\n",
    "\n",
    "    mresblock4 = MultiResBlock(32*8, pool3)\n",
    "    pool4 = MaxPooling2D(pool_size=(2, 2))(mresblock4)\n",
    "    mresblock4 = ResPath(32*8, 1, mresblock4)\n",
    "\n",
    "    mresblock5 = MultiResBlock(32*16, pool4)\n",
    "\n",
    "    up6 = concatenate([Conv2DTranspose(\n",
    "        32*8, (2, 2), strides=(2, 2), padding='same')(mresblock5), mresblock4], axis=3)\n",
    "    mresblock6 = MultiResBlock(32*8, up6)\n",
    "\n",
    "    up7 = concatenate([Conv2DTranspose(\n",
    "        32*4, (2, 2), strides=(2, 2), padding='same')(mresblock6), mresblock3], axis=3)\n",
    "    mresblock7 = MultiResBlock(32*4, up7)\n",
    "\n",
    "    up8 = concatenate([Conv2DTranspose(\n",
    "        32*2, (2, 2), strides=(2, 2), padding='same')(mresblock7), mresblock2], axis=3)\n",
    "    mresblock8 = MultiResBlock(32*2, up8)\n",
    "\n",
    "    up9 = concatenate([Conv2DTranspose(32, (2, 2), strides=(\n",
    "        2, 2), padding='same')(mresblock8), mresblock1], axis=3)\n",
    "    mresblock9 = MultiResBlock(32, up9)\n",
    "\n",
    "    conv10 = conv2d_bn(mresblock9, 1, 1, 1, activation='sigmoid')\n",
    "\n",
    "    model = Model(inputs=[inputs], outputs=[conv10])\n",
    "\n",
    "    return model"
   ]
  },
  {
   "cell_type": "code",
   "execution_count": 18,
   "metadata": {
    "id": "PzyLscnMZWLg"
   },
   "outputs": [],
   "source": [
    "def dice_coef(y_true, y_pred):\n",
    "    smooth = 0.0\n",
    "    y_true_f = K.flatten(y_true)\n",
    "    y_pred_f = K.flatten(y_pred)\n",
    "    intersection = K.sum(y_true_f * y_pred_f)\n",
    "    return (2. * intersection + smooth) / (K.sum(y_true_f) + K.sum(y_pred_f) + smooth)\n",
    "\n",
    "def jacard(y_true, y_pred):\n",
    "\n",
    "    y_true_f = K.flatten(y_true)\n",
    "    y_pred_f = K.flatten(y_pred)\n",
    "    intersection = K.sum ( y_true_f * y_pred_f)\n",
    "    union = K.sum ( y_true_f + y_pred_f - y_true_f * y_pred_f)\n",
    "\n",
    "    return intersection/union\n",
    "\n",
    "def saveModel(model):\n",
    "\n",
    "    model_json = model.to_json()\n",
    "\n",
    "    try:\n",
    "        os.makedirs('models')\n",
    "    except:\n",
    "        pass\n",
    "\n",
    "    fp = open('models/MultiResUNET_pix2pix.json','w')\n",
    "    fp.write(model_json)\n",
    "    model.save_weights('models/MultiResUNET_pix2pix.h5')"
   ]
  },
  {
   "cell_type": "code",
   "execution_count": 19,
   "metadata": {
    "id": "lWxLQkuJZa6l"
   },
   "outputs": [],
   "source": [
    "jaccard_index_list = []\n",
    "dice_coeff_list = []\n",
    "\n",
    "def evaluateModel(model, X_test, Y_test, batchSize):\n",
    "\n",
    "    try:\n",
    "        os.makedirs('results')\n",
    "    except:\n",
    "        pass\n",
    "\n",
    "\n",
    "    yp = model.predict(x=X_test, batch_size=batchSize, verbose=1)\n",
    "\n",
    "    yp = np.round(yp,0)\n",
    "\n",
    "    for i in range(10):\n",
    "\n",
    "        plt.figure(figsize=(20,10))\n",
    "        plt.subplot(1,3,1)\n",
    "        plt.imshow(X_test[i])\n",
    "        plt.title('Input')\n",
    "        plt.subplot(1,3,2)\n",
    "        plt.imshow(Y_test[i].reshape(Y_test[i].shape[0],Y_test[i].shape[1]))\n",
    "        plt.title('Ground Truth')\n",
    "        plt.subplot(1,3,3)\n",
    "        plt.imshow(yp[i].reshape(yp[i].shape[0],yp[i].shape[1]))\n",
    "        plt.title('Prediction')\n",
    "\n",
    "        intersection = yp[i].ravel() * Y_test[i].ravel()\n",
    "        union = yp[i].ravel() + Y_test[i].ravel() - intersection\n",
    "\n",
    "        jacard = (np.sum(intersection)/np.sum(union))\n",
    "        plt.suptitle('Jacard Index'+ str(np.sum(intersection)) +'/'+ str(np.sum(union)) +'='+str(jacard))\n",
    "\n",
    "        plt.savefig('results/'+str(i)+'.png',format='png')\n",
    "        plt.close()\n",
    "\n",
    "\n",
    "    jacard = 0\n",
    "    dice = 0\n",
    "\n",
    "\n",
    "    for i in range(len(Y_test)):\n",
    "        yp_2 = yp[i].ravel()\n",
    "        y2 = Y_test[i].ravel()\n",
    "\n",
    "        intersection = yp_2 * y2\n",
    "        union = yp_2 + y2 - intersection\n",
    "\n",
    "        jacard += (np.sum(intersection)/np.sum(union))\n",
    "\n",
    "        dice += (2. * np.sum(intersection) ) / (np.sum(yp_2) + np.sum(y2))\n",
    "\n",
    "\n",
    "    jacard /= len(Y_test)\n",
    "    dice /= len(Y_test)\n",
    "\n",
    "\n",
    "\n",
    "    print('Jacard Index : '+str(jacard))\n",
    "    print('Dice Coefficient : '+str(dice))\n",
    "\n",
    "    jaccard_index_list.append(jacard)\n",
    "    dice_coeff_list.append(dice)\n",
    "    fp = open('models/log.txt','a')\n",
    "    fp.write(str(jacard)+'\\n')\n",
    "    fp.close()\n",
    "\n",
    "    fp = open('models/best.txt','r')\n",
    "    best = fp.read()\n",
    "    fp.close()\n",
    "\n",
    "    if(jacard>float(best)):\n",
    "        print('***********************************************')\n",
    "        print('Jacard Index improved from '+str(best)+' to '+str(jacard))\n",
    "        print('***********************************************')\n",
    "        fp = open('models/best.txt','w')\n",
    "        fp.write(str(jacard))\n",
    "        fp.close()\n",
    "\n",
    "        saveModel(model)"
   ]
  },
  {
   "cell_type": "code",
   "execution_count": 20,
   "metadata": {
    "colab": {
     "base_uri": "https://localhost:8080/"
    },
    "id": "IMDpo0ChZdE8",
    "outputId": "c3094ac0-393c-4f5c-9af7-7f8d4b1cee63"
   },
   "outputs": [
    {
     "name": "stdout",
     "output_type": "stream",
     "text": [
      "Epoch 1/10\n",
      "438/438 [==============================] - 43s 97ms/step - loss: 0.5375 - dice_coef: 0.3547 - jacard: 0.2206 - recall: 0.7076 - precision: 0.4600 - accuracy: 0.8113\n",
      "Epoch 2/10\n",
      "438/438 [==============================] - 42s 97ms/step - loss: 0.3984 - dice_coef: 0.4135 - jacard: 0.2656 - recall: 0.7443 - precision: 0.6800 - accuracy: 0.8982\n",
      "Epoch 3/10\n",
      "438/438 [==============================] - 42s 97ms/step - loss: 0.3323 - dice_coef: 0.4423 - jacard: 0.2888 - recall: 0.7378 - precision: 0.7587 - accuracy: 0.9165\n",
      "Epoch 4/10\n",
      "438/438 [==============================] - 42s 97ms/step - loss: 0.2953 - dice_coef: 0.4535 - jacard: 0.2987 - recall: 0.7164 - precision: 0.8090 - accuracy: 0.9239\n",
      "Epoch 5/10\n",
      "438/438 [==============================] - 42s 97ms/step - loss: 0.2709 - dice_coef: 0.4652 - jacard: 0.3080 - recall: 0.6968 - precision: 0.8482 - accuracy: 0.9281\n",
      "Epoch 6/10\n",
      "438/438 [==============================] - 43s 97ms/step - loss: 0.2554 - dice_coef: 0.4737 - jacard: 0.3146 - recall: 0.6791 - precision: 0.8740 - accuracy: 0.9296\n",
      "Epoch 7/10\n",
      "438/438 [==============================] - 42s 97ms/step - loss: 0.2440 - dice_coef: 0.4842 - jacard: 0.3218 - recall: 0.6602 - precision: 0.8972 - accuracy: 0.9302\n",
      "Epoch 8/10\n",
      "438/438 [==============================] - 43s 97ms/step - loss: 0.2415 - dice_coef: 0.4768 - jacard: 0.3168 - recall: 0.6297 - precision: 0.9043 - accuracy: 0.9266\n",
      "Epoch 9/10\n",
      "438/438 [==============================] - 43s 97ms/step - loss: 0.2373 - dice_coef: 0.4789 - jacard: 0.3184 - recall: 0.6132 - precision: 0.9163 - accuracy: 0.9256\n",
      "Epoch 10/10\n",
      "438/438 [==============================] - 42s 97ms/step - loss: 0.2310 - dice_coef: 0.4889 - jacard: 0.3256 - recall: 0.6009 - precision: 0.9268 - accuracy: 0.9250\n",
      "  1/110 [..............................] - ETA: 0sWARNING:tensorflow:Callbacks method `on_predict_batch_end` is slow compared to the batch time (batch time: 0.0060s vs `on_predict_batch_end` time: 0.0140s). Check your callbacks.\n",
      "110/110 [==============================] - 2s 19ms/step\n",
      "Jacard Index : nan\n",
      "Dice Coefficient : nan\n"
     ]
    },
    {
     "name": "stderr",
     "output_type": "stream",
     "text": [
      "/usr/local/lib/python3.6/dist-packages/ipykernel_launcher.py:50: RuntimeWarning: invalid value encountered in double_scalars\n",
      "/usr/local/lib/python3.6/dist-packages/ipykernel_launcher.py:52: RuntimeWarning: invalid value encountered in double_scalars\n"
     ]
    },
    {
     "data": {
      "text/plain": [
       "<tensorflow.python.keras.engine.functional.Functional at 0x7f1ac3bca9b0>"
      ]
     },
     "execution_count": 20,
     "metadata": {
      "tags": []
     },
     "output_type": "execute_result"
    }
   ],
   "source": [
    "from tensorflow.keras.metrics import Recall, Precision\n",
    "import json \n",
    "\n",
    "def trainStep(model, X_train, Y_train, X_test, Y_test, epochs, batchSize):\n",
    "    epochs = 10\n",
    "    #for epoch in range(epochs):\n",
    "    #print('Epoch : {}'.format(epoch+1))\n",
    "    history = model.fit(x=X_train, y=Y_train, batch_size=batchSize, epochs=epochs, verbose=1)\n",
    "\n",
    "    # convert the history.history dict to a pandas DataFrame:\n",
    "    hist_df = pd.DataFrame(history.history)\n",
    "\n",
    "    \n",
    "\n",
    "    # save to json:\n",
    "    hist_json_file = 'history.json'\n",
    "    # with open(hist_json_file, 'a') as out:\n",
    "    #     out.write(hist_df.to_json())\n",
    "    #     out.write(\",\")\n",
    "    #     out.close()\n",
    "\n",
    "    with open(hist_json_file, mode='w') as f:\n",
    "       hist_df.to_json(f)\n",
    "\n",
    "    # or save to csv:\n",
    "    hist_csv_file = 'history.csv'\n",
    "    # with open(hist_csv_file, 'a') as out:\n",
    "    #     out.write(str(hist_df.to_csv()))\n",
    "    #     out.write(\",\")\n",
    "    #     out.close()\n",
    "\n",
    "\n",
    "    with open(hist_csv_file, mode='w') as f:\n",
    "        hist_df.to_csv(f)\n",
    "\n",
    "    evaluateModel(model,X_test, Y_test,batchSize)\n",
    "\n",
    "    return model\n",
    "\n",
    "model = MultiResUnet(height=256, width=256, n_channels=3)\n",
    "\n",
    "model.compile(optimizer='adam', loss='binary_crossentropy', metrics=[dice_coef, jacard, Recall(), Precision() ,'accuracy'])\n",
    "\n",
    "saveModel(model)\n",
    "\n",
    "fp = open('models/log.txt','w')\n",
    "fp.close()\n",
    "fp = open('models/best.txt','w')\n",
    "fp.write('-1.0')\n",
    "fp.close()\n",
    "\n",
    "trainStep(model, X_train, Y_train, X_test, Y_test, epochs=150, batchSize=2)"
   ]
  },
  {
   "cell_type": "code",
   "execution_count": 2,
   "metadata": {
    "colab": {
     "base_uri": "https://localhost:8080/"
    },
    "id": "SqMupfxqZfPD",
    "outputId": "087b927c-2321-4cc5-f892-9c88ec4474fa"
   },
   "outputs": [
    {
     "name": "stdout",
     "output_type": "stream",
     "text": [
      "{'loss': {'0': 0.5335230231, '1': 0.3991799057, '2': 0.3345515728, '3': 0.2932572961, '4': 0.2689546645, '5': 0.2550420463, '6': 0.2467433065, '7': 0.2406571805, '8': 0.2393748015, '9': 0.2342337221, '10': 0.2317189127, '11': 0.2279891074, '12': 0.2270077616, '13': 0.2241863757, '14': 0.2181706876, '15': 0.2206083983, '16': 0.2179362327, '17': 0.2170840204, '18': 0.2131423205, '19': 0.2119117677, '20': 0.213387683, '21': 0.2111298591, '22': 0.2122603953, '23': 0.2074675411, '24': 0.2067878097, '25': 0.2049517184, '26': 0.2042030841, '27': 0.2079615593, '28': 0.2069806606, '29': 0.2016527951, '30': 0.2056353539, '31': 0.2021468729, '32': 0.2011162937, '33': 0.2049513161, '34': 0.2017790973, '35': 0.1996597946, '36': 0.1995780319, '37': 0.198243022, '38': 0.1990985572, '39': 0.1982601881, '40': 0.1975163966, '41': 0.201894328, '42': 0.1991851479, '43': 0.1991085708, '44': 0.1968497485, '45': 0.1982886046, '46': 0.1985361874, '47': 0.1947202832, '48': 0.199426055, '49': 0.2005545497, '50': 0.1970066279, '51': 0.1941236258, '52': 0.1956818253, '53': 0.1973188221, '54': 0.194520697, '55': 0.1961947531, '56': 0.1931230873, '57': 0.1948143542, '58': 0.1931550056, '59': 0.1939496398, '60': 0.1941897422, '61': 0.1933315396, '62': 0.1962801218, '63': 0.1955629438, '64': 0.1927223504, '65': 0.1917331815, '66': 0.1925774366, '67': 0.1914228648, '68': 0.1927118897, '69': 0.1920728832, '70': 0.1939018816, '71': 0.1928064674, '72': 0.1925630122, '73': 0.1956360936, '74': 0.1928438544, '75': 0.1924069673, '76': 0.1943632513, '77': 0.1910374612, '78': 0.19209373, '79': 0.1914016902, '80': 0.1916767806, '81': 0.1913084239, '82': 0.1907940656, '83': 0.1950439066, '84': 0.1906235069, '85': 0.1902880669, '86': 0.1904343963, '87': 0.1905074865, '88': 0.190420717, '89': 0.1899799407, '90': 0.1910582781, '91': 0.193795085, '92': 0.1929297596, '93': 0.1899054199, '94': 0.1903756261, '95': 0.1901267469, '96': 0.1906731129, '97': 0.1925999671, '98': 0.1897615194, '99': 0.1937391758, '100': 0.1905302405, '101': 0.190845266, '102': 0.1903609037, '103': 0.1924852878, '104': 0.1902275681, '105': 0.1908928156, '106': 0.1897105724, '107': 0.1894206703, '108': 0.1890580803, '109': 0.1900872588, '110': 0.1904477477, '111': 0.1925839335, '112': 0.1895730048, '113': 0.1894876957, '114': 0.1897955835, '115': 0.1885015965, '116': 0.1889639199, '117': 0.1894352883, '118': 0.1887739003, '119': 0.1883325577, '120': 0.1902121305, '121': 0.1880475283, '122': 0.1892955601, '123': 0.1899193227, '124': 0.1894968003, '125': 0.1885731667, '126': 0.1906064153, '127': 0.186742425, '128': 0.1913894713, '129': 0.1882211417, '130': 0.1888531893, '131': 0.1875087321, '132': 0.1867393404, '133': 0.1889819801, '134': 0.1897744536, '135': 0.1885929406, '136': 0.1883828044, '137': 0.1894526482, '138': 0.1877299398, '139': 0.1886299551, '140': 0.1884970665, '141': 0.1891597211, '142': 0.1881217211, '143': 0.1907465309, '144': 0.1885311306, '145': 0.1880814433, '146': 0.1882258207, '147': 0.1884483397, '148': 0.1867034584, '149': 0.1872683764}, 'dice_coef': {'0': 0.3574467897, '1': 0.4123926461, '2': 0.4385000765, '3': 0.4566901922, '4': 0.4686557651, '5': 0.4738893211, '6': 0.4752441943, '7': 0.4771954119, '8': 0.4730632603, '9': 0.4811131656, '10': 0.4830732942, '11': 0.4863270223, '12': 0.4840236604, '13': 0.4898237884, '14': 0.5048441291, '15': 0.4969621897, '16': 0.5014661551, '17': 0.500226438, '18': 0.5096819997, '19': 0.5112244487, '20': 0.5056467652, '21': 0.5089176297, '22': 0.5037800074, '23': 0.5142353177, '24': 0.5138942003, '25': 0.5182201266, '26': 0.5170866251, '27': 0.5131705403, '28': 0.5117045641, '29': 0.5247628093, '30': 0.5144747496, '31': 0.5212504268, '32': 0.5200567245, '33': 0.5153977275, '34': 0.5199586749, '35': 0.5230492353, '36': 0.5238345265, '37': 0.523870647, '38': 0.5219001174, '39': 0.5266361237, '40': 0.5276043415, '41': 0.5199244618, '42': 0.5199462175, '43': 0.5214236379, '44': 0.5258379579, '45': 0.5225334764, '46': 0.525157094, '47': 0.5322024226, '48': 0.5181292892, '49': 0.5200386047, '50': 0.524486661, '51': 0.5333194733, '52': 0.529291153, '53': 0.5271652341, '54': 0.5306148529, '55': 0.5248158574, '56': 0.5335477591, '57': 0.529810071, '58': 0.5335263014, '59': 0.5323311687, '60': 0.5304518342, '61': 0.5324144959, '62': 0.5290949941, '63': 0.526687324, '64': 0.5337164402, '65': 0.5367882252, '66': 0.5307147503, '67': 0.5380239487, '68': 0.5317685604, '69': 0.5349901319, '70': 0.5281177163, '71': 0.5341163278, '72': 0.5323489904, '73': 0.5260832906, '74': 0.5308902264, '75': 0.5308904052, '76': 0.5287522078, '77': 0.5383147001, '78': 0.5330840945, '79': 0.5331173539, '80': 0.5333940983, '81': 0.5349596739, '82': 0.5390388966, '83': 0.5292904377, '84': 0.5367752314, '85': 0.5355129242, '86': 0.5372187495, '87': 0.53738904, '88': 0.5354909897, '89': 0.5391080379, '90': 0.5361735821, '91': 0.5304303765, '92': 0.5319212675, '93': 0.5358380675, '94': 0.533680141, '95': 0.5363811851, '96': 0.5331848264, '97': 0.5229483843, '98': 0.5382288694, '99': 0.527367115, '100': 0.5328342319, '101': 0.532486856, '102': 0.534363389, '103': 0.5296939015, '104': 0.5367904902, '105': 0.530497849, '106': 0.5380316377, '107': 0.536831677, '108': 0.5368157625, '109': 0.536544323, '110': 0.5337795615, '111': 0.5356809497, '112': 0.5375183821, '113': 0.536372602, '114': 0.5357908607, '115': 0.5383947492, '116': 0.535499692, '117': 0.5337409377, '118': 0.5383744836, '119': 0.5408504009, '120': 0.5352134705, '121': 0.5409125686, '122': 0.5354138613, '123': 0.5362637043, '124': 0.5367067456, '125': 0.5381727815, '126': 0.5283352733, '127': 0.5477762222, '128': 0.5348680019, '129': 0.5406833291, '130': 0.5337293148, '131': 0.5401484966, '132': 0.5436220765, '133': 0.5385243893, '134': 0.5325314403, '135': 0.538295567, '136': 0.5371912718, '137': 0.5355014801, '138': 0.5428327322, '139': 0.5375877023, '140': 0.538325429, '141': 0.5374206901, '142': 0.5385864377, '143': 0.533621788, '144': 0.5376534462, '145': 0.5367099047, '146': 0.5376362205, '147': 0.5377355218, '148': 0.5423726439, '149': 0.5409767628}, 'jacard': {'0': 0.222374931, '1': 0.2651368976, '2': 0.2866058946, '3': 0.3009305, '4': 0.3099618554, '5': 0.3144541979, '6': 0.315391928, '7': 0.3171753883, '8': 0.3141108453, '9': 0.3197113574, '10': 0.3213077486, '11': 0.3244170547, '12': 0.3232349157, '13': 0.3279103637, '14': 0.3391701579, '15': 0.333363086, '16': 0.3372016847, '17': 0.3365157545, '18': 0.3442819715, '19': 0.3454279006, '20': 0.3413674235, '21': 0.3441051245, '22': 0.3402753174, '23': 0.3490196466, '24': 0.3485602736, '25': 0.3523955941, '26': 0.3517754972, '27': 0.3484036028, '28': 0.3473799229, '29': 0.3575552106, '30': 0.3499052227, '31': 0.3549788892, '32': 0.3546724021, '33': 0.3508148491, '34': 0.3546825647, '35': 0.3571266234, '36': 0.3579518199, '37': 0.3583560288, '38': 0.3564217985, '39': 0.3599351943, '40': 0.3612873852, '41': 0.3545622528, '42': 0.3557398915, '43': 0.3565011621, '44': 0.360177815, '45': 0.3574100435, '46': 0.3592500985, '47': 0.3648611903, '48': 0.353761673, '49': 0.355479002, '50': 0.3596671522, '51': 0.3656620681, '52': 0.3626728356, '53': 0.3605777025, '54': 0.3643778861, '55': 0.3596026301, '56': 0.3666605353, '57': 0.3634530008, '58': 0.3665700853, '59': 0.3654213548, '60': 0.3636828959, '61': 0.3656350374, '62': 0.3623559773, '63': 0.3611519933, '64': 0.3667899072, '65': 0.3686626554, '66': 0.3651424348, '67': 0.37015149, '68': 0.3655333519, '69': 0.3677771688, '70': 0.3622751236, '71': 0.3669465184, '72': 0.3657984138, '73': 0.3609769642, '74': 0.3647520542, '75': 0.3647135794, '76': 0.3629009426, '77': 0.3702864647, '78': 0.3666231036, '79': 0.3669428229, '80': 0.3671302497, '81': 0.3682560921, '82': 0.370734781, '83': 0.3627052903, '84': 0.3695677221, '85': 0.36890167, '86': 0.3700813949, '87': 0.3700283766, '88': 0.368704319, '89': 0.3711716533, '90': 0.3688117266, '91': 0.3645120859, '92': 0.3654884696, '93': 0.3693342805, '94': 0.3675284684, '95': 0.369364351, '96': 0.3672383726, '97': 0.3599958122, '98': 0.3706095517, '99': 0.3620794415, '100': 0.3670377731, '101': 0.36666134, '102': 0.368011266, '103': 0.3643531203, '104': 0.3692750037, '105': 0.36521703, '106': 0.370640099, '107': 0.3703686893, '108': 0.3701340258, '109': 0.3693730831, '110': 0.3678951561, '111': 0.3679211736, '112': 0.3700892031, '113': 0.3696033359, '114': 0.3692632318, '115': 0.371137917, '116': 0.3689366877, '117': 0.3680428267, '118': 0.371239543, '119': 0.3732068837, '120': 0.3685956299, '121': 0.3726487458, '122': 0.3688191473, '123': 0.3695147932, '124': 0.3698998988, '125': 0.3711389601, '126': 0.3641809821, '127': 0.3782050312, '128': 0.3680377007, '129': 0.3725307584, '130': 0.3681578934, '131': 0.3727701008, '132': 0.375680685, '133': 0.3708463013, '134': 0.367369771, '135': 0.3711309135, '136': 0.370567292, '137': 0.3691841066, '138': 0.374483645, '139': 0.3703654408, '140': 0.3713768125, '141': 0.3702267408, '142': 0.3714065552, '143': 0.3678289652, '144': 0.3708741367, '145': 0.3703255355, '146': 0.370757103, '147': 0.3707850277, '148': 0.3746113777, '149': 0.3735773563}, 'recall': {'0': 0.7075142264, '1': 0.7449910045, '2': 0.7327282429, '3': 0.7151579857, '4': 0.6950976849, '5': 0.6728534102, '6': 0.645554781, '7': 0.624276638, '8': 0.5861672759, '9': 0.5855554938, '10': 0.5802433491, '11': 0.5860409141, '12': 0.5739709735, '13': 0.5805854201, '14': 0.6123034954, '15': 0.5993728042, '16': 0.5913475156, '17': 0.6044036746, '18': 0.5949575305, '19': 0.6019440889, '20': 0.6182722449, '21': 0.6105184555, '22': 0.5899451375, '23': 0.6102669835, '24': 0.6263414621, '25': 0.620922029, '26': 0.6261389256, '27': 0.6199815273, '28': 0.6032651067, '29': 0.6389544606, '30': 0.6276038289, '31': 0.6151804924, '32': 0.6256797314, '33': 0.6028171182, '34': 0.6270592213, '35': 0.6412308812, '36': 0.6228170395, '37': 0.6521714926, '38': 0.6404562593, '39': 0.6395349503, '40': 0.6579679847, '41': 0.6464169025, '42': 0.6192530394, '43': 0.6109408736, '44': 0.6420036554, '45': 0.6283848882, '46': 0.6295240521, '47': 0.6324159503, '48': 0.6446359754, '49': 0.628441155, '50': 0.6501438618, '51': 0.6411104202, '52': 0.6210963726, '53': 0.6463195682, '54': 0.673977077, '55': 0.6476271152, '56': 0.6690055132, '57': 0.6201633811, '58': 0.6399662495, '59': 0.6350880861, '60': 0.6486847997, '61': 0.6592276096, '62': 0.6293799877, '63': 0.6613621712, '64': 0.6454699039, '65': 0.62722826, '66': 0.6693543792, '67': 0.658141911, '68': 0.6419453025, '69': 0.6213619113, '70': 0.6131685972, '71': 0.6277818084, '72': 0.6433438063, '73': 0.6344485283, '74': 0.6359395385, '75': 0.6368200183, '76': 0.6334160566, '77': 0.6515543461, '78': 0.6156280041, '79': 0.6410729289, '80': 0.6593557, '81': 0.6083939075, '82': 0.6479076147, '83': 0.632258296, '84': 0.6393787265, '85': 0.6467052102, '86': 0.6424178481, '87': 0.6335440278, '88': 0.6692905426, '89': 0.6450226307, '90': 0.6442188621, '91': 0.63707304, '92': 0.6477584243, '93': 0.6623388529, '94': 0.6514582634, '95': 0.6438855529, '96': 0.6458941698, '97': 0.6377869248, '98': 0.6677226424, '99': 0.6259299517, '100': 0.6525341868, '101': 0.6463127136, '102': 0.6556023359, '103': 0.6419308782, '104': 0.6352075934, '105': 0.6367380023, '106': 0.62045151, '107': 0.6415992975, '108': 0.6333453059, '109': 0.6584976315, '110': 0.642431438, '111': 0.6375413537, '112': 0.6235463023, '113': 0.6630823612, '114': 0.6709386706, '115': 0.6618468761, '116': 0.6388956904, '117': 0.6549218297, '118': 0.6397507787, '119': 0.6225308776, '120': 0.629696846, '121': 0.6275027394, '122': 0.6493347287, '123': 0.6358674169, '124': 0.6501856446, '125': 0.653643012, '126': 0.6210958362, '127': 0.6514768004, '128': 0.6425102949, '129': 0.6580120325, '130': 0.6283404827, '131': 0.6828321218, '132': 0.6339192986, '133': 0.6210021377, '134': 0.6192753315, '135': 0.6374842525, '136': 0.6595376134, '137': 0.6107222438, '138': 0.6438062191, '139': 0.6638954282, '140': 0.6373289227, '141': 0.6208298802, '142': 0.6425942779, '143': 0.6285759807, '144': 0.6706641316, '145': 0.6473575234, '146': 0.6360552311, '147': 0.615435183, '148': 0.653090179, '149': 0.6399459839}, 'precision': {'0': 0.4735713601, '1': 0.6747335196, '2': 0.7531901598, '3': 0.8156318069, '4': 0.8531113863, '5': 0.877756536, '6': 0.8987463713, '7': 0.9099091291, '8': 0.9168741107, '9': 0.9272409678, '10': 0.9322238564, '11': 0.9385872483, '12': 0.9402838945, '13': 0.9457069635, '14': 0.9497392178, '15': 0.9458737373, '16': 0.9486368895, '17': 0.9537881613, '18': 0.9542949796, '19': 0.9579893351, '20': 0.9569345117, '21': 0.9612252712, '22': 0.9605292678, '23': 0.9663621783, '24': 0.9697605371, '25': 0.9692680836, '26': 0.9719316363, '27': 0.9641588926, '28': 0.967592001, '29': 0.9738751054, '30': 0.9679303765, '31': 0.9740722775, '32': 0.9773564935, '33': 0.9679378271, '34': 0.9725443721, '35': 0.976993084, '36': 0.9771826267, '37': 0.9805578589, '38': 0.9807162881, '39': 0.9794364572, '40': 0.978167057, '41': 0.9743475914, '42': 0.9807816744, '43': 0.9799608588, '44': 0.9823275208, '45': 0.9808924794, '46': 0.9797506332, '47': 0.9836891294, '48': 0.9800258875, '49': 0.9732360244, '50': 0.9823619723, '51': 0.9841469526, '52': 0.9822047353, '53': 0.9793983102, '54': 0.9843162894, '55': 0.9832999706, '56': 0.9852371812, '57': 0.9836441875, '58': 0.9853553176, '59': 0.9844962955, '60': 0.985427022, '61': 0.9854038358, '62': 0.981220603, '63': 0.9844369888, '64': 0.9857437015, '65': 0.9869200587, '66': 0.9875263572, '67': 0.9865343571, '68': 0.9867723584, '69': 0.9866095185, '70': 0.985401392, '71': 0.9854420424, '72': 0.9869275093, '73': 0.983060956, '74': 0.9870736003, '75': 0.987950623, '76': 0.9851279855, '77': 0.9872125983, '78': 0.9874597192, '79': 0.9874866009, '80': 0.9879907966, '81': 0.9870850444, '82': 0.987723887, '83': 0.9831650853, '84': 0.9879520535, '85': 0.9890013337, '86': 0.9891623855, '87': 0.9882542491, '88': 0.9890089631, '89': 0.9884855151, '90': 0.9871123433, '91': 0.9829306602, '92': 0.9861570597, '93': 0.9897438884, '94': 0.9898465276, '95': 0.9896455407, '96': 0.9883398414, '97': 0.9894008636, '98': 0.9894608855, '99': 0.9859299064, '100': 0.9893032312, '101': 0.9897192121, '102': 0.9896374345, '103': 0.9877655506, '104': 0.9894427657, '105': 0.990639329, '106': 0.9895983934, '107': 0.9899740219, '108': 0.9899713993, '109': 0.9899811149, '110': 0.9872671962, '111': 0.9857410192, '112': 0.9903829694, '113': 0.9897037148, '114': 0.9895374775, '115': 0.99120754, '116': 0.9913540483, '117': 0.9914575219, '118': 0.9907338619, '119': 0.9900407791, '120': 0.9890530705, '121': 0.9906378984, '122': 0.9911774397, '123': 0.9871793985, '124': 0.9903707504, '125': 0.991129756, '126': 0.9912993312, '127': 0.9906076789, '128': 0.9860329032, '129': 0.9909608364, '130': 0.9918330312, '131': 0.9917260408, '132': 0.9911394119, '133': 0.9908948541, '134': 0.9908782244, '135': 0.9913687706, '136': 0.9914344549, '137': 0.9907141924, '138': 0.9911226034, '139': 0.9917802215, '140': 0.9914398789, '141': 0.9901897311, '142': 0.9916926622, '143': 0.9878746867, '144': 0.9908370972, '145': 0.9921321869, '146': 0.9922920465, '147': 0.99176687, '148': 0.992343545, '149': 0.9919966459}, 'accuracy': {'0': 0.8186875582, '1': 0.8967977762, '2': 0.9147388935, '3': 0.9249693751, '4': 0.9286523461, '5': 0.9292789102, '6': 0.9282166362, '7': 0.9264761209, '8': 0.9215282202, '9': 0.9226348996, '10': 0.9223738909, '11': 0.9239929318, '12': 0.922283411, '13': 0.9239191413, '14': 0.929404974, '15': 0.9269144535, '16': 0.9259488583, '17': 0.9286019802, '18': 0.9271475673, '19': 0.928674221, '20': 0.9311781526, '21': 0.9304122329, '22': 0.9270193577, '23': 0.9309388399, '24': 0.9339270592, '25': 0.9329903722, '26': 0.9341365695, '27': 0.9322677255, '28': 0.9299368858, '29': 0.9364483356, '30': 0.9339274764, '31': 0.9325823784, '32': 0.9346622825, '33': 0.929900825, '34': 0.9343553782, '35': 0.9371743202, '36': 0.9341726899, '37': 0.9393771887, '38': 0.9374649525, '39': 0.9371700883, '40': 0.9400562048, '41': 0.9377235174, '42': 0.933979094, '43': 0.9325221777, '44': 0.9379000664, '45': 0.9354958534, '46': 0.9355575442, '47': 0.9364681244, '48': 0.9380757213, '49': 0.9346581101, '50': 0.939248085, '51': 0.9379557967, '52': 0.9344364405, '53': 0.9382821918, '54': 0.9434099793, '55': 0.9389380813, '56': 0.9426943064, '57': 0.9344387054, '58': 0.9379006028, '59': 0.9369983673, '60': 0.9393516183, '61': 0.9410948753, '62': 0.9356955886, '63': 0.9413372874, '64': 0.9388552904, '65': 0.9359614849, '66': 0.9430165887, '67': 0.9410440922, '68': 0.9383854866, '69': 0.9349552393, '70': 0.9334692955, '71': 0.9358927608, '72': 0.9386344552, '73': 0.9367345572, '74': 0.937422514, '75': 0.9376648664, '76': 0.9367916584, '77': 0.9400277734, '78': 0.9340949655, '79': 0.9383194447, '80': 0.9414100051, '81': 0.9328554273, '82': 0.9394798875, '83': 0.9363844991, '84': 0.9380900264, '85': 0.9394223094, '86': 0.9387282133, '87': 0.9371545315, '88': 0.9431765079, '89': 0.9390858412, '90': 0.9387998581, '91': 0.9371535182, '92': 0.9392806292, '93': 0.9421053529, '94': 0.9403065443, '95': 0.9390254021, '96': 0.9392148256, '97': 0.9379841089, '98': 0.9429684877, '99': 0.9356393218, '100': 0.9404250383, '101': 0.9394376278, '102': 0.9409731627, '103': 0.9384924769, '104': 0.9375602007, '105': 0.9379451275, '106': 0.9351232648, '107': 0.9386811256, '108': 0.9373075366, '109': 0.941493392, '110': 0.938520968, '111': 0.9375417233, '112': 0.9357225299, '113': 0.9422237873, '114': 0.9435116053, '115': 0.942189157, '116': 0.9383830428, '117': 0.9410635829, '118': 0.9384578466, '119': 0.9355165958, '120': 0.9366024733, '121': 0.9364078641, '122': 0.9401021004, '123': 0.9374223948, '124': 0.9401535392, '125': 0.9408141971, '126': 0.9354118705, '127': 0.9403957129, '128': 0.9383963943, '129': 0.9415226579, '130': 0.9366761446, '131': 0.9457447529, '132': 0.9375303984, '133': 0.9353534579, '134': 0.9350637794, '135': 0.9381486773, '136': 0.9418304563, '137': 0.9336228967, '138': 0.9391751885, '139': 0.9425952435, '140': 0.9381309748, '141': 0.9352493882, '142': 0.9390364885, '143': 0.936288774, '144': 0.9436149001, '145': 0.9398784041, '146': 0.9380115271, '147': 0.93451792, '148': 0.9408569932, '149': 0.9386279583}}\n"
     ]
    }
   ],
   "source": [
    "import json\n",
    "\n",
    "with open('history.json', 'r') as f:\n",
    "    array = json.load(f)\n",
    "print (array)"
   ]
  },
  {
   "cell_type": "code",
   "execution_count": 3,
   "metadata": {
    "colab": {
     "base_uri": "https://localhost:8080/"
    },
    "id": "H5rz5Ps8Zjcx",
    "outputId": "b3307176-c12e-4c22-c125-a05414496fd0"
   },
   "outputs": [
    {
     "name": "stdout",
     "output_type": "stream",
     "text": [
      "[0.8186875582, 0.8967977762, 0.9147388935, 0.9249693751, 0.9286523461, 0.9292789102, 0.9282166362, 0.9264761209, 0.9215282202, 0.9226348996, 0.9223738909, 0.9239929318, 0.922283411, 0.9239191413, 0.929404974, 0.9269144535, 0.9259488583, 0.9286019802, 0.9271475673, 0.928674221, 0.9311781526, 0.9304122329, 0.9270193577, 0.9309388399, 0.9339270592, 0.9329903722, 0.9341365695, 0.9322677255, 0.9299368858, 0.9364483356, 0.9339274764, 0.9325823784, 0.9346622825, 0.929900825, 0.9343553782, 0.9371743202, 0.9341726899, 0.9393771887, 0.9374649525, 0.9371700883, 0.9400562048, 0.9377235174, 0.933979094, 0.9325221777, 0.9379000664, 0.9354958534, 0.9355575442, 0.9364681244, 0.9380757213, 0.9346581101, 0.939248085, 0.9379557967, 0.9344364405, 0.9382821918, 0.9434099793, 0.9389380813, 0.9426943064, 0.9344387054, 0.9379006028, 0.9369983673, 0.9393516183, 0.9410948753, 0.9356955886, 0.9413372874, 0.9388552904, 0.9359614849, 0.9430165887, 0.9410440922, 0.9383854866, 0.9349552393, 0.9334692955, 0.9358927608, 0.9386344552, 0.9367345572, 0.937422514, 0.9376648664, 0.9367916584, 0.9400277734, 0.9340949655, 0.9383194447, 0.9414100051, 0.9328554273, 0.9394798875, 0.9363844991, 0.9380900264, 0.9394223094, 0.9387282133, 0.9371545315, 0.9431765079, 0.9390858412, 0.9387998581, 0.9371535182, 0.9392806292, 0.9421053529, 0.9403065443, 0.9390254021, 0.9392148256, 0.9379841089, 0.9429684877, 0.9356393218, 0.9404250383, 0.9394376278, 0.9409731627, 0.9384924769, 0.9375602007, 0.9379451275, 0.9351232648, 0.9386811256, 0.9373075366, 0.941493392, 0.938520968, 0.9375417233, 0.9357225299, 0.9422237873, 0.9435116053, 0.942189157, 0.9383830428, 0.9410635829, 0.9384578466, 0.9355165958, 0.9366024733, 0.9364078641, 0.9401021004, 0.9374223948, 0.9401535392, 0.9408141971, 0.9354118705, 0.9403957129, 0.9383963943, 0.9415226579, 0.9366761446, 0.9457447529, 0.9375303984, 0.9353534579, 0.9350637794, 0.9381486773, 0.9418304563, 0.9336228967, 0.9391751885, 0.9425952435, 0.9381309748, 0.9352493882, 0.9390364885, 0.936288774, 0.9436149001, 0.9398784041, 0.9380115271, 0.93451792, 0.9408569932, 0.9386279583]\n"
     ]
    }
   ],
   "source": [
    "accuracy = []\n",
    "for item in array['accuracy']:\n",
    "  accuracy.append(array['accuracy'][item])\n",
    "print(accuracy)"
   ]
  },
  {
   "cell_type": "code",
   "execution_count": 4,
   "metadata": {
    "colab": {
     "base_uri": "https://localhost:8080/",
     "height": 298
    },
    "id": "ewekhzW_ZlJC",
    "outputId": "d925ad29-c0c5-47f8-975d-024dee0ede62"
   },
   "outputs": [
    {
     "data": {
      "text/plain": [
       "[<matplotlib.lines.Line2D at 0x7fa4ba093a60>]"
      ]
     },
     "execution_count": 4,
     "metadata": {},
     "output_type": "execute_result"
    },
    {
     "data": {
      "image/png": "[encoded data removed]",
      "text/plain": [
       "<Figure size 432x288 with 1 Axes>"
      ]
     },
     "metadata": {
      "needs_background": "light"
     },
     "output_type": "display_data"
    }
   ],
   "source": [
    "plt.title('accuracy')\n",
    "plt.plot(accuracy,color='green')"
   ]
  },
  {
   "cell_type": "code",
   "execution_count": 5,
   "metadata": {
    "colab": {
     "base_uri": "https://localhost:8080/",
     "height": 298
    },
    "id": "heONDTqxZmoA",
    "outputId": "db450b39-e278-4902-9dc2-d198dd89b565"
   },
   "outputs": [
    {
     "data": {
      "text/plain": [
       "[<matplotlib.lines.Line2D at 0x7fa4b9ff8f40>]"
      ]
     },
     "execution_count": 5,
     "metadata": {},
     "output_type": "execute_result"
    },
    {
     "data": {
      "image/png": "[encoded data removed]",
      "text/plain": [
       "<Figure size 432x288 with 1 Axes>"
      ]
     },
     "metadata": {
      "needs_background": "light"
     },
     "output_type": "display_data"
    }
   ],
   "source": [
    "dice_coef = []\n",
    "for item in array['dice_coef']:\n",
    "  dice_coef.append(array['dice_coef'][item])\n",
    "#print(dice_coef)\n",
    "plt.title('Dice Coef')\n",
    "plt.plot(dice_coef,color='orange')"
   ]
  },
  {
   "cell_type": "code",
   "execution_count": 6,
   "metadata": {
    "colab": {
     "base_uri": "https://localhost:8080/",
     "height": 298
    },
    "id": "J6c-iEZUZoDK",
    "outputId": "596a2c99-fa1b-483b-906f-3fefcb7137f6"
   },
   "outputs": [
    {
     "data": {
      "text/plain": [
       "[<matplotlib.lines.Line2D at 0x7fa4b9f64a30>]"
      ]
     },
     "execution_count": 6,
     "metadata": {},
     "output_type": "execute_result"
    },
    {
     "data": {
      "image/png": "[encoded data removed]",
      "text/plain": [
       "<Figure size 432x288 with 1 Axes>"
      ]
     },
     "metadata": {
      "needs_background": "light"
     },
     "output_type": "display_data"
    }
   ],
   "source": [
    "loss = []\n",
    "for item in array['loss']:\n",
    "  loss.append(array['loss'][item])\n",
    "#print(loss)\n",
    "plt.title('loss')\n",
    "plt.plot(loss,color='red')"
   ]
  },
  {
   "cell_type": "code",
   "execution_count": 7,
   "metadata": {
    "colab": {
     "base_uri": "https://localhost:8080/",
     "height": 298
    },
    "id": "9hS0EZPKZpYT",
    "outputId": "fb40c1e2-3642-4b63-8996-1d94e413d171"
   },
   "outputs": [
    {
     "data": {
      "text/plain": [
       "[<matplotlib.lines.Line2D at 0x7fa4b9f468b0>]"
      ]
     },
     "execution_count": 7,
     "metadata": {},
     "output_type": "execute_result"
    },
    {
     "data": {
      "image/png": "[encoded data removed]",
      "text/plain": [
       "<Figure size 432x288 with 1 Axes>"
      ]
     },
     "metadata": {
      "needs_background": "light"
     },
     "output_type": "display_data"
    }
   ],
   "source": [
    "recall = []\n",
    "for item in array['recall']:\n",
    "  recall.append(array['recall'][item])\n",
    "#print(recall)\n",
    "plt.title('recall')\n",
    "plt.plot(recall,color='blue')"
   ]
  },
  {
   "cell_type": "code",
   "execution_count": 8,
   "metadata": {
    "colab": {
     "base_uri": "https://localhost:8080/",
     "height": 298
    },
    "id": "eK0iNdbmZq24",
    "outputId": "5831e5fd-4bad-452b-9803-d60fc4d66c11"
   },
   "outputs": [
    {
     "data": {
      "text/plain": [
       "[<matplotlib.lines.Line2D at 0x7fa4b9eac100>]"
      ]
     },
     "execution_count": 8,
     "metadata": {},
     "output_type": "execute_result"
    },
    {
     "data": {
      "image/png": "[encoded data removed]",
      "text/plain": [
       "<Figure size 432x288 with 1 Axes>"
      ]
     },
     "metadata": {
      "needs_background": "light"
     },
     "output_type": "display_data"
    }
   ],
   "source": [
    "precision = []\n",
    "for item in array['precision']:\n",
    "  precision.append(array['precision'][item])\n",
    "#print(precision)\n",
    "plt.title('precision')\n",
    "plt.plot(precision)"
   ]
  },
  {
   "cell_type": "code",
   "execution_count": null,
   "metadata": {
    "id": "bjRfb1JOZsUJ"
   },
   "outputs": [],
   "source": []
  },
  {
   "cell_type": "code",
   "execution_count": null,
   "metadata": {},
   "outputs": [],
   "source": []
  }
 ],
 "metadata": {
  "accelerator": "GPU",
  "colab": {
   "name": "MultiResUNET_pix2pix.ipynb",
   "provenance": []
  },
  "kernelspec": {
   "display_name": "Python 3",
   "language": "python",
   "name": "python3"
  },
  "language_info": {
   "codemirror_mode": {
    "name": "ipython",
    "version": 3
   },
   "file_extension": ".py",
   "mimetype": "text/x-python",
   "name": "python",
   "nbconvert_exporter": "python",
   "pygments_lexer": "ipython3",
   "version": "3.8.5"
  }
 },
 "nbformat": 4,
 "nbformat_minor": 1
}
