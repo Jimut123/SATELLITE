{
  "nbformat": 4,
  "nbformat_minor": 0,
  "metadata": {
    "colab": {
      "name": "MultiResUNET_pix2pix.ipynb",
      "provenance": []
    },
    "kernelspec": {
      "name": "python3",
      "display_name": "Python 3"
    },
    "accelerator": "GPU"
  },
  "cells": [
    {
      "cell_type": "code",
      "metadata": {
        "colab": {
          "base_uri": "https://localhost:8080/"
        },
        "id": "n32XboxYTf8X",
        "outputId": "a21bd046-8c23-4297-8b19-f0bd8e694ff0"
      },
      "source": [
        "! gdown https://drive.google.com/u/3/uc?id=1qGPqpXifJUELdmIm3XJhf7i3wurBokO0"
      ],
      "execution_count": 1,
      "outputs": [
        {
          "output_type": "stream",
          "text": [
            "Downloading...\n",
            "From: https://drive.google.com/u/3/uc?id=1qGPqpXifJUELdmIm3XJhf7i3wurBokO0\n",
            "To: /content/maps_ds.zip\n",
            "203MB [00:02, 74.6MB/s]\n"
          ],
          "name": "stdout"
        }
      ]
    },
    {
      "cell_type": "code",
      "metadata": {
        "id": "30_tTDsJXPT7"
      },
      "source": [
        "! unzip -qq maps_ds.zip"
      ],
      "execution_count": 3,
      "outputs": []
    },
    {
      "cell_type": "code",
      "metadata": {
        "id": "UHdAHC20V7-P"
      },
      "source": [
        "import os\n",
        "import cv2\n",
        "import numpy as np\n",
        "import pandas as pd\n",
        "from tqdm import tqdm\n",
        "import matplotlib.pyplot as plt\n",
        "from keras.layers import Input, Conv2D, MaxPooling2D, Conv2DTranspose, concatenate, BatchNormalization, Activation, add\n",
        "from keras.models import Model, model_from_json\n",
        "from keras.optimizers import Adam\n",
        "from keras.layers.advanced_activations import ELU, LeakyReLU\n",
        "from keras.utils.vis_utils import plot_model\n",
        "from keras import backend as K \n",
        "from sklearn.model_selection import train_test_split\n",
        "from sklearn.metrics import classification_report\n",
        "import glob\n"
      ],
      "execution_count": 6,
      "outputs": []
    },
    {
      "cell_type": "code",
      "metadata": {
        "colab": {
          "base_uri": "https://localhost:8080/"
        },
        "id": "NWUIlx43V76r",
        "outputId": "f1539afc-b5e8-4d49-e520-df7a7ac51300"
      },
      "source": [
        "%tensorflow_version 2.x\n",
        "import tensorflow as tf\n",
        "device_name = tf.test.gpu_device_name()\n",
        "if device_name != '/device:GPU:0':\n",
        "  raise SystemError('GPU device not found')\n",
        "print('Found GPU at: {}'.format(device_name))"
      ],
      "execution_count": 4,
      "outputs": [
        {
          "output_type": "stream",
          "text": [
            "Found GPU at: /device:GPU:0\n"
          ],
          "name": "stdout"
        }
      ]
    },
    {
      "cell_type": "code",
      "metadata": {
        "colab": {
          "base_uri": "https://localhost:8080/"
        },
        "id": "cF3-Guo3V73b",
        "outputId": "04669e37-2304-4dc7-87c9-fc90d2f62263"
      },
      "source": [
        "import glob\n",
        "all_img_files = glob.glob('maps_ds/train_images/*')\n",
        "all_mask_files = glob.glob('maps_ds/train_mask/*')\n",
        "print(len(all_img_files))\n",
        "print(len(all_mask_files))\n",
        "print(all_img_files[:10])\n",
        "print(all_mask_files[:10])\n",
        "\n",
        "#img = cv2.imread('trainx/X_img_144.bmp', cv2.IMREAD_COLOR)\n",
        "#img.shape\n",
        "\n",
        "#plt.imshow(img[:,:,::-1])\n",
        "\n",
        "img_files = glob.glob('maps_ds/train_images/*')\n",
        "msk_files = glob.glob('maps_ds/train_mask/*')\n",
        "\n",
        "img_files.sort()\n",
        "msk_files.sort()\n",
        "\n",
        "print(len(img_files))\n",
        "print(len(msk_files))\n"
      ],
      "execution_count": 7,
      "outputs": [
        {
          "output_type": "stream",
          "text": [
            "1096\n",
            "1096\n",
            "['maps_ds/train_images/277.jpg', 'maps_ds/train_images/678.jpg', 'maps_ds/train_images/943.jpg', 'maps_ds/train_images/448.jpg', 'maps_ds/train_images/579.jpg', 'maps_ds/train_images/817.jpg', 'maps_ds/train_images/860.jpg', 'maps_ds/train_images/806.jpg', 'maps_ds/train_images/340.jpg', 'maps_ds/train_images/253.jpg']\n",
            "['maps_ds/train_mask/277.jpg', 'maps_ds/train_mask/678.jpg', 'maps_ds/train_mask/943.jpg', 'maps_ds/train_mask/448.jpg', 'maps_ds/train_mask/579.jpg', 'maps_ds/train_mask/817.jpg', 'maps_ds/train_mask/860.jpg', 'maps_ds/train_mask/806.jpg', 'maps_ds/train_mask/340.jpg', 'maps_ds/train_mask/253.jpg']\n",
            "1096\n",
            "1096\n"
          ],
          "name": "stdout"
        }
      ]
    },
    {
      "cell_type": "code",
      "metadata": {
        "colab": {
          "base_uri": "https://localhost:8080/"
        },
        "id": "1dX4nDiZYOWo",
        "outputId": "b50720bc-fdad-4168-adbb-219ad2a0e08b"
      },
      "source": [
        "im = cv2.imread(img_files[0])\n",
        "im.shape"
      ],
      "execution_count": 8,
      "outputs": [
        {
          "output_type": "execute_result",
          "data": {
            "text/plain": [
              "(600, 600, 3)"
            ]
          },
          "metadata": {
            "tags": []
          },
          "execution_count": 8
        }
      ]
    },
    {
      "cell_type": "code",
      "metadata": {
        "colab": {
          "base_uri": "https://localhost:8080/"
        },
        "id": "-G_g0R4rXc3I",
        "outputId": "d5fb9a21-8915-45bd-b444-73eb59f25c10"
      },
      "source": [
        "X = []\n",
        "Y = []\n",
        "\n",
        "for img_fl in tqdm(img_files):\n",
        "  #print(img_fl)\n",
        "  #break\n",
        "  img = cv2.imread('{}'.format(img_fl), cv2.IMREAD_COLOR)\n",
        "  resized_img = cv2.resize(img,(256, 256), interpolation = cv2.INTER_CUBIC)\n",
        "  #plt.imshow(resized_img)\n",
        "  #plt.show()\n",
        "  X.append(resized_img)\n",
        "  mask_name = 'maps_ds/train_mask/'+str(img_fl.split('.')[0]).split('/')[-1]+\".jpg\"\n",
        "  #print(\"mn = \",mask_name)\n",
        "  #break\n",
        "  msk = cv2.imread('{}'.format(mask_name), cv2.IMREAD_GRAYSCALE)\n",
        "  resized_msk = cv2.resize(msk,(256, 256), interpolation = cv2.INTER_CUBIC)\n",
        "  #plt.imshow(resized_msk)\n",
        "  Y.append(resized_msk)\n",
        "  #break\n",
        "print(len(X))\n",
        "print(len(Y))"
      ],
      "execution_count": 15,
      "outputs": [
        {
          "output_type": "stream",
          "text": [
            "100%|██████████| 1096/1096 [00:09<00:00, 116.04it/s]"
          ],
          "name": "stderr"
        },
        {
          "output_type": "stream",
          "text": [
            "1096\n",
            "1096\n"
          ],
          "name": "stdout"
        },
        {
          "output_type": "stream",
          "text": [
            "\n"
          ],
          "name": "stderr"
        }
      ]
    },
    {
      "cell_type": "code",
      "metadata": {
        "colab": {
          "base_uri": "https://localhost:8080/"
        },
        "id": "qvPqUUjFYrlG",
        "outputId": "8034890e-463a-4445-9024-aee4352ed22b"
      },
      "source": [
        "\n",
        "X = np.array(X)\n",
        "Y = np.array(Y)\n",
        "\n",
        "X_train, X_test, Y_train, Y_test = train_test_split(X, Y, test_size=0.2, random_state=3)\n",
        "\n",
        "Y_train = Y_train.reshape((Y_train.shape[0],Y_train.shape[1],Y_train.shape[2],1))\n",
        "Y_test = Y_test.reshape((Y_test.shape[0],Y_test.shape[1],Y_test.shape[2],1))\n",
        "\n",
        "X_train = X_train / 255\n",
        "X_test = X_test / 255\n",
        "Y_train = Y_train / 255\n",
        "Y_test = Y_test / 255\n",
        "\n",
        "Y_train = np.round(Y_train,0)\t\n",
        "Y_test = np.round(Y_test,0)\t\n",
        "\n",
        "print(X_train.shape)\n",
        "print(Y_train.shape)\n",
        "print(X_test.shape)\n",
        "print(Y_test.shape)\n"
      ],
      "execution_count": 16,
      "outputs": [
        {
          "output_type": "stream",
          "text": [
            "(876, 256, 256, 3)\n",
            "(876, 256, 256, 1)\n",
            "(220, 256, 256, 3)\n",
            "(220, 256, 256, 1)\n"
          ],
          "name": "stdout"
        }
      ]
    },
    {
      "cell_type": "code",
      "metadata": {
        "id": "8WJZc9MEZSV5"
      },
      "source": [
        "def conv2d_bn(x, filters, num_row, num_col, padding='same', strides=(1, 1), activation='relu', name=None):\n",
        "    '''\n",
        "    2D Convolutional layers\n",
        "\n",
        "    Arguments:\n",
        "        x {keras layer} -- input layer\n",
        "        filters {int} -- number of filters\n",
        "        num_row {int} -- number of rows in filters\n",
        "        num_col {int} -- number of columns in filters\n",
        "\n",
        "    Keyword Arguments:\n",
        "        padding {str} -- mode of padding (default: {'same'})\n",
        "        strides {tuple} -- stride of convolution operation (default: {(1, 1)})\n",
        "        activation {str} -- activation function (default: {'relu'})\n",
        "        name {str} -- name of the layer (default: {None})\n",
        "\n",
        "    Returns:\n",
        "        [keras layer] -- [output layer]\n",
        "    '''\n",
        "\n",
        "    x = Conv2D(filters, (num_row, num_col), strides=strides, padding=padding, use_bias=False)(x)\n",
        "    x = BatchNormalization(axis=3, scale=False)(x)\n",
        "\n",
        "    if(activation == None):\n",
        "        return x\n",
        "\n",
        "    x = Activation(activation, name=name)(x)\n",
        "\n",
        "    return x\n",
        "\n",
        "\n",
        "def trans_conv2d_bn(x, filters, num_row, num_col, padding='same', strides=(2, 2), name=None):\n",
        "    '''\n",
        "    2D Transposed Convolutional layers\n",
        "\n",
        "    Arguments:\n",
        "        x {keras layer} -- input layer\n",
        "        filters {int} -- number of filters\n",
        "        num_row {int} -- number of rows in filters\n",
        "        num_col {int} -- number of columns in filters\n",
        "\n",
        "    Keyword Arguments:\n",
        "        padding {str} -- mode of padding (default: {'same'})\n",
        "        strides {tuple} -- stride of convolution operation (default: {(2, 2)})\n",
        "        name {str} -- name of the layer (default: {None})\n",
        "\n",
        "    Returns:\n",
        "        [keras layer] -- [output layer]\n",
        "    '''\n",
        "\n",
        "    x = Conv2DTranspose(filters, (num_row, num_col), strides=strides, padding=padding)(x)\n",
        "    x = BatchNormalization(axis=3, scale=False)(x)\n",
        "\n",
        "    return x\n",
        "\n",
        "\n",
        "def MultiResBlock(U, inp, alpha = 1.67):\n",
        "    '''\n",
        "    MultiRes Block\n",
        "\n",
        "    Arguments:\n",
        "        U {int} -- Number of filters in a corrsponding UNet stage\n",
        "        inp {keras layer} -- input layer\n",
        "\n",
        "    Returns:\n",
        "        [keras layer] -- [output layer]\n",
        "    '''\n",
        "\n",
        "    W = alpha * U\n",
        "\n",
        "    shortcut = inp\n",
        "\n",
        "    shortcut = conv2d_bn(shortcut, int(W*0.167) + int(W*0.333) +\n",
        "                         int(W*0.5), 1, 1, activation=None, padding='same')\n",
        "\n",
        "    conv3x3 = conv2d_bn(inp, int(W*0.167), 3, 3,\n",
        "                        activation='relu', padding='same')\n",
        "\n",
        "    conv5x5 = conv2d_bn(conv3x3, int(W*0.333), 3, 3,\n",
        "                        activation='relu', padding='same')\n",
        "\n",
        "    conv7x7 = conv2d_bn(conv5x5, int(W*0.5), 3, 3,\n",
        "                        activation='relu', padding='same')\n",
        "\n",
        "    out = concatenate([conv3x3, conv5x5, conv7x7], axis=3)\n",
        "    out = BatchNormalization(axis=3)(out)\n",
        "\n",
        "    out = add([shortcut, out])\n",
        "    out = Activation('relu')(out)\n",
        "    out = BatchNormalization(axis=3)(out)\n",
        "\n",
        "    return out\n",
        "\n",
        "\n",
        "def ResPath(filters, length, inp):\n",
        "    '''\n",
        "    ResPath\n",
        "\n",
        "    Arguments:\n",
        "        filters {int} -- [description]\n",
        "        length {int} -- length of ResPath\n",
        "        inp {keras layer} -- input layer\n",
        "\n",
        "    Returns:\n",
        "        [keras layer] -- [output layer]\n",
        "    '''\n",
        "\n",
        "\n",
        "    shortcut = inp\n",
        "    shortcut = conv2d_bn(shortcut, filters, 1, 1,\n",
        "                         activation=None, padding='same')\n",
        "\n",
        "    out = conv2d_bn(inp, filters, 3, 3, activation='relu', padding='same')\n",
        "\n",
        "    out = add([shortcut, out])\n",
        "    out = Activation('relu')(out)\n",
        "    out = BatchNormalization(axis=3)(out)\n",
        "\n",
        "    for i in range(length-1):\n",
        "\n",
        "        shortcut = out\n",
        "        shortcut = conv2d_bn(shortcut, filters, 1, 1,\n",
        "                             activation=None, padding='same')\n",
        "\n",
        "        out = conv2d_bn(out, filters, 3, 3, activation='relu', padding='same')\n",
        "\n",
        "        out = add([shortcut, out])\n",
        "        out = Activation('relu')(out)\n",
        "        out = BatchNormalization(axis=3)(out)\n",
        "\n",
        "    return out\n",
        "\n",
        "\n",
        "def MultiResUnet(height, width, n_channels):\n",
        "    '''\n",
        "    MultiResUNet\n",
        "\n",
        "    Arguments:\n",
        "        height {int} -- height of image\n",
        "        width {int} -- width of image\n",
        "        n_channels {int} -- number of channels in image\n",
        "\n",
        "    Returns:\n",
        "        [keras model] -- MultiResUNet model\n",
        "    '''\n",
        "\n",
        "\n",
        "    inputs = Input((height, width, n_channels))\n",
        "\n",
        "    mresblock1 = MultiResBlock(32, inputs)\n",
        "    pool1 = MaxPooling2D(pool_size=(2, 2))(mresblock1)\n",
        "    mresblock1 = ResPath(32, 4, mresblock1)\n",
        "\n",
        "    mresblock2 = MultiResBlock(32*2, pool1)\n",
        "    pool2 = MaxPooling2D(pool_size=(2, 2))(mresblock2)\n",
        "    mresblock2 = ResPath(32*2, 3, mresblock2)\n",
        "\n",
        "    mresblock3 = MultiResBlock(32*4, pool2)\n",
        "    pool3 = MaxPooling2D(pool_size=(2, 2))(mresblock3)\n",
        "    mresblock3 = ResPath(32*4, 2, mresblock3)\n",
        "\n",
        "    mresblock4 = MultiResBlock(32*8, pool3)\n",
        "    pool4 = MaxPooling2D(pool_size=(2, 2))(mresblock4)\n",
        "    mresblock4 = ResPath(32*8, 1, mresblock4)\n",
        "\n",
        "    mresblock5 = MultiResBlock(32*16, pool4)\n",
        "\n",
        "    up6 = concatenate([Conv2DTranspose(\n",
        "        32*8, (2, 2), strides=(2, 2), padding='same')(mresblock5), mresblock4], axis=3)\n",
        "    mresblock6 = MultiResBlock(32*8, up6)\n",
        "\n",
        "    up7 = concatenate([Conv2DTranspose(\n",
        "        32*4, (2, 2), strides=(2, 2), padding='same')(mresblock6), mresblock3], axis=3)\n",
        "    mresblock7 = MultiResBlock(32*4, up7)\n",
        "\n",
        "    up8 = concatenate([Conv2DTranspose(\n",
        "        32*2, (2, 2), strides=(2, 2), padding='same')(mresblock7), mresblock2], axis=3)\n",
        "    mresblock8 = MultiResBlock(32*2, up8)\n",
        "\n",
        "    up9 = concatenate([Conv2DTranspose(32, (2, 2), strides=(\n",
        "        2, 2), padding='same')(mresblock8), mresblock1], axis=3)\n",
        "    mresblock9 = MultiResBlock(32, up9)\n",
        "\n",
        "    conv10 = conv2d_bn(mresblock9, 1, 1, 1, activation='sigmoid')\n",
        "\n",
        "    model = Model(inputs=[inputs], outputs=[conv10])\n",
        "\n",
        "    return model"
      ],
      "execution_count": 17,
      "outputs": []
    },
    {
      "cell_type": "code",
      "metadata": {
        "id": "PzyLscnMZWLg"
      },
      "source": [
        "def dice_coef(y_true, y_pred):\n",
        "    smooth = 0.0\n",
        "    y_true_f = K.flatten(y_true)\n",
        "    y_pred_f = K.flatten(y_pred)\n",
        "    intersection = K.sum(y_true_f * y_pred_f)\n",
        "    return (2. * intersection + smooth) / (K.sum(y_true_f) + K.sum(y_pred_f) + smooth)\n",
        "\n",
        "def jacard(y_true, y_pred):\n",
        "\n",
        "    y_true_f = K.flatten(y_true)\n",
        "    y_pred_f = K.flatten(y_pred)\n",
        "    intersection = K.sum ( y_true_f * y_pred_f)\n",
        "    union = K.sum ( y_true_f + y_pred_f - y_true_f * y_pred_f)\n",
        "\n",
        "    return intersection/union\n",
        "\n",
        "def saveModel(model):\n",
        "\n",
        "    model_json = model.to_json()\n",
        "\n",
        "    try:\n",
        "        os.makedirs('models')\n",
        "    except:\n",
        "        pass\n",
        "\n",
        "    fp = open('models/MultiResUNET_pix2pix.json','w')\n",
        "    fp.write(model_json)\n",
        "    model.save_weights('models/MultiResUNET_pix2pix.h5')"
      ],
      "execution_count": 18,
      "outputs": []
    },
    {
      "cell_type": "code",
      "metadata": {
        "id": "lWxLQkuJZa6l"
      },
      "source": [
        "jaccard_index_list = []\n",
        "dice_coeff_list = []\n",
        "\n",
        "def evaluateModel(model, X_test, Y_test, batchSize):\n",
        "\n",
        "    try:\n",
        "        os.makedirs('results')\n",
        "    except:\n",
        "        pass\n",
        "\n",
        "\n",
        "    yp = model.predict(x=X_test, batch_size=batchSize, verbose=1)\n",
        "\n",
        "    yp = np.round(yp,0)\n",
        "\n",
        "    for i in range(10):\n",
        "\n",
        "        plt.figure(figsize=(20,10))\n",
        "        plt.subplot(1,3,1)\n",
        "        plt.imshow(X_test[i])\n",
        "        plt.title('Input')\n",
        "        plt.subplot(1,3,2)\n",
        "        plt.imshow(Y_test[i].reshape(Y_test[i].shape[0],Y_test[i].shape[1]))\n",
        "        plt.title('Ground Truth')\n",
        "        plt.subplot(1,3,3)\n",
        "        plt.imshow(yp[i].reshape(yp[i].shape[0],yp[i].shape[1]))\n",
        "        plt.title('Prediction')\n",
        "\n",
        "        intersection = yp[i].ravel() * Y_test[i].ravel()\n",
        "        union = yp[i].ravel() + Y_test[i].ravel() - intersection\n",
        "\n",
        "        jacard = (np.sum(intersection)/np.sum(union))\n",
        "        plt.suptitle('Jacard Index'+ str(np.sum(intersection)) +'/'+ str(np.sum(union)) +'='+str(jacard))\n",
        "\n",
        "        plt.savefig('results/'+str(i)+'.png',format='png')\n",
        "        plt.close()\n",
        "\n",
        "\n",
        "    jacard = 0\n",
        "    dice = 0\n",
        "\n",
        "\n",
        "    for i in range(len(Y_test)):\n",
        "        yp_2 = yp[i].ravel()\n",
        "        y2 = Y_test[i].ravel()\n",
        "\n",
        "        intersection = yp_2 * y2\n",
        "        union = yp_2 + y2 - intersection\n",
        "\n",
        "        jacard += (np.sum(intersection)/np.sum(union))\n",
        "\n",
        "        dice += (2. * np.sum(intersection) ) / (np.sum(yp_2) + np.sum(y2))\n",
        "\n",
        "\n",
        "    jacard /= len(Y_test)\n",
        "    dice /= len(Y_test)\n",
        "\n",
        "\n",
        "\n",
        "    print('Jacard Index : '+str(jacard))\n",
        "    print('Dice Coefficient : '+str(dice))\n",
        "\n",
        "    jaccard_index_list.append(jacard)\n",
        "    dice_coeff_list.append(dice)\n",
        "    fp = open('models/log.txt','a')\n",
        "    fp.write(str(jacard)+'\\n')\n",
        "    fp.close()\n",
        "\n",
        "    fp = open('models/best.txt','r')\n",
        "    best = fp.read()\n",
        "    fp.close()\n",
        "\n",
        "    if(jacard>float(best)):\n",
        "        print('***********************************************')\n",
        "        print('Jacard Index improved from '+str(best)+' to '+str(jacard))\n",
        "        print('***********************************************')\n",
        "        fp = open('models/best.txt','w')\n",
        "        fp.write(str(jacard))\n",
        "        fp.close()\n",
        "\n",
        "        saveModel(model)"
      ],
      "execution_count": 19,
      "outputs": []
    },
    {
      "cell_type": "code",
      "metadata": {
        "colab": {
          "base_uri": "https://localhost:8080/"
        },
        "id": "IMDpo0ChZdE8",
        "outputId": "c3094ac0-393c-4f5c-9af7-7f8d4b1cee63"
      },
      "source": [
        "from tensorflow.keras.metrics import Recall, Precision\n",
        "import json \n",
        "\n",
        "def trainStep(model, X_train, Y_train, X_test, Y_test, epochs, batchSize):\n",
        "    epochs = 10\n",
        "    #for epoch in range(epochs):\n",
        "    #print('Epoch : {}'.format(epoch+1))\n",
        "    history = model.fit(x=X_train, y=Y_train, batch_size=batchSize, epochs=epochs, verbose=1)\n",
        "\n",
        "    # convert the history.history dict to a pandas DataFrame:\n",
        "    hist_df = pd.DataFrame(history.history)\n",
        "\n",
        "    \n",
        "\n",
        "    # save to json:\n",
        "    hist_json_file = 'history.json'\n",
        "    # with open(hist_json_file, 'a') as out:\n",
        "    #     out.write(hist_df.to_json())\n",
        "    #     out.write(\",\")\n",
        "    #     out.close()\n",
        "\n",
        "    with open(hist_json_file, mode='w') as f:\n",
        "       hist_df.to_json(f)\n",
        "\n",
        "    # or save to csv:\n",
        "    hist_csv_file = 'history.csv'\n",
        "    # with open(hist_csv_file, 'a') as out:\n",
        "    #     out.write(str(hist_df.to_csv()))\n",
        "    #     out.write(\",\")\n",
        "    #     out.close()\n",
        "\n",
        "\n",
        "    with open(hist_csv_file, mode='w') as f:\n",
        "        hist_df.to_csv(f)\n",
        "\n",
        "    evaluateModel(model,X_test, Y_test,batchSize)\n",
        "\n",
        "    return model\n",
        "\n",
        "model = MultiResUnet(height=256, width=256, n_channels=3)\n",
        "\n",
        "model.compile(optimizer='adam', loss='binary_crossentropy', metrics=[dice_coef, jacard, Recall(), Precision() ,'accuracy'])\n",
        "\n",
        "saveModel(model)\n",
        "\n",
        "fp = open('models/log.txt','w')\n",
        "fp.close()\n",
        "fp = open('models/best.txt','w')\n",
        "fp.write('-1.0')\n",
        "fp.close()\n",
        "\n",
        "trainStep(model, X_train, Y_train, X_test, Y_test, epochs=150, batchSize=2)"
      ],
      "execution_count": 20,
      "outputs": [
        {
          "output_type": "stream",
          "text": [
            "Epoch 1/10\n",
            "438/438 [==============================] - 43s 97ms/step - loss: 0.5375 - dice_coef: 0.3547 - jacard: 0.2206 - recall: 0.7076 - precision: 0.4600 - accuracy: 0.8113\n",
            "Epoch 2/10\n",
            "438/438 [==============================] - 42s 97ms/step - loss: 0.3984 - dice_coef: 0.4135 - jacard: 0.2656 - recall: 0.7443 - precision: 0.6800 - accuracy: 0.8982\n",
            "Epoch 3/10\n",
            "438/438 [==============================] - 42s 97ms/step - loss: 0.3323 - dice_coef: 0.4423 - jacard: 0.2888 - recall: 0.7378 - precision: 0.7587 - accuracy: 0.9165\n",
            "Epoch 4/10\n",
            "438/438 [==============================] - 42s 97ms/step - loss: 0.2953 - dice_coef: 0.4535 - jacard: 0.2987 - recall: 0.7164 - precision: 0.8090 - accuracy: 0.9239\n",
            "Epoch 5/10\n",
            "438/438 [==============================] - 42s 97ms/step - loss: 0.2709 - dice_coef: 0.4652 - jacard: 0.3080 - recall: 0.6968 - precision: 0.8482 - accuracy: 0.9281\n",
            "Epoch 6/10\n",
            "438/438 [==============================] - 43s 97ms/step - loss: 0.2554 - dice_coef: 0.4737 - jacard: 0.3146 - recall: 0.6791 - precision: 0.8740 - accuracy: 0.9296\n",
            "Epoch 7/10\n",
            "438/438 [==============================] - 42s 97ms/step - loss: 0.2440 - dice_coef: 0.4842 - jacard: 0.3218 - recall: 0.6602 - precision: 0.8972 - accuracy: 0.9302\n",
            "Epoch 8/10\n",
            "438/438 [==============================] - 43s 97ms/step - loss: 0.2415 - dice_coef: 0.4768 - jacard: 0.3168 - recall: 0.6297 - precision: 0.9043 - accuracy: 0.9266\n",
            "Epoch 9/10\n",
            "438/438 [==============================] - 43s 97ms/step - loss: 0.2373 - dice_coef: 0.4789 - jacard: 0.3184 - recall: 0.6132 - precision: 0.9163 - accuracy: 0.9256\n",
            "Epoch 10/10\n",
            "438/438 [==============================] - 42s 97ms/step - loss: 0.2310 - dice_coef: 0.4889 - jacard: 0.3256 - recall: 0.6009 - precision: 0.9268 - accuracy: 0.9250\n",
            "  1/110 [..............................] - ETA: 0sWARNING:tensorflow:Callbacks method `on_predict_batch_end` is slow compared to the batch time (batch time: 0.0060s vs `on_predict_batch_end` time: 0.0140s). Check your callbacks.\n",
            "110/110 [==============================] - 2s 19ms/step\n",
            "Jacard Index : nan\n",
            "Dice Coefficient : nan\n"
          ],
          "name": "stdout"
        },
        {
          "output_type": "stream",
          "text": [
            "/usr/local/lib/python3.6/dist-packages/ipykernel_launcher.py:50: RuntimeWarning: invalid value encountered in double_scalars\n",
            "/usr/local/lib/python3.6/dist-packages/ipykernel_launcher.py:52: RuntimeWarning: invalid value encountered in double_scalars\n"
          ],
          "name": "stderr"
        },
        {
          "output_type": "execute_result",
          "data": {
            "text/plain": [
              "<tensorflow.python.keras.engine.functional.Functional at 0x7f1ac3bca9b0>"
            ]
          },
          "metadata": {
            "tags": []
          },
          "execution_count": 20
        }
      ]
    },
    {
      "cell_type": "code",
      "metadata": {
        "colab": {
          "base_uri": "https://localhost:8080/"
        },
        "id": "SqMupfxqZfPD",
        "outputId": "087b927c-2321-4cc5-f892-9c88ec4474fa"
      },
      "source": [
        "import json\n",
        "\n",
        "with open('history.json', 'r') as f:\n",
        "    array = json.load(f)\n",
        "print (array)"
      ],
      "execution_count": 21,
      "outputs": [
        {
          "output_type": "stream",
          "text": [
            "{'loss': {'0': 0.5374821424, '1': 0.3984228373, '2': 0.3322513103, '3': 0.2952728271, '4': 0.2708727419, '5': 0.2553642094, '6': 0.2439871281, '7': 0.2415424883, '8': 0.2373388112, '9': 0.2309924066}, 'dice_coef': {'0': 0.3547385931, '1': 0.4134519696, '2': 0.4423205554, '3': 0.4534862041, '4': 0.4651588798, '5': 0.4737039208, '6': 0.4841657281, '7': 0.4768041074, '8': 0.478949666, '9': 0.4888923466}, 'jacard': {'0': 0.220639497, '1': 0.2655537724, '2': 0.2887846828, '3': 0.2986559272, '4': 0.3080125153, '5': 0.3146356046, '6': 0.3217820823, '7': 0.3168429434, '8': 0.3183793426, '9': 0.3256268203}, 'recall': {'0': 0.7075557709, '1': 0.7442547679, '2': 0.7377659082, '3': 0.7164432406, '4': 0.6968283057, '5': 0.6791148186, '6': 0.6601639986, '7': 0.6297411919, '8': 0.6131637096, '9': 0.6008663774}, 'precision': {'0': 0.4599840343, '1': 0.6800332665, '2': 0.7586932778, '3': 0.8089808822, '4': 0.848223567, '5': 0.8740156293, '6': 0.8972483873, '7': 0.9043230414, '8': 0.9162825346, '9': 0.9267844558}, 'accuracy': {'0': 0.8112695217, '1': 0.8981781006, '2': 0.9165018201, '3': 0.9239225984, '4': 0.9281010032, '5': 0.9296280742, '6': 0.9301885366, '7': 0.926584363, '8': 0.9255805016, '9': 0.9249514341}}\n"
          ],
          "name": "stdout"
        }
      ]
    },
    {
      "cell_type": "code",
      "metadata": {
        "colab": {
          "base_uri": "https://localhost:8080/"
        },
        "id": "H5rz5Ps8Zjcx",
        "outputId": "b3307176-c12e-4c22-c125-a05414496fd0"
      },
      "source": [
        "accuracy = []\n",
        "for item in array['accuracy']:\n",
        "  accuracy.append(array['accuracy'][item])\n",
        "print(accuracy)"
      ],
      "execution_count": 22,
      "outputs": [
        {
          "output_type": "stream",
          "text": [
            "[0.8112695217, 0.8981781006, 0.9165018201, 0.9239225984, 0.9281010032, 0.9296280742, 0.9301885366, 0.926584363, 0.9255805016, 0.9249514341]\n"
          ],
          "name": "stdout"
        }
      ]
    },
    {
      "cell_type": "code",
      "metadata": {
        "colab": {
          "base_uri": "https://localhost:8080/",
          "height": 298
        },
        "id": "ewekhzW_ZlJC",
        "outputId": "d925ad29-c0c5-47f8-975d-024dee0ede62"
      },
      "source": [
        "plt.title('accuracy')\n",
        "plt.plot(accuracy,color='green')"
      ],
      "execution_count": 23,
      "outputs": [
        {
          "output_type": "execute_result",
          "data": {
            "text/plain": [
              "[<matplotlib.lines.Line2D at 0x7f1ac6399e10>]"
            ]
          },
          "metadata": {
            "tags": []
          },
          "execution_count": 23
        },
        {
          "output_type": "display_data",
          "data": {
            "image/png": "[encoded data removed]",
            "text/plain": [
              "<Figure size 432x288 with 1 Axes>"
            ]
          },
          "metadata": {
            "tags": [],
            "needs_background": "light"
          }
        }
      ]
    },
    {
      "cell_type": "code",
      "metadata": {
        "colab": {
          "base_uri": "https://localhost:8080/",
          "height": 298
        },
        "id": "heONDTqxZmoA",
        "outputId": "db450b39-e278-4902-9dc2-d198dd89b565"
      },
      "source": [
        "dice_coef = []\n",
        "for item in array['dice_coef']:\n",
        "  dice_coef.append(array['dice_coef'][item])\n",
        "#print(dice_coef)\n",
        "plt.title('Dice Coef')\n",
        "plt.plot(dice_coef,color='orange')"
      ],
      "execution_count": 24,
      "outputs": [
        {
          "output_type": "execute_result",
          "data": {
            "text/plain": [
              "[<matplotlib.lines.Line2D at 0x7f1aba0777f0>]"
            ]
          },
          "metadata": {
            "tags": []
          },
          "execution_count": 24
        },
        {
          "output_type": "display_data",
          "data": {
            "image/png": "[encoded data removed]",
            "text/plain": [
              "<Figure size 432x288 with 1 Axes>"
            ]
          },
          "metadata": {
            "tags": [],
            "needs_background": "light"
          }
        }
      ]
    },
    {
      "cell_type": "code",
      "metadata": {
        "colab": {
          "base_uri": "https://localhost:8080/",
          "height": 298
        },
        "id": "J6c-iEZUZoDK",
        "outputId": "596a2c99-fa1b-483b-906f-3fefcb7137f6"
      },
      "source": [
        "loss = []\n",
        "for item in array['loss']:\n",
        "  loss.append(array['loss'][item])\n",
        "#print(loss)\n",
        "plt.title('loss')\n",
        "plt.plot(loss,color='red')"
      ],
      "execution_count": 25,
      "outputs": [
        {
          "output_type": "execute_result",
          "data": {
            "text/plain": [
              "[<matplotlib.lines.Line2D at 0x7f1aba077c18>]"
            ]
          },
          "metadata": {
            "tags": []
          },
          "execution_count": 25
        },
        {
          "output_type": "display_data",
          "data": {
            "image/png": "[encoded data removed]",
            "text/plain": [
              "<Figure size 432x288 with 1 Axes>"
            ]
          },
          "metadata": {
            "tags": [],
            "needs_background": "light"
          }
        }
      ]
    },
    {
      "cell_type": "code",
      "metadata": {
        "colab": {
          "base_uri": "https://localhost:8080/",
          "height": 298
        },
        "id": "9hS0EZPKZpYT",
        "outputId": "fb40c1e2-3642-4b63-8996-1d94e413d171"
      },
      "source": [
        "recall = []\n",
        "for item in array['recall']:\n",
        "  recall.append(array['recall'][item])\n",
        "#print(recall)\n",
        "plt.title('recall')\n",
        "plt.plot(recall,color='blue')"
      ],
      "execution_count": 26,
      "outputs": [
        {
          "output_type": "execute_result",
          "data": {
            "text/plain": [
              "[<matplotlib.lines.Line2D at 0x7f193975ffd0>]"
            ]
          },
          "metadata": {
            "tags": []
          },
          "execution_count": 26
        },
        {
          "output_type": "display_data",
          "data": {
            "image/png": "[encoded data removed]",
            "text/plain": [
              "<Figure size 432x288 with 1 Axes>"
            ]
          },
          "metadata": {
            "tags": [],
            "needs_background": "light"
          }
        }
      ]
    },
    {
      "cell_type": "code",
      "metadata": {
        "colab": {
          "base_uri": "https://localhost:8080/",
          "height": 298
        },
        "id": "eK0iNdbmZq24",
        "outputId": "5831e5fd-4bad-452b-9803-d60fc4d66c11"
      },
      "source": [
        "precision = []\n",
        "for item in array['precision']:\n",
        "  precision.append(array['precision'][item])\n",
        "#print(precision)\n",
        "plt.title('precision')\n",
        "plt.plot(precision)"
      ],
      "execution_count": 27,
      "outputs": [
        {
          "output_type": "execute_result",
          "data": {
            "text/plain": [
              "[<matplotlib.lines.Line2D at 0x7f1ac6399eb8>]"
            ]
          },
          "metadata": {
            "tags": []
          },
          "execution_count": 27
        },
        {
          "output_type": "display_data",
          "data": {
            "image/png": "[encoded data removed]",
            "text/plain": [
              "<Figure size 432x288 with 1 Axes>"
            ]
          },
          "metadata": {
            "tags": [],
            "needs_background": "light"
          }
        }
      ]
    },
    {
      "cell_type": "code",
      "metadata": {
        "id": "bjRfb1JOZsUJ"
      },
      "source": [
        ""
      ],
      "execution_count": null,
      "outputs": []
    }
  ]
}