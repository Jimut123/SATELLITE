{
  "nbformat": 4,
  "nbformat_minor": 0,
  "metadata": {
    "colab": {
      "name": "create_the_actual_ds",
      "provenance": [],
      "collapsed_sections": []
    },
    "kernelspec": {
      "name": "python3",
      "display_name": "Python 3"
    },
    "accelerator": "GPU"
  },
  "cells": [
    {
      "cell_type": "code",
      "metadata": {
        "id": "fBsuxQIUHkM2",
        "colab_type": "code",
        "colab": {}
      },
      "source": [
        ""
      ],
      "execution_count": null,
      "outputs": []
    },
    {
      "cell_type": "code",
      "metadata": {
        "id": "CvaPnbAWI7nP",
        "colab_type": "code",
        "colab": {
          "base_uri": "https://localhost:8080/",
          "height": 126
        },
        "outputId": "831f7cd3-5d37-4726-b7aa-a8b14b42af56"
      },
      "source": [
        "from google.colab import drive\n",
        "drive.mount('/content/drive')"
      ],
      "execution_count": 1,
      "outputs": [
        {
          "output_type": "stream",
          "text": [
            "Go to this URL in a browser: https://accounts.google.com/o/oauth2/auth?client_id=947318989803-6bn6qk8qdgf4n4g3pfee6491hc0brc4i.apps.googleusercontent.com&redirect_uri=urn%3aietf%3awg%3aoauth%3a2.0%3aoob&scope=email%20https%3a%2f%2fwww.googleapis.com%2fauth%2fdocs.test%20https%3a%2f%2fwww.googleapis.com%2fauth%2fdrive%20https%3a%2f%2fwww.googleapis.com%2fauth%2fdrive.photos.readonly%20https%3a%2f%2fwww.googleapis.com%2fauth%2fpeopleapi.readonly&response_type=code\n",
            "\n",
            "Enter your authorization code:\n",
            "··········\n",
            "Mounted at /content/drive\n"
          ],
          "name": "stdout"
        }
      ]
    },
    {
      "cell_type": "code",
      "metadata": {
        "id": "5fbM_UF7I8Li",
        "colab_type": "code",
        "colab": {}
      },
      "source": [
        "! cp /content/drive/'My Drive'/Kolkata_colab.zip .\n",
        "! cp /content/drive/'My Drive'/Kolkata_colab1.zip .\n",
        "! cp /content/drive/'My Drive'/Kolkata_colab2.zip .\n",
        "! cp /content/drive/'My Drive'/Kolkata_colab3.zip .\n",
        "! cp /content/drive/'My Drive'/Kolkata_colab4.zip .\n",
        "! cp /content/drive/'My Drive'/Kolkata_colab5.zip .\n",
        "! cp /content/drive/'My Drive'/Kolkata_colab6.zip .\n",
        "! cp /content/drive/'My Drive'/Kolkata_colab7.zip .\n",
        "! cp /content/drive/'My Drive'/Kolkata_colab8.zip .\n",
        "! cp /content/drive/'My Drive'/Kolkata_colab9.zip .\n",
        "! cp /content/drive/'My Drive'/Kolkata_colab10.zip .\n",
        "! cp /content/drive/'My Drive'/Kolkata_colab11.zip .\n",
        "! cp /content/drive/'My Drive'/Kolkata_colab12.zip ."
      ],
      "execution_count": 2,
      "outputs": []
    },
    {
      "cell_type": "code",
      "metadata": {
        "id": "AUPi-O8qKQNf",
        "colab_type": "code",
        "colab": {}
      },
      "source": [
        "! unzip -qq Kolkata_colab.zip \n",
        "! unzip -qq Kolkata_colab1.zip \n",
        "! unzip -qq Kolkata_colab2.zip \n",
        "! unzip -qq Kolkata_colab3.zip \n",
        "! unzip -qq Kolkata_colab4.zip \n",
        "! unzip -qq Kolkata_colab5.zip \n",
        "! unzip -qq Kolkata_colab6.zip \n",
        "! unzip -qq Kolkata_colab7.zip \n",
        "! unzip -qq Kolkata_colab8.zip \n",
        "! unzip -qq Kolkata_colab9.zip \n",
        "! unzip -qq Kolkata_colab10.zip \n",
        "! unzip -qq Kolkata_colab11.zip \n",
        "! unzip -qq Kolkata_colab12.zip \n"
      ],
      "execution_count": null,
      "outputs": []
    },
    {
      "cell_type": "code",
      "metadata": {
        "id": "Axio6wDdL02n",
        "colab_type": "code",
        "colab": {}
      },
      "source": [
        ""
      ],
      "execution_count": null,
      "outputs": []
    },
    {
      "cell_type": "code",
      "metadata": {
        "id": "IY3_5Ae-M67h",
        "colab_type": "code",
        "colab": {}
      },
      "source": [
        "! find . -name '*.png' | xargs mv --target-directory=. > /dev/null 2>&1\n",
        "! find . -name '*.jpeg' | xargs mv --target-directory=. > /dev/null 2>&1"
      ],
      "execution_count": null,
      "outputs": []
    },
    {
      "cell_type": "code",
      "metadata": {
        "id": "axPXByrONCg1",
        "colab_type": "code",
        "colab": {}
      },
      "source": [
        "! du -hs Kolkata_colab"
      ],
      "execution_count": null,
      "outputs": []
    },
    {
      "cell_type": "code",
      "metadata": {
        "id": "3haLVX5jORkN",
        "colab_type": "code",
        "colab": {}
      },
      "source": [
        "! du -hs Kolkata_colab1"
      ],
      "execution_count": null,
      "outputs": []
    },
    {
      "cell_type": "code",
      "metadata": {
        "id": "lyJXp8cTOTNU",
        "colab_type": "code",
        "colab": {}
      },
      "source": [
        "! du -hs Kolkata_colab2"
      ],
      "execution_count": null,
      "outputs": []
    },
    {
      "cell_type": "code",
      "metadata": {
        "id": "D9e9pDFqOTKu",
        "colab_type": "code",
        "colab": {}
      },
      "source": [
        "! du -hs Kolkata_colab3"
      ],
      "execution_count": null,
      "outputs": []
    },
    {
      "cell_type": "code",
      "metadata": {
        "id": "_6WKWvOfOVcN",
        "colab_type": "code",
        "colab": {}
      },
      "source": [
        "! du -hs Kolkata_colab4"
      ],
      "execution_count": null,
      "outputs": []
    },
    {
      "cell_type": "code",
      "metadata": {
        "id": "mdNpJ6vKOVZe",
        "colab_type": "code",
        "colab": {}
      },
      "source": [
        "! du -hs Kolkata_colab5"
      ],
      "execution_count": null,
      "outputs": []
    },
    {
      "cell_type": "code",
      "metadata": {
        "id": "k4IZCDxfOVXP",
        "colab_type": "code",
        "colab": {}
      },
      "source": [
        "! du -hs Kolkata_colab6"
      ],
      "execution_count": null,
      "outputs": []
    },
    {
      "cell_type": "code",
      "metadata": {
        "id": "o2eACYv5OVT1",
        "colab_type": "code",
        "colab": {}
      },
      "source": [
        "! du -hs Kolkata_colab7"
      ],
      "execution_count": null,
      "outputs": []
    },
    {
      "cell_type": "code",
      "metadata": {
        "id": "2-aKKqMYOZ7Q",
        "colab_type": "code",
        "colab": {}
      },
      "source": [
        "! du -hs Kolkata_colab8"
      ],
      "execution_count": null,
      "outputs": []
    },
    {
      "cell_type": "code",
      "metadata": {
        "id": "jWd3DmMxOZ4i",
        "colab_type": "code",
        "colab": {}
      },
      "source": [
        "! du -hs Kolkata_colab9"
      ],
      "execution_count": null,
      "outputs": []
    },
    {
      "cell_type": "code",
      "metadata": {
        "id": "BPnFXyRpOZ2p",
        "colab_type": "code",
        "colab": {}
      },
      "source": [
        "! du -hs Kolkata_colab10"
      ],
      "execution_count": null,
      "outputs": []
    },
    {
      "cell_type": "code",
      "metadata": {
        "id": "L_pS3AqYOeie",
        "colab_type": "code",
        "colab": {}
      },
      "source": [
        "! du -hs Kolkata_colab11"
      ],
      "execution_count": null,
      "outputs": []
    },
    {
      "cell_type": "code",
      "metadata": {
        "id": "YvmKxuOVOegD",
        "colab_type": "code",
        "colab": {}
      },
      "source": [
        "! du -hs Kolkata_colab12"
      ],
      "execution_count": null,
      "outputs": []
    },
    {
      "cell_type": "code",
      "metadata": {
        "id": "ud4WfcG1Oecn",
        "colab_type": "code",
        "colab": {}
      },
      "source": [
        "! mv Kolkata_colab/* .\n",
        "! mv Kolkata_colab1/* .\n",
        "! mv Kolkata_colab2/* .\n",
        "! mv Kolkata_colab3/* .\n",
        "! mv Kolkata_colab4/* .\n",
        "! mv Kolkata_colab5/* .\n",
        "! mv Kolkata_colab6/* .\n",
        "! mv Kolkata_colab7/* .\n",
        "! mv Kolkata_colab8/* .\n",
        "! mv Kolkata_colab9/* .\n",
        "! mv Kolkata_colab10/* .\n",
        "! mv Kolkata_colab11/* .\n",
        "! mv Kolkata_colab12/* ."
      ],
      "execution_count": null,
      "outputs": []
    },
    {
      "cell_type": "code",
      "metadata": {
        "id": "rMCdV9mWOZzO",
        "colab_type": "code",
        "colab": {}
      },
      "source": [
        ""
      ],
      "execution_count": null,
      "outputs": []
    },
    {
      "cell_type": "code",
      "metadata": {
        "id": "mdquHaRvOVQ2",
        "colab_type": "code",
        "colab": {}
      },
      "source": [
        ""
      ],
      "execution_count": null,
      "outputs": []
    },
    {
      "cell_type": "code",
      "metadata": {
        "id": "gmGVpb0jMRdB",
        "colab_type": "code",
        "colab": {}
      },
      "source": [
        "import glob\n",
        "jpeg = glob.glob('*.jpeg')\n",
        "print(\"Total # of files => \",len(jpeg))\n",
        "png = glob.glob('*.png')\n",
        "print(\"Total # of files => \",len(png))"
      ],
      "execution_count": null,
      "outputs": []
    },
    {
      "cell_type": "code",
      "metadata": {
        "id": "4Bp2HjCXPAZa",
        "colab_type": "code",
        "colab": {}
      },
      "source": [
        "import cv2\n",
        "import matplotlib.pyplot as plt\n",
        "img_path = jpeg[1]\n",
        "img = cv2.imread(img_path,cv2.IMREAD_UNCHANGED)\n",
        "plt.imshow(img)\n",
        "plt.show()"
      ],
      "execution_count": null,
      "outputs": []
    },
    {
      "cell_type": "code",
      "metadata": {
        "id": "pC_BjdIPPFsw",
        "colab_type": "code",
        "colab": {}
      },
      "source": [
        "import cv2\n",
        "import matplotlib.pyplot as plt\n",
        "img_path = png[111]\n",
        "img = cv2.imread(img_path,cv2.IMREAD_UNCHANGED)\n",
        "plt.imshow(img)\n",
        "plt.show()"
      ],
      "execution_count": null,
      "outputs": []
    },
    {
      "cell_type": "code",
      "metadata": {
        "id": "RwVbt3bhMmmP",
        "colab_type": "code",
        "colab": {}
      },
      "source": [
        "! mkdir roads\n",
        "! mkdir map"
      ],
      "execution_count": null,
      "outputs": []
    },
    {
      "cell_type": "code",
      "metadata": {
        "id": "awxsUA3ORFU-",
        "colab_type": "code",
        "colab": {}
      },
      "source": [
        "png.sort()\n",
        "png[:10]"
      ],
      "execution_count": null,
      "outputs": []
    },
    {
      "cell_type": "code",
      "metadata": {
        "id": "r0m42QdXRKeA",
        "colab_type": "code",
        "colab": {}
      },
      "source": [
        "jpeg.sort()\n",
        "jpeg[:10]"
      ],
      "execution_count": null,
      "outputs": []
    },
    {
      "cell_type": "code",
      "metadata": {
        "id": "aC03FuljOzjA",
        "colab_type": "code",
        "colab": {}
      },
      "source": [
        "import shutil\n",
        "from tqdm import tqdm\n",
        "for item in tqdm(jpeg):\n",
        "  name = item.split('.')[0]+\"_road.png\"\n",
        "  if str(name) in png:\n",
        "    shutil.move(item,'map')\n",
        "    shutil.move(name,'roads')\n",
        "\n"
      ],
      "execution_count": null,
      "outputs": []
    },
    {
      "cell_type": "code",
      "metadata": {
        "id": "sZReto6nO0xL",
        "colab_type": "code",
        "colab": {}
      },
      "source": [
        ""
      ],
      "execution_count": null,
      "outputs": []
    },
    {
      "cell_type": "code",
      "metadata": {
        "id": "8tl1Hiv0O0uV",
        "colab_type": "code",
        "colab": {}
      },
      "source": [
        ""
      ],
      "execution_count": null,
      "outputs": []
    },
    {
      "cell_type": "code",
      "metadata": {
        "id": "xI1pVzK_O0rq",
        "colab_type": "code",
        "colab": {}
      },
      "source": [
        ""
      ],
      "execution_count": null,
      "outputs": []
    }
  ]
}