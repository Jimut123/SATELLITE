{
  "nbformat": 4,
  "nbformat_minor": 0,
  "metadata": {
    "colab": {
      "name": "create_the_actual_ds",
      "provenance": [],
      "collapsed_sections": []
    },
    "kernelspec": {
      "name": "python3",
      "display_name": "Python 3"
    },
    "accelerator": "GPU"
  },
  "cells": [
    {
      "cell_type": "code",
      "metadata": {
        "id": "fBsuxQIUHkM2",
        "colab_type": "code",
        "colab": {}
      },
      "source": [
        ""
      ],
      "execution_count": null,
      "outputs": []
    },
    {
      "cell_type": "code",
      "metadata": {
        "id": "CvaPnbAWI7nP",
        "colab_type": "code",
        "colab": {
          "base_uri": "https://localhost:8080/",
          "height": 126
        },
        "outputId": "6405b46e-465f-4129-cb31-0ad55b968494"
      },
      "source": [
        "from google.colab import drive\n",
        "drive.mount('/content/drive')"
      ],
      "execution_count": 1,
      "outputs": [
        {
          "output_type": "stream",
          "text": [
            "Go to this URL in a browser: https://accounts.google.com/o/oauth2/auth?client_id=947318989803-6bn6qk8qdgf4n4g3pfee6491hc0brc4i.apps.googleusercontent.com&redirect_uri=urn%3aietf%3awg%3aoauth%3a2.0%3aoob&scope=email%20https%3a%2f%2fwww.googleapis.com%2fauth%2fdocs.test%20https%3a%2f%2fwww.googleapis.com%2fauth%2fdrive%20https%3a%2f%2fwww.googleapis.com%2fauth%2fdrive.photos.readonly%20https%3a%2f%2fwww.googleapis.com%2fauth%2fpeopleapi.readonly&response_type=code\n",
            "\n",
            "Enter your authorization code:\n",
            "··········\n",
            "Mounted at /content/drive\n"
          ],
          "name": "stdout"
        }
      ]
    },
    {
      "cell_type": "code",
      "metadata": {
        "id": "5fbM_UF7I8Li",
        "colab_type": "code",
        "colab": {}
      },
      "source": [
        "! cp /content/drive/'My Drive'/Kolkata_colab.zip .\n",
        "! cp /content/drive/'My Drive'/Kolkata_colab1.zip .\n",
        "! cp /content/drive/'My Drive'/Kolkata_colab2.zip .\n",
        "! cp /content/drive/'My Drive'/Kolkata_colab3.zip .\n",
        "! cp /content/drive/'My Drive'/Kolkata_colab4.zip .\n",
        "! cp /content/drive/'My Drive'/Kolkata_colab5.zip .\n",
        "! cp /content/drive/'My Drive'/Kolkata_colab6.zip .\n",
        "! cp /content/drive/'My Drive'/Kolkata_colab7.zip .\n",
        "! cp /content/drive/'My Drive'/Kolkata_colab8.zip .\n",
        "! cp /content/drive/'My Drive'/Kolkata_colab9.zip .\n",
        "! cp /content/drive/'My Drive'/Kolkata_colab10.zip .\n",
        "! cp /content/drive/'My Drive'/Kolkata_colab11.zip .\n",
        "! cp /content/drive/'My Drive'/Kolkata_colab12.zip ."
      ],
      "execution_count": 2,
      "outputs": []
    },
    {
      "cell_type": "code",
      "metadata": {
        "id": "AUPi-O8qKQNf",
        "colab_type": "code",
        "colab": {}
      },
      "source": [
        "! unzip -qq Kolkata_colab.zip \n",
        "! unzip -qq Kolkata_colab1.zip \n",
        "! unzip -qq Kolkata_colab2.zip \n",
        "! unzip -qq Kolkata_colab3.zip \n",
        "! unzip -qq Kolkata_colab4.zip \n",
        "! unzip -qq Kolkata_colab5.zip \n",
        "! unzip -qq Kolkata_colab6.zip \n",
        "! unzip -qq Kolkata_colab7.zip \n",
        "! unzip -qq Kolkata_colab8.zip \n",
        "! unzip -qq Kolkata_colab9.zip \n",
        "! unzip -qq Kolkata_colab10.zip \n",
        "! unzip -qq Kolkata_colab11.zip \n",
        "! unzip -qq Kolkata_colab12.zip \n"
      ],
      "execution_count": 3,
      "outputs": []
    },
    {
      "cell_type": "code",
      "metadata": {
        "id": "Axio6wDdL02n",
        "colab_type": "code",
        "colab": {}
      },
      "source": [
        ""
      ],
      "execution_count": 3,
      "outputs": []
    },
    {
      "cell_type": "code",
      "metadata": {
        "id": "IY3_5Ae-M67h",
        "colab_type": "code",
        "colab": {
          "base_uri": "https://localhost:8080/",
          "height": 70
        },
        "outputId": "97cf64af-d7dc-4a26-8eed-b6056bfd5a6c"
      },
      "source": [
        "! find . -name '*.png' | xargs mv --target-directory=. > /dev/null 2>&1\n",
        "! find . -name '*.jpeg' | xargs mv --target-directory=. > /dev/null 2>&1"
      ],
      "execution_count": 4,
      "outputs": [
        {
          "output_type": "stream",
          "text": [
            "find: ‘./drive/My Drive/CAPTCHA/data/JAM’: Input/output error\n",
            "find: ‘./drive/My Drive/Colab Notebooks/PONG/images’: Input/output error\n",
            "find: ‘./drive/My Drive/Colab Notebooks/MAPS/satellite_data’: Input/output error\n"
          ],
          "name": "stdout"
        }
      ]
    },
    {
      "cell_type": "code",
      "metadata": {
        "id": "axPXByrONCg1",
        "colab_type": "code",
        "colab": {
          "base_uri": "https://localhost:8080/",
          "height": 35
        },
        "outputId": "c86203fb-cc5c-4403-c088-6d8775e0c520"
      },
      "source": [
        "! du -hs Kolkata_colab"
      ],
      "execution_count": 5,
      "outputs": [
        {
          "output_type": "stream",
          "text": [
            "928K\tKolkata_colab\n"
          ],
          "name": "stdout"
        }
      ]
    },
    {
      "cell_type": "code",
      "metadata": {
        "id": "3haLVX5jORkN",
        "colab_type": "code",
        "colab": {
          "base_uri": "https://localhost:8080/",
          "height": 35
        },
        "outputId": "e99018ff-eca8-48c9-bdd3-9fc4c4ef55df"
      },
      "source": [
        "! du -hs Kolkata_colab1"
      ],
      "execution_count": 6,
      "outputs": [
        {
          "output_type": "stream",
          "text": [
            "1.3M\tKolkata_colab1\n"
          ],
          "name": "stdout"
        }
      ]
    },
    {
      "cell_type": "code",
      "metadata": {
        "id": "lyJXp8cTOTNU",
        "colab_type": "code",
        "colab": {
          "base_uri": "https://localhost:8080/",
          "height": 35
        },
        "outputId": "38646bd0-2310-464f-ad92-47fc6e443845"
      },
      "source": [
        "! du -hs Kolkata_colab2"
      ],
      "execution_count": 7,
      "outputs": [
        {
          "output_type": "stream",
          "text": [
            "840K\tKolkata_colab2\n"
          ],
          "name": "stdout"
        }
      ]
    },
    {
      "cell_type": "code",
      "metadata": {
        "id": "D9e9pDFqOTKu",
        "colab_type": "code",
        "colab": {
          "base_uri": "https://localhost:8080/",
          "height": 35
        },
        "outputId": "6c6b1b9b-c838-4834-a5f0-0b4c4d487c5b"
      },
      "source": [
        "! du -hs Kolkata_colab3"
      ],
      "execution_count": 8,
      "outputs": [
        {
          "output_type": "stream",
          "text": [
            "912K\tKolkata_colab3\n"
          ],
          "name": "stdout"
        }
      ]
    },
    {
      "cell_type": "code",
      "metadata": {
        "id": "_6WKWvOfOVcN",
        "colab_type": "code",
        "colab": {
          "base_uri": "https://localhost:8080/",
          "height": 35
        },
        "outputId": "3aeae40e-240e-471e-eb7a-2dd99b956430"
      },
      "source": [
        "! du -hs Kolkata_colab4"
      ],
      "execution_count": 9,
      "outputs": [
        {
          "output_type": "stream",
          "text": [
            "876K\tKolkata_colab4\n"
          ],
          "name": "stdout"
        }
      ]
    },
    {
      "cell_type": "code",
      "metadata": {
        "id": "mdNpJ6vKOVZe",
        "colab_type": "code",
        "colab": {
          "base_uri": "https://localhost:8080/",
          "height": 35
        },
        "outputId": "cec32dfd-f4bd-49ba-e84e-e7a348890f60"
      },
      "source": [
        "! du -hs Kolkata_colab5"
      ],
      "execution_count": 10,
      "outputs": [
        {
          "output_type": "stream",
          "text": [
            "3.7M\tKolkata_colab5\n"
          ],
          "name": "stdout"
        }
      ]
    },
    {
      "cell_type": "code",
      "metadata": {
        "id": "k4IZCDxfOVXP",
        "colab_type": "code",
        "colab": {
          "base_uri": "https://localhost:8080/",
          "height": 35
        },
        "outputId": "3afd6dee-937d-4b90-a586-59ca5ce61c14"
      },
      "source": [
        "! du -hs Kolkata_colab6"
      ],
      "execution_count": 11,
      "outputs": [
        {
          "output_type": "stream",
          "text": [
            "3.7M\tKolkata_colab6\n"
          ],
          "name": "stdout"
        }
      ]
    },
    {
      "cell_type": "code",
      "metadata": {
        "id": "o2eACYv5OVT1",
        "colab_type": "code",
        "colab": {
          "base_uri": "https://localhost:8080/",
          "height": 35
        },
        "outputId": "a36d22ba-d91d-437a-89d5-7a2bb3524b79"
      },
      "source": [
        "! du -hs Kolkata_colab7"
      ],
      "execution_count": 12,
      "outputs": [
        {
          "output_type": "stream",
          "text": [
            "5.7M\tKolkata_colab7\n"
          ],
          "name": "stdout"
        }
      ]
    },
    {
      "cell_type": "code",
      "metadata": {
        "id": "2-aKKqMYOZ7Q",
        "colab_type": "code",
        "colab": {
          "base_uri": "https://localhost:8080/",
          "height": 35
        },
        "outputId": "eb12ab78-690d-4fbd-cac1-ba785b01c1cb"
      },
      "source": [
        "! du -hs Kolkata_colab8"
      ],
      "execution_count": 13,
      "outputs": [
        {
          "output_type": "stream",
          "text": [
            "1.4M\tKolkata_colab8\n"
          ],
          "name": "stdout"
        }
      ]
    },
    {
      "cell_type": "code",
      "metadata": {
        "id": "jWd3DmMxOZ4i",
        "colab_type": "code",
        "colab": {
          "base_uri": "https://localhost:8080/",
          "height": 35
        },
        "outputId": "8db8f86e-0c26-4563-8101-1e7f0e446927"
      },
      "source": [
        "! du -hs Kolkata_colab9"
      ],
      "execution_count": 14,
      "outputs": [
        {
          "output_type": "stream",
          "text": [
            "4.7M\tKolkata_colab9\n"
          ],
          "name": "stdout"
        }
      ]
    },
    {
      "cell_type": "code",
      "metadata": {
        "id": "BPnFXyRpOZ2p",
        "colab_type": "code",
        "colab": {
          "base_uri": "https://localhost:8080/",
          "height": 35
        },
        "outputId": "3427b173-72a8-4740-8e41-ab6fc061cb04"
      },
      "source": [
        "! du -hs Kolkata_colab10"
      ],
      "execution_count": 15,
      "outputs": [
        {
          "output_type": "stream",
          "text": [
            "7.6M\tKolkata_colab10\n"
          ],
          "name": "stdout"
        }
      ]
    },
    {
      "cell_type": "code",
      "metadata": {
        "id": "L_pS3AqYOeie",
        "colab_type": "code",
        "colab": {
          "base_uri": "https://localhost:8080/",
          "height": 35
        },
        "outputId": "2fbf4653-3eb5-473c-add7-4e47219b7604"
      },
      "source": [
        "! du -hs Kolkata_colab11"
      ],
      "execution_count": 16,
      "outputs": [
        {
          "output_type": "stream",
          "text": [
            "5.4M\tKolkata_colab11\n"
          ],
          "name": "stdout"
        }
      ]
    },
    {
      "cell_type": "code",
      "metadata": {
        "id": "YvmKxuOVOegD",
        "colab_type": "code",
        "colab": {
          "base_uri": "https://localhost:8080/",
          "height": 35
        },
        "outputId": "bba24fad-938b-4bb4-d41a-caa4425485f5"
      },
      "source": [
        "! du -hs Kolkata_colab12"
      ],
      "execution_count": 17,
      "outputs": [
        {
          "output_type": "stream",
          "text": [
            "5.2M\tKolkata_colab12\n"
          ],
          "name": "stdout"
        }
      ]
    },
    {
      "cell_type": "code",
      "metadata": {
        "id": "ud4WfcG1Oecn",
        "colab_type": "code",
        "colab": {
          "base_uri": "https://localhost:8080/",
          "height": 442
        },
        "outputId": "c759a41b-df5b-46f1-882d-f6ba6d609ddf"
      },
      "source": [
        "! mv Kolkata_colab/*.jpeg .\n",
        "! mv Kolkata_colab/*.png .\n",
        "\n",
        "! mv Kolkata_colab1/*.png .\n",
        "! mv Kolkata_colab1/*.jpeg .\n",
        "\n",
        "! mv Kolkata_colab2/*.png .\n",
        "! mv Kolkata_colab2/*.jpeg .\n",
        "\n",
        "! mv Kolkata_colab3/*.jpeg .\n",
        "! mv Kolkata_colab3/*.png .\n",
        "\n",
        "! mv Kolkata_colab4/*.jpeg .\n",
        "! mv Kolkata_colab4/*.png .\n",
        "\n",
        "! mv Kolkata_colab5/*.png .\n",
        "! mv Kolkata_colab5/*.jpeg .\n",
        "\n",
        "! mv Kolkata_colab6/*.jpeg .\n",
        "! mv Kolkata_colab6/*.png .\n",
        "\n",
        "! mv Kolkata_colab7/*.jpeg .\n",
        "! mv Kolkata_colab7/*.png .\n",
        "\n",
        "! mv Kolkata_colab8/*.jpeg .\n",
        "! mv Kolkata_colab8/*.png .\n",
        "\n",
        "! mv Kolkata_colab9/*.jpeg .\n",
        "! mv Kolkata_colab9/*.png .\n",
        "\n",
        "! mv Kolkata_colab10/*.jpeg .\n",
        "! mv Kolkata_colab10/*.png .\n",
        "\n",
        "! mv Kolkata_colab11/*.jpeg .\n",
        "! mv Kolkata_colab11/*.png .\n",
        "\n",
        "! mv Kolkata_colab12/*.jpeg .\n",
        "! mv Kolkata_colab12/*.png ."
      ],
      "execution_count": 18,
      "outputs": [
        {
          "output_type": "stream",
          "text": [
            "mv: cannot stat 'Kolkata_colab/*.jpeg': No such file or directory\n",
            "mv: cannot stat 'Kolkata_colab/*.png': No such file or directory\n",
            "mv: cannot stat 'Kolkata_colab1/*.png': No such file or directory\n",
            "mv: cannot stat 'Kolkata_colab1/*.jpeg': No such file or directory\n",
            "mv: cannot stat 'Kolkata_colab2/*.png': No such file or directory\n",
            "mv: cannot stat 'Kolkata_colab2/*.jpeg': No such file or directory\n",
            "mv: cannot stat 'Kolkata_colab3/*.jpeg': No such file or directory\n",
            "mv: cannot stat 'Kolkata_colab3/*.png': No such file or directory\n",
            "mv: cannot stat 'Kolkata_colab4/*.jpeg': No such file or directory\n",
            "mv: cannot stat 'Kolkata_colab4/*.png': No such file or directory\n",
            "mv: cannot stat 'Kolkata_colab5/*.png': No such file or directory\n",
            "mv: cannot stat 'Kolkata_colab6/*.jpeg': No such file or directory\n",
            "mv: cannot stat 'Kolkata_colab6/*.png': No such file or directory\n",
            "mv: cannot stat 'Kolkata_colab7/*.png': No such file or directory\n",
            "mv: cannot stat 'Kolkata_colab8/*.jpeg': No such file or directory\n",
            "mv: cannot stat 'Kolkata_colab8/*.png': No such file or directory\n",
            "mv: cannot stat 'Kolkata_colab9/*.jpeg': No such file or directory\n",
            "mv: cannot stat 'Kolkata_colab9/*.png': No such file or directory\n",
            "mv: cannot stat 'Kolkata_colab10/*.jpeg': No such file or directory\n",
            "mv: cannot stat 'Kolkata_colab10/*.png': No such file or directory\n",
            "mv: cannot stat 'Kolkata_colab11/*.jpeg': No such file or directory\n",
            "mv: cannot stat 'Kolkata_colab11/*.png': No such file or directory\n",
            "mv: cannot stat 'Kolkata_colab12/*.jpeg': No such file or directory\n",
            "mv: cannot stat 'Kolkata_colab12/*.png': No such file or directory\n"
          ],
          "name": "stdout"
        }
      ]
    },
    {
      "cell_type": "code",
      "metadata": {
        "id": "rMCdV9mWOZzO",
        "colab_type": "code",
        "colab": {}
      },
      "source": [
        ""
      ],
      "execution_count": 18,
      "outputs": []
    },
    {
      "cell_type": "code",
      "metadata": {
        "id": "mdquHaRvOVQ2",
        "colab_type": "code",
        "colab": {}
      },
      "source": [
        ""
      ],
      "execution_count": 18,
      "outputs": []
    },
    {
      "cell_type": "code",
      "metadata": {
        "id": "gmGVpb0jMRdB",
        "colab_type": "code",
        "colab": {
          "base_uri": "https://localhost:8080/",
          "height": 52
        },
        "outputId": "49209eb8-4400-4748-ea37-7e10d344631c"
      },
      "source": [
        "import glob\n",
        "jpeg = glob.glob('*.jpeg')\n",
        "print(\"Total # of files => \",len(jpeg))\n",
        "png = glob.glob('*.png')\n",
        "print(\"Total # of files => \",len(png))"
      ],
      "execution_count": 19,
      "outputs": [
        {
          "output_type": "stream",
          "text": [
            "Total # of files =>  238866\n",
            "Total # of files =>  238381\n"
          ],
          "name": "stdout"
        }
      ]
    },
    {
      "cell_type": "code",
      "metadata": {
        "id": "4Bp2HjCXPAZa",
        "colab_type": "code",
        "colab": {
          "base_uri": "https://localhost:8080/",
          "height": 269
        },
        "outputId": "91dbf6d5-a590-4623-db54-68b19da01fd9"
      },
      "source": [
        "import cv2\n",
        "import matplotlib.pyplot as plt\n",
        "img_path = jpeg[1]\n",
        "img = cv2.imread(img_path,cv2.IMREAD_UNCHANGED)\n",
        "plt.imshow(img)\n",
        "plt.show()"
      ],
      "execution_count": 20,
      "outputs": [
        {
          "output_type": "display_data",
          "data": {
            "image/png": "[encoded data removed]",
            "text/plain": [
              "<Figure size 432x288 with 1 Axes>"
            ]
          },
          "metadata": {
            "tags": [],
            "needs_background": "light"
          }
        }
      ]
    },
    {
      "cell_type": "code",
      "metadata": {
        "id": "pC_BjdIPPFsw",
        "colab_type": "code",
        "colab": {
          "base_uri": "https://localhost:8080/",
          "height": 269
        },
        "outputId": "f3f83e6f-cee1-4f97-b328-36375536413c"
      },
      "source": [
        "import cv2\n",
        "import matplotlib.pyplot as plt\n",
        "img_path = png[111]\n",
        "img = cv2.imread(img_path,cv2.IMREAD_UNCHANGED)\n",
        "plt.imshow(img)\n",
        "plt.show()"
      ],
      "execution_count": 21,
      "outputs": [
        {
          "output_type": "display_data",
          "data": {
            "image/png": "[encoded data removed]",
            "text/plain": [
              "<Figure size 432x288 with 1 Axes>"
            ]
          },
          "metadata": {
            "tags": [],
            "needs_background": "light"
          }
        }
      ]
    },
    {
      "cell_type": "code",
      "metadata": {
        "id": "RwVbt3bhMmmP",
        "colab_type": "code",
        "colab": {}
      },
      "source": [
        "! mkdir roads\n",
        "! mkdir map"
      ],
      "execution_count": 22,
      "outputs": []
    },
    {
      "cell_type": "code",
      "metadata": {
        "id": "awxsUA3ORFU-",
        "colab_type": "code",
        "colab": {
          "base_uri": "https://localhost:8080/",
          "height": 194
        },
        "outputId": "476fa627-ae71-491c-8b3f-bd721e82d59e"
      },
      "source": [
        "png.sort()\n",
        "png[:10]"
      ],
      "execution_count": 23,
      "outputs": [
        {
          "output_type": "execute_result",
          "data": {
            "text/plain": [
              "['390303_227555_road.png',\n",
              " '390303_227565_road.png',\n",
              " '390303_227570_road.png',\n",
              " '390303_227591_road.png',\n",
              " '390303_227595_road.png',\n",
              " '390303_227596_road.png',\n",
              " '390303_227597_road.png',\n",
              " '390303_227600_road.png',\n",
              " '390303_227605_road.png',\n",
              " '390303_227610_road.png']"
            ]
          },
          "metadata": {
            "tags": []
          },
          "execution_count": 23
        }
      ]
    },
    {
      "cell_type": "code",
      "metadata": {
        "id": "r0m42QdXRKeA",
        "colab_type": "code",
        "colab": {
          "base_uri": "https://localhost:8080/",
          "height": 194
        },
        "outputId": "90f5e5f8-ed43-47cf-c22f-dc60b7da8de4"
      },
      "source": [
        "jpeg.sort()\n",
        "jpeg[:10]"
      ],
      "execution_count": 24,
      "outputs": [
        {
          "output_type": "execute_result",
          "data": {
            "text/plain": [
              "['390303_227555.jpeg',\n",
              " '390303_227565.jpeg',\n",
              " '390303_227570.jpeg',\n",
              " '390303_227591.jpeg',\n",
              " '390303_227595.jpeg',\n",
              " '390303_227596.jpeg',\n",
              " '390303_227597.jpeg',\n",
              " '390303_227600.jpeg',\n",
              " '390303_227605.jpeg',\n",
              " '390303_227610.jpeg']"
            ]
          },
          "metadata": {
            "tags": []
          },
          "execution_count": 24
        }
      ]
    },
    {
      "cell_type": "code",
      "metadata": {
        "id": "aC03FuljOzjA",
        "colab_type": "code",
        "colab": {
          "base_uri": "https://localhost:8080/",
          "height": 35
        },
        "outputId": "d51d27f2-e622-4468-be66-564180e74167"
      },
      "source": [
        "import shutil\n",
        "from tqdm import tqdm\n",
        "for item in tqdm(jpeg):\n",
        "  name = item.split('.')[0]+\"_road.png\"\n",
        "  if str(name) in png:\n",
        "    shutil.move(item,'map')\n",
        "    shutil.move(name,'roads')"
      ],
      "execution_count": 25,
      "outputs": [
        {
          "output_type": "stream",
          "text": [
            "100%|██████████| 238866/238866 [17:57<00:00, 221.64it/s]\n"
          ],
          "name": "stderr"
        }
      ]
    },
    {
      "cell_type": "code",
      "metadata": {
        "id": "sZReto6nO0xL",
        "colab_type": "code",
        "colab": {}
      },
      "source": [
        "! mkdir unused_roads\n",
        "! mkdir unused_map"
      ],
      "execution_count": 27,
      "outputs": []
    },
    {
      "cell_type": "code",
      "metadata": {
        "id": "8tl1Hiv0O0uV",
        "colab_type": "code",
        "colab": {}
      },
      "source": [
        "! mv *_road.png unused_roads"
      ],
      "execution_count": 28,
      "outputs": []
    },
    {
      "cell_type": "code",
      "metadata": {
        "id": "xI1pVzK_O0rq",
        "colab_type": "code",
        "colab": {}
      },
      "source": [
        "! mv *.jpeg unused_map"
      ],
      "execution_count": 29,
      "outputs": []
    },
    {
      "cell_type": "code",
      "metadata": {
        "id": "yoZeNSrE_9Wv",
        "colab_type": "code",
        "colab": {
          "base_uri": "https://localhost:8080/",
          "height": 212
        },
        "outputId": "ba68b14c-d8cb-4601-83cb-3140bae40b9c"
      },
      "source": [
        "ls"
      ],
      "execution_count": 30,
      "outputs": [
        {
          "output_type": "stream",
          "text": [
            "\u001b[0m\u001b[01;34mdrive\u001b[0m/               Kolkata_colab2.zip  \u001b[01;34mKolkata_colab8\u001b[0m/\n",
            "\u001b[01;34mKolkata_colab\u001b[0m/       \u001b[01;34mKolkata_colab3\u001b[0m/     Kolkata_colab8.zip\n",
            "\u001b[01;34mKolkata_colab1\u001b[0m/      Kolkata_colab3.zip  \u001b[01;34mKolkata_colab9\u001b[0m/\n",
            "\u001b[01;34mKolkata_colab10\u001b[0m/     \u001b[01;34mKolkata_colab4\u001b[0m/     Kolkata_colab9.zip\n",
            "Kolkata_colab10.zip  Kolkata_colab4.zip  Kolkata_colab.zip\n",
            "\u001b[01;34mKolkata_colab11\u001b[0m/     \u001b[01;34mKolkata_colab5\u001b[0m/     \u001b[01;34mmap\u001b[0m/\n",
            "Kolkata_colab11.zip  Kolkata_colab5.zip  \u001b[01;34mroads\u001b[0m/\n",
            "\u001b[01;34mKolkata_colab12\u001b[0m/     \u001b[01;34mKolkata_colab6\u001b[0m/     \u001b[01;34msample_data\u001b[0m/\n",
            "Kolkata_colab12.zip  Kolkata_colab6.zip  \u001b[01;34munused_map\u001b[0m/\n",
            "Kolkata_colab1.zip   \u001b[01;34mKolkata_colab7\u001b[0m/     \u001b[01;34munused_roads\u001b[0m/\n",
            "\u001b[01;34mKolkata_colab2\u001b[0m/      Kolkata_colab7.zip\n"
          ],
          "name": "stdout"
        }
      ]
    },
    {
      "cell_type": "code",
      "metadata": {
        "id": "XECxi9he_-Ax",
        "colab_type": "code",
        "colab": {
          "base_uri": "https://localhost:8080/",
          "height": 35
        },
        "outputId": "9e483d02-1338-4c4f-b5ec-3fa10dfeba31"
      },
      "source": [
        "! du -hs map"
      ],
      "execution_count": 31,
      "outputs": [
        {
          "output_type": "stream",
          "text": [
            "2.6G\tmap\n"
          ],
          "name": "stdout"
        }
      ]
    },
    {
      "cell_type": "code",
      "metadata": {
        "id": "tJ7EIIQmAEiU",
        "colab_type": "code",
        "colab": {
          "base_uri": "https://localhost:8080/",
          "height": 35
        },
        "outputId": "08137f20-88a2-4077-edf8-4a87edbdbf66"
      },
      "source": [
        "! du -hs roads"
      ],
      "execution_count": 32,
      "outputs": [
        {
          "output_type": "stream",
          "text": [
            "1.2G\troads\n"
          ],
          "name": "stdout"
        }
      ]
    },
    {
      "cell_type": "code",
      "metadata": {
        "id": "VvukuWHGAGpX",
        "colab_type": "code",
        "colab": {
          "base_uri": "https://localhost:8080/",
          "height": 35
        },
        "outputId": "c1a2229e-dbe8-47aa-9d67-a22ede988d6d"
      },
      "source": [
        "! du -hs unused_map"
      ],
      "execution_count": 33,
      "outputs": [
        {
          "output_type": "stream",
          "text": [
            "26M\tunused_map\n"
          ],
          "name": "stdout"
        }
      ]
    },
    {
      "cell_type": "code",
      "metadata": {
        "id": "z9jAGfxmANCN",
        "colab_type": "code",
        "colab": {
          "base_uri": "https://localhost:8080/",
          "height": 35
        },
        "outputId": "7e388e01-21d4-4b07-97c1-66fe427bd3e2"
      },
      "source": [
        "! du -hs unused_roads"
      ],
      "execution_count": 34,
      "outputs": [
        {
          "output_type": "stream",
          "text": [
            "8.6M\tunused_roads\n"
          ],
          "name": "stdout"
        }
      ]
    },
    {
      "cell_type": "code",
      "metadata": {
        "id": "Hb1XN58BAPf6",
        "colab_type": "code",
        "colab": {
          "base_uri": "https://localhost:8080/",
          "height": 176
        },
        "outputId": "363bd07c-f949-448c-fb36-6ed92ab4550d"
      },
      "source": [
        "ls"
      ],
      "execution_count": 39,
      "outputs": [
        {
          "output_type": "stream",
          "text": [
            "\u001b[0m\u001b[01;34mdrive\u001b[0m/               Kolkata_colab1.zip  \u001b[01;34mKolkata_colab6\u001b[0m/     \u001b[01;34mmap\u001b[0m/\n",
            "\u001b[01;34mKolkata_colab\u001b[0m/       \u001b[01;34mKolkata_colab2\u001b[0m/     Kolkata_colab6.zip  \u001b[01;34mMAPS\u001b[0m/\n",
            "\u001b[01;34mKolkata_colab1\u001b[0m/      Kolkata_colab2.zip  \u001b[01;34mKolkata_colab7\u001b[0m/     \u001b[01;34mroads\u001b[0m/\n",
            "\u001b[01;34mKolkata_colab10\u001b[0m/     \u001b[01;34mKolkata_colab3\u001b[0m/     Kolkata_colab7.zip  \u001b[01;34msample_data\u001b[0m/\n",
            "Kolkata_colab10.zip  Kolkata_colab3.zip  \u001b[01;34mKolkata_colab8\u001b[0m/     \u001b[01;34munused_map\u001b[0m/\n",
            "\u001b[01;34mKolkata_colab11\u001b[0m/     \u001b[01;34mKolkata_colab4\u001b[0m/     Kolkata_colab8.zip  \u001b[01;34munused_roads\u001b[0m/\n",
            "Kolkata_colab11.zip  Kolkata_colab4.zip  \u001b[01;34mKolkata_colab9\u001b[0m/\n",
            "\u001b[01;34mKolkata_colab12\u001b[0m/     \u001b[01;34mKolkata_colab5\u001b[0m/     Kolkata_colab9.zip\n",
            "Kolkata_colab12.zip  Kolkata_colab5.zip  Kolkata_colab.zip\n"
          ],
          "name": "stdout"
        }
      ]
    },
    {
      "cell_type": "code",
      "metadata": {
        "id": "74Dzk96vCNTK",
        "colab_type": "code",
        "colab": {}
      },
      "source": [
        "!mkdir MAPS"
      ],
      "execution_count": 37,
      "outputs": []
    },
    {
      "cell_type": "code",
      "metadata": {
        "id": "8H0AVnFXCR36",
        "colab_type": "code",
        "colab": {}
      },
      "source": [
        "!mv  map MAPS\n",
        "!mv  roads MAPS\n",
        "!mv  unused_map MAPS\n",
        "!mv  unused_roads MAPS"
      ],
      "execution_count": 40,
      "outputs": []
    },
    {
      "cell_type": "code",
      "metadata": {
        "id": "-Cs-1MuLCgU4",
        "colab_type": "code",
        "colab": {
          "base_uri": "https://localhost:8080/",
          "height": 35
        },
        "outputId": "e36d6f32-e6cd-418d-ff52-c604096e9ba6"
      },
      "source": [
        "! du -hs MAPS"
      ],
      "execution_count": 41,
      "outputs": [
        {
          "output_type": "stream",
          "text": [
            "3.8G\tMAPS\n"
          ],
          "name": "stdout"
        }
      ]
    },
    {
      "cell_type": "code",
      "metadata": {
        "id": "geTZx8eGCsQt",
        "colab_type": "code",
        "colab": {
          "base_uri": "https://localhost:8080/",
          "height": 35
        },
        "outputId": "7d7b4406-adea-4dd1-a158-08a3410d04a8"
      },
      "source": [
        "! ls MAPS"
      ],
      "execution_count": 44,
      "outputs": [
        {
          "output_type": "stream",
          "text": [
            "map  roads  unused_map\tunused_roads\n"
          ],
          "name": "stdout"
        }
      ]
    },
    {
      "cell_type": "code",
      "metadata": {
        "id": "dzs2OrX_CuW6",
        "colab_type": "code",
        "colab": {
          "base_uri": "https://localhost:8080/",
          "height": 35
        },
        "outputId": "aa6fa4e2-07bc-445a-a488-0bad3858334a"
      },
      "source": [
        "! du -hs MAPS/map"
      ],
      "execution_count": 45,
      "outputs": [
        {
          "output_type": "stream",
          "text": [
            "2.6G\tMAPS/map\n"
          ],
          "name": "stdout"
        }
      ]
    },
    {
      "cell_type": "code",
      "metadata": {
        "id": "Ee5YLT1fFs3n",
        "colab_type": "code",
        "colab": {
          "base_uri": "https://localhost:8080/",
          "height": 35
        },
        "outputId": "230390f2-f6e0-4214-b255-0117761bab86"
      },
      "source": [
        "! du -hs MAPS/roads"
      ],
      "execution_count": 46,
      "outputs": [
        {
          "output_type": "stream",
          "text": [
            "1.2G\tMAPS/roads\n"
          ],
          "name": "stdout"
        }
      ]
    },
    {
      "cell_type": "code",
      "metadata": {
        "id": "vMtXtqWHFu3X",
        "colab_type": "code",
        "colab": {
          "base_uri": "https://localhost:8080/",
          "height": 35
        },
        "outputId": "f23d11d6-2441-412f-c4b3-1ef755dd2ea8"
      },
      "source": [
        "! du -hs MAPS/unused_map"
      ],
      "execution_count": 49,
      "outputs": [
        {
          "output_type": "stream",
          "text": [
            "26M\tMAPS/unused_map\n"
          ],
          "name": "stdout"
        }
      ]
    },
    {
      "cell_type": "code",
      "metadata": {
        "id": "F3-9LF3tFv49",
        "colab_type": "code",
        "colab": {
          "base_uri": "https://localhost:8080/",
          "height": 35
        },
        "outputId": "38651ee7-0616-4aa5-8292-28f2f5d2e58f"
      },
      "source": [
        "! du -hs MAPS/unused_roads"
      ],
      "execution_count": 48,
      "outputs": [
        {
          "output_type": "stream",
          "text": [
            "8.6M\tMAPS/unused_roads\n"
          ],
          "name": "stdout"
        }
      ]
    },
    {
      "cell_type": "code",
      "metadata": {
        "id": "f0XSB62mF1Fh",
        "colab_type": "code",
        "colab": {}
      },
      "source": [
        "! zip -r MAPS.zip MAPS > /etc/null"
      ],
      "execution_count": 50,
      "outputs": []
    },
    {
      "cell_type": "code",
      "metadata": {
        "id": "UobZrSGOGV4Q",
        "colab_type": "code",
        "colab": {}
      },
      "source": [
        "! mv MAPS.zip /content/drive/'My Drive'/"
      ],
      "execution_count": 51,
      "outputs": []
    },
    {
      "cell_type": "code",
      "metadata": {
        "id": "sKAC2BM7Gjp5",
        "colab_type": "code",
        "colab": {}
      },
      "source": [
        ""
      ],
      "execution_count": null,
      "outputs": []
    }
  ]
}