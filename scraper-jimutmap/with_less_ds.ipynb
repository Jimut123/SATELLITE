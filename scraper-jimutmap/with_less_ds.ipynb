{
  "nbformat": 4,
  "nbformat_minor": 0,
  "metadata": {
    "colab": {
      "name": "with_less_ds.ipynb",
      "provenance": [],
      "collapsed_sections": []
    },
    "kernelspec": {
      "name": "python3",
      "display_name": "Python 3"
    },
    "accelerator": "GPU"
  },
  "cells": [
    {
      "cell_type": "code",
      "metadata": {
        "id": "jAekLcHK9YwN",
        "colab_type": "code",
        "colab": {}
      },
      "source": [
        "import glob\n",
        "import matplotlib.pyplot as plt\n",
        "import cv2"
      ],
      "execution_count": 1,
      "outputs": []
    },
    {
      "cell_type": "code",
      "metadata": {
        "id": "R_H-2cs5wkfH",
        "colab_type": "code",
        "colab": {
          "base_uri": "https://localhost:8080/",
          "height": 126
        },
        "outputId": "7fd98559-0fb3-454b-a425-5852437c3b6f"
      },
      "source": [
        "from google.colab import drive\n",
        "drive.mount('/content/drive')"
      ],
      "execution_count": 2,
      "outputs": [
        {
          "output_type": "stream",
          "text": [
            "Go to this URL in a browser: https://accounts.google.com/o/oauth2/auth?client_id=947318989803-6bn6qk8qdgf4n4g3pfee6491hc0brc4i.apps.googleusercontent.com&redirect_uri=urn%3aietf%3awg%3aoauth%3a2.0%3aoob&scope=email%20https%3a%2f%2fwww.googleapis.com%2fauth%2fdocs.test%20https%3a%2f%2fwww.googleapis.com%2fauth%2fdrive%20https%3a%2f%2fwww.googleapis.com%2fauth%2fdrive.photos.readonly%20https%3a%2f%2fwww.googleapis.com%2fauth%2fpeopleapi.readonly&response_type=code\n",
            "\n",
            "Enter your authorization code:\n",
            "··········\n",
            "Mounted at /content/drive\n"
          ],
          "name": "stdout"
        }
      ]
    },
    {
      "cell_type": "code",
      "metadata": {
        "id": "iZgEp2w6wrmw",
        "colab_type": "code",
        "colab": {}
      },
      "source": [
        "!cp /content/drive/'My Drive'/JIMUT_MAPS.zip ."
      ],
      "execution_count": 3,
      "outputs": []
    },
    {
      "cell_type": "code",
      "metadata": {
        "id": "ZJiPylVswaCU",
        "colab_type": "code",
        "colab": {}
      },
      "source": [
        "!unzip -qq JIMUT_MAPS.zip"
      ],
      "execution_count": 4,
      "outputs": []
    },
    {
      "cell_type": "code",
      "metadata": {
        "id": "gfVW9D9lwZ_8",
        "colab_type": "code",
        "colab": {}
      },
      "source": [
        "!mv JIMUT_MAPS/* ."
      ],
      "execution_count": 5,
      "outputs": []
    },
    {
      "cell_type": "code",
      "metadata": {
        "id": "KtMQUPc3wZ8_",
        "colab_type": "code",
        "colab": {
          "base_uri": "https://localhost:8080/",
          "height": 52
        },
        "outputId": "00c1e385-80a0-4dbd-b89a-71540a746e1f"
      },
      "source": [
        "import glob\n",
        "roads = glob.glob('roads/*.png')\n",
        "print(\"Total # of files => \",len(roads))\n",
        "map = glob.glob('map/*.jpeg')\n",
        "print(\"Total # of files => \",len(map))"
      ],
      "execution_count": 6,
      "outputs": [
        {
          "output_type": "stream",
          "text": [
            "Total # of files =>  236606\n",
            "Total # of files =>  236606\n"
          ],
          "name": "stdout"
        }
      ]
    },
    {
      "cell_type": "code",
      "metadata": {
        "id": "6RT_VUTXwZ7Q",
        "colab_type": "code",
        "colab": {
          "base_uri": "https://localhost:8080/",
          "height": 35
        },
        "outputId": "bb0f8f05-9b98-4d32-b183-7b862c47ff61"
      },
      "source": [
        "from PIL import Image\n",
        "import os\n",
        "import numpy as np\n",
        "from tqdm import tqdm\n",
        "\n",
        "for item in tqdm(roads):\n",
        "  col = Image.open(item)\n",
        "  gry = col.convert('L') # returns grayscale version.\n",
        "  #get_img = cv2.imread(item, cv2.IMREAD_GRAYSCALE)\n",
        "  arr = np.asarray(gry)\n",
        "  tot = arr.sum(0).sum(0)\n",
        "  if tot > 0:\n",
        "    # keep the image, do nothing\n",
        "    pass\n",
        "  else:\n",
        "    #print(item, \"tot = \",tot)\n",
        "    #img = cv2.imread(item,cv2.IMREAD_UNCHANGED)\n",
        "    #plt.imshow(img) \n",
        "    get_map_list = str(item.split('/')[1]).split('_')\n",
        "    #print(get_map_list)\n",
        "    get_map = \"map/\"+get_map_list[0] +\"_\"+ get_map_list[1] + \".jpeg\"\n",
        "    #print(get_map)\n",
        "    #img = cv2.imread(get_map,cv2.IMREAD_UNCHANGED)\n",
        "    #plt.imshow(img[:,:,::-1]) \n",
        "    os.remove(item)\n",
        "    os.remove(get_map)\n",
        "    \n"
      ],
      "execution_count": null,
      "outputs": [
        {
          "output_type": "stream",
          "text": [
            "  7%|▋         | 15535/236606 [00:26<06:04, 606.27it/s]"
          ],
          "name": "stderr"
        }
      ]
    },
    {
      "cell_type": "code",
      "metadata": {
        "id": "KgXHPy1LwZ32",
        "colab_type": "code",
        "colab": {}
      },
      "source": [
        ""
      ],
      "execution_count": null,
      "outputs": []
    },
    {
      "cell_type": "code",
      "metadata": {
        "id": "K5cV6KShwZ1S",
        "colab_type": "code",
        "colab": {}
      },
      "source": [
        ""
      ],
      "execution_count": null,
      "outputs": []
    },
    {
      "cell_type": "code",
      "metadata": {
        "id": "TTi-uwuQwZyp",
        "colab_type": "code",
        "colab": {}
      },
      "source": [
        ""
      ],
      "execution_count": null,
      "outputs": []
    },
    {
      "cell_type": "code",
      "metadata": {
        "id": "va6WOg8YwZv1",
        "colab_type": "code",
        "colab": {}
      },
      "source": [
        ""
      ],
      "execution_count": null,
      "outputs": []
    }
  ]
}