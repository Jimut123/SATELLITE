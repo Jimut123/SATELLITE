{
 "cells": [
  {
   "cell_type": "code",
   "execution_count": null,
   "metadata": {
    "colab": {
     "base_uri": "https://localhost:8080/",
     "height": 196
    },
    "colab_type": "code",
    "id": "DXFO53ZhWOdG",
    "outputId": "4df9e958-0a97-4682-ac80-cc1e850f80a2"
   },
   "outputs": [
    {
     "name": "stdout",
     "output_type": "stream",
     "text": [
      "Collecting wget\n",
      "  Downloading https://files.pythonhosted.org/packages/47/6a/62e288da7bcda82b935ff0c6cfe542970f04e29c756b0e147251b2fb251f/wget-3.2.zip\n",
      "Building wheels for collected packages: wget\n",
      "  Building wheel for wget (setup.py) ... \u001b[?25l\u001b[?25hdone\n",
      "  Created wheel for wget: filename=wget-3.2-cp36-none-any.whl size=9682 sha256=ca0d29afc04689bfafd80b6bbdd953b56a8ea70e75012f8623def8eaed109f20\n",
      "  Stored in directory: /root/.cache/pip/wheels/40/15/30/7d8f7cea2902b4db79e3fea550d7d7b85ecb27ef992b618f3f\n",
      "Successfully built wget\n",
      "Installing collected packages: wget\n",
      "Successfully installed wget-3.2\n"
     ]
    }
   ],
   "source": [
    "! pip install wget\n",
    "#! apt-get install htop"
   ]
  },
  {
   "cell_type": "code",
   "execution_count": null,
   "metadata": {
    "colab": {},
    "colab_type": "code",
    "id": "dJX2rlPRvEZv"
   },
   "outputs": [],
   "source": [
    "! mkdir Kolkata_colab12"
   ]
  },
  {
   "cell_type": "code",
   "execution_count": null,
   "metadata": {
    "colab": {},
    "colab_type": "code",
    "id": "c9_DcFZBrAXT"
   },
   "outputs": [],
   "source": [
    "! rm -rf *.jpeg"
   ]
  },
  {
   "cell_type": "code",
   "execution_count": null,
   "metadata": {
    "colab": {},
    "colab_type": "code",
    "id": "Kyg32SuArCyf"
   },
   "outputs": [],
   "source": [
    "! rm -rf *.png"
   ]
  },
  {
   "cell_type": "code",
   "execution_count": null,
   "metadata": {
    "colab": {},
    "colab_type": "code",
    "id": "02b_JkUgWAHI"
   },
   "outputs": [],
   "source": [
    "\"\"\"\n",
    "This program downloads / scraps Apple maps for free.\n",
    "OPEN SOURCED UNDER GPL-V3.0.\n",
    "Author : Jimut Bahan Pal | jimutbahanpal@yahoo.com\n",
    "\"\"\"\n",
    "\n",
    "import urllib.request, urllib.parse, urllib.error\n",
    "from bs4 import BeautifulSoup\n",
    "import ssl\n",
    "import os\n",
    "import cv2\n",
    "import wget\n",
    "import imghdr\n",
    "import shutil\n",
    "import numpy as np\n",
    "import requests\n",
    "from time import time as timer\n",
    "from multiprocessing.pool import ThreadPool\n",
    "import time\n",
    "import math\n",
    "from os import listdir\n",
    "from os.path import isfile, join\n",
    "from tqdm import tqdm\n",
    "\n",
    "# Ignore SSL certificate errors\n",
    "ctx = ssl.create_default_context()\n",
    "ctx.check_hostname = False\n",
    "ctx.verify_mode = ssl.CERT_NONE\n",
    "\n",
    "headers = {\n",
    "    'User-Agent': 'Mozilla/5.0 (Macintosh; Intel Mac OS X 10.8; rv:21.0) Gecko/20100101 Firefox/21.0'\n",
    "}\n",
    "\n",
    "LOCK_VAR = 0\n",
    "UNLOCK_VAR = 0\n",
    "LOCKING_LIMIT = 50 # MAX NO OF THREADS\n",
    "\n",
    "\n",
    "class api:\n",
    "    \n",
    "    def __init__(self,ac_key,min_lat_deg,max_lat_deg,min_lon_deg,max_lon_deg,zoom=19,verbose=False,threads_=50):\n",
    "        global LOCKING_LIMIT\n",
    "        self.ac_key = ac_key\n",
    "        self.min_lat_deg = min_lat_deg\n",
    "        self.max_lat_deg = max_lat_deg\n",
    "        self.min_lon_deg = min_lon_deg\n",
    "        self.max_lon_deg = max_lon_deg\n",
    "        self.zoom = zoom\n",
    "        self.verbose = verbose\n",
    "        LOCKING_LIMIT = threads_\n",
    "        print(self.ac_key,self.min_lat_deg,self.max_lat_deg,self.min_lon_deg,self.max_lon_deg,self.zoom,self.verbose,LOCKING_LIMIT)\n",
    "\n",
    "    def ret_xy_tiles(self,lat_deg,lon_deg):\n",
    "        # changes for 0.0005\n",
    "        # This function returns the tilex and tiley in tuple\n",
    "        # Takes latitude, longitude and zoom_level\n",
    "        n = 2**self.zoom\n",
    "        xtile = n * ((lon_deg + 180) / 360)\n",
    "        lat_rad = lat_deg * math.pi / 180.0\n",
    "        ytile = n * (1 - (math.log(math.tan(lat_rad) + 1/math.cos(lat_rad)) / math.pi)) / 2\n",
    "        return int(xtile),int(ytile)\n",
    "\n",
    "    def ret_lat_lon(self,x_tyle,y_tyle):\n",
    "        # This function returns the lat, lon as a tuple\n",
    "        # Takes x_tyle, y_tyle and zoom_level\n",
    "        n = 2**self.zoom\n",
    "        lon_deg = int(x_tyle)/n * 360.0 - 180.0\n",
    "        lat_rad = math.atan(math.asinh(math.pi * (1 - 2 * int(y_tyle)/n)))\n",
    "        lat_deg = lat_rad * 180.0 / math.pi\n",
    "        return lat_deg, lon_deg\n",
    "    \n",
    "    def make_url(self,lat_deg,lon_deg):\n",
    "        # returns the list of urls when lat, lon, zoom and accessKey is provided\n",
    "        x_tyle,y_tyle = self.ret_xy_tiles(lat_deg,lon_deg)\n",
    "        return [x_tyle,y_tyle]\n",
    "    \n",
    "    def get_img(self,url_str):\n",
    "        # to get the images from the url provided and save it\n",
    "        global headers, LOCK_VAR, UNLOCK_VAR, LOCKING_LIMIT\n",
    "        if self.verbose == True:\n",
    "            print(url_str)\n",
    "        UNLOCK_VAR = UNLOCK_VAR + 1\n",
    "        LOCK_VAR = 1\n",
    "        if self.verbose == True:\n",
    "            print(\"UNLOCK VAR : \",UNLOCK_VAR)\n",
    "        if UNLOCK_VAR >= LOCKING_LIMIT:\n",
    "            LOCK_VAR = 0\n",
    "            UNLOCK_VAR = 0\n",
    "            if self.verbose == True:\n",
    "                print(\"-------- UNLOCKING\")\n",
    "        x_tyle = url_str[0]\n",
    "        y_tyle = url_str[1]\n",
    "        file_name = str(x_tyle)+\"_\"+str(y_tyle)+\".jpeg\"\n",
    "        try:\n",
    "            if open(str(file_name),'r') == True:\n",
    "                if self.verbose == True:\n",
    "                    print(file_name,\"file is present\")\n",
    "                pass\n",
    "        except:\n",
    "            try:\n",
    "                #https://sat-cdn3.apple-mapkit.com/tile?style=7&size=1&scale=1&z=19&x=371320&y=219633&v=7072&accessKey=1597844285_2623996721767830360_%2F_2JSDgZLx9BNvymyuDPqmaVPQGKgIY6HNsMGvnWnVP74%3D\n",
    "                #https://cdn3.apple-mapkit.com/ti/tile?country=IN&region=IN&style=46&size=1&x=371305&y=219636&z=19&scale=1&lang=en&v=2008184&poi=0&accessKey=1597846063_5668354640921081798_%2F_tDWzoV7s8c94X9yDuhnpOfUQadPrp82ogZuM%2BHwf50g%3D&labels=0\n",
    "                #https://cdn1.apple-mapkit.com/ti/tile?country=IN&region=IN&style=46&size=1&x=371307&y=219638&z=19&scale=1&lang=en&v=2008184&poi=0&accessKey=1597846063_5668354640921081798_%2F_tDWzoV7s8c94X9yDuhnpOfUQadPrp82ogZuM%2BHwf50g%3D&labels=0\n",
    "                req_url = str(\"https://sat-cdn\"+str(1)+\".apple-mapkit.com/tile?style=7&size=1&scale=1&z=\"+str(self.zoom)+\"&x=\"+str(x_tyle)+\"&y=\"+str(y_tyle)+\"&v=7072\"+str(self.ac_key))\n",
    "                if self.verbose == True:\n",
    "                    print(req_url)\n",
    "                img_name = file_name.split('.')[0]\n",
    "                file_name1 = str(img_name + \".jpeg\")\n",
    "                r = requests.get(req_url, #allow_redirects=True,\n",
    "                                headers=headers)\n",
    "                open(file_name1, 'wb').write(r.content)\n",
    "                if imghdr.what(file_name1) is 'jpeg':\n",
    "                    if self.verbose == True:\n",
    "                        print(file_name1,\"JPEG\")\n",
    "                else:\n",
    "                    os.remove(file_name1)\n",
    "                    if self.verbose == True:\n",
    "                        print(file_name1,\"NOT JPEG\")\n",
    "                \n",
    "                # For the roads data\n",
    "                req_url = str(\"https://cdn\"+str(1)+\".apple-mapkit.com/ti/tile?country=IN&region=IN&style=46&size=1&x=\")+str(x_tyle)+str(\"&y=\")+str(y_tyle)+str(\"&z=\")+str(self.zoom)+\"&scale=1&lang=en&v=2008184&poi=0\"+str(self.ac_key)+\"&labels=0\"\n",
    "                #req_url = str(\"https://sat-cdn\"+str(1)+\".apple-mapkit.com/tile?style=7&size=1&scale=1&z=\"+str(self.zoom)+\"&x=\"+str(x_tyle)+\"&y=\"+str(y_tyle)+\"&v=7072\"+str(self.ac_key))\n",
    "                \n",
    "                file_name_road = file_name.split('.')[0]+\"_road.png\"\n",
    "                if self.verbose == True:\n",
    "                    print(req_url)\n",
    "                r = requests.get(req_url, #allow_redirects=True,\n",
    "                                headers=headers)\n",
    "                open(file_name_road, 'wb').write(r.content)\n",
    "                if imghdr.what(file_name_road) is 'png':\n",
    "                    if self.verbose == True:\n",
    "                        print(file_name_road,\"PNG\")\n",
    "                else:\n",
    "                    os.remove(file_name_road)\n",
    "                    if self.verbose == True:\n",
    "                        print(file_name_road,\"NOT PNG\")\n",
    "            except Exception as e:\n",
    "                if self.verbose == True:\n",
    "                    print(e)\n",
    "            \n",
    "            try:\n",
    "                \"\"\"\n",
    "                req_url = str(\"https://sat-cdn\"+str(2)+\".apple-mapkit.com/tile?style=7&size=1&scale=1&z=\"+str(self.zoom)+\"&x=\"+str(x_tyle)+\"&y=\"+str(y_tyle)+\"&v=4072\"+str(self.ac_key))\n",
    "                if self.verbose == True:\n",
    "                    print(req_url)\n",
    "                r = requests.get(req_url, #allow_redirects=True,\n",
    "                                headers=headers)\n",
    "                file_name2 = str(img_name + \"_2.jpeg\")\n",
    "                open(file_name2, 'wb').write(r.content)\n",
    "                if imghdr.what(file_name2) is 'jpeg':\n",
    "                    if self.verbose == True:\n",
    "                        print(file_name2,\"JPEG\")\n",
    "                else:\n",
    "                    os.remove(file_name2)\n",
    "                    if self.verbose == True:\n",
    "                        print(file_name2,\"NOT JPEG\")\n",
    "                \"\"\"\n",
    "                # For the roads data\n",
    "                req_url = str(\"https://cdn\"+str(2)+\".apple-mapkit.com/ti/tile?country=IN&region=IN&style=46&size=1&x=\")+str(x_tyle)+str(\"&y=\")+str(y_tyle)+str(\"&z=\")+str(self.zoom)+\"&scale=1&lang=en&v=2008184&poi=0\"+str(self.ac_key)+\"&labels=0\"\n",
    "                \n",
    "                if self.verbose == True:\n",
    "                    print(req_url)\n",
    "                r = requests.get(req_url, #allow_redirects=True,\n",
    "                                headers=headers)\n",
    "                open(file_name_road, 'wb').write(r.content)\n",
    "                if imghdr.what(file_name_road) is 'png':\n",
    "                    if self.verbose == True:\n",
    "                        print(file_name_road,\"PNG\")\n",
    "                else:\n",
    "                    os.remove(file_name_road)\n",
    "                    if self.verbose == True:\n",
    "                        print(file_name_road,\"NOT PNG\")\n",
    "                        \n",
    "            except Exception as e:\n",
    "                if self.verbose == True:\n",
    "                    print(e)\n",
    "            \n",
    "                \n",
    "            try:\n",
    "                \"\"\"\n",
    "                req_url = str(\"https://sat-cdn\"+str(3)+\".apple-mapkit.com/tile?style=7&size=1&scale=1&z=\"+str(self.zoom)+\"&x=\"+str(x_tyle)+\"&y=\"+str(y_tyle)+\"&v=4072\"+str(self.ac_key))\n",
    "                if self.verbose == True:\n",
    "                    print(req_url)\n",
    "                r = requests.get(req_url, #allow_redirects=True,\n",
    "                                headers=headers)\n",
    "                file_name3 = str(img_name + \"_3.jpeg\")\n",
    "                open(file_name3, 'wb').write(r.content)\n",
    "                if imghdr.what(file_name3) is 'jpeg':\n",
    "                    if self.verbose == True:\n",
    "                        print(file_name3,\"JPEG\")\n",
    "                else:\n",
    "                    os.remove(file_name3)\n",
    "                    if self.verbose == True:\n",
    "                        print(file_name3,\"NOT JPEG\")\n",
    "                \"\"\"\n",
    "                # For the roads data\n",
    "                req_url = str(\"https://cdn\"+str(3)+\".apple-mapkit.com/ti/tile?country=IN&region=IN&style=46&size=1&x=\")+str(x_tyle)+str(\"&y=\")+str(y_tyle)+str(\"&z=\")+str(self.zoom)+\"&scale=1&lang=en&v=2008184&poi=0\"+str(self.ac_key)+\"&labels=0\"\n",
    "                #print(req_url)\n",
    "                if self.verbose == True:\n",
    "                    print(req_url)\n",
    "                r = requests.get(req_url, #allow_redirects=True,\n",
    "                                headers=headers)\n",
    "                open(file_name_road, 'wb').write(r.content)\n",
    "                if imghdr.what(file_name_road) is 'png':\n",
    "                    if self.verbose == True:\n",
    "                        print(file_name_road,\"PNG\")\n",
    "                else:\n",
    "                    os.remove(file_name_road)\n",
    "                    if self.verbose == True:\n",
    "                        print(file_name_road,\"NOT PNG\")\n",
    "                        \n",
    "            except Exception as e:\n",
    "                if self.verbose == True:\n",
    "                    print(e)\n",
    "            try:\n",
    "                \"\"\"\n",
    "                req_url = str(\"https://sat-cdn\"+str(4)+\".apple-mapkit.com/tile?style=7&size=1&scale=1&z=\"+str(self.zoom)+\"&x=\"+str(x_tyle)+\"&y=\"+str(y_tyle)+\"&v=4072\"+str(self.ac_key))\n",
    "                if self.verbose == True:\n",
    "                    print(req_url)\n",
    "                r = requests.get(req_url, #allow_redirects=True,\n",
    "                                headers=headers)\n",
    "                file_name4 = str(img_name + \"_4.jpeg\")\n",
    "                open(file_name4, 'wb').write(r.content)\n",
    "                if imghdr.what(file_name4) is 'jpeg':\n",
    "                    if self.verbose == True:\n",
    "                        print(file_name4,\"JPEG\")\n",
    "                else:\n",
    "                    os.remove(file_name4)\n",
    "                    if self.verbose == True:\n",
    "                        print(file_name4,\"NOT JPEG\")\n",
    "                \"\"\"\n",
    "                # For the roads data\n",
    "                req_url = str(\"https://cdn\"+str(4)+\".apple-mapkit.com/ti/tile?country=IN&region=IN&style=46&size=1&x=\")+str(x_tyle)+str(\"&y=\")+str(y_tyle)+str(\"&z=\")+str(self.zoom)+\"&scale=1&lang=en&v=2008184&poi=0\"+str(self.ac_key)+\"&labels=0\"\n",
    "                #req_url = str(\"https://sat-cdn\"+str(1)+\".apple-mapkit.com/tile?style=7&size=1&scale=1&z=\"+str(self.zoom)+\"&x=\"+str(x_tyle)+\"&y=\"+str(y_tyle)+\"&v=7072\"+str(self.ac_key))\n",
    "                \n",
    "                \n",
    "                if self.verbose == True:\n",
    "                    print(req_url)\n",
    "                r = requests.get(req_url, #allow_redirects=True,\n",
    "                                headers=headers)\n",
    "                open(file_name_road, 'wb').write(r.content)\n",
    "                if imghdr.what(file_name_road) is 'png':\n",
    "                    if self.verbose == True:\n",
    "                        print(file_name_road,\"PNG\")\n",
    "                else:\n",
    "                    os.remove(file_name_road)\n",
    "                    if self.verbose == True:\n",
    "                        print(file_name_road,\"NOT PNG\")\n",
    "                        \n",
    "            except Exception as e:\n",
    "                if self.verbose == True:\n",
    "                    print(e)\n",
    "        # delete unnecessary files\n",
    "\n",
    "    def download(self):\n",
    "        min_lat = self.min_lat_deg\n",
    "        max_lat = self.max_lat_deg\n",
    "        min_lon = self.min_lon_deg\n",
    "        max_lon = self.max_lon_deg\n",
    "        if min_lat > max_lat:\n",
    "            i_val = -1\n",
    "        else:\n",
    "            i_val = 1\n",
    "        \n",
    "        if max_lon > max_lon:\n",
    "            j_val = -1\n",
    "        else:\n",
    "            j_val = 1\n",
    "        \n",
    "        for i in tqdm(np.arange(float(min_lat),float(max_lat),i_val*0.0005)):\n",
    "            URL_ALL = []\n",
    "            for j in np.arange(float(min_lon),float(max_lon),j_val*0.0005):\n",
    "                get_urls = self.make_url(i,j)\n",
    "                URL_ALL.append([get_urls[0],get_urls[1]])\n",
    "            if self.verbose == True:\n",
    "                print(\"ALL URL CREATED! ...\")\n",
    "            global LOCK_VAR, UNLOCK_VAR, LOCKING_LIMIT\n",
    "            if LOCK_VAR == 0:\n",
    "                if self.verbose == True:\n",
    "                    print(\"LOCKING\")\n",
    "                LOCK_VAR = 1\n",
    "                UNLOCK_VAR = 0\n",
    "                ThreadPool(LOCKING_LIMIT).imap_unordered(self.get_img, URL_ALL)\n",
    "            # SEMAPHORE KINDA THINGIE\n",
    "            while LOCK_VAR == 1:\n",
    "                \n",
    "                if self.verbose == True:\n",
    "                    print(\"WAITING\",end=\"\")\n",
    "                pass"
   ]
  },
  {
   "cell_type": "code",
   "execution_count": null,
   "metadata": {
    "colab": {},
    "colab_type": "code",
    "id": "ZGbVEjjJWGG0"
   },
   "outputs": [],
   "source": [
    "import sqlite3\n",
    "\n",
    "conn = sqlite3.connect('map_db.sqlite')\n",
    "cur = conn.cursor()\n",
    "\n",
    "get_items = cur.execute(''' SELECT * FROM data where visited = ?''',(0,))\n",
    "\n"
   ]
  },
  {
   "cell_type": "code",
   "execution_count": null,
   "metadata": {
    "colab": {
     "base_uri": "https://localhost:8080/",
     "height": 108
    },
    "colab_type": "code",
    "id": "K4TbL_d9xnQ0",
    "outputId": "0622f125-2e7f-4a72-c2ed-da0a4bf843a3"
   },
   "outputs": [
    {
     "name": "stdout",
     "output_type": "stream",
     "text": [
      "Give API (from &accessKey=) ::&accessKey=1598094801_8701615105825251521_%2F_NeuWfrJvjQ6cxW5DXNwvvxeKhikdeSc31%2FgsdajvqXI%3D\n"
     ]
    },
    {
     "name": "stderr",
     "output_type": "stream",
     "text": [
      "\r",
      "  0%|          | 0/300 [00:00<?, ?it/s]"
     ]
    },
    {
     "name": "stdout",
     "output_type": "stream",
     "text": [
      "&accessKey=1598094801_8701615105825251521_%2F_NeuWfrJvjQ6cxW5DXNwvvxeKhikdeSc31%2FgsdajvqXI%3D 22.949999999999996 23.099999999999994 88.45000000000002 88.60000000000002 19 False 8\n"
     ]
    },
    {
     "name": "stderr",
     "output_type": "stream",
     "text": [
      "100%|██████████| 300/300 [15:05<00:00,  3.02s/it]"
     ]
    },
    {
     "name": "stdout",
     "output_type": "stream",
     "text": [
      "Done, comitting\n"
     ]
    },
    {
     "name": "stderr",
     "output_type": "stream",
     "text": [
      "\n"
     ]
    }
   ],
   "source": [
    "for item in get_items:\n",
    "    #print(item)\n",
    "    id_ = item[0]\n",
    "    min_lat_deg = float(item[1])\n",
    "    max_lat_deg = float(item[2])\n",
    "    min_lon_deg = float(item[3])\n",
    "    max_lon_deg = float(item[4])\n",
    "    api_key = input(\"Give API (from &accessKey=) ::\")\n",
    "    a = api(str(api_key),min_lat_deg,max_lat_deg,min_lon_deg,max_lon_deg,zoom=19,verbose=False,threads_=8)\n",
    "    a.download()\n",
    "    print(\"Done, comitting\")\n",
    "    cur.execute('''UPDATE data SET visited = 1 WHERE id = ?''',(id_,))\n",
    "    cur.execute('''UPDATE data SET key = ? WHERE id = ?''',(api_key, id_,))\n",
    "    conn.commit()"
   ]
  },
  {
   "cell_type": "code",
   "execution_count": null,
   "metadata": {
    "colab": {},
    "colab_type": "code",
    "id": "MZRjwecGDV_o"
   },
   "outputs": [],
   "source": [
    "! find -name '*.png' | xargs mv --target-directory=Kolkata_colab12 > /dev/null 2>&1\n",
    "! find -name '*.jpeg' | xargs mv --target-directory=Kolkata_colab12 > /dev/null 2>&1"
   ]
  },
  {
   "cell_type": "code",
   "execution_count": null,
   "metadata": {
    "colab": {
     "base_uri": "https://localhost:8080/",
     "height": 52
    },
    "colab_type": "code",
    "id": "ThnZUbwIWLq2",
    "outputId": "a5ce90cc-7117-4576-8c83-f995056fe0f3"
   },
   "outputs": [
    {
     "name": "stdout",
     "output_type": "stream",
     "text": [
      "mv: cannot stat '*.jpeg': No such file or directory\n",
      "mv: cannot stat '*.png': No such file or directory\n"
     ]
    }
   ],
   "source": [
    "! mv *.jpeg Kolkata_colab12\n",
    "! mv *.png Kolkata_colab12"
   ]
  },
  {
   "cell_type": "code",
   "execution_count": null,
   "metadata": {
    "colab": {
     "base_uri": "https://localhost:8080/",
     "height": 35
    },
    "colab_type": "code",
    "id": "w9oNWybQvbF9",
    "outputId": "9a1130f5-5ba6-44e8-e620-be256b121332"
   },
   "outputs": [
    {
     "name": "stdout",
     "output_type": "stream",
     "text": [
      "666M\tKolkata_colab12\n"
     ]
    }
   ],
   "source": [
    "! du -hs  Kolkata_colab12"
   ]
  },
  {
   "cell_type": "code",
   "execution_count": null,
   "metadata": {
    "colab": {
     "base_uri": "https://localhost:8080/",
     "height": 52
    },
    "colab_type": "code",
    "id": "B0gk7Irw8qh9",
    "outputId": "e48f7665-db85-4ed6-ec5b-fab3111fd54a"
   },
   "outputs": [
    {
     "name": "stdout",
     "output_type": "stream",
     "text": [
      "/bin/bash: /bin/ls: Argument list too long\n",
      "      0       0       0\n"
     ]
    }
   ],
   "source": [
    "! ls -l Kolkata_colab12/* | wc "
   ]
  },
  {
   "cell_type": "code",
   "execution_count": null,
   "metadata": {
    "colab": {},
    "colab_type": "code",
    "id": "W7M5Ez008qY-"
   },
   "outputs": [],
   "source": [
    "# ! rm -rf *.jpeg\n",
    "# !rm -rf *.png"
   ]
  },
  {
   "cell_type": "code",
   "execution_count": null,
   "metadata": {
    "colab": {},
    "colab_type": "code",
    "id": "Rn9qJrGy70Cf"
   },
   "outputs": [],
   "source": [
    "! rm -rf Kolkata_colab.zip"
   ]
  },
  {
   "cell_type": "code",
   "execution_count": null,
   "metadata": {
    "colab": {},
    "colab_type": "code",
    "id": "2it-oov68p4d"
   },
   "outputs": [],
   "source": []
  },
  {
   "cell_type": "code",
   "execution_count": null,
   "metadata": {
    "colab": {},
    "colab_type": "code",
    "id": "vmBNz9-B8rFE"
   },
   "outputs": [],
   "source": []
  },
  {
   "cell_type": "code",
   "execution_count": null,
   "metadata": {
    "colab": {},
    "colab_type": "code",
    "id": "U3Gm1YzgvfoX"
   },
   "outputs": [],
   "source": [
    "! zip -r Kolkata_colab12.zip Kolkata_colab12 > /etc/null"
   ]
  },
  {
   "cell_type": "code",
   "execution_count": null,
   "metadata": {
    "colab": {
     "base_uri": "https://localhost:8080/",
     "height": 35
    },
    "colab_type": "code",
    "id": "AnvNn8cf6cZ9",
    "outputId": "a7f06d3b-ec11-4ba8-be74-f5ab50b926c6"
   },
   "outputs": [
    {
     "name": "stdout",
     "output_type": "stream",
     "text": [
      "426M\tKolkata_colab12.zip\n"
     ]
    }
   ],
   "source": [
    "! du -hs Kolkata_colab12.zip"
   ]
  },
  {
   "cell_type": "code",
   "execution_count": null,
   "metadata": {
    "colab": {
     "base_uri": "https://localhost:8080/",
     "height": 126
    },
    "colab_type": "code",
    "id": "PtLHkuu0HbJO",
    "outputId": "f1b7b746-ddbd-4cec-cfcc-9e13bc451336"
   },
   "outputs": [
    {
     "name": "stdout",
     "output_type": "stream",
     "text": [
      "Go to this URL in a browser: https://accounts.google.com/o/oauth2/auth?client_id=947318989803-6bn6qk8qdgf4n4g3pfee6491hc0brc4i.apps.googleusercontent.com&redirect_uri=urn%3aietf%3awg%3aoauth%3a2.0%3aoob&scope=email%20https%3a%2f%2fwww.googleapis.com%2fauth%2fdocs.test%20https%3a%2f%2fwww.googleapis.com%2fauth%2fdrive%20https%3a%2f%2fwww.googleapis.com%2fauth%2fdrive.photos.readonly%20https%3a%2f%2fwww.googleapis.com%2fauth%2fpeopleapi.readonly&response_type=code\n",
      "\n",
      "Enter your authorization code:\n",
      "··········\n",
      "Mounted at /content/drive\n"
     ]
    }
   ],
   "source": [
    "from google.colab import drive\n",
    "drive.mount('/content/drive')"
   ]
  },
  {
   "cell_type": "code",
   "execution_count": null,
   "metadata": {
    "colab": {},
    "colab_type": "code",
    "id": "64OA1ueQH0CU"
   },
   "outputs": [],
   "source": [
    "! mv Kolkata_colab12.zip /content/drive/'My Drive'/"
   ]
  },
  {
   "cell_type": "code",
   "execution_count": null,
   "metadata": {
    "colab": {},
    "colab_type": "code",
    "id": "8DGN0is06mDZ"
   },
   "outputs": [],
   "source": [
    "! rm -rf Kolkata_colab2"
   ]
  },
  {
   "cell_type": "code",
   "execution_count": null,
   "metadata": {
    "colab": {},
    "colab_type": "code",
    "id": "-rfz3z-o6vLx"
   },
   "outputs": [],
   "source": []
  }
 ],
 "metadata": {
  "accelerator": "GPU",
  "colab": {
   "collapsed_sections": [],
   "name": "jimutmap-scraper-colab.ipynb",
   "provenance": []
  },
  "kernelspec": {
   "display_name": "Python 3",
   "language": "python",
   "name": "python3"
  },
  "language_info": {
   "codemirror_mode": {
    "name": "ipython",
    "version": 3
   },
   "file_extension": ".py",
   "mimetype": "text/x-python",
   "name": "python",
   "nbconvert_exporter": "python",
   "pygments_lexer": "ipython3",
   "version": "3.8.5"
  }
 },
 "nbformat": 4,
 "nbformat_minor": 1
}
