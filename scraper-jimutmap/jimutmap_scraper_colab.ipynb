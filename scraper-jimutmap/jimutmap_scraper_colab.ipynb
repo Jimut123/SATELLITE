{
  "nbformat": 4,
  "nbformat_minor": 0,
  "metadata": {
    "colab": {
      "name": "jimutmap-scraper-colab.ipynb",
      "provenance": [],
      "collapsed_sections": []
    },
    "kernelspec": {
      "name": "python3",
      "display_name": "Python 3"
    }
  },
  "cells": [
    {
      "cell_type": "code",
      "metadata": {
        "id": "DXFO53ZhWOdG",
        "colab_type": "code",
        "colab": {
          "base_uri": "https://localhost:8080/",
          "height": 586
        },
        "outputId": "029d3603-3a34-4f22-d9a8-ea0256d2b3c4"
      },
      "source": [
        "! pip install wget\n",
        "#! apt-get install htop"
      ],
      "execution_count": 1,
      "outputs": [
        {
          "output_type": "stream",
          "text": [
            "Collecting wget\n",
            "  Downloading https://files.pythonhosted.org/packages/47/6a/62e288da7bcda82b935ff0c6cfe542970f04e29c756b0e147251b2fb251f/wget-3.2.zip\n",
            "Building wheels for collected packages: wget\n",
            "  Building wheel for wget (setup.py) ... \u001b[?25l\u001b[?25hdone\n",
            "  Created wheel for wget: filename=wget-3.2-cp36-none-any.whl size=9682 sha256=d0bf26a288ea785f6cbef9e0e644c6328ca30474791ec0c287bcfb33c32dc99f\n",
            "  Stored in directory: /root/.cache/pip/wheels/40/15/30/7d8f7cea2902b4db79e3fea550d7d7b85ecb27ef992b618f3f\n",
            "Successfully built wget\n",
            "Installing collected packages: wget\n",
            "Successfully installed wget-3.2\n",
            "Reading package lists... Done\n",
            "Building dependency tree       \n",
            "Reading state information... Done\n",
            "The following package was automatically installed and is no longer required:\n",
            "  libnvidia-common-440\n",
            "Use 'apt autoremove' to remove it.\n",
            "Suggested packages:\n",
            "  strace\n",
            "The following NEW packages will be installed:\n",
            "  htop\n",
            "0 upgraded, 1 newly installed, 0 to remove and 35 not upgraded.\n",
            "Need to get 80.0 kB of archives.\n",
            "After this operation, 221 kB of additional disk space will be used.\n",
            "Get:1 http://archive.ubuntu.com/ubuntu bionic/main amd64 htop amd64 2.1.0-3 [80.0 kB]\n",
            "Fetched 80.0 kB in 0s (185 kB/s)\n",
            "Selecting previously unselected package htop.\n",
            "(Reading database ... 144487 files and directories currently installed.)\n",
            "Preparing to unpack .../htop_2.1.0-3_amd64.deb ...\n",
            "Unpacking htop (2.1.0-3) ...\n",
            "Setting up htop (2.1.0-3) ...\n",
            "Processing triggers for man-db (2.8.3-2ubuntu0.1) ...\n",
            "Processing triggers for mime-support (3.60ubuntu1) ...\n"
          ],
          "name": "stdout"
        }
      ]
    },
    {
      "cell_type": "code",
      "metadata": {
        "id": "dJX2rlPRvEZv",
        "colab_type": "code",
        "colab": {}
      },
      "source": [
        "! mkdir Kolkata_colab"
      ],
      "execution_count": 2,
      "outputs": []
    },
    {
      "cell_type": "code",
      "metadata": {
        "id": "02b_JkUgWAHI",
        "colab_type": "code",
        "colab": {}
      },
      "source": [
        "\"\"\"\n",
        "This program downloads / scraps Apple maps for free.\n",
        "OPEN SOURCED UNDER GPL-V3.0.\n",
        "Author : Jimut Bahan Pal | jimutbahanpal@yahoo.com\n",
        "\"\"\"\n",
        "\n",
        "import urllib.request, urllib.parse, urllib.error\n",
        "from bs4 import BeautifulSoup\n",
        "import ssl\n",
        "import os\n",
        "import cv2\n",
        "import wget\n",
        "import imghdr\n",
        "import shutil\n",
        "import numpy as np\n",
        "import requests\n",
        "from time import time as timer\n",
        "from multiprocessing.pool import ThreadPool\n",
        "import time\n",
        "import math\n",
        "from os import listdir\n",
        "from os.path import isfile, join\n",
        "from tqdm import tqdm\n",
        "\n",
        "# Ignore SSL certificate errors\n",
        "ctx = ssl.create_default_context()\n",
        "ctx.check_hostname = False\n",
        "ctx.verify_mode = ssl.CERT_NONE\n",
        "\n",
        "headers = {\n",
        "    'User-Agent': 'Mozilla/5.0 (Macintosh; Intel Mac OS X 10.8; rv:21.0) Gecko/20100101 Firefox/21.0'\n",
        "}\n",
        "\n",
        "LOCK_VAR = 0\n",
        "UNLOCK_VAR = 0\n",
        "LOCKING_LIMIT = 50 # MAX NO OF THREADS\n",
        "\n",
        "\n",
        "class api:\n",
        "    \n",
        "    def __init__(self,ac_key,min_lat_deg,max_lat_deg,min_lon_deg,max_lon_deg,zoom=19,verbose=False,threads_=50):\n",
        "        global LOCKING_LIMIT\n",
        "        self.ac_key = ac_key\n",
        "        self.min_lat_deg = min_lat_deg\n",
        "        self.max_lat_deg = max_lat_deg\n",
        "        self.min_lon_deg = min_lon_deg\n",
        "        self.max_lon_deg = max_lon_deg\n",
        "        self.zoom = zoom\n",
        "        self.verbose = verbose\n",
        "        LOCKING_LIMIT = threads_\n",
        "        print(self.ac_key,self.min_lat_deg,self.max_lat_deg,self.min_lon_deg,self.max_lon_deg,self.zoom,self.verbose,LOCKING_LIMIT)\n",
        "\n",
        "    def ret_xy_tiles(self,lat_deg,lon_deg):\n",
        "        # changes for 0.0005\n",
        "        # This function returns the tilex and tiley in tuple\n",
        "        # Takes latitude, longitude and zoom_level\n",
        "        n = 2**self.zoom\n",
        "        xtile = n * ((lon_deg + 180) / 360)\n",
        "        lat_rad = lat_deg * math.pi / 180.0\n",
        "        ytile = n * (1 - (math.log(math.tan(lat_rad) + 1/math.cos(lat_rad)) / math.pi)) / 2\n",
        "        return int(xtile),int(ytile)\n",
        "\n",
        "    def ret_lat_lon(self,x_tyle,y_tyle):\n",
        "        # This function returns the lat, lon as a tuple\n",
        "        # Takes x_tyle, y_tyle and zoom_level\n",
        "        n = 2**self.zoom\n",
        "        lon_deg = int(x_tyle)/n * 360.0 - 180.0\n",
        "        lat_rad = math.atan(math.asinh(math.pi * (1 - 2 * int(y_tyle)/n)))\n",
        "        lat_deg = lat_rad * 180.0 / math.pi\n",
        "        return lat_deg, lon_deg\n",
        "    \n",
        "    def make_url(self,lat_deg,lon_deg):\n",
        "        # returns the list of urls when lat, lon, zoom and accessKey is provided\n",
        "        x_tyle,y_tyle = self.ret_xy_tiles(lat_deg,lon_deg)\n",
        "        return [x_tyle,y_tyle]\n",
        "    \n",
        "    def get_img(self,url_str):\n",
        "        # to get the images from the url provided and save it\n",
        "        global headers, LOCK_VAR, UNLOCK_VAR, LOCKING_LIMIT\n",
        "        if self.verbose == True:\n",
        "            print(url_str)\n",
        "        UNLOCK_VAR = UNLOCK_VAR + 1\n",
        "        LOCK_VAR = 1\n",
        "        if self.verbose == True:\n",
        "            print(\"UNLOCK VAR : \",UNLOCK_VAR)\n",
        "        if UNLOCK_VAR >= LOCKING_LIMIT:\n",
        "            LOCK_VAR = 0\n",
        "            UNLOCK_VAR = 0\n",
        "            if self.verbose == True:\n",
        "                print(\"-------- UNLOCKING\")\n",
        "        x_tyle = url_str[0]\n",
        "        y_tyle = url_str[1]\n",
        "        file_name = str(x_tyle)+\"_\"+str(y_tyle)+\".jpeg\"\n",
        "        try:\n",
        "            if open(str(file_name),'r') == True:\n",
        "                if self.verbose == True:\n",
        "                    print(file_name,\"file is present\")\n",
        "                pass\n",
        "        except:\n",
        "            try:\n",
        "                #https://sat-cdn3.apple-mapkit.com/tile?style=7&size=1&scale=1&z=19&x=371320&y=219633&v=7072&accessKey=1597844285_2623996721767830360_%2F_2JSDgZLx9BNvymyuDPqmaVPQGKgIY6HNsMGvnWnVP74%3D\n",
        "                #https://cdn3.apple-mapkit.com/ti/tile?country=IN&region=IN&style=46&size=1&x=371305&y=219636&z=19&scale=1&lang=en&v=2008184&poi=0&accessKey=1597846063_5668354640921081798_%2F_tDWzoV7s8c94X9yDuhnpOfUQadPrp82ogZuM%2BHwf50g%3D&labels=0\n",
        "                #https://cdn1.apple-mapkit.com/ti/tile?country=IN&region=IN&style=46&size=1&x=371307&y=219638&z=19&scale=1&lang=en&v=2008184&poi=0&accessKey=1597846063_5668354640921081798_%2F_tDWzoV7s8c94X9yDuhnpOfUQadPrp82ogZuM%2BHwf50g%3D&labels=0\n",
        "                req_url = str(\"https://sat-cdn\"+str(1)+\".apple-mapkit.com/tile?style=7&size=1&scale=1&z=\"+str(self.zoom)+\"&x=\"+str(x_tyle)+\"&y=\"+str(y_tyle)+\"&v=7072\"+str(self.ac_key))\n",
        "                if self.verbose == True:\n",
        "                    print(req_url)\n",
        "                img_name = file_name.split('.')[0]\n",
        "                file_name1 = str(img_name + \".jpeg\")\n",
        "                r = requests.get(req_url, #allow_redirects=True,\n",
        "                                headers=headers)\n",
        "                open(file_name1, 'wb').write(r.content)\n",
        "                if imghdr.what(file_name1) is 'jpeg':\n",
        "                    if self.verbose == True:\n",
        "                        print(file_name1,\"JPEG\")\n",
        "                else:\n",
        "                    os.remove(file_name1)\n",
        "                    if self.verbose == True:\n",
        "                        print(file_name1,\"NOT JPEG\")\n",
        "                \n",
        "                # For the roads data\n",
        "                req_url = str(\"https://cdn\"+str(1)+\".apple-mapkit.com/ti/tile?country=IN&region=IN&style=46&size=1&x=\")+str(x_tyle)+str(\"&y=\")+str(y_tyle)+str(\"&z=\")+str(self.zoom)+\"&scale=1&lang=en&v=2008184&poi=0\"+str(self.ac_key)+\"&labels=0\"\n",
        "                #req_url = str(\"https://sat-cdn\"+str(1)+\".apple-mapkit.com/tile?style=7&size=1&scale=1&z=\"+str(self.zoom)+\"&x=\"+str(x_tyle)+\"&y=\"+str(y_tyle)+\"&v=7072\"+str(self.ac_key))\n",
        "                \n",
        "                file_name_road = file_name.split('.')[0]+\"_road.png\"\n",
        "                if self.verbose == True:\n",
        "                    print(req_url)\n",
        "                r = requests.get(req_url, #allow_redirects=True,\n",
        "                                headers=headers)\n",
        "                open(file_name_road, 'wb').write(r.content)\n",
        "                if imghdr.what(file_name_road) is 'png':\n",
        "                    if self.verbose == True:\n",
        "                        print(file_name_road,\"PNG\")\n",
        "                else:\n",
        "                    os.remove(file_name_road)\n",
        "                    if self.verbose == True:\n",
        "                        print(file_name_road,\"NOT PNG\")\n",
        "            except Exception as e:\n",
        "                if self.verbose == True:\n",
        "                    print(e)\n",
        "            \n",
        "            try:\n",
        "                \"\"\"\n",
        "                req_url = str(\"https://sat-cdn\"+str(2)+\".apple-mapkit.com/tile?style=7&size=1&scale=1&z=\"+str(self.zoom)+\"&x=\"+str(x_tyle)+\"&y=\"+str(y_tyle)+\"&v=4072\"+str(self.ac_key))\n",
        "                if self.verbose == True:\n",
        "                    print(req_url)\n",
        "                r = requests.get(req_url, #allow_redirects=True,\n",
        "                                headers=headers)\n",
        "                file_name2 = str(img_name + \"_2.jpeg\")\n",
        "                open(file_name2, 'wb').write(r.content)\n",
        "                if imghdr.what(file_name2) is 'jpeg':\n",
        "                    if self.verbose == True:\n",
        "                        print(file_name2,\"JPEG\")\n",
        "                else:\n",
        "                    os.remove(file_name2)\n",
        "                    if self.verbose == True:\n",
        "                        print(file_name2,\"NOT JPEG\")\n",
        "                \"\"\"\n",
        "                # For the roads data\n",
        "                req_url = str(\"https://cdn\"+str(2)+\".apple-mapkit.com/ti/tile?country=IN&region=IN&style=46&size=1&x=\")+str(x_tyle)+str(\"&y=\")+str(y_tyle)+str(\"&z=\")+str(self.zoom)+\"&scale=1&lang=en&v=2008184&poi=0\"+str(self.ac_key)+\"&labels=0\"\n",
        "                \n",
        "                if self.verbose == True:\n",
        "                    print(req_url)\n",
        "                r = requests.get(req_url, #allow_redirects=True,\n",
        "                                headers=headers)\n",
        "                open(file_name_road, 'wb').write(r.content)\n",
        "                if imghdr.what(file_name_road) is 'png':\n",
        "                    if self.verbose == True:\n",
        "                        print(file_name_road,\"PNG\")\n",
        "                else:\n",
        "                    os.remove(file_name_road)\n",
        "                    if self.verbose == True:\n",
        "                        print(file_name_road,\"NOT PNG\")\n",
        "                        \n",
        "            except Exception as e:\n",
        "                if self.verbose == True:\n",
        "                    print(e)\n",
        "            \n",
        "                \n",
        "            try:\n",
        "                \"\"\"\n",
        "                req_url = str(\"https://sat-cdn\"+str(3)+\".apple-mapkit.com/tile?style=7&size=1&scale=1&z=\"+str(self.zoom)+\"&x=\"+str(x_tyle)+\"&y=\"+str(y_tyle)+\"&v=4072\"+str(self.ac_key))\n",
        "                if self.verbose == True:\n",
        "                    print(req_url)\n",
        "                r = requests.get(req_url, #allow_redirects=True,\n",
        "                                headers=headers)\n",
        "                file_name3 = str(img_name + \"_3.jpeg\")\n",
        "                open(file_name3, 'wb').write(r.content)\n",
        "                if imghdr.what(file_name3) is 'jpeg':\n",
        "                    if self.verbose == True:\n",
        "                        print(file_name3,\"JPEG\")\n",
        "                else:\n",
        "                    os.remove(file_name3)\n",
        "                    if self.verbose == True:\n",
        "                        print(file_name3,\"NOT JPEG\")\n",
        "                \"\"\"\n",
        "                # For the roads data\n",
        "                req_url = str(\"https://cdn\"+str(3)+\".apple-mapkit.com/ti/tile?country=IN&region=IN&style=46&size=1&x=\")+str(x_tyle)+str(\"&y=\")+str(y_tyle)+str(\"&z=\")+str(self.zoom)+\"&scale=1&lang=en&v=2008184&poi=0\"+str(self.ac_key)+\"&labels=0\"\n",
        "                #print(req_url)\n",
        "                if self.verbose == True:\n",
        "                    print(req_url)\n",
        "                r = requests.get(req_url, #allow_redirects=True,\n",
        "                                headers=headers)\n",
        "                open(file_name_road, 'wb').write(r.content)\n",
        "                if imghdr.what(file_name_road) is 'png':\n",
        "                    if self.verbose == True:\n",
        "                        print(file_name_road,\"PNG\")\n",
        "                else:\n",
        "                    os.remove(file_name_road)\n",
        "                    if self.verbose == True:\n",
        "                        print(file_name_road,\"NOT PNG\")\n",
        "                        \n",
        "            except Exception as e:\n",
        "                if self.verbose == True:\n",
        "                    print(e)\n",
        "            try:\n",
        "                \"\"\"\n",
        "                req_url = str(\"https://sat-cdn\"+str(4)+\".apple-mapkit.com/tile?style=7&size=1&scale=1&z=\"+str(self.zoom)+\"&x=\"+str(x_tyle)+\"&y=\"+str(y_tyle)+\"&v=4072\"+str(self.ac_key))\n",
        "                if self.verbose == True:\n",
        "                    print(req_url)\n",
        "                r = requests.get(req_url, #allow_redirects=True,\n",
        "                                headers=headers)\n",
        "                file_name4 = str(img_name + \"_4.jpeg\")\n",
        "                open(file_name4, 'wb').write(r.content)\n",
        "                if imghdr.what(file_name4) is 'jpeg':\n",
        "                    if self.verbose == True:\n",
        "                        print(file_name4,\"JPEG\")\n",
        "                else:\n",
        "                    os.remove(file_name4)\n",
        "                    if self.verbose == True:\n",
        "                        print(file_name4,\"NOT JPEG\")\n",
        "                \"\"\"\n",
        "                # For the roads data\n",
        "                req_url = str(\"https://cdn\"+str(4)+\".apple-mapkit.com/ti/tile?country=IN&region=IN&style=46&size=1&x=\")+str(x_tyle)+str(\"&y=\")+str(y_tyle)+str(\"&z=\")+str(self.zoom)+\"&scale=1&lang=en&v=2008184&poi=0\"+str(self.ac_key)+\"&labels=0\"\n",
        "                #req_url = str(\"https://sat-cdn\"+str(1)+\".apple-mapkit.com/tile?style=7&size=1&scale=1&z=\"+str(self.zoom)+\"&x=\"+str(x_tyle)+\"&y=\"+str(y_tyle)+\"&v=7072\"+str(self.ac_key))\n",
        "                \n",
        "                \n",
        "                if self.verbose == True:\n",
        "                    print(req_url)\n",
        "                r = requests.get(req_url, #allow_redirects=True,\n",
        "                                headers=headers)\n",
        "                open(file_name_road, 'wb').write(r.content)\n",
        "                if imghdr.what(file_name_road) is 'png':\n",
        "                    if self.verbose == True:\n",
        "                        print(file_name_road,\"PNG\")\n",
        "                else:\n",
        "                    os.remove(file_name_road)\n",
        "                    if self.verbose == True:\n",
        "                        print(file_name_road,\"NOT PNG\")\n",
        "                        \n",
        "            except Exception as e:\n",
        "                if self.verbose == True:\n",
        "                    print(e)\n",
        "        # delete unnecessary files\n",
        "\n",
        "    def download(self):\n",
        "        min_lat = self.min_lat_deg\n",
        "        max_lat = self.max_lat_deg\n",
        "        min_lon = self.min_lon_deg\n",
        "        max_lon = self.max_lon_deg\n",
        "        if min_lat > max_lat:\n",
        "            i_val = -1\n",
        "        else:\n",
        "            i_val = 1\n",
        "        \n",
        "        if max_lon > max_lon:\n",
        "            j_val = -1\n",
        "        else:\n",
        "            j_val = 1\n",
        "        \n",
        "        for i in tqdm(np.arange(float(min_lat),float(max_lat),i_val*0.0005)):\n",
        "            URL_ALL = []\n",
        "            for j in np.arange(float(min_lon),float(max_lon),j_val*0.0005):\n",
        "                get_urls = self.make_url(i,j)\n",
        "                URL_ALL.append([get_urls[0],get_urls[1]])\n",
        "            if self.verbose == True:\n",
        "                print(\"ALL URL CREATED! ...\")\n",
        "            global LOCK_VAR, UNLOCK_VAR, LOCKING_LIMIT\n",
        "            if LOCK_VAR == 0:\n",
        "                if self.verbose == True:\n",
        "                    print(\"LOCKING\")\n",
        "                LOCK_VAR = 1\n",
        "                UNLOCK_VAR = 0\n",
        "                ThreadPool(LOCKING_LIMIT).imap_unordered(self.get_img, URL_ALL)\n",
        "            # SEMAPHORE KINDA THINGIE\n",
        "            while LOCK_VAR == 1:\n",
        "                \n",
        "                if self.verbose == True:\n",
        "                    print(\"WAITING\",end=\"\")\n",
        "                pass"
      ],
      "execution_count": 3,
      "outputs": []
    },
    {
      "cell_type": "code",
      "metadata": {
        "id": "ZGbVEjjJWGG0",
        "colab_type": "code",
        "colab": {
          "base_uri": "https://localhost:8080/",
          "height": 90
        },
        "outputId": "56e3e2a0-c43e-4df1-b1cc-9c8dcf14ad8d"
      },
      "source": [
        "import sqlite3\n",
        "\n",
        "conn = sqlite3.connect('map_db.sqlite')\n",
        "cur = conn.cursor()\n",
        "\n",
        "get_items = cur.execute(''' SELECT * FROM data where visited = ?''',(0,))\n",
        "\n",
        "counter_i = 0\n",
        "for item in get_items:\n",
        "    #print(item)\n",
        "    id_ = item[0]\n",
        "    min_lat_deg = float(item[1])\n",
        "    max_lat_deg = float(item[2])\n",
        "    min_lon_deg = float(item[3])\n",
        "    max_lon_deg = float(item[4])\n",
        "    if counter_i %3 == 0:\n",
        "      api_key = input(\"Give API (from &accessKey=) ::\")\n",
        "    counter_i += 1\n",
        "    a = api(str(api_key),min_lat_deg,max_lat_deg,min_lon_deg,max_lon_deg,zoom=19,verbose=False,threads_=6)\n",
        "    a.download()\n",
        "    print(\"Done, comitting\")\n",
        "    cur.execute('''UPDATE data SET visited = 1 WHERE id = ?''',(id_,))\n",
        "    cur.execute('''UPDATE data SET key = ? WHERE id = ?''',(api_key, id_,))\n",
        "    conn.commit()\n",
        "    \n",
        "    \n"
      ],
      "execution_count": null,
      "outputs": [
        {
          "output_type": "stream",
          "text": [
            "Give API (from &accessKey=) ::&accessKey=1597913196_587545248982524064_%2F_eymjhVKEOd8pTORsYbXuXZQXgq4tJbBVRc%2FOdFCS5FY%3D\n"
          ],
          "name": "stdout"
        },
        {
          "output_type": "stream",
          "text": [
            "  3%|▎         | 3/101 [00:00<00:04, 23.25it/s]"
          ],
          "name": "stderr"
        },
        {
          "output_type": "stream",
          "text": [
            "&accessKey=1597913196_587545248982524064_%2F_eymjhVKEOd8pTORsYbXuXZQXgq4tJbBVRc%2FOdFCS5FY%3D 22.400000000000002 22.450000000000003 88.24999999999999 88.29999999999998 19 False 6\n"
          ],
          "name": "stdout"
        },
        {
          "output_type": "stream",
          "text": [
            " 44%|████▎     | 44/101 [00:48<02:27,  2.59s/it]"
          ],
          "name": "stderr"
        }
      ]
    },
    {
      "cell_type": "code",
      "metadata": {
        "id": "ThnZUbwIWLq2",
        "colab_type": "code",
        "colab": {}
      },
      "source": [
        "! mv *.jpeg Kolkata_colab\n",
        "! mv *.png Kolkata_colab"
      ],
      "execution_count": null,
      "outputs": []
    },
    {
      "cell_type": "code",
      "metadata": {
        "id": "w9oNWybQvbF9",
        "colab_type": "code",
        "colab": {
          "base_uri": "https://localhost:8080/",
          "height": 35
        },
        "outputId": "35ea1ca9-aa9a-4084-defc-19b9efd95109"
      },
      "source": [
        "! du -hs  Kolkata_colab"
      ],
      "execution_count": 55,
      "outputs": [
        {
          "output_type": "stream",
          "text": [
            "51M\tKolkata_colab\n"
          ],
          "name": "stdout"
        }
      ]
    },
    {
      "cell_type": "code",
      "metadata": {
        "id": "B0gk7Irw8qh9",
        "colab_type": "code",
        "colab": {}
      },
      "source": [
        ""
      ],
      "execution_count": null,
      "outputs": []
    },
    {
      "cell_type": "code",
      "metadata": {
        "id": "W7M5Ez008qY-",
        "colab_type": "code",
        "colab": {}
      },
      "source": [
        ""
      ],
      "execution_count": null,
      "outputs": []
    },
    {
      "cell_type": "code",
      "metadata": {
        "id": "Rn9qJrGy70Cf",
        "colab_type": "code",
        "colab": {}
      },
      "source": [
        "! rm -rf Kolkata_colab.zip"
      ],
      "execution_count": 58,
      "outputs": []
    },
    {
      "cell_type": "code",
      "metadata": {
        "id": "2it-oov68p4d",
        "colab_type": "code",
        "colab": {}
      },
      "source": [
        ""
      ],
      "execution_count": 58,
      "outputs": []
    },
    {
      "cell_type": "code",
      "metadata": {
        "id": "vmBNz9-B8rFE",
        "colab_type": "code",
        "colab": {}
      },
      "source": [
        ""
      ],
      "execution_count": 58,
      "outputs": []
    },
    {
      "cell_type": "code",
      "metadata": {
        "id": "U3Gm1YzgvfoX",
        "colab_type": "code",
        "colab": {}
      },
      "source": [
        "! zip -r Kolkata_colab.zip Kolkata_colab > /etc/null"
      ],
      "execution_count": 59,
      "outputs": []
    },
    {
      "cell_type": "code",
      "metadata": {
        "id": "AnvNn8cf6cZ9",
        "colab_type": "code",
        "colab": {
          "base_uri": "https://localhost:8080/",
          "height": 35
        },
        "outputId": "524f6138-a29a-48e9-d411-58525f095e4c"
      },
      "source": [
        "! du -hs Kolkata_colab.zip"
      ],
      "execution_count": 60,
      "outputs": [
        {
          "output_type": "stream",
          "text": [
            "34M\tKolkata_colab.zip\n"
          ],
          "name": "stdout"
        }
      ]
    },
    {
      "cell_type": "code",
      "metadata": {
        "id": "8DGN0is06mDZ",
        "colab_type": "code",
        "colab": {}
      },
      "source": [
        "! rm -rf Kolkata_colab"
      ],
      "execution_count": 61,
      "outputs": []
    },
    {
      "cell_type": "code",
      "metadata": {
        "id": "-rfz3z-o6vLx",
        "colab_type": "code",
        "colab": {}
      },
      "source": [
        ""
      ],
      "execution_count": null,
      "outputs": []
    }
  ]
}