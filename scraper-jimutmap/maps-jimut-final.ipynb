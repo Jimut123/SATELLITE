{
 "cells": [
  {
   "cell_type": "code",
   "execution_count": 1,
   "metadata": {},
   "outputs": [],
   "source": [
    "\"\"\"\n",
    "This program downloads / scraps Apple maps for free.\n",
    "OPEN SOURCED UNDER GPL-V3.0.\n",
    "Author : Jimut Bahan Pal | jimutbahanpal@yahoo.com\n",
    "\"\"\"\n",
    "\n",
    "import urllib.request, urllib.parse, urllib.error\n",
    "from bs4 import BeautifulSoup\n",
    "import ssl\n",
    "import os\n",
    "import cv2\n",
    "import wget\n",
    "import imghdr\n",
    "import shutil\n",
    "import numpy as np\n",
    "import requests\n",
    "from time import time as timer\n",
    "from multiprocessing.pool import ThreadPool\n",
    "import time\n",
    "import math\n",
    "from os import listdir\n",
    "from os.path import isfile, join\n",
    "from tqdm import tqdm\n",
    "\n",
    "# Ignore SSL certificate errors\n",
    "ctx = ssl.create_default_context()\n",
    "ctx.check_hostname = False\n",
    "ctx.verify_mode = ssl.CERT_NONE\n",
    "\n",
    "headers = {\n",
    "    'User-Agent': 'Mozilla/5.0 (Macintosh; Intel Mac OS X 10.8; rv:21.0) Gecko/20100101 Firefox/21.0'\n",
    "}\n",
    "\n",
    "LOCK_VAR = 0\n",
    "UNLOCK_VAR = 0\n",
    "LOCKING_LIMIT = 50 # MAX NO OF THREADS\n",
    "\n",
    "\n",
    "class api:\n",
    "    \n",
    "    def __init__(self,ac_key,min_lat_deg,max_lat_deg,min_lon_deg,max_lon_deg,zoom=19,verbose=False,threads_=50):\n",
    "        global LOCKING_LIMIT\n",
    "        self.ac_key = ac_key\n",
    "        self.min_lat_deg = min_lat_deg\n",
    "        self.max_lat_deg = max_lat_deg\n",
    "        self.min_lon_deg = min_lon_deg\n",
    "        self.max_lon_deg = max_lon_deg\n",
    "        self.zoom = zoom\n",
    "        self.verbose = verbose\n",
    "        LOCKING_LIMIT = threads_\n",
    "        print(self.ac_key,self.min_lat_deg,self.max_lat_deg,self.min_lon_deg,self.max_lon_deg,self.zoom,self.verbose,LOCKING_LIMIT)\n",
    "\n",
    "    def ret_xy_tiles(self,lat_deg,lon_deg):\n",
    "        # changes for 0.0005\n",
    "        # This function returns the tilex and tiley in tuple\n",
    "        # Takes latitude, longitude and zoom_level\n",
    "        n = 2**self.zoom\n",
    "        xtile = n * ((lon_deg + 180) / 360)\n",
    "        lat_rad = lat_deg * math.pi / 180.0\n",
    "        ytile = n * (1 - (math.log(math.tan(lat_rad) + 1/math.cos(lat_rad)) / math.pi)) / 2\n",
    "        return int(xtile),int(ytile)\n",
    "\n",
    "    def ret_lat_lon(self,x_tyle,y_tyle):\n",
    "        # This function returns the lat, lon as a tuple\n",
    "        # Takes x_tyle, y_tyle and zoom_level\n",
    "        n = 2**self.zoom\n",
    "        lon_deg = int(x_tyle)/n * 360.0 - 180.0\n",
    "        lat_rad = math.atan(math.asinh(math.pi * (1 - 2 * int(y_tyle)/n)))\n",
    "        lat_deg = lat_rad * 180.0 / math.pi\n",
    "        return lat_deg, lon_deg\n",
    "    \n",
    "    def make_url(self,lat_deg,lon_deg):\n",
    "        # returns the list of urls when lat, lon, zoom and accessKey is provided\n",
    "        x_tyle,y_tyle = self.ret_xy_tiles(lat_deg,lon_deg)\n",
    "        return [x_tyle,y_tyle]\n",
    "    \n",
    "    def get_img(self,url_str):\n",
    "        # to get the images from the url provided and save it\n",
    "        global headers, LOCK_VAR, UNLOCK_VAR, LOCKING_LIMIT\n",
    "        if self.verbose == True:\n",
    "            print(url_str)\n",
    "        UNLOCK_VAR = UNLOCK_VAR + 1\n",
    "        LOCK_VAR = 1\n",
    "        if self.verbose == True:\n",
    "            print(\"UNLOCK VAR : \",UNLOCK_VAR)\n",
    "        if UNLOCK_VAR >= LOCKING_LIMIT:\n",
    "            LOCK_VAR = 0\n",
    "            UNLOCK_VAR = 0\n",
    "            if self.verbose == True:\n",
    "                print(\"-------- UNLOCKING\")\n",
    "        x_tyle = url_str[0]\n",
    "        y_tyle = url_str[1]\n",
    "        file_name = str(x_tyle)+\"_\"+str(y_tyle)+\".jpeg\"\n",
    "        try:\n",
    "            if open(str(file_name),'r') == True:\n",
    "                if self.verbose == True:\n",
    "                    print(file_name,\"file is present\")\n",
    "                pass\n",
    "        except:\n",
    "            try:\n",
    "                #https://sat-cdn3.apple-mapkit.com/tile?style=7&size=1&scale=1&z=19&x=371320&y=219633&v=7072&accessKey=1597844285_2623996721767830360_%2F_2JSDgZLx9BNvymyuDPqmaVPQGKgIY6HNsMGvnWnVP74%3D\n",
    "                #https://cdn3.apple-mapkit.com/ti/tile?country=IN&region=IN&style=46&size=1&x=371305&y=219636&z=19&scale=1&lang=en&v=2008184&poi=0&accessKey=1597846063_5668354640921081798_%2F_tDWzoV7s8c94X9yDuhnpOfUQadPrp82ogZuM%2BHwf50g%3D&labels=0\n",
    "                #https://cdn1.apple-mapkit.com/ti/tile?country=IN&region=IN&style=46&size=1&x=371307&y=219638&z=19&scale=1&lang=en&v=2008184&poi=0&accessKey=1597846063_5668354640921081798_%2F_tDWzoV7s8c94X9yDuhnpOfUQadPrp82ogZuM%2BHwf50g%3D&labels=0\n",
    "                req_url = str(\"https://sat-cdn\"+str(1)+\".apple-mapkit.com/tile?style=7&size=1&scale=1&z=\"+str(self.zoom)+\"&x=\"+str(x_tyle)+\"&y=\"+str(y_tyle)+\"&v=7072\"+str(self.ac_key))\n",
    "                if self.verbose == True:\n",
    "                    print(req_url)\n",
    "                img_name = file_name.split('.')[0]\n",
    "                file_name1 = str(img_name + \".jpeg\")\n",
    "                r = requests.get(req_url, #allow_redirects=True,\n",
    "                                headers=headers)\n",
    "                open(file_name1, 'wb').write(r.content)\n",
    "                if imghdr.what(file_name1) is 'jpeg':\n",
    "                    if self.verbose == True:\n",
    "                        print(file_name1,\"JPEG\")\n",
    "                else:\n",
    "                    os.remove(file_name1)\n",
    "                    if self.verbose == True:\n",
    "                        print(file_name1,\"NOT JPEG\")\n",
    "                \n",
    "                # For the roads data\n",
    "                req_url = str(\"https://cdn\"+str(1)+\".apple-mapkit.com/ti/tile?country=IN&region=IN&style=46&size=1&x=\")+str(x_tyle)+str(\"&y=\")+str(y_tyle)+str(\"&z=\")+str(self.zoom)+\"&scale=1&lang=en&v=2008184&poi=0\"+str(self.ac_key)+\"&labels=0\"\n",
    "                #req_url = str(\"https://sat-cdn\"+str(1)+\".apple-mapkit.com/tile?style=7&size=1&scale=1&z=\"+str(self.zoom)+\"&x=\"+str(x_tyle)+\"&y=\"+str(y_tyle)+\"&v=7072\"+str(self.ac_key))\n",
    "                \n",
    "                file_name_road = file_name.split('.')[0]+\"_road.png\"\n",
    "                if self.verbose == True:\n",
    "                    print(req_url)\n",
    "                r = requests.get(req_url, #allow_redirects=True,\n",
    "                                headers=headers)\n",
    "                open(file_name_road, 'wb').write(r.content)\n",
    "                if imghdr.what(file_name_road) is 'png':\n",
    "                    if self.verbose == True:\n",
    "                        print(file_name_road,\"PNG\")\n",
    "                else:\n",
    "                    os.remove(file_name_road)\n",
    "                    if self.verbose == True:\n",
    "                        print(file_name_road,\"NOT PNG\")\n",
    "            except Exception as e:\n",
    "                if self.verbose == True:\n",
    "                    print(e)\n",
    "            \n",
    "            try:\n",
    "                \"\"\"\n",
    "                req_url = str(\"https://sat-cdn\"+str(2)+\".apple-mapkit.com/tile?style=7&size=1&scale=1&z=\"+str(self.zoom)+\"&x=\"+str(x_tyle)+\"&y=\"+str(y_tyle)+\"&v=4072\"+str(self.ac_key))\n",
    "                if self.verbose == True:\n",
    "                    print(req_url)\n",
    "                r = requests.get(req_url, #allow_redirects=True,\n",
    "                                headers=headers)\n",
    "                file_name2 = str(img_name + \"_2.jpeg\")\n",
    "                open(file_name2, 'wb').write(r.content)\n",
    "                if imghdr.what(file_name2) is 'jpeg':\n",
    "                    if self.verbose == True:\n",
    "                        print(file_name2,\"JPEG\")\n",
    "                else:\n",
    "                    os.remove(file_name2)\n",
    "                    if self.verbose == True:\n",
    "                        print(file_name2,\"NOT JPEG\")\n",
    "                \"\"\"\n",
    "                # For the roads data\n",
    "                req_url = str(\"https://cdn\"+str(2)+\".apple-mapkit.com/ti/tile?country=IN&region=IN&style=46&size=1&x=\")+str(x_tyle)+str(\"&y=\")+str(y_tyle)+str(\"&z=\")+str(self.zoom)+\"&scale=1&lang=en&v=2008184&poi=0\"+str(self.ac_key)+\"&labels=0\"\n",
    "                \n",
    "                if self.verbose == True:\n",
    "                    print(req_url)\n",
    "                r = requests.get(req_url, #allow_redirects=True,\n",
    "                                headers=headers)\n",
    "                open(file_name_road, 'wb').write(r.content)\n",
    "                if imghdr.what(file_name_road) is 'png':\n",
    "                    if self.verbose == True:\n",
    "                        print(file_name_road,\"PNG\")\n",
    "                else:\n",
    "                    os.remove(file_name_road)\n",
    "                    if self.verbose == True:\n",
    "                        print(file_name_road,\"NOT PNG\")\n",
    "                        \n",
    "            except Exception as e:\n",
    "                if self.verbose == True:\n",
    "                    print(e)\n",
    "                \n",
    "                \n",
    "            try:\n",
    "                \"\"\"\n",
    "                req_url = str(\"https://sat-cdn\"+str(3)+\".apple-mapkit.com/tile?style=7&size=1&scale=1&z=\"+str(self.zoom)+\"&x=\"+str(x_tyle)+\"&y=\"+str(y_tyle)+\"&v=4072\"+str(self.ac_key))\n",
    "                if self.verbose == True:\n",
    "                    print(req_url)\n",
    "                r = requests.get(req_url, #allow_redirects=True,\n",
    "                                headers=headers)\n",
    "                file_name3 = str(img_name + \"_3.jpeg\")\n",
    "                open(file_name3, 'wb').write(r.content)\n",
    "                if imghdr.what(file_name3) is 'jpeg':\n",
    "                    if self.verbose == True:\n",
    "                        print(file_name3,\"JPEG\")\n",
    "                else:\n",
    "                    os.remove(file_name3)\n",
    "                    if self.verbose == True:\n",
    "                        print(file_name3,\"NOT JPEG\")\n",
    "                \"\"\"\n",
    "                # For the roads data\n",
    "                req_url = str(\"https://cdn\"+str(3)+\".apple-mapkit.com/ti/tile?country=IN&region=IN&style=46&size=1&x=\")+str(x_tyle)+str(\"&y=\")+str(y_tyle)+str(\"&z=\")+str(self.zoom)+\"&scale=1&lang=en&v=2008184&poi=0\"+str(self.ac_key)+\"&labels=0\"\n",
    "                print(req_url)                \n",
    "                \n",
    "                if self.verbose == True:\n",
    "                    print(req_url)\n",
    "                r = requests.get(req_url, #allow_redirects=True,\n",
    "                                headers=headers)\n",
    "                open(file_name_road, 'wb').write(r.content)\n",
    "                if imghdr.what(file_name_road) is 'png':\n",
    "                    if self.verbose == True:\n",
    "                        print(file_name_road,\"PNG\")\n",
    "                else:\n",
    "                    os.remove(file_name_road)\n",
    "                    if self.verbose == True:\n",
    "                        print(file_name_road,\"NOT PNG\")\n",
    "                        \n",
    "            except Exception as e:\n",
    "                if self.verbose == True:\n",
    "                    print(e)\n",
    "\n",
    "            try:\n",
    "                \"\"\"\n",
    "                req_url = str(\"https://sat-cdn\"+str(4)+\".apple-mapkit.com/tile?style=7&size=1&scale=1&z=\"+str(self.zoom)+\"&x=\"+str(x_tyle)+\"&y=\"+str(y_tyle)+\"&v=4072\"+str(self.ac_key))\n",
    "                if self.verbose == True:\n",
    "                    print(req_url)\n",
    "                r = requests.get(req_url, #allow_redirects=True,\n",
    "                                headers=headers)\n",
    "                file_name4 = str(img_name + \"_4.jpeg\")\n",
    "                open(file_name4, 'wb').write(r.content)\n",
    "                if imghdr.what(file_name4) is 'jpeg':\n",
    "                    if self.verbose == True:\n",
    "                        print(file_name4,\"JPEG\")\n",
    "                else:\n",
    "                    os.remove(file_name4)\n",
    "                    if self.verbose == True:\n",
    "                        print(file_name4,\"NOT JPEG\")\n",
    "                \"\"\"\n",
    "                # For the roads data\n",
    "                req_url = str(\"https://cdn\"+str(4)+\".apple-mapkit.com/ti/tile?country=IN&region=IN&style=46&size=1&x=\")+str(x_tyle)+str(\"&y=\")+str(y_tyle)+str(\"&z=\")+str(self.zoom)+\"&scale=1&lang=en&v=2008184&poi=0\"+str(self.ac_key)+\"&labels=0\"\n",
    "                #req_url = str(\"https://sat-cdn\"+str(1)+\".apple-mapkit.com/tile?style=7&size=1&scale=1&z=\"+str(self.zoom)+\"&x=\"+str(x_tyle)+\"&y=\"+str(y_tyle)+\"&v=7072\"+str(self.ac_key))\n",
    "                \n",
    "                \n",
    "                if self.verbose == True:\n",
    "                    print(req_url)\n",
    "                r = requests.get(req_url, #allow_redirects=True,\n",
    "                                headers=headers)\n",
    "                open(file_name_road, 'wb').write(r.content)\n",
    "                if imghdr.what(file_name_road) is 'png':\n",
    "                    if self.verbose == True:\n",
    "                        print(file_name_road,\"PNG\")\n",
    "                else:\n",
    "                    os.remove(file_name_road)\n",
    "                    if self.verbose == True:\n",
    "                        print(file_name_road,\"NOT PNG\")\n",
    "                        \n",
    "            except Exception as e:\n",
    "                if self.verbose == True:\n",
    "                    print(e)\n",
    "        # delete unnecessary files\n",
    "\n",
    "    def download(self):\n",
    "        min_lat = self.min_lat_deg\n",
    "        max_lat = self.max_lat_deg\n",
    "        min_lon = self.min_lon_deg\n",
    "        max_lon = self.max_lon_deg\n",
    "        if min_lat > max_lat:\n",
    "            i_val = -1\n",
    "        else:\n",
    "            i_val = 1\n",
    "        \n",
    "        if max_lon > max_lon:\n",
    "            j_val = -1\n",
    "        else:\n",
    "            j_val = 1\n",
    "        \n",
    "        for i in tqdm(np.arange(float(min_lat),float(max_lat),i_val*0.0005)):\n",
    "            URL_ALL = []\n",
    "            for j in np.arange(float(min_lon),float(max_lon),j_val*0.0005):\n",
    "                get_urls = self.make_url(i,j)\n",
    "                URL_ALL.append([get_urls[0],get_urls[1]])\n",
    "            if self.verbose == True:\n",
    "                print(\"ALL URL CREATED! ...\")\n",
    "            global LOCK_VAR, UNLOCK_VAR, LOCKING_LIMIT\n",
    "            if LOCK_VAR == 0:\n",
    "                if self.verbose == True:\n",
    "                    print(\"LOCKING\")\n",
    "                LOCK_VAR = 1\n",
    "                UNLOCK_VAR = 0\n",
    "                ThreadPool(LOCKING_LIMIT).imap_unordered(self.get_img, URL_ALL)\n",
    "            # SEMAPHORE KINDA THINGIE\n",
    "            while LOCK_VAR == 1:\n",
    "                if self.verbose == True:\n",
    "                    print(\"WAITING\",end=\"\")\n",
    "                pass"
   ]
  },
  {
   "cell_type": "code",
   "execution_count": 2,
   "metadata": {},
   "outputs": [
    {
     "name": "stdout",
     "output_type": "stream",
     "text": [
      "&accessKey=1597851377_6762113937655275830_%2F_%2F%2FdSjhUFwz%2Bh4Co%2BIF4%2FQq8D7kDQ0phE9rD2DNZruKQ%3D 28.005249 28.05249 74.964729 75.0 19 False 2\n"
     ]
    }
   ],
   "source": [
    "min_lat_deg = 28.005249\n",
    "max_lat_deg = 28.052490\n",
    "min_lon_deg = 74.964729\n",
    "max_lon_deg = 75.000000\n",
    "a=api('&accessKey=1597851377_6762113937655275830_%2F_%2F%2FdSjhUFwz%2Bh4Co%2BIF4%2FQq8D7kDQ0phE9rD2DNZruKQ%3D',min_lat_deg,max_lat_deg,min_lon_deg,max_lon_deg,zoom=19,verbose=False,threads_=2)\n"
   ]
  },
  {
   "cell_type": "code",
   "execution_count": null,
   "metadata": {},
   "outputs": [
    {
     "name": "stderr",
     "output_type": "stream",
     "text": [
      " 31%|███       | 29/95 [00:02<00:10,  6.26it/s]"
     ]
    },
    {
     "name": "stdout",
     "output_type": "stream",
     "text": [
      "https://cdn3.apple-mapkit.com/ti/tile?country=IN&region=IN&style=46&size=1&x=371319&y=219617&z=19&scale=1&lang=en&v=2008184&poi=0&accessKey=1597851377_6762113937655275830_%2F_%2F%2FdSjhUFwz%2Bh4Co%2BIF4%2FQq8D7kDQ0phE9rD2DNZruKQ%3D&labels=0\n",
      "https://cdn3.apple-mapkit.com/ti/tile?country=IN&region=IN&style=46&size=1&x=371320&y=219617&z=19&scale=1&lang=en&v=2008184&poi=0&accessKey=1597851377_6762113937655275830_%2F_%2F%2FdSjhUFwz%2Bh4Co%2BIF4%2FQq8D7kDQ0phE9rD2DNZruKQ%3D&labels=0\n",
      "https://cdn3.apple-mapkit.com/ti/tile?country=IN&region=IN&style=46&size=1&x=371320&y=219626&z=19&scale=1&lang=en&v=2008184&poi=0&accessKey=1597851377_6762113937655275830_%2F_%2F%2FdSjhUFwz%2Bh4Co%2BIF4%2FQq8D7kDQ0phE9rD2DNZruKQ%3D&labels=0\n",
      "https://cdn3.apple-mapkit.com/ti/tile?country=IN&region=IN&style=46&size=1&x=371319&y=219627&z=19&scale=1&lang=en&v=2008184&poi=0&accessKey=1597851377_6762113937655275830_%2F_%2F%2FdSjhUFwz%2Bh4Co%2BIF4%2FQq8D7kDQ0phE9rD2DNZruKQ%3D&labels=0\n",
      "https://cdn3.apple-mapkit.com/ti/tile?country=IN&region=IN&style=46&size=1&x=371320&y=219630&z=19&scale=1&lang=en&v=2008184&poi=0&accessKey=1597851377_6762113937655275830_%2F_%2F%2FdSjhUFwz%2Bh4Co%2BIF4%2FQq8D7kDQ0phE9rD2DNZruKQ%3D&labels=0\n",
      "https://cdn3.apple-mapkit.com/ti/tile?country=IN&region=IN&style=46&size=1&x=371320&y=219629&z=19&scale=1&lang=en&v=2008184&poi=0&accessKey=1597851377_6762113937655275830_%2F_%2F%2FdSjhUFwz%2Bh4Co%2BIF4%2FQq8D7kDQ0phE9rD2DNZruKQ%3D&labels=0\n",
      "https://cdn3.apple-mapkit.com/ti/tile?country=IN&region=IN&style=46&size=1&x=371320&y=219619&z=19&scale=1&lang=en&v=2008184&poi=0&accessKey=1597851377_6762113937655275830_%2F_%2F%2FdSjhUFwz%2Bh4Co%2BIF4%2FQq8D7kDQ0phE9rD2DNZruKQ%3D&labels=0\n",
      "https://cdn3.apple-mapkit.com/ti/tile?country=IN&region=IN&style=46&size=1&x=371320&y=219623&z=19&scale=1&lang=en&v=2008184&poi=0&accessKey=1597851377_6762113937655275830_%2F_%2F%2FdSjhUFwz%2Bh4Co%2BIF4%2FQq8D7kDQ0phE9rD2DNZruKQ%3D&labels=0\n",
      "https://cdn3.apple-mapkit.com/ti/tile?country=IN&region=IN&style=46&size=1&x=371320&y=219616&z=19&scale=1&lang=en&v=2008184&poi=0&accessKey=1597851377_6762113937655275830_%2F_%2F%2FdSjhUFwz%2Bh4Co%2BIF4%2FQq8D7kDQ0phE9rD2DNZruKQ%3D&labels=0\n",
      "https://cdn3.apple-mapkit.com/ti/tile?country=IN&region=IN&style=46&size=1&x=371320&y=219618&z=19&scale=1&lang=en&v=2008184&poi=0&accessKey=1597851377_6762113937655275830_%2F_%2F%2FdSjhUFwz%2Bh4Co%2BIF4%2FQq8D7kDQ0phE9rD2DNZruKQ%3D&labels=0https://cdn3.apple-mapkit.com/ti/tile?country=IN&region=IN&style=46&size=1&x=371319&y=219616&z=19&scale=1&lang=en&v=2008184&poi=0&accessKey=1597851377_6762113937655275830_%2F_%2F%2FdSjhUFwz%2Bh4Co%2BIF4%2FQq8D7kDQ0phE9rD2DNZruKQ%3D&labels=0https://cdn3.apple-mapkit.com/ti/tile?country=IN&region=IN&style=46&size=1&x=371320&y=219627&z=19&scale=1&lang=en&v=2008184&poi=0&accessKey=1597851377_6762113937655275830_%2F_%2F%2FdSjhUFwz%2Bh4Co%2BIF4%2FQq8D7kDQ0phE9rD2DNZruKQ%3D&labels=0"
     ]
    },
    {
     "name": "stderr",
     "output_type": "stream",
     "text": [
      "\r",
      " 33%|███▎      | 31/95 [00:03<00:14,  4.46it/s]"
     ]
    },
    {
     "name": "stdout",
     "output_type": "stream",
     "text": [
      "https://cdn3.apple-mapkit.com/ti/tile?country=IN&region=IN&style=46&size=1&x=371319&y=219628&z=19&scale=1&lang=en&v=2008184&poi=0&accessKey=1597851377_6762113937655275830_%2F_%2F%2FdSjhUFwz%2Bh4Co%2BIF4%2FQq8D7kDQ0phE9rD2DNZruKQ%3D&labels=0\n",
      "\n",
      "\n",
      "https://cdn3.apple-mapkit.com/ti/tile?country=IN&region=IN&style=46&size=1&x=371320&y=219625&z=19&scale=1&lang=en&v=2008184&poi=0&accessKey=1597851377_6762113937655275830_%2F_%2F%2FdSjhUFwz%2Bh4Co%2BIF4%2FQq8D7kDQ0phE9rD2DNZruKQ%3D&labels=0\n",
      "\n",
      "https://cdn3.apple-mapkit.com/ti/tile?country=IN&region=IN&style=46&size=1&x=371320&y=219621&z=19&scale=1&lang=en&v=2008184&poi=0&accessKey=1597851377_6762113937655275830_%2F_%2F%2FdSjhUFwz%2Bh4Co%2BIF4%2FQq8D7kDQ0phE9rD2DNZruKQ%3D&labels=0\n",
      "https://cdn3.apple-mapkit.com/ti/tile?country=IN&region=IN&style=46&size=1&x=371319&y=219621&z=19&scale=1&lang=en&v=2008184&poi=0&accessKey=1597851377_6762113937655275830_%2F_%2F%2FdSjhUFwz%2Bh4Co%2BIF4%2FQq8D7kDQ0phE9rD2DNZruKQ%3D&labels=0\n",
      "https://cdn3.apple-mapkit.com/ti/tile?country=IN&region=IN&style=46&size=1&x=371320&y=219620&z=19&scale=1&lang=en&v=2008184&poi=0&accessKey=1597851377_6762113937655275830_%2F_%2F%2FdSjhUFwz%2Bh4Co%2BIF4%2FQq8D7kDQ0phE9rD2DNZruKQ%3D&labels=0\n",
      "https://cdn3.apple-mapkit.com/ti/tile?country=IN&region=IN&style=46&size=1&x=371320&y=219621&z=19&scale=1&lang=en&v=2008184&poi=0&accessKey=1597851377_6762113937655275830_%2F_%2F%2FdSjhUFwz%2Bh4Co%2BIF4%2FQq8D7kDQ0phE9rD2DNZruKQ%3D&labels=0\n",
      "https://cdn3.apple-mapkit.com/ti/tile?country=IN&region=IN&style=46&size=1&x=371319&y=219619&z=19&scale=1&lang=en&v=2008184&poi=0&accessKey=1597851377_6762113937655275830_%2F_%2F%2FdSjhUFwz%2Bh4Co%2BIF4%2FQq8D7kDQ0phE9rD2DNZruKQ%3D&labels=0\n",
      "https://cdn3.apple-mapkit.com/ti/tile?country=IN&region=IN&style=46&size=1&x=371320&y=219628&z=19&scale=1&lang=en&v=2008184&poi=0&accessKey=1597851377_6762113937655275830_%2F_%2F%2FdSjhUFwz%2Bh4Co%2BIF4%2FQq8D7kDQ0phE9rD2DNZruKQ%3D&labels=0\n",
      "https://cdn3.apple-mapkit.com/ti/tile?country=IN&region=IN&style=46&size=1&x=371320&y=219625&z=19&scale=1&lang=en&v=2008184&poi=0&accessKey=1597851377_6762113937655275830_%2F_%2F%2FdSjhUFwz%2Bh4Co%2BIF4%2FQq8D7kDQ0phE9rD2DNZruKQ%3D&labels=0https://cdn3.apple-mapkit.com/ti/tile?country=IN&region=IN&style=46&size=1&x=371319&y=219618&z=19&scale=1&lang=en&v=2008184&poi=0&accessKey=1597851377_6762113937655275830_%2F_%2F%2FdSjhUFwz%2Bh4Co%2BIF4%2FQq8D7kDQ0phE9rD2DNZruKQ%3D&labels=0\n",
      "https://cdn3.apple-mapkit.com/ti/tile?country=IN&region=IN&style=46&size=1&x=371319&y=219624&z=19&scale=1&lang=en&v=2008184&poi=0&accessKey=1597851377_6762113937655275830_%2F_%2F%2FdSjhUFwz%2Bh4Co%2BIF4%2FQq8D7kDQ0phE9rD2DNZruKQ%3D&labels=0\n",
      "https://cdn3.apple-mapkit.com/ti/tile?country=IN&region=IN&style=46&size=1&x=371319&y=219621&z=19&scale=1&lang=en&v=2008184&poi=0&accessKey=1597851377_6762113937655275830_%2F_%2F%2FdSjhUFwz%2Bh4Co%2BIF4%2FQq8D7kDQ0phE9rD2DNZruKQ%3D&labels=0\n",
      "\n",
      "https://cdn3.apple-mapkit.com/ti/tile?country=IN&region=IN&style=46&size=1&x=371319&y=219625&z=19&scale=1&lang=en&v=2008184&poi=0&accessKey=1597851377_6762113937655275830_%2F_%2F%2FdSjhUFwz%2Bh4Co%2BIF4%2FQq8D7kDQ0phE9rD2DNZruKQ%3D&labels=0https://cdn3.apple-mapkit.com/ti/tile?country=IN&region=IN&style=46&size=1&x=371319&y=219622&z=19&scale=1&lang=en&v=2008184&poi=0&accessKey=1597851377_6762113937655275830_%2F_%2F%2FdSjhUFwz%2Bh4Co%2BIF4%2FQq8D7kDQ0phE9rD2DNZruKQ%3D&labels=0\n",
      "https://cdn3.apple-mapkit.com/ti/tile?country=IN&region=IN&style=46&size=1&x=371319&y=219630&z=19&scale=1&lang=en&v=2008184&poi=0&accessKey=1597851377_6762113937655275830_%2F_%2F%2FdSjhUFwz%2Bh4Co%2BIF4%2FQq8D7kDQ0phE9rD2DNZruKQ%3D&labels=0https://cdn3.apple-mapkit.com/ti/tile?country=IN&region=IN&style=46&size=1&x=371320&y=219622&z=19&scale=1&lang=en&v=2008184&poi=0&accessKey=1597851377_6762113937655275830_%2F_%2F%2FdSjhUFwz%2Bh4Co%2BIF4%2FQq8D7kDQ0phE9rD2DNZruKQ%3D&labels=0\n",
      "\n",
      "https://cdn3.apple-mapkit.com/ti/tile?country=IN&region=IN&style=46&size=1&x=371319&y=219625&z=19&scale=1&lang=en&v=2008184&poi=0&accessKey=1597851377_6762113937655275830_%2F_%2F%2FdSjhUFwz%2Bh4Co%2BIF4%2FQq8D7kDQ0phE9rD2DNZruKQ%3D&labels=0\n",
      "https://cdn3.apple-mapkit.com/ti/tile?country=IN&region=IN&style=46&size=1&x=371319&y=219620&z=19&scale=1&lang=en&v=2008184&poi=0&accessKey=1597851377_6762113937655275830_%2F_%2F%2FdSjhUFwz%2Bh4Co%2BIF4%2FQq8D7kDQ0phE9rD2DNZruKQ%3D&labels=0\n",
      "\n",
      "https://cdn3.apple-mapkit.com/ti/tile?country=IN&region=IN&style=46&size=1&x=371320&y=219616&z=19&scale=1&lang=en&v=2008184&poi=0&accessKey=1597851377_6762113937655275830_%2F_%2F%2FdSjhUFwz%2Bh4Co%2BIF4%2FQq8D7kDQ0phE9rD2DNZruKQ%3D&labels=0\n",
      "https://cdn3.apple-mapkit.com/ti/tile?country=IN&region=IN&style=46&size=1&x=371320&y=219624&z=19&scale=1&lang=en&v=2008184&poi=0&accessKey=1597851377_6762113937655275830_%2F_%2F%2FdSjhUFwz%2Bh4Co%2BIF4%2FQq8D7kDQ0phE9rD2DNZruKQ%3D&labels=0\n",
      "https://cdn3.apple-mapkit.com/ti/tile?country=IN&region=IN&style=46&size=1&x=371319&y=219612&z=19&scale=1&lang=en&v=2008184&poi=0&accessKey=1597851377_6762113937655275830_%2F_%2F%2FdSjhUFwz%2Bh4Co%2BIF4%2FQq8D7kDQ0phE9rD2DNZruKQ%3D&labels=0https://cdn3.apple-mapkit.com/ti/tile?country=IN&region=IN&style=46&size=1&x=371319&y=219626&z=19&scale=1&lang=en&v=2008184&poi=0&accessKey=1597851377_6762113937655275830_%2F_%2F%2FdSjhUFwz%2Bh4Co%2BIF4%2FQq8D7kDQ0phE9rD2DNZruKQ%3D&labels=0\n",
      "https://cdn3.apple-mapkit.com/ti/tile?country=IN&region=IN&style=46&size=1&x=371320&y=219614&z=19&scale=1&lang=en&v=2008184&poi=0&accessKey=1597851377_6762113937655275830_%2F_%2F%2FdSjhUFwz%2Bh4Co%2BIF4%2FQq8D7kDQ0phE9rD2DNZruKQ%3D&labels=0https://cdn3.apple-mapkit.com/ti/tile?country=IN&region=IN&style=46&size=1&x=371319&y=219616&z=19&scale=1&lang=en&v=2008184&poi=0&accessKey=1597851377_6762113937655275830_%2F_%2F%2FdSjhUFwz%2Bh4Co%2BIF4%2FQq8D7kDQ0phE9rD2DNZruKQ%3D&labels=0\n",
      "\n",
      "https://cdn3.apple-mapkit.com/ti/tile?country=IN&region=IN&style=46&size=1&x=371319&y=219611&z=19&scale=1&lang=en&v=2008184&poi=0&accessKey=1597851377_6762113937655275830_%2F_%2F%2FdSjhUFwz%2Bh4Co%2BIF4%2FQq8D7kDQ0phE9rD2DNZruKQ%3D&labels=0\n",
      "\n",
      "https://cdn3.apple-mapkit.com/ti/tile?country=IN&region=IN&style=46&size=1&x=371319&y=219611&z=19&scale=1&lang=en&v=2008184&poi=0&accessKey=1597851377_6762113937655275830_%2F_%2F%2FdSjhUFwz%2Bh4Co%2BIF4%2FQq8D7kDQ0phE9rD2DNZruKQ%3D&labels=0\n",
      "https://cdn3.apple-mapkit.com/ti/tile?country=IN&region=IN&style=46&size=1&x=371319&y=219614&z=19&scale=1&lang=en&v=2008184&poi=0&accessKey=1597851377_6762113937655275830_%2F_%2F%2FdSjhUFwz%2Bh4Co%2BIF4%2FQq8D7kDQ0phE9rD2DNZruKQ%3D&labels=0\n",
      "https://cdn3.apple-mapkit.com/ti/tile?country=IN&region=IN&style=46&size=1&x=371320&y=219615&z=19&scale=1&lang=en&v=2008184&poi=0&accessKey=1597851377_6762113937655275830_%2F_%2F%2FdSjhUFwz%2Bh4Co%2BIF4%2FQq8D7kDQ0phE9rD2DNZruKQ%3D&labels=0\n",
      "https://cdn3.apple-mapkit.com/ti/tile?country=IN&region=IN&style=46&size=1&x=371319&y=219629&z=19&scale=1&lang=en&v=2008184&poi=0&accessKey=1597851377_6762113937655275830_%2F_%2F%2FdSjhUFwz%2Bh4Co%2BIF4%2FQq8D7kDQ0phE9rD2DNZruKQ%3D&labels=0https://cdn3.apple-mapkit.com/ti/tile?country=IN&region=IN&style=46&size=1&x=371320&y=219611&z=19&scale=1&lang=en&v=2008184&poi=0&accessKey=1597851377_6762113937655275830_%2F_%2F%2FdSjhUFwz%2Bh4Co%2BIF4%2FQq8D7kDQ0phE9rD2DNZruKQ%3D&labels=0\n",
      "https://cdn3.apple-mapkit.com/ti/tile?country=IN&region=IN&style=46&size=1&x=371319&y=219613&z=19&scale=1&lang=en&v=2008184&poi=0&accessKey=1597851377_6762113937655275830_%2F_%2F%2FdSjhUFwz%2Bh4Co%2BIF4%2FQq8D7kDQ0phE9rD2DNZruKQ%3D&labels=0https://cdn3.apple-mapkit.com/ti/tile?country=IN&region=IN&style=46&size=1&x=371320&y=219613&z=19&scale=1&lang=en&v=2008184&poi=0&accessKey=1597851377_6762113937655275830_%2F_%2F%2FdSjhUFwz%2Bh4Co%2BIF4%2FQq8D7kDQ0phE9rD2DNZruKQ%3D&labels=0\n",
      "\n",
      "\n",
      "https://cdn3.apple-mapkit.com/ti/tile?country=IN&region=IN&style=46&size=1&x=371319&y=219623&z=19&scale=1&lang=en&v=2008184&poi=0&accessKey=1597851377_6762113937655275830_%2F_%2F%2FdSjhUFwz%2Bh4Co%2BIF4%2FQq8D7kDQ0phE9rD2DNZruKQ%3D&labels=0https://cdn3.apple-mapkit.com/ti/tile?country=IN&region=IN&style=46&size=1&x=371320&y=219612&z=19&scale=1&lang=en&v=2008184&poi=0&accessKey=1597851377_6762113937655275830_%2F_%2F%2FdSjhUFwz%2Bh4Co%2BIF4%2FQq8D7kDQ0phE9rD2DNZruKQ%3D&labels=0\n",
      "\n",
      "https://cdn3.apple-mapkit.com/ti/tile?country=IN&region=IN&style=46&size=1&x=371319&y=219615&z=19&scale=1&lang=en&v=2008184&poi=0&accessKey=1597851377_6762113937655275830_%2F_%2F%2FdSjhUFwz%2Bh4Co%2BIF4%2FQq8D7kDQ0phE9rD2DNZruKQ%3D&labels=0\n"
     ]
    },
    {
     "name": "stderr",
     "output_type": "stream",
     "text": [
      "\r",
      " 35%|███▍      | 33/95 [00:03<00:14,  4.39it/s]"
     ]
    },
    {
     "name": "stdout",
     "output_type": "stream",
     "text": [
      "https://cdn3.apple-mapkit.com/ti/tile?country=IN&region=IN&style=46&size=1&x=371320&y=219611&z=19&scale=1&lang=en&v=2008184&poi=0&accessKey=1597851377_6762113937655275830_%2F_%2F%2FdSjhUFwz%2Bh4Co%2BIF4%2FQq8D7kDQ0phE9rD2DNZruKQ%3D&labels=0\n",
      "https://cdn3.apple-mapkit.com/ti/tile?country=IN&region=IN&style=46&size=1&x=371319&y=219607&z=19&scale=1&lang=en&v=2008184&poi=0&accessKey=1597851377_6762113937655275830_%2F_%2F%2FdSjhUFwz%2Bh4Co%2BIF4%2FQq8D7kDQ0phE9rD2DNZruKQ%3D&labels=0\n"
     ]
    },
    {
     "name": "stderr",
     "output_type": "stream",
     "text": [
      " 37%|███▋      | 35/95 [00:04<00:16,  3.61it/s]"
     ]
    },
    {
     "name": "stdout",
     "output_type": "stream",
     "text": [
      "https://cdn3.apple-mapkit.com/ti/tile?country=IN&region=IN&style=46&size=1&x=371319&y=219610&z=19&scale=1&lang=en&v=2008184&poi=0&accessKey=1597851377_6762113937655275830_%2F_%2F%2FdSjhUFwz%2Bh4Co%2BIF4%2FQq8D7kDQ0phE9rD2DNZruKQ%3D&labels=0https://cdn3.apple-mapkit.com/ti/tile?country=IN&region=IN&style=46&size=1&x=371320&y=219608&z=19&scale=1&lang=en&v=2008184&poi=0&accessKey=1597851377_6762113937655275830_%2F_%2F%2FdSjhUFwz%2Bh4Co%2BIF4%2FQq8D7kDQ0phE9rD2DNZruKQ%3D&labels=0\n",
      "\n",
      "https://cdn3.apple-mapkit.com/ti/tile?country=IN&region=IN&style=46&size=1&x=371319&y=219609&z=19&scale=1&lang=en&v=2008184&poi=0&accessKey=1597851377_6762113937655275830_%2F_%2F%2FdSjhUFwz%2Bh4Co%2BIF4%2FQq8D7kDQ0phE9rD2DNZruKQ%3D&labels=0https://cdn3.apple-mapkit.com/ti/tile?country=IN&region=IN&style=46&size=1&x=371320&y=219609&z=19&scale=1&lang=en&v=2008184&poi=0&accessKey=1597851377_6762113937655275830_%2F_%2F%2FdSjhUFwz%2Bh4Co%2BIF4%2FQq8D7kDQ0phE9rD2DNZruKQ%3D&labels=0\n",
      "\n",
      "https://cdn3.apple-mapkit.com/ti/tile?country=IN&region=IN&style=46&size=1&x=371320&y=219610&z=19&scale=1&lang=en&v=2008184&poi=0&accessKey=1597851377_6762113937655275830_%2F_%2F%2FdSjhUFwz%2Bh4Co%2BIF4%2FQq8D7kDQ0phE9rD2DNZruKQ%3D&labels=0\n",
      "https://cdn3.apple-mapkit.com/ti/tile?country=IN&region=IN&style=46&size=1&x=371319&y=219608&z=19&scale=1&lang=en&v=2008184&poi=0&accessKey=1597851377_6762113937655275830_%2F_%2F%2FdSjhUFwz%2Bh4Co%2BIF4%2FQq8D7kDQ0phE9rD2DNZruKQ%3D&labels=0\n"
     ]
    },
    {
     "name": "stderr",
     "output_type": "stream",
     "text": [
      "\r",
      " 38%|███▊      | 36/95 [00:04<00:17,  3.37it/s]"
     ]
    },
    {
     "name": "stdout",
     "output_type": "stream",
     "text": [
      "https://cdn3.apple-mapkit.com/ti/tile?country=IN&region=IN&style=46&size=1&x=371320&y=219607&z=19&scale=1&lang=en&v=2008184&poi=0&accessKey=1597851377_6762113937655275830_%2F_%2F%2FdSjhUFwz%2Bh4Co%2BIF4%2FQq8D7kDQ0phE9rD2DNZruKQ%3D&labels=0https://cdn3.apple-mapkit.com/ti/tile?country=IN&region=IN&style=46&size=1&x=371319&y=219607&z=19&scale=1&lang=en&v=2008184&poi=0&accessKey=1597851377_6762113937655275830_%2F_%2F%2FdSjhUFwz%2Bh4Co%2BIF4%2FQq8D7kDQ0phE9rD2DNZruKQ%3D&labels=0\n",
      "https://cdn3.apple-mapkit.com/ti/tile?country=IN&region=IN&style=46&size=1&x=371320&y=219606&z=19&scale=1&lang=en&v=2008184&poi=0&accessKey=1597851377_6762113937655275830_%2F_%2F%2FdSjhUFwz%2Bh4Co%2BIF4%2FQq8D7kDQ0phE9rD2DNZruKQ%3D&labels=0\n",
      "\n",
      "https://cdn3.apple-mapkit.com/ti/tile?country=IN&region=IN&style=46&size=1&x=371320&y=219607&z=19&scale=1&lang=en&v=2008184&poi=0&accessKey=1597851377_6762113937655275830_%2F_%2F%2FdSjhUFwz%2Bh4Co%2BIF4%2FQq8D7kDQ0phE9rD2DNZruKQ%3D&labels=0\n",
      "https://cdn3.apple-mapkit.com/ti/tile?country=IN&region=IN&style=46&size=1&x=371319&y=219606&z=19&scale=1&lang=en&v=2008184&poi=0&accessKey=1597851377_6762113937655275830_%2F_%2F%2FdSjhUFwz%2Bh4Co%2BIF4%2FQq8D7kDQ0phE9rD2DNZruKQ%3D&labels=0\n",
      "https://cdn3.apple-mapkit.com/ti/tile?country=IN&region=IN&style=46&size=1&x=371319&y=219605&z=19&scale=1&lang=en&v=2008184&poi=0&accessKey=1597851377_6762113937655275830_%2F_%2F%2FdSjhUFwz%2Bh4Co%2BIF4%2FQq8D7kDQ0phE9rD2DNZruKQ%3D&labels=0\n"
     ]
    },
    {
     "name": "stderr",
     "output_type": "stream",
     "text": [
      "\r",
      " 39%|███▉      | 37/95 [00:05<00:34,  1.66it/s]"
     ]
    },
    {
     "name": "stdout",
     "output_type": "stream",
     "text": [
      "https://cdn3.apple-mapkit.com/ti/tile?country=IN&region=IN&style=46&size=1&x=371320&y=219604&z=19&scale=1&lang=en&v=2008184&poi=0&accessKey=1597851377_6762113937655275830_%2F_%2F%2FdSjhUFwz%2Bh4Co%2BIF4%2FQq8D7kDQ0phE9rD2DNZruKQ%3D&labels=0\n",
      "https://cdn3.apple-mapkit.com/ti/tile?country=IN&region=IN&style=46&size=1&x=371320&y=219605&z=19&scale=1&lang=en&v=2008184&poi=0&accessKey=1597851377_6762113937655275830_%2F_%2F%2FdSjhUFwz%2Bh4Co%2BIF4%2FQq8D7kDQ0phE9rD2DNZruKQ%3D&labels=0\n",
      "https://cdn3.apple-mapkit.com/ti/tile?country=IN&region=IN&style=46&size=1&x=371319&y=219604&z=19&scale=1&lang=en&v=2008184&poi=0&accessKey=1597851377_6762113937655275830_%2F_%2F%2FdSjhUFwz%2Bh4Co%2BIF4%2FQq8D7kDQ0phE9rD2DNZruKQ%3D&labels=0\n",
      "https://cdn3.apple-mapkit.com/ti/tile?country=IN&region=IN&style=46&size=1&x=371320&y=219625&z=19&scale=1&lang=en&v=2008184&poi=0&accessKey=1597851377_6762113937655275830_%2F_%2F%2FdSjhUFwz%2Bh4Co%2BIF4%2FQq8D7kDQ0phE9rD2DNZruKQ%3D&labels=0\n",
      "https://cdn3.apple-mapkit.com/ti/tile?country=IN&region=IN&style=46&size=1&x=371320&y=219629&z=19&scale=1&lang=en&v=2008184&poi=0&accessKey=1597851377_6762113937655275830_%2F_%2F%2FdSjhUFwz%2Bh4Co%2BIF4%2FQq8D7kDQ0phE9rD2DNZruKQ%3D&labels=0\n",
      "https://cdn3.apple-mapkit.com/ti/tile?country=IN&region=IN&style=46&size=1&x=371319&y=219602&z=19&scale=1&lang=en&v=2008184&poi=0&accessKey=1597851377_6762113937655275830_%2F_%2F%2FdSjhUFwz%2Bh4Co%2BIF4%2FQq8D7kDQ0phE9rD2DNZruKQ%3D&labels=0\n",
      "https://cdn3.apple-mapkit.com/ti/tile?country=IN&region=IN&style=46&size=1&x=371320&y=219619&z=19&scale=1&lang=en&v=2008184&poi=0&accessKey=1597851377_6762113937655275830_%2F_%2F%2FdSjhUFwz%2Bh4Co%2BIF4%2FQq8D7kDQ0phE9rD2DNZruKQ%3D&labels=0\n",
      "https://cdn3.apple-mapkit.com/ti/tile?country=IN&region=IN&style=46&size=1&x=371320&y=219603&z=19&scale=1&lang=en&v=2008184&poi=0&accessKey=1597851377_6762113937655275830_%2F_%2F%2FdSjhUFwz%2Bh4Co%2BIF4%2FQq8D7kDQ0phE9rD2DNZruKQ%3D&labels=0\n",
      "https://cdn3.apple-mapkit.com/ti/tile?country=IN&region=IN&style=46&size=1&x=371320&y=219602&z=19&scale=1&lang=en&v=2008184&poi=0&accessKey=1597851377_6762113937655275830_%2F_%2F%2FdSjhUFwz%2Bh4Co%2BIF4%2FQq8D7kDQ0phE9rD2DNZruKQ%3D&labels=0\n",
      "https://cdn3.apple-mapkit.com/ti/tile?country=IN&region=IN&style=46&size=1&x=371319&y=219603&z=19&scale=1&lang=en&v=2008184&poi=0&accessKey=1597851377_6762113937655275830_%2F_%2F%2FdSjhUFwz%2Bh4Co%2BIF4%2FQq8D7kDQ0phE9rD2DNZruKQ%3D&labels=0\n"
     ]
    },
    {
     "name": "stderr",
     "output_type": "stream",
     "text": [
      "\r",
      " 40%|████      | 38/95 [00:07<00:44,  1.27it/s]"
     ]
    },
    {
     "name": "stdout",
     "output_type": "stream",
     "text": [
      "https://cdn3.apple-mapkit.com/ti/tile?country=IN&region=IN&style=46&size=1&x=371320&y=219630&z=19&scale=1&lang=en&v=2008184&poi=0&accessKey=1597851377_6762113937655275830_%2F_%2F%2FdSjhUFwz%2Bh4Co%2BIF4%2FQq8D7kDQ0phE9rD2DNZruKQ%3D&labels=0\n",
      "https://cdn3.apple-mapkit.com/ti/tile?country=IN&region=IN&style=46&size=1&x=371320&y=219626&z=19&scale=1&lang=en&v=2008184&poi=0&accessKey=1597851377_6762113937655275830_%2F_%2F%2FdSjhUFwz%2Bh4Co%2BIF4%2FQq8D7kDQ0phE9rD2DNZruKQ%3D&labels=0\n",
      "https://cdn3.apple-mapkit.com/ti/tile?country=IN&region=IN&style=46&size=1&x=371320&y=219617&z=19&scale=1&lang=en&v=2008184&poi=0&accessKey=1597851377_6762113937655275830_%2F_%2F%2FdSjhUFwz%2Bh4Co%2BIF4%2FQq8D7kDQ0phE9rD2DNZruKQ%3D&labels=0\n",
      "https://cdn3.apple-mapkit.com/ti/tile?country=IN&region=IN&style=46&size=1&x=371320&y=219615&z=19&scale=1&lang=en&v=2008184&poi=0&accessKey=1597851377_6762113937655275830_%2F_%2F%2FdSjhUFwz%2Bh4Co%2BIF4%2FQq8D7kDQ0phE9rD2DNZruKQ%3D&labels=0\n",
      "https://cdn3.apple-mapkit.com/ti/tile?country=IN&region=IN&style=46&size=1&x=371320&y=219621&z=19&scale=1&lang=en&v=2008184&poi=0&accessKey=1597851377_6762113937655275830_%2F_%2F%2FdSjhUFwz%2Bh4Co%2BIF4%2FQq8D7kDQ0phE9rD2DNZruKQ%3D&labels=0\n",
      "https://cdn3.apple-mapkit.com/ti/tile?country=IN&region=IN&style=46&size=1&x=371320&y=219618&z=19&scale=1&lang=en&v=2008184&poi=0&accessKey=1597851377_6762113937655275830_%2F_%2F%2FdSjhUFwz%2Bh4Co%2BIF4%2FQq8D7kDQ0phE9rD2DNZruKQ%3D&labels=0\n",
      "https://cdn3.apple-mapkit.com/ti/tile?country=IN&region=IN&style=46&size=1&x=371320&y=219621&z=19&scale=1&lang=en&v=2008184&poi=0&accessKey=1597851377_6762113937655275830_%2F_%2F%2FdSjhUFwz%2Bh4Co%2BIF4%2FQq8D7kDQ0phE9rD2DNZruKQ%3D&labels=0\n",
      "https://cdn3.apple-mapkit.com/ti/tile?country=IN&region=IN&style=46&size=1&x=371320&y=219611&z=19&scale=1&lang=en&v=2008184&poi=0&accessKey=1597851377_6762113937655275830_%2F_%2F%2FdSjhUFwz%2Bh4Co%2BIF4%2FQq8D7kDQ0phE9rD2DNZruKQ%3D&labels=0\n",
      "https://cdn3.apple-mapkit.com/ti/tile?country=IN&region=IN&style=46&size=1&x=371321&y=219613&z=19&scale=1&lang=en&v=2008184&poi=0&accessKey=1597851377_6762113937655275830_%2F_%2F%2FdSjhUFwz%2Bh4Co%2BIF4%2FQq8D7kDQ0phE9rD2DNZruKQ%3D&labels=0\n",
      "https://cdn3.apple-mapkit.com/ti/tile?country=IN&region=IN&style=46&size=1&x=371321&y=219630&z=19&scale=1&lang=en&v=2008184&poi=0&accessKey=1597851377_6762113937655275830_%2F_%2F%2FdSjhUFwz%2Bh4Co%2BIF4%2FQq8D7kDQ0phE9rD2DNZruKQ%3D&labels=0\n",
      "https://cdn3.apple-mapkit.com/ti/tile?country=IN&region=IN&style=46&size=1&x=371321&y=219616&z=19&scale=1&lang=en&v=2008184&poi=0&accessKey=1597851377_6762113937655275830_%2F_%2F%2FdSjhUFwz%2Bh4Co%2BIF4%2FQq8D7kDQ0phE9rD2DNZruKQ%3D&labels=0\n",
      "https://cdn3.apple-mapkit.com/ti/tile?country=IN&region=IN&style=46&size=1&x=371321&y=219615&z=19&scale=1&lang=en&v=2008184&poi=0&accessKey=1597851377_6762113937655275830_%2F_%2F%2FdSjhUFwz%2Bh4Co%2BIF4%2FQq8D7kDQ0phE9rD2DNZruKQ%3D&labels=0\n",
      "https://cdn3.apple-mapkit.com/ti/tile?country=IN&region=IN&style=46&size=1&x=371321&y=219623&z=19&scale=1&lang=en&v=2008184&poi=0&accessKey=1597851377_6762113937655275830_%2F_%2F%2FdSjhUFwz%2Bh4Co%2BIF4%2FQq8D7kDQ0phE9rD2DNZruKQ%3D&labels=0"
     ]
    },
    {
     "name": "stderr",
     "output_type": "stream",
     "text": [
      "\r",
      " 41%|████      | 39/95 [00:08<00:47,  1.18it/s]"
     ]
    },
    {
     "name": "stdout",
     "output_type": "stream",
     "text": [
      "https://cdn3.apple-mapkit.com/ti/tile?country=IN&region=IN&style=46&size=1&x=371320&y=219627&z=19&scale=1&lang=en&v=2008184&poi=0&accessKey=1597851377_6762113937655275830_%2F_%2F%2FdSjhUFwz%2Bh4Co%2BIF4%2FQq8D7kDQ0phE9rD2DNZruKQ%3D&labels=0\n",
      "https://cdn3.apple-mapkit.com/ti/tile?country=IN&region=IN&style=46&size=1&x=371320&y=219611&z=19&scale=1&lang=en&v=2008184&poi=0&accessKey=1597851377_6762113937655275830_%2F_%2F%2FdSjhUFwz%2Bh4Co%2BIF4%2FQq8D7kDQ0phE9rD2DNZruKQ%3D&labels=0\n",
      "\n",
      "https://cdn3.apple-mapkit.com/ti/tile?country=IN&region=IN&style=46&size=1&x=371321&y=219611&z=19&scale=1&lang=en&v=2008184&poi=0&accessKey=1597851377_6762113937655275830_%2F_%2F%2FdSjhUFwz%2Bh4Co%2BIF4%2FQq8D7kDQ0phE9rD2DNZruKQ%3D&labels=0\n",
      "https://cdn3.apple-mapkit.com/ti/tile?country=IN&region=IN&style=46&size=1&x=371321&y=219624&z=19&scale=1&lang=en&v=2008184&poi=0&accessKey=1597851377_6762113937655275830_%2F_%2F%2FdSjhUFwz%2Bh4Co%2BIF4%2FQq8D7kDQ0phE9rD2DNZruKQ%3D&labels=0https://cdn3.apple-mapkit.com/ti/tile?country=IN&region=IN&style=46&size=1&x=371321&y=219629&z=19&scale=1&lang=en&v=2008184&poi=0&accessKey=1597851377_6762113937655275830_%2F_%2F%2FdSjhUFwz%2Bh4Co%2BIF4%2FQq8D7kDQ0phE9rD2DNZruKQ%3D&labels=0\n",
      "https://cdn3.apple-mapkit.com/ti/tile?country=IN&region=IN&style=46&size=1&x=371320&y=219616&z=19&scale=1&lang=en&v=2008184&poi=0&accessKey=1597851377_6762113937655275830_%2F_%2F%2FdSjhUFwz%2Bh4Co%2BIF4%2FQq8D7kDQ0phE9rD2DNZruKQ%3D&labels=0\n",
      "\n",
      "https://cdn3.apple-mapkit.com/ti/tile?country=IN&region=IN&style=46&size=1&x=371321&y=219626&z=19&scale=1&lang=en&v=2008184&poi=0&accessKey=1597851377_6762113937655275830_%2F_%2F%2FdSjhUFwz%2Bh4Co%2BIF4%2FQq8D7kDQ0phE9rD2DNZruKQ%3D&labels=0\n",
      "https://cdn3.apple-mapkit.com/ti/tile?country=IN&region=IN&style=46&size=1&x=371320&y=219613&z=19&scale=1&lang=en&v=2008184&poi=0&accessKey=1597851377_6762113937655275830_%2F_%2F%2FdSjhUFwz%2Bh4Co%2BIF4%2FQq8D7kDQ0phE9rD2DNZruKQ%3D&labels=0\n",
      "https://cdn3.apple-mapkit.com/ti/tile?country=IN&region=IN&style=46&size=1&x=371321&y=219617&z=19&scale=1&lang=en&v=2008184&poi=0&accessKey=1597851377_6762113937655275830_%2F_%2F%2FdSjhUFwz%2Bh4Co%2BIF4%2FQq8D7kDQ0phE9rD2DNZruKQ%3D&labels=0\n",
      "https://cdn3.apple-mapkit.com/ti/tile?country=IN&region=IN&style=46&size=1&x=371320&y=219620&z=19&scale=1&lang=en&v=2008184&poi=0&accessKey=1597851377_6762113937655275830_%2F_%2F%2FdSjhUFwz%2Bh4Co%2BIF4%2FQq8D7kDQ0phE9rD2DNZruKQ%3D&labels=0\n",
      "https://cdn3.apple-mapkit.com/ti/tile?country=IN&region=IN&style=46&size=1&x=371320&y=219616&z=19&scale=1&lang=en&v=2008184&poi=0&accessKey=1597851377_6762113937655275830_%2F_%2F%2FdSjhUFwz%2Bh4Co%2BIF4%2FQq8D7kDQ0phE9rD2DNZruKQ%3D&labels=0\n",
      "https://cdn3.apple-mapkit.com/ti/tile?country=IN&region=IN&style=46&size=1&x=371320&y=219612&z=19&scale=1&lang=en&v=2008184&poi=0&accessKey=1597851377_6762113937655275830_%2F_%2F%2FdSjhUFwz%2Bh4Co%2BIF4%2FQq8D7kDQ0phE9rD2DNZruKQ%3D&labels=0\n",
      "https://cdn3.apple-mapkit.com/ti/tile?country=IN&region=IN&style=46&size=1&x=371321&y=219616&z=19&scale=1&lang=en&v=2008184&poi=0&accessKey=1597851377_6762113937655275830_%2F_%2F%2FdSjhUFwz%2Bh4Co%2BIF4%2FQq8D7kDQ0phE9rD2DNZruKQ%3D&labels=0https://cdn3.apple-mapkit.com/ti/tile?country=IN&region=IN&style=46&size=1&x=371321&y=219614&z=19&scale=1&lang=en&v=2008184&poi=0&accessKey=1597851377_6762113937655275830_%2F_%2F%2FdSjhUFwz%2Bh4Co%2BIF4%2FQq8D7kDQ0phE9rD2DNZruKQ%3D&labels=0\n",
      "https://cdn3.apple-mapkit.com/ti/tile?country=IN&region=IN&style=46&size=1&x=371320&y=219628&z=19&scale=1&lang=en&v=2008184&poi=0&accessKey=1597851377_6762113937655275830_%2F_%2F%2FdSjhUFwz%2Bh4Co%2BIF4%2FQq8D7kDQ0phE9rD2DNZruKQ%3D&labels=0\n",
      "https://cdn3.apple-mapkit.com/ti/tile?country=IN&region=IN&style=46&size=1&x=371321&y=219622&z=19&scale=1&lang=en&v=2008184&poi=0&accessKey=1597851377_6762113937655275830_%2F_%2F%2FdSjhUFwz%2Bh4Co%2BIF4%2FQq8D7kDQ0phE9rD2DNZruKQ%3D&labels=0\n",
      "https://cdn3.apple-mapkit.com/ti/tile?country=IN&region=IN&style=46&size=1&x=371321&y=219618&z=19&scale=1&lang=en&v=2008184&poi=0&accessKey=1597851377_6762113937655275830_%2F_%2F%2FdSjhUFwz%2Bh4Co%2BIF4%2FQq8D7kDQ0phE9rD2DNZruKQ%3D&labels=0\n",
      "https://cdn3.apple-mapkit.com/ti/tile?country=IN&region=IN&style=46&size=1&x=371320&y=219614&z=19&scale=1&lang=en&v=2008184&poi=0&accessKey=1597851377_6762113937655275830_%2F_%2F%2FdSjhUFwz%2Bh4Co%2BIF4%2FQq8D7kDQ0phE9rD2DNZruKQ%3D&labels=0\n",
      "https://cdn3.apple-mapkit.com/ti/tile?country=IN&region=IN&style=46&size=1&x=371321&y=219621&z=19&scale=1&lang=en&v=2008184&poi=0&accessKey=1597851377_6762113937655275830_%2F_%2F%2FdSjhUFwz%2Bh4Co%2BIF4%2FQq8D7kDQ0phE9rD2DNZruKQ%3D&labels=0\n",
      "https://cdn3.apple-mapkit.com/ti/tile?country=IN&region=IN&style=46&size=1&x=371320&y=219622&z=19&scale=1&lang=en&v=2008184&poi=0&accessKey=1597851377_6762113937655275830_%2F_%2F%2FdSjhUFwz%2Bh4Co%2BIF4%2FQq8D7kDQ0phE9rD2DNZruKQ%3D&labels=0\n",
      "https://cdn3.apple-mapkit.com/ti/tile?country=IN&region=IN&style=46&size=1&x=371321&y=219620&z=19&scale=1&lang=en&v=2008184&poi=0&accessKey=1597851377_6762113937655275830_%2F_%2F%2FdSjhUFwz%2Bh4Co%2BIF4%2FQq8D7kDQ0phE9rD2DNZruKQ%3D&labels=0\n",
      "\n",
      "https://cdn3.apple-mapkit.com/ti/tile?country=IN&region=IN&style=46&size=1&x=371321&y=219619&z=19&scale=1&lang=en&v=2008184&poi=0&accessKey=1597851377_6762113937655275830_%2F_%2F%2FdSjhUFwz%2Bh4Co%2BIF4%2FQq8D7kDQ0phE9rD2DNZruKQ%3D&labels=0\n",
      "https://cdn3.apple-mapkit.com/ti/tile?country=IN&region=IN&style=46&size=1&x=371321&y=219627&z=19&scale=1&lang=en&v=2008184&poi=0&accessKey=1597851377_6762113937655275830_%2F_%2F%2FdSjhUFwz%2Bh4Co%2BIF4%2FQq8D7kDQ0phE9rD2DNZruKQ%3D&labels=0\n",
      "https://cdn3.apple-mapkit.com/ti/tile?country=IN&region=IN&style=46&size=1&x=371321&y=219611&z=19&scale=1&lang=en&v=2008184&poi=0&accessKey=1597851377_6762113937655275830_%2F_%2F%2FdSjhUFwz%2Bh4Co%2BIF4%2FQq8D7kDQ0phE9rD2DNZruKQ%3D&labels=0\n",
      "https://cdn3.apple-mapkit.com/ti/tile?country=IN&region=IN&style=46&size=1&x=371321&y=219612&z=19&scale=1&lang=en&v=2008184&poi=0&accessKey=1597851377_6762113937655275830_%2F_%2F%2FdSjhUFwz%2Bh4Co%2BIF4%2FQq8D7kDQ0phE9rD2DNZruKQ%3D&labels=0\n",
      "https://cdn3.apple-mapkit.com/ti/tile?country=IN&region=IN&style=46&size=1&x=371321&y=219628&z=19&scale=1&lang=en&v=2008184&poi=0&accessKey=1597851377_6762113937655275830_%2F_%2F%2FdSjhUFwz%2Bh4Co%2BIF4%2FQq8D7kDQ0phE9rD2DNZruKQ%3D&labels=0https://cdn3.apple-mapkit.com/ti/tile?country=IN&region=IN&style=46&size=1&x=371320&y=219607&z=19&scale=1&lang=en&v=2008184&poi=0&accessKey=1597851377_6762113937655275830_%2F_%2F%2FdSjhUFwz%2Bh4Co%2BIF4%2FQq8D7kDQ0phE9rD2DNZruKQ%3D&labels=0\n",
      "https://cdn3.apple-mapkit.com/ti/tile?country=IN&region=IN&style=46&size=1&x=371320&y=219625&z=19&scale=1&lang=en&v=2008184&poi=0&accessKey=1597851377_6762113937655275830_%2F_%2F%2FdSjhUFwz%2Bh4Co%2BIF4%2FQq8D7kDQ0phE9rD2DNZruKQ%3D&labels=0\n",
      "https://cdn3.apple-mapkit.com/ti/tile?country=IN&region=IN&style=46&size=1&x=371320&y=219623&z=19&scale=1&lang=en&v=2008184&poi=0&accessKey=1597851377_6762113937655275830_%2F_%2F%2FdSjhUFwz%2Bh4Co%2BIF4%2FQq8D7kDQ0phE9rD2DNZruKQ%3D&labels=0\n",
      "https://cdn3.apple-mapkit.com/ti/tile?country=IN&region=IN&style=46&size=1&x=371319&y=219600&z=19&scale=1&lang=en&v=2008184&poi=0&accessKey=1597851377_6762113937655275830_%2F_%2F%2FdSjhUFwz%2Bh4Co%2BIF4%2FQq8D7kDQ0phE9rD2DNZruKQ%3D&labels=0\n",
      "\n",
      "https://cdn3.apple-mapkit.com/ti/tile?country=IN&region=IN&style=46&size=1&x=371321&y=219625&z=19&scale=1&lang=en&v=2008184&poi=0&accessKey=1597851377_6762113937655275830_%2F_%2F%2FdSjhUFwz%2Bh4Co%2BIF4%2FQq8D7kDQ0phE9rD2DNZruKQ%3D&labels=0\n",
      "https://cdn3.apple-mapkit.com/ti/tile?country=IN&region=IN&style=46&size=1&x=371321&y=219621&z=19&scale=1&lang=en&v=2008184&poi=0&accessKey=1597851377_6762113937655275830_%2F_%2F%2FdSjhUFwz%2Bh4Co%2BIF4%2FQq8D7kDQ0phE9rD2DNZruKQ%3D&labels=0\n",
      "https://cdn3.apple-mapkit.com/ti/tile?country=IN&region=IN&style=46&size=1&x=371321&y=219625&z=19&scale=1&lang=en&v=2008184&poi=0&accessKey=1597851377_6762113937655275830_%2F_%2F%2FdSjhUFwz%2Bh4Co%2BIF4%2FQq8D7kDQ0phE9rD2DNZruKQ%3D&labels=0\n",
      "https://cdn3.apple-mapkit.com/ti/tile?country=IN&region=IN&style=46&size=1&x=371320&y=219624&z=19&scale=1&lang=en&v=2008184&poi=0&accessKey=1597851377_6762113937655275830_%2F_%2F%2FdSjhUFwz%2Bh4Co%2BIF4%2FQq8D7kDQ0phE9rD2DNZruKQ%3D&labels=0\n",
      "https://cdn3.apple-mapkit.com/ti/tile?country=IN&region=IN&style=46&size=1&x=371320&y=219610&z=19&scale=1&lang=en&v=2008184&poi=0&accessKey=1597851377_6762113937655275830_%2F_%2F%2FdSjhUFwz%2Bh4Co%2BIF4%2FQq8D7kDQ0phE9rD2DNZruKQ%3D&labels=0\n"
     ]
    },
    {
     "name": "stderr",
     "output_type": "stream",
     "text": [
      "\r",
      " 42%|████▏     | 40/95 [00:09<00:56,  1.02s/it]"
     ]
    },
    {
     "name": "stdout",
     "output_type": "stream",
     "text": [
      "https://cdn3.apple-mapkit.com/ti/tile?country=IN&region=IN&style=46&size=1&x=371320&y=219600&z=19&scale=1&lang=en&v=2008184&poi=0&accessKey=1597851377_6762113937655275830_%2F_%2F%2FdSjhUFwz%2Bh4Co%2BIF4%2FQq8D7kDQ0phE9rD2DNZruKQ%3D&labels=0\n",
      "https://cdn3.apple-mapkit.com/ti/tile?country=IN&region=IN&style=46&size=1&x=371321&y=219608&z=19&scale=1&lang=en&v=2008184&poi=0&accessKey=1597851377_6762113937655275830_%2F_%2F%2FdSjhUFwz%2Bh4Co%2BIF4%2FQq8D7kDQ0phE9rD2DNZruKQ%3D&labels=0\n",
      "https://cdn3.apple-mapkit.com/ti/tile?country=IN&region=IN&style=46&size=1&x=371321&y=219607&z=19&scale=1&lang=en&v=2008184&poi=0&accessKey=1597851377_6762113937655275830_%2F_%2F%2FdSjhUFwz%2Bh4Co%2BIF4%2FQq8D7kDQ0phE9rD2DNZruKQ%3D&labels=0\n",
      "https://cdn3.apple-mapkit.com/ti/tile?country=IN&region=IN&style=46&size=1&x=371320&y=219606&z=19&scale=1&lang=en&v=2008184&poi=0&accessKey=1597851377_6762113937655275830_%2F_%2F%2FdSjhUFwz%2Bh4Co%2BIF4%2FQq8D7kDQ0phE9rD2DNZruKQ%3D&labels=0\n",
      "https://cdn3.apple-mapkit.com/ti/tile?country=IN&region=IN&style=46&size=1&x=371320&y=219608&z=19&scale=1&lang=en&v=2008184&poi=0&accessKey=1597851377_6762113937655275830_%2F_%2F%2FdSjhUFwz%2Bh4Co%2BIF4%2FQq8D7kDQ0phE9rD2DNZruKQ%3D&labels=0\n",
      "https://cdn3.apple-mapkit.com/ti/tile?country=IN&region=IN&style=46&size=1&x=371321&y=219609&z=19&scale=1&lang=en&v=2008184&poi=0&accessKey=1597851377_6762113937655275830_%2F_%2F%2FdSjhUFwz%2Bh4Co%2BIF4%2FQq8D7kDQ0phE9rD2DNZruKQ%3D&labels=0\n",
      "https://cdn3.apple-mapkit.com/ti/tile?country=IN&region=IN&style=46&size=1&x=371321&y=219606&z=19&scale=1&lang=en&v=2008184&poi=0&accessKey=1597851377_6762113937655275830_%2F_%2F%2FdSjhUFwz%2Bh4Co%2BIF4%2FQq8D7kDQ0phE9rD2DNZruKQ%3D&labels=0\n",
      "https://cdn3.apple-mapkit.com/ti/tile?country=IN&region=IN&style=46&size=1&x=371320&y=219605&z=19&scale=1&lang=en&v=2008184&poi=0&accessKey=1597851377_6762113937655275830_%2F_%2F%2FdSjhUFwz%2Bh4Co%2BIF4%2FQq8D7kDQ0phE9rD2DNZruKQ%3D&labels=0\n",
      "https://cdn3.apple-mapkit.com/ti/tile?country=IN&region=IN&style=46&size=1&x=371320&y=219599&z=19&scale=1&lang=en&v=2008184&poi=0&accessKey=1597851377_6762113937655275830_%2F_%2F%2FdSjhUFwz%2Bh4Co%2BIF4%2FQq8D7kDQ0phE9rD2DNZruKQ%3D&labels=0\n",
      "https://cdn3.apple-mapkit.com/ti/tile?country=IN&region=IN&style=46&size=1&x=371320&y=219609&z=19&scale=1&lang=en&v=2008184&poi=0&accessKey=1597851377_6762113937655275830_%2F_%2F%2FdSjhUFwz%2Bh4Co%2BIF4%2FQq8D7kDQ0phE9rD2DNZruKQ%3D&labels=0\n",
      "https://cdn3.apple-mapkit.com/ti/tile?country=IN&region=IN&style=46&size=1&x=371319&y=219599&z=19&scale=1&lang=en&v=2008184&poi=0&accessKey=1597851377_6762113937655275830_%2F_%2F%2FdSjhUFwz%2Bh4Co%2BIF4%2FQq8D7kDQ0phE9rD2DNZruKQ%3D&labels=0\n",
      "https://cdn3.apple-mapkit.com/ti/tile?country=IN&region=IN&style=46&size=1&x=371320&y=219607&z=19&scale=1&lang=en&v=2008184&poi=0&accessKey=1597851377_6762113937655275830_%2F_%2F%2FdSjhUFwz%2Bh4Co%2BIF4%2FQq8D7kDQ0phE9rD2DNZruKQ%3D&labels=0\n"
     ]
    },
    {
     "name": "stderr",
     "output_type": "stream",
     "text": [
      "\r",
      " 43%|████▎     | 41/95 [00:10<00:46,  1.15it/s]"
     ]
    },
    {
     "name": "stdout",
     "output_type": "stream",
     "text": [
      "https://cdn3.apple-mapkit.com/ti/tile?country=IN&region=IN&style=46&size=1&x=371321&y=219607&z=19&scale=1&lang=en&v=2008184&poi=0&accessKey=1597851377_6762113937655275830_%2F_%2F%2FdSjhUFwz%2Bh4Co%2BIF4%2FQq8D7kDQ0phE9rD2DNZruKQ%3D&labels=0\n",
      "https://cdn3.apple-mapkit.com/ti/tile?country=IN&region=IN&style=46&size=1&x=371321&y=219610&z=19&scale=1&lang=en&v=2008184&poi=0&accessKey=1597851377_6762113937655275830_%2F_%2F%2FdSjhUFwz%2Bh4Co%2BIF4%2FQq8D7kDQ0phE9rD2DNZruKQ%3D&labels=0\n"
     ]
    },
    {
     "name": "stderr",
     "output_type": "stream",
     "text": [
      "\r",
      " 44%|████▍     | 42/95 [00:11<00:47,  1.11it/s]"
     ]
    },
    {
     "name": "stdout",
     "output_type": "stream",
     "text": [
      "https://cdn3.apple-mapkit.com/ti/tile?country=IN&region=IN&style=46&size=1&x=371320&y=219604&z=19&scale=1&lang=en&v=2008184&poi=0&accessKey=1597851377_6762113937655275830_%2F_%2F%2FdSjhUFwz%2Bh4Co%2BIF4%2FQq8D7kDQ0phE9rD2DNZruKQ%3D&labels=0\n",
      "https://cdn3.apple-mapkit.com/ti/tile?country=IN&region=IN&style=46&size=1&x=371321&y=219604&z=19&scale=1&lang=en&v=2008184&poi=0&accessKey=1597851377_6762113937655275830_%2F_%2F%2FdSjhUFwz%2Bh4Co%2BIF4%2FQq8D7kDQ0phE9rD2DNZruKQ%3D&labels=0\n",
      "https://cdn3.apple-mapkit.com/ti/tile?country=IN&region=IN&style=46&size=1&x=371321&y=219605&z=19&scale=1&lang=en&v=2008184&poi=0&accessKey=1597851377_6762113937655275830_%2F_%2F%2FdSjhUFwz%2Bh4Co%2BIF4%2FQq8D7kDQ0phE9rD2DNZruKQ%3D&labels=0\n",
      "https://cdn3.apple-mapkit.com/ti/tile?country=IN&region=IN&style=46&size=1&x=371322&y=219630&z=19&scale=1&lang=en&v=2008184&poi=0&accessKey=1597851377_6762113937655275830_%2F_%2F%2FdSjhUFwz%2Bh4Co%2BIF4%2FQq8D7kDQ0phE9rD2DNZruKQ%3D&labels=0\n",
      "https://cdn3.apple-mapkit.com/ti/tile?country=IN&region=IN&style=46&size=1&x=371320&y=219602&z=19&scale=1&lang=en&v=2008184&poi=0&accessKey=1597851377_6762113937655275830_%2F_%2F%2FdSjhUFwz%2Bh4Co%2BIF4%2FQq8D7kDQ0phE9rD2DNZruKQ%3D&labels=0\n",
      "https://cdn3.apple-mapkit.com/ti/tile?country=IN&region=IN&style=46&size=1&x=371322&y=219625&z=19&scale=1&lang=en&v=2008184&poi=0&accessKey=1597851377_6762113937655275830_%2F_%2F%2FdSjhUFwz%2Bh4Co%2BIF4%2FQq8D7kDQ0phE9rD2DNZruKQ%3D&labels=0\n",
      "https://cdn3.apple-mapkit.com/ti/tile?country=IN&region=IN&style=46&size=1&x=371319&y=219597&z=19&scale=1&lang=en&v=2008184&poi=0&accessKey=1597851377_6762113937655275830_%2F_%2F%2FdSjhUFwz%2Bh4Co%2BIF4%2FQq8D7kDQ0phE9rD2DNZruKQ%3D&labels=0\n"
     ]
    },
    {
     "name": "stderr",
     "output_type": "stream",
     "text": [
      "\r",
      " 45%|████▌     | 43/95 [00:12<00:56,  1.08s/it]"
     ]
    },
    {
     "name": "stdout",
     "output_type": "stream",
     "text": [
      "https://cdn3.apple-mapkit.com/ti/tile?country=IN&region=IN&style=46&size=1&x=371322&y=219629&z=19&scale=1&lang=en&v=2008184&poi=0&accessKey=1597851377_6762113937655275830_%2F_%2F%2FdSjhUFwz%2Bh4Co%2BIF4%2FQq8D7kDQ0phE9rD2DNZruKQ%3D&labels=0https://cdn3.apple-mapkit.com/ti/tile?country=IN&region=IN&style=46&size=1&x=371322&y=219620&z=19&scale=1&lang=en&v=2008184&poi=0&accessKey=1597851377_6762113937655275830_%2F_%2F%2FdSjhUFwz%2Bh4Co%2BIF4%2FQq8D7kDQ0phE9rD2DNZruKQ%3D&labels=0https://cdn3.apple-mapkit.com/ti/tile?country=IN&region=IN&style=46&size=1&x=371322&y=219621&z=19&scale=1&lang=en&v=2008184&poi=0&accessKey=1597851377_6762113937655275830_%2F_%2F%2FdSjhUFwz%2Bh4Co%2BIF4%2FQq8D7kDQ0phE9rD2DNZruKQ%3D&labels=0\n",
      "\n",
      "\n",
      "https://cdn3.apple-mapkit.com/ti/tile?country=IN&region=IN&style=46&size=1&x=371322&y=219613&z=19&scale=1&lang=en&v=2008184&poi=0&accessKey=1597851377_6762113937655275830_%2F_%2F%2FdSjhUFwz%2Bh4Co%2BIF4%2FQq8D7kDQ0phE9rD2DNZruKQ%3D&labels=0https://cdn3.apple-mapkit.com/ti/tile?country=IN&region=IN&style=46&size=1&x=371322&y=219618&z=19&scale=1&lang=en&v=2008184&poi=0&accessKey=1597851377_6762113937655275830_%2F_%2F%2FdSjhUFwz%2Bh4Co%2BIF4%2FQq8D7kDQ0phE9rD2DNZruKQ%3D&labels=0\n",
      "\n",
      "https://cdn3.apple-mapkit.com/ti/tile?country=IN&region=IN&style=46&size=1&x=371322&y=219623&z=19&scale=1&lang=en&v=2008184&poi=0&accessKey=1597851377_6762113937655275830_%2F_%2F%2FdSjhUFwz%2Bh4Co%2BIF4%2FQq8D7kDQ0phE9rD2DNZruKQ%3D&labels=0\n",
      "https://cdn3.apple-mapkit.com/ti/tile?country=IN&region=IN&style=46&size=1&x=371322&y=219619&z=19&scale=1&lang=en&v=2008184&poi=0&accessKey=1597851377_6762113937655275830_%2F_%2F%2FdSjhUFwz%2Bh4Co%2BIF4%2FQq8D7kDQ0phE9rD2DNZruKQ%3D&labels=0\n",
      "https://cdn3.apple-mapkit.com/ti/tile?country=IN&region=IN&style=46&size=1&x=371322&y=219622&z=19&scale=1&lang=en&v=2008184&poi=0&accessKey=1597851377_6762113937655275830_%2F_%2F%2FdSjhUFwz%2Bh4Co%2BIF4%2FQq8D7kDQ0phE9rD2DNZruKQ%3D&labels=0\n",
      "https://cdn3.apple-mapkit.com/ti/tile?country=IN&region=IN&style=46&size=1&x=371321&y=219602&z=19&scale=1&lang=en&v=2008184&poi=0&accessKey=1597851377_6762113937655275830_%2F_%2F%2FdSjhUFwz%2Bh4Co%2BIF4%2FQq8D7kDQ0phE9rD2DNZruKQ%3D&labels=0\n",
      "https://cdn3.apple-mapkit.com/ti/tile?country=IN&region=IN&style=46&size=1&x=371322&y=219611&z=19&scale=1&lang=en&v=2008184&poi=0&accessKey=1597851377_6762113937655275830_%2F_%2F%2FdSjhUFwz%2Bh4Co%2BIF4%2FQq8D7kDQ0phE9rD2DNZruKQ%3D&labels=0\n",
      "https://cdn3.apple-mapkit.com/ti/tile?country=IN&region=IN&style=46&size=1&x=371320&y=219597&z=19&scale=1&lang=en&v=2008184&poi=0&accessKey=1597851377_6762113937655275830_%2F_%2F%2FdSjhUFwz%2Bh4Co%2BIF4%2FQq8D7kDQ0phE9rD2DNZruKQ%3D&labels=0https://cdn3.apple-mapkit.com/ti/tile?country=IN&region=IN&style=46&size=1&x=371322&y=219629&z=19&scale=1&lang=en&v=2008184&poi=0&accessKey=1597851377_6762113937655275830_%2F_%2F%2FdSjhUFwz%2Bh4Co%2BIF4%2FQq8D7kDQ0phE9rD2DNZruKQ%3D&labels=0\n",
      "https://cdn3.apple-mapkit.com/ti/tile?country=IN&region=IN&style=46&size=1&x=371321&y=219603&z=19&scale=1&lang=en&v=2008184&poi=0&accessKey=1597851377_6762113937655275830_%2F_%2F%2FdSjhUFwz%2Bh4Co%2BIF4%2FQq8D7kDQ0phE9rD2DNZruKQ%3D&labels=0\n",
      "\n",
      "https://cdn3.apple-mapkit.com/ti/tile?country=IN&region=IN&style=46&size=1&x=371322&y=219627&z=19&scale=1&lang=en&v=2008184&poi=0&accessKey=1597851377_6762113937655275830_%2F_%2F%2FdSjhUFwz%2Bh4Co%2BIF4%2FQq8D7kDQ0phE9rD2DNZruKQ%3D&labels=0\n",
      "https://cdn3.apple-mapkit.com/ti/tile?country=IN&region=IN&style=46&size=1&x=371322&y=219615&z=19&scale=1&lang=en&v=2008184&poi=0&accessKey=1597851377_6762113937655275830_%2F_%2F%2FdSjhUFwz%2Bh4Co%2BIF4%2FQq8D7kDQ0phE9rD2DNZruKQ%3D&labels=0\n",
      "https://cdn3.apple-mapkit.com/ti/tile?country=IN&region=IN&style=46&size=1&x=371322&y=219619&z=19&scale=1&lang=en&v=2008184&poi=0&accessKey=1597851377_6762113937655275830_%2F_%2F%2FdSjhUFwz%2Bh4Co%2BIF4%2FQq8D7kDQ0phE9rD2DNZruKQ%3D&labels=0\n",
      "https://cdn3.apple-mapkit.com/ti/tile?country=IN&region=IN&style=46&size=1&x=371322&y=219611&z=19&scale=1&lang=en&v=2008184&poi=0&accessKey=1597851377_6762113937655275830_%2F_%2F%2FdSjhUFwz%2Bh4Co%2BIF4%2FQq8D7kDQ0phE9rD2DNZruKQ%3D&labels=0\n",
      "https://cdn3.apple-mapkit.com/ti/tile?country=IN&region=IN&style=46&size=1&x=371322&y=219626&z=19&scale=1&lang=en&v=2008184&poi=0&accessKey=1597851377_6762113937655275830_%2F_%2F%2FdSjhUFwz%2Bh4Co%2BIF4%2FQq8D7kDQ0phE9rD2DNZruKQ%3D&labels=0\n",
      "https://cdn3.apple-mapkit.com/ti/tile?country=IN&region=IN&style=46&size=1&x=371322&y=219617&z=19&scale=1&lang=en&v=2008184&poi=0&accessKey=1597851377_6762113937655275830_%2F_%2F%2FdSjhUFwz%2Bh4Co%2BIF4%2FQq8D7kDQ0phE9rD2DNZruKQ%3D&labels=0\n",
      "https://cdn3.apple-mapkit.com/ti/tile?country=IN&region=IN&style=46&size=1&x=371322&y=219626&z=19&scale=1&lang=en&v=2008184&poi=0&accessKey=1597851377_6762113937655275830_%2F_%2F%2FdSjhUFwz%2Bh4Co%2BIF4%2FQq8D7kDQ0phE9rD2DNZruKQ%3D&labels=0"
     ]
    },
    {
     "name": "stderr",
     "output_type": "stream",
     "text": [
      "\r",
      " 46%|████▋     | 44/95 [00:13<00:47,  1.07it/s]"
     ]
    },
    {
     "name": "stdout",
     "output_type": "stream",
     "text": [
      "\n",
      "https://cdn3.apple-mapkit.com/ti/tile?country=IN&region=IN&style=46&size=1&x=371322&y=219617&z=19&scale=1&lang=en&v=2008184&poi=0&accessKey=1597851377_6762113937655275830_%2F_%2F%2FdSjhUFwz%2Bh4Co%2BIF4%2FQq8D7kDQ0phE9rD2DNZruKQ%3D&labels=0\n",
      "https://cdn3.apple-mapkit.com/ti/tile?country=IN&region=IN&style=46&size=1&x=371320&y=219603&z=19&scale=1&lang=en&v=2008184&poi=0&accessKey=1597851377_6762113937655275830_%2F_%2F%2FdSjhUFwz%2Bh4Co%2BIF4%2FQq8D7kDQ0phE9rD2DNZruKQ%3D&labels=0https://cdn3.apple-mapkit.com/ti/tile?country=IN&region=IN&style=46&size=1&x=371322&y=219616&z=19&scale=1&lang=en&v=2008184&poi=0&accessKey=1597851377_6762113937655275830_%2F_%2F%2FdSjhUFwz%2Bh4Co%2BIF4%2FQq8D7kDQ0phE9rD2DNZruKQ%3D&labels=0https://cdn3.apple-mapkit.com/ti/tile?country=IN&region=IN&style=46&size=1&x=371319&y=219597&z=19&scale=1&lang=en&v=2008184&poi=0&accessKey=1597851377_6762113937655275830_%2F_%2F%2FdSjhUFwz%2Bh4Co%2BIF4%2FQq8D7kDQ0phE9rD2DNZruKQ%3D&labels=0\n",
      "https://cdn3.apple-mapkit.com/ti/tile?country=IN&region=IN&style=46&size=1&x=371322&y=219628&z=19&scale=1&lang=en&v=2008184&poi=0&accessKey=1597851377_6762113937655275830_%2F_%2F%2FdSjhUFwz%2Bh4Co%2BIF4%2FQq8D7kDQ0phE9rD2DNZruKQ%3D&labels=0\n",
      "https://cdn3.apple-mapkit.com/ti/tile?country=IN&region=IN&style=46&size=1&x=371322&y=219616&z=19&scale=1&lang=en&v=2008184&poi=0&accessKey=1597851377_6762113937655275830_%2F_%2F%2FdSjhUFwz%2Bh4Co%2BIF4%2FQq8D7kDQ0phE9rD2DNZruKQ%3D&labels=0\n",
      "\n",
      "https://cdn3.apple-mapkit.com/ti/tile?country=IN&region=IN&style=46&size=1&x=371322&y=219613&z=19&scale=1&lang=en&v=2008184&poi=0&accessKey=1597851377_6762113937655275830_%2F_%2F%2FdSjhUFwz%2Bh4Co%2BIF4%2FQq8D7kDQ0phE9rD2DNZruKQ%3D&labels=0\n",
      "https://cdn3.apple-mapkit.com/ti/tile?country=IN&region=IN&style=46&size=1&x=371322&y=219616&z=19&scale=1&lang=en&v=2008184&poi=0&accessKey=1597851377_6762113937655275830_%2F_%2F%2FdSjhUFwz%2Bh4Co%2BIF4%2FQq8D7kDQ0phE9rD2DNZruKQ%3D&labels=0\n",
      "\n",
      "https://cdn3.apple-mapkit.com/ti/tile?country=IN&region=IN&style=46&size=1&x=371322&y=219607&z=19&scale=1&lang=en&v=2008184&poi=0&accessKey=1597851377_6762113937655275830_%2F_%2F%2FdSjhUFwz%2Bh4Co%2BIF4%2FQq8D7kDQ0phE9rD2DNZruKQ%3D&labels=0\n",
      "https://cdn3.apple-mapkit.com/ti/tile?country=IN&region=IN&style=46&size=1&x=371322&y=219615&z=19&scale=1&lang=en&v=2008184&poi=0&accessKey=1597851377_6762113937655275830_%2F_%2F%2FdSjhUFwz%2Bh4Co%2BIF4%2FQq8D7kDQ0phE9rD2DNZruKQ%3D&labels=0\n",
      "https://cdn3.apple-mapkit.com/ti/tile?country=IN&region=IN&style=46&size=1&x=371322&y=219625&z=19&scale=1&lang=en&v=2008184&poi=0&accessKey=1597851377_6762113937655275830_%2F_%2F%2FdSjhUFwz%2Bh4Co%2BIF4%2FQq8D7kDQ0phE9rD2DNZruKQ%3D&labels=0\n",
      "https://cdn3.apple-mapkit.com/ti/tile?country=IN&region=IN&style=46&size=1&x=371322&y=219614&z=19&scale=1&lang=en&v=2008184&poi=0&accessKey=1597851377_6762113937655275830_%2F_%2F%2FdSjhUFwz%2Bh4Co%2BIF4%2FQq8D7kDQ0phE9rD2DNZruKQ%3D&labels=0\n"
     ]
    },
    {
     "name": "stderr",
     "output_type": "stream",
     "text": [
      "\r",
      " 47%|████▋     | 45/95 [00:13<00:36,  1.36it/s]"
     ]
    },
    {
     "name": "stdout",
     "output_type": "stream",
     "text": [
      "https://cdn3.apple-mapkit.com/ti/tile?country=IN&region=IN&style=46&size=1&x=371322&y=219618&z=19&scale=1&lang=en&v=2008184&poi=0&accessKey=1597851377_6762113937655275830_%2F_%2F%2FdSjhUFwz%2Bh4Co%2BIF4%2FQq8D7kDQ0phE9rD2DNZruKQ%3D&labels=0https://cdn3.apple-mapkit.com/ti/tile?country=IN&region=IN&style=46&size=1&x=371322&y=219621&z=19&scale=1&lang=en&v=2008184&poi=0&accessKey=1597851377_6762113937655275830_%2F_%2F%2FdSjhUFwz%2Bh4Co%2BIF4%2FQq8D7kDQ0phE9rD2DNZruKQ%3D&labels=0\n",
      "https://cdn3.apple-mapkit.com/ti/tile?country=IN&region=IN&style=46&size=1&x=371322&y=219614&z=19&scale=1&lang=en&v=2008184&poi=0&accessKey=1597851377_6762113937655275830_%2F_%2F%2FdSjhUFwz%2Bh4Co%2BIF4%2FQq8D7kDQ0phE9rD2DNZruKQ%3D&labels=0\n",
      "https://cdn3.apple-mapkit.com/ti/tile?country=IN&region=IN&style=46&size=1&x=371322&y=219624&z=19&scale=1&lang=en&v=2008184&poi=0&accessKey=1597851377_6762113937655275830_%2F_%2F%2FdSjhUFwz%2Bh4Co%2BIF4%2FQq8D7kDQ0phE9rD2DNZruKQ%3D&labels=0\n",
      "https://cdn3.apple-mapkit.com/ti/tile?country=IN&region=IN&style=46&size=1&x=371322&y=219611&z=19&scale=1&lang=en&v=2008184&poi=0&accessKey=1597851377_6762113937655275830_%2F_%2F%2FdSjhUFwz%2Bh4Co%2BIF4%2FQq8D7kDQ0phE9rD2DNZruKQ%3D&labels=0\n",
      "\n"
     ]
    },
    {
     "name": "stderr",
     "output_type": "stream",
     "text": [
      "\r",
      " 48%|████▊     | 46/95 [00:13<00:32,  1.53it/s]"
     ]
    },
    {
     "name": "stdout",
     "output_type": "stream",
     "text": [
      "https://cdn3.apple-mapkit.com/ti/tile?country=IN&region=IN&style=46&size=1&x=371322&y=219612&z=19&scale=1&lang=en&v=2008184&poi=0&accessKey=1597851377_6762113937655275830_%2F_%2F%2FdSjhUFwz%2Bh4Co%2BIF4%2FQq8D7kDQ0phE9rD2DNZruKQ%3D&labels=0\n",
      "https://cdn3.apple-mapkit.com/ti/tile?country=IN&region=IN&style=46&size=1&x=371322&y=219620&z=19&scale=1&lang=en&v=2008184&poi=0&accessKey=1597851377_6762113937655275830_%2F_%2F%2FdSjhUFwz%2Bh4Co%2BIF4%2FQq8D7kDQ0phE9rD2DNZruKQ%3D&labels=0\n",
      "https://cdn3.apple-mapkit.com/ti/tile?country=IN&region=IN&style=46&size=1&x=371322&y=219627&z=19&scale=1&lang=en&v=2008184&poi=0&accessKey=1597851377_6762113937655275830_%2F_%2F%2FdSjhUFwz%2Bh4Co%2BIF4%2FQq8D7kDQ0phE9rD2DNZruKQ%3D&labels=0\n",
      "https://cdn3.apple-mapkit.com/ti/tile?country=IN&region=IN&style=46&size=1&x=371322&y=219630&z=19&scale=1&lang=en&v=2008184&poi=0&accessKey=1597851377_6762113937655275830_%2F_%2F%2FdSjhUFwz%2Bh4Co%2BIF4%2FQq8D7kDQ0phE9rD2DNZruKQ%3D&labels=0\n",
      "https://cdn3.apple-mapkit.com/ti/tile?country=IN&region=IN&style=46&size=1&x=371322&y=219616&z=19&scale=1&lang=en&v=2008184&poi=0&accessKey=1597851377_6762113937655275830_%2F_%2F%2FdSjhUFwz%2Bh4Co%2BIF4%2FQq8D7kDQ0phE9rD2DNZruKQ%3D&labels=0https://cdn3.apple-mapkit.com/ti/tile?country=IN&region=IN&style=46&size=1&x=371322&y=219608&z=19&scale=1&lang=en&v=2008184&poi=0&accessKey=1597851377_6762113937655275830_%2F_%2F%2FdSjhUFwz%2Bh4Co%2BIF4%2FQq8D7kDQ0phE9rD2DNZruKQ%3D&labels=0\n",
      "\n",
      "https://cdn3.apple-mapkit.com/ti/tile?country=IN&region=IN&style=46&size=1&x=371322&y=219611&z=19&scale=1&lang=en&v=2008184&poi=0&accessKey=1597851377_6762113937655275830_%2F_%2F%2FdSjhUFwz%2Bh4Co%2BIF4%2FQq8D7kDQ0phE9rD2DNZruKQ%3D&labels=0\n",
      "https://cdn3.apple-mapkit.com/ti/tile?country=IN&region=IN&style=46&size=1&x=371322&y=219621&z=19&scale=1&lang=en&v=2008184&poi=0&accessKey=1597851377_6762113937655275830_%2F_%2F%2FdSjhUFwz%2Bh4Co%2BIF4%2FQq8D7kDQ0phE9rD2DNZruKQ%3D&labels=0\n"
     ]
    },
    {
     "name": "stderr",
     "output_type": "stream",
     "text": [
      "\r",
      " 49%|████▉     | 47/95 [00:14<00:27,  1.73it/s]"
     ]
    },
    {
     "name": "stdout",
     "output_type": "stream",
     "text": [
      "https://cdn3.apple-mapkit.com/ti/tile?country=IN&region=IN&style=46&size=1&x=371322&y=219625&z=19&scale=1&lang=en&v=2008184&poi=0&accessKey=1597851377_6762113937655275830_%2F_%2F%2FdSjhUFwz%2Bh4Co%2BIF4%2FQq8D7kDQ0phE9rD2DNZruKQ%3D&labels=0\n",
      "https://cdn3.apple-mapkit.com/ti/tile?country=IN&region=IN&style=46&size=1&x=371322&y=219623&z=19&scale=1&lang=en&v=2008184&poi=0&accessKey=1597851377_6762113937655275830_%2F_%2F%2FdSjhUFwz%2Bh4Co%2BIF4%2FQq8D7kDQ0phE9rD2DNZruKQ%3D&labels=0\n",
      "https://cdn3.apple-mapkit.com/ti/tile?country=IN&region=IN&style=46&size=1&x=371322&y=219625&z=19&scale=1&lang=en&v=2008184&poi=0&accessKey=1597851377_6762113937655275830_%2F_%2F%2FdSjhUFwz%2Bh4Co%2BIF4%2FQq8D7kDQ0phE9rD2DNZruKQ%3D&labels=0https://cdn3.apple-mapkit.com/ti/tile?country=IN&region=IN&style=46&size=1&x=371320&y=219597&z=19&scale=1&lang=en&v=2008184&poi=0&accessKey=1597851377_6762113937655275830_%2F_%2F%2FdSjhUFwz%2Bh4Co%2BIF4%2FQq8D7kDQ0phE9rD2DNZruKQ%3D&labels=0\n",
      "\n",
      "https://cdn3.apple-mapkit.com/ti/tile?country=IN&region=IN&style=46&size=1&x=371322&y=219612&z=19&scale=1&lang=en&v=2008184&poi=0&accessKey=1597851377_6762113937655275830_%2F_%2F%2FdSjhUFwz%2Bh4Co%2BIF4%2FQq8D7kDQ0phE9rD2DNZruKQ%3D&labels=0\n",
      "https://cdn3.apple-mapkit.com/ti/tile?country=IN&region=IN&style=46&size=1&x=371322&y=219624&z=19&scale=1&lang=en&v=2008184&poi=0&accessKey=1597851377_6762113937655275830_%2F_%2F%2FdSjhUFwz%2Bh4Co%2BIF4%2FQq8D7kDQ0phE9rD2DNZruKQ%3D&labels=0\n",
      "https://cdn3.apple-mapkit.com/ti/tile?country=IN&region=IN&style=46&size=1&x=371322&y=219622&z=19&scale=1&lang=en&v=2008184&poi=0&accessKey=1597851377_6762113937655275830_%2F_%2F%2FdSjhUFwz%2Bh4Co%2BIF4%2FQq8D7kDQ0phE9rD2DNZruKQ%3D&labels=0https://cdn3.apple-mapkit.com/ti/tile?country=IN&region=IN&style=46&size=1&x=371320&y=219600&z=19&scale=1&lang=en&v=2008184&poi=0&accessKey=1597851377_6762113937655275830_%2F_%2F%2FdSjhUFwz%2Bh4Co%2BIF4%2FQq8D7kDQ0phE9rD2DNZruKQ%3D&labels=0\n",
      "\n",
      "https://cdn3.apple-mapkit.com/ti/tile?country=IN&region=IN&style=46&size=1&x=371321&y=219600&z=19&scale=1&lang=en&v=2008184&poi=0&accessKey=1597851377_6762113937655275830_%2F_%2F%2FdSjhUFwz%2Bh4Co%2BIF4%2FQq8D7kDQ0phE9rD2DNZruKQ%3D&labels=0\n",
      "https://cdn3.apple-mapkit.com/ti/tile?country=IN&region=IN&style=46&size=1&x=371322&y=219610&z=19&scale=1&lang=en&v=2008184&poi=0&accessKey=1597851377_6762113937655275830_%2F_%2F%2FdSjhUFwz%2Bh4Co%2BIF4%2FQq8D7kDQ0phE9rD2DNZruKQ%3D&labels=0\n",
      "https://cdn3.apple-mapkit.com/ti/tile?country=IN&region=IN&style=46&size=1&x=371322&y=219609&z=19&scale=1&lang=en&v=2008184&poi=0&accessKey=1597851377_6762113937655275830_%2F_%2F%2FdSjhUFwz%2Bh4Co%2BIF4%2FQq8D7kDQ0phE9rD2DNZruKQ%3D&labels=0\n",
      "https://cdn3.apple-mapkit.com/ti/tile?country=IN&region=IN&style=46&size=1&x=371322&y=219608&z=19&scale=1&lang=en&v=2008184&poi=0&accessKey=1597851377_6762113937655275830_%2F_%2F%2FdSjhUFwz%2Bh4Co%2BIF4%2FQq8D7kDQ0phE9rD2DNZruKQ%3D&labels=0\n",
      "https://cdn3.apple-mapkit.com/ti/tile?country=IN&region=IN&style=46&size=1&x=371322&y=219621&z=19&scale=1&lang=en&v=2008184&poi=0&accessKey=1597851377_6762113937655275830_%2F_%2F%2FdSjhUFwz%2Bh4Co%2BIF4%2FQq8D7kDQ0phE9rD2DNZruKQ%3D&labels=0\n",
      "https://cdn3.apple-mapkit.com/ti/tile?country=IN&region=IN&style=46&size=1&x=371322&y=219628&z=19&scale=1&lang=en&v=2008184&poi=0&accessKey=1597851377_6762113937655275830_%2F_%2F%2FdSjhUFwz%2Bh4Co%2BIF4%2FQq8D7kDQ0phE9rD2DNZruKQ%3D&labels=0\n",
      "https://cdn3.apple-mapkit.com/ti/tile?country=IN&region=IN&style=46&size=1&x=371319&y=219595&z=19&scale=1&lang=en&v=2008184&poi=0&accessKey=1597851377_6762113937655275830_%2F_%2F%2FdSjhUFwz%2Bh4Co%2BIF4%2FQq8D7kDQ0phE9rD2DNZruKQ%3D&labels=0\n",
      "https://cdn3.apple-mapkit.com/ti/tile?country=IN&region=IN&style=46&size=1&x=371322&y=219605&z=19&scale=1&lang=en&v=2008184&poi=0&accessKey=1597851377_6762113937655275830_%2F_%2F%2FdSjhUFwz%2Bh4Co%2BIF4%2FQq8D7kDQ0phE9rD2DNZruKQ%3D&labels=0\n"
     ]
    },
    {
     "name": "stderr",
     "output_type": "stream",
     "text": [
      "\r",
      " 51%|█████     | 48/95 [00:15<00:36,  1.30it/s]"
     ]
    },
    {
     "name": "stdout",
     "output_type": "stream",
     "text": [
      "https://cdn3.apple-mapkit.com/ti/tile?country=IN&region=IN&style=46&size=1&x=371322&y=219610&z=19&scale=1&lang=en&v=2008184&poi=0&accessKey=1597851377_6762113937655275830_%2F_%2F%2FdSjhUFwz%2Bh4Co%2BIF4%2FQq8D7kDQ0phE9rD2DNZruKQ%3D&labels=0\n",
      "https://cdn3.apple-mapkit.com/ti/tile?country=IN&region=IN&style=46&size=1&x=371322&y=219609&z=19&scale=1&lang=en&v=2008184&poi=0&accessKey=1597851377_6762113937655275830_%2F_%2F%2FdSjhUFwz%2Bh4Co%2BIF4%2FQq8D7kDQ0phE9rD2DNZruKQ%3D&labels=0\n",
      "https://cdn3.apple-mapkit.com/ti/tile?country=IN&region=IN&style=46&size=1&x=371322&y=219607&z=19&scale=1&lang=en&v=2008184&poi=0&accessKey=1597851377_6762113937655275830_%2F_%2F%2FdSjhUFwz%2Bh4Co%2BIF4%2FQq8D7kDQ0phE9rD2DNZruKQ%3D&labels=0\n",
      "https://cdn3.apple-mapkit.com/ti/tile?country=IN&region=IN&style=46&size=1&x=371320&y=219599&z=19&scale=1&lang=en&v=2008184&poi=0&accessKey=1597851377_6762113937655275830_%2F_%2F%2FdSjhUFwz%2Bh4Co%2BIF4%2FQq8D7kDQ0phE9rD2DNZruKQ%3D&labels=0\n",
      "https://cdn3.apple-mapkit.com/ti/tile?country=IN&region=IN&style=46&size=1&x=371321&y=219599&z=19&scale=1&lang=en&v=2008184&poi=0&accessKey=1597851377_6762113937655275830_%2F_%2F%2FdSjhUFwz%2Bh4Co%2BIF4%2FQq8D7kDQ0phE9rD2DNZruKQ%3D&labels=0https://cdn3.apple-mapkit.com/ti/tile?country=IN&region=IN&style=46&size=1&x=371320&y=219595&z=19&scale=1&lang=en&v=2008184&poi=0&accessKey=1597851377_6762113937655275830_%2F_%2F%2FdSjhUFwz%2Bh4Co%2BIF4%2FQq8D7kDQ0phE9rD2DNZruKQ%3D&labels=0\n",
      "\n",
      "https://cdn3.apple-mapkit.com/ti/tile?country=IN&region=IN&style=46&size=1&x=371322&y=219606&z=19&scale=1&lang=en&v=2008184&poi=0&accessKey=1597851377_6762113937655275830_%2F_%2F%2FdSjhUFwz%2Bh4Co%2BIF4%2FQq8D7kDQ0phE9rD2DNZruKQ%3D&labels=0\n",
      "https://cdn3.apple-mapkit.com/ti/tile?country=IN&region=IN&style=46&size=1&x=371322&y=219606&z=19&scale=1&lang=en&v=2008184&poi=0&accessKey=1597851377_6762113937655275830_%2F_%2F%2FdSjhUFwz%2Bh4Co%2BIF4%2FQq8D7kDQ0phE9rD2DNZruKQ%3D&labels=0\n",
      "https://cdn3.apple-mapkit.com/ti/tile?country=IN&region=IN&style=46&size=1&x=371319&y=219593&z=19&scale=1&lang=en&v=2008184&poi=0&accessKey=1597851377_6762113937655275830_%2F_%2F%2FdSjhUFwz%2Bh4Co%2BIF4%2FQq8D7kDQ0phE9rD2DNZruKQ%3D&labels=0\n"
     ]
    },
    {
     "name": "stderr",
     "output_type": "stream",
     "text": [
      "\r",
      " 52%|█████▏    | 49/95 [00:16<00:36,  1.25it/s]"
     ]
    },
    {
     "name": "stdout",
     "output_type": "stream",
     "text": [
      "https://cdn3.apple-mapkit.com/ti/tile?country=IN&region=IN&style=46&size=1&x=371322&y=219602&z=19&scale=1&lang=en&v=2008184&poi=0&accessKey=1597851377_6762113937655275830_%2F_%2F%2FdSjhUFwz%2Bh4Co%2BIF4%2FQq8D7kDQ0phE9rD2DNZruKQ%3D&labels=0\n",
      "https://cdn3.apple-mapkit.com/ti/tile?country=IN&region=IN&style=46&size=1&x=371322&y=219607&z=19&scale=1&lang=en&v=2008184&poi=0&accessKey=1597851377_6762113937655275830_%2F_%2F%2FdSjhUFwz%2Bh4Co%2BIF4%2FQq8D7kDQ0phE9rD2DNZruKQ%3D&labels=0\n",
      "https://cdn3.apple-mapkit.com/ti/tile?country=IN&region=IN&style=46&size=1&x=371322&y=219607&z=19&scale=1&lang=en&v=2008184&poi=0&accessKey=1597851377_6762113937655275830_%2F_%2F%2FdSjhUFwz%2Bh4Co%2BIF4%2FQq8D7kDQ0phE9rD2DNZruKQ%3D&labels=0\n"
     ]
    },
    {
     "name": "stderr",
     "output_type": "stream",
     "text": [
      "\r",
      " 53%|█████▎    | 50/95 [00:16<00:31,  1.44it/s]"
     ]
    },
    {
     "name": "stdout",
     "output_type": "stream",
     "text": [
      "https://cdn3.apple-mapkit.com/ti/tile?country=IN&region=IN&style=46&size=1&x=371323&y=219625&z=19&scale=1&lang=en&v=2008184&poi=0&accessKey=1597851377_6762113937655275830_%2F_%2F%2FdSjhUFwz%2Bh4Co%2BIF4%2FQq8D7kDQ0phE9rD2DNZruKQ%3D&labels=0\n",
      "https://cdn3.apple-mapkit.com/ti/tile?country=IN&region=IN&style=46&size=1&x=371322&y=219602&z=19&scale=1&lang=en&v=2008184&poi=0&accessKey=1597851377_6762113937655275830_%2F_%2F%2FdSjhUFwz%2Bh4Co%2BIF4%2FQq8D7kDQ0phE9rD2DNZruKQ%3D&labels=0\n",
      "https://cdn3.apple-mapkit.com/ti/tile?country=IN&region=IN&style=46&size=1&x=371320&y=219593&z=19&scale=1&lang=en&v=2008184&poi=0&accessKey=1597851377_6762113937655275830_%2F_%2F%2FdSjhUFwz%2Bh4Co%2BIF4%2FQq8D7kDQ0phE9rD2DNZruKQ%3D&labels=0\n",
      "https://cdn3.apple-mapkit.com/ti/tile?country=IN&region=IN&style=46&size=1&x=371323&y=219630&z=19&scale=1&lang=en&v=2008184&poi=0&accessKey=1597851377_6762113937655275830_%2F_%2F%2FdSjhUFwz%2Bh4Co%2BIF4%2FQq8D7kDQ0phE9rD2DNZruKQ%3D&labels=0\n",
      "https://cdn3.apple-mapkit.com/ti/tile?country=IN&region=IN&style=46&size=1&x=371320&y=219592&z=19&scale=1&lang=en&v=2008184&poi=0&accessKey=1597851377_6762113937655275830_%2F_%2F%2FdSjhUFwz%2Bh4Co%2BIF4%2FQq8D7kDQ0phE9rD2DNZruKQ%3D&labels=0\n"
     ]
    },
    {
     "name": "stderr",
     "output_type": "stream",
     "text": [
      "\r",
      " 54%|█████▎    | 51/95 [00:17<00:27,  1.58it/s]"
     ]
    },
    {
     "name": "stdout",
     "output_type": "stream",
     "text": [
      "https://cdn3.apple-mapkit.com/ti/tile?country=IN&region=IN&style=46&size=1&x=371320&y=219592&z=19&scale=1&lang=en&v=2008184&poi=0&accessKey=1597851377_6762113937655275830_%2F_%2F%2FdSjhUFwz%2Bh4Co%2BIF4%2FQq8D7kDQ0phE9rD2DNZruKQ%3D&labels=0\n",
      "https://cdn3.apple-mapkit.com/ti/tile?country=IN&region=IN&style=46&size=1&x=371319&y=219592&z=19&scale=1&lang=en&v=2008184&poi=0&accessKey=1597851377_6762113937655275830_%2F_%2F%2FdSjhUFwz%2Bh4Co%2BIF4%2FQq8D7kDQ0phE9rD2DNZruKQ%3D&labels=0\n",
      "https://cdn3.apple-mapkit.com/ti/tile?country=IN&region=IN&style=46&size=1&x=371323&y=219619&z=19&scale=1&lang=en&v=2008184&poi=0&accessKey=1597851377_6762113937655275830_%2F_%2F%2FdSjhUFwz%2Bh4Co%2BIF4%2FQq8D7kDQ0phE9rD2DNZruKQ%3D&labels=0\n",
      "https://cdn3.apple-mapkit.com/ti/tile?country=IN&region=IN&style=46&size=1&x=371323&y=219626&z=19&scale=1&lang=en&v=2008184&poi=0&accessKey=1597851377_6762113937655275830_%2F_%2F%2FdSjhUFwz%2Bh4Co%2BIF4%2FQq8D7kDQ0phE9rD2DNZruKQ%3D&labels=0\n",
      "https://cdn3.apple-mapkit.com/ti/tile?country=IN&region=IN&style=46&size=1&x=371324&y=219619&z=19&scale=1&lang=en&v=2008184&poi=0&accessKey=1597851377_6762113937655275830_%2F_%2F%2FdSjhUFwz%2Bh4Co%2BIF4%2FQq8D7kDQ0phE9rD2DNZruKQ%3D&labels=0\n",
      "https://cdn3.apple-mapkit.com/ti/tile?country=IN&region=IN&style=46&size=1&x=371323&y=219615&z=19&scale=1&lang=en&v=2008184&poi=0&accessKey=1597851377_6762113937655275830_%2F_%2F%2FdSjhUFwz%2Bh4Co%2BIF4%2FQq8D7kDQ0phE9rD2DNZruKQ%3D&labels=0\n",
      "https://cdn3.apple-mapkit.com/ti/tile?country=IN&region=IN&style=46&size=1&x=371319&y=219592&z=19&scale=1&lang=en&v=2008184&poi=0&accessKey=1597851377_6762113937655275830_%2F_%2F%2FdSjhUFwz%2Bh4Co%2BIF4%2FQq8D7kDQ0phE9rD2DNZruKQ%3D&labels=0\n",
      "https://cdn3.apple-mapkit.com/ti/tile?country=IN&region=IN&style=46&size=1&x=371323&y=219617&z=19&scale=1&lang=en&v=2008184&poi=0&accessKey=1597851377_6762113937655275830_%2F_%2F%2FdSjhUFwz%2Bh4Co%2BIF4%2FQq8D7kDQ0phE9rD2DNZruKQ%3D&labels=0\n"
     ]
    },
    {
     "name": "stderr",
     "output_type": "stream",
     "text": [
      " 56%|█████▌    | 53/95 [00:18<00:26,  1.60it/s]"
     ]
    },
    {
     "name": "stdout",
     "output_type": "stream",
     "text": [
      "https://cdn3.apple-mapkit.com/ti/tile?country=IN&region=IN&style=46&size=1&x=371323&y=219621&z=19&scale=1&lang=en&v=2008184&poi=0&accessKey=1597851377_6762113937655275830_%2F_%2F%2FdSjhUFwz%2Bh4Co%2BIF4%2FQq8D7kDQ0phE9rD2DNZruKQ%3D&labels=0\n",
      "https://cdn3.apple-mapkit.com/ti/tile?country=IN&region=IN&style=46&size=1&x=371322&y=219604&z=19&scale=1&lang=en&v=2008184&poi=0&accessKey=1597851377_6762113937655275830_%2F_%2F%2FdSjhUFwz%2Bh4Co%2BIF4%2FQq8D7kDQ0phE9rD2DNZruKQ%3D&labels=0https://cdn3.apple-mapkit.com/ti/tile?country=IN&region=IN&style=46&size=1&x=371323&y=219618&z=19&scale=1&lang=en&v=2008184&poi=0&accessKey=1597851377_6762113937655275830_%2F_%2F%2FdSjhUFwz%2Bh4Co%2BIF4%2FQq8D7kDQ0phE9rD2DNZruKQ%3D&labels=0\n",
      "https://cdn3.apple-mapkit.com/ti/tile?country=IN&region=IN&style=46&size=1&x=371322&y=219605&z=19&scale=1&lang=en&v=2008184&poi=0&accessKey=1597851377_6762113937655275830_%2F_%2F%2FdSjhUFwz%2Bh4Co%2BIF4%2FQq8D7kDQ0phE9rD2DNZruKQ%3D&labels=0\n",
      "https://cdn3.apple-mapkit.com/ti/tile?country=IN&region=IN&style=46&size=1&x=371324&y=219611&z=19&scale=1&lang=en&v=2008184&poi=0&accessKey=1597851377_6762113937655275830_%2F_%2F%2FdSjhUFwz%2Bh4Co%2BIF4%2FQq8D7kDQ0phE9rD2DNZruKQ%3D&labels=0\n",
      "\n",
      "https://cdn3.apple-mapkit.com/ti/tile?country=IN&region=IN&style=46&size=1&x=371321&y=219597&z=19&scale=1&lang=en&v=2008184&poi=0&accessKey=1597851377_6762113937655275830_%2F_%2F%2FdSjhUFwz%2Bh4Co%2BIF4%2FQq8D7kDQ0phE9rD2DNZruKQ%3D&labels=0\n",
      "https://cdn3.apple-mapkit.com/ti/tile?country=IN&region=IN&style=46&size=1&x=371323&y=219613&z=19&scale=1&lang=en&v=2008184&poi=0&accessKey=1597851377_6762113937655275830_%2F_%2F%2FdSjhUFwz%2Bh4Co%2BIF4%2FQq8D7kDQ0phE9rD2DNZruKQ%3D&labels=0\n",
      "https://cdn3.apple-mapkit.com/ti/tile?country=IN&region=IN&style=46&size=1&x=371320&y=219597&z=19&scale=1&lang=en&v=2008184&poi=0&accessKey=1597851377_6762113937655275830_%2F_%2F%2FdSjhUFwz%2Bh4Co%2BIF4%2FQq8D7kDQ0phE9rD2DNZruKQ%3D&labels=0\n",
      "https://cdn3.apple-mapkit.com/ti/tile?country=IN&region=IN&style=46&size=1&x=371322&y=219603&z=19&scale=1&lang=en&v=2008184&poi=0&accessKey=1597851377_6762113937655275830_%2F_%2F%2FdSjhUFwz%2Bh4Co%2BIF4%2FQq8D7kDQ0phE9rD2DNZruKQ%3D&labels=0\n",
      "https://cdn3.apple-mapkit.com/ti/tile?country=IN&region=IN&style=46&size=1&x=371323&y=219614&z=19&scale=1&lang=en&v=2008184&poi=0&accessKey=1597851377_6762113937655275830_%2F_%2F%2FdSjhUFwz%2Bh4Co%2BIF4%2FQq8D7kDQ0phE9rD2DNZruKQ%3D&labels=0\n",
      "https://cdn3.apple-mapkit.com/ti/tile?country=IN&region=IN&style=46&size=1&x=371323&y=219621&z=19&scale=1&lang=en&v=2008184&poi=0&accessKey=1597851377_6762113937655275830_%2F_%2F%2FdSjhUFwz%2Bh4Co%2BIF4%2FQq8D7kDQ0phE9rD2DNZruKQ%3D&labels=0\n",
      "https://cdn3.apple-mapkit.com/ti/tile?country=IN&region=IN&style=46&size=1&x=371323&y=219620&z=19&scale=1&lang=en&v=2008184&poi=0&accessKey=1597851377_6762113937655275830_%2F_%2F%2FdSjhUFwz%2Bh4Co%2BIF4%2FQq8D7kDQ0phE9rD2DNZruKQ%3D&labels=0\n",
      "https://cdn3.apple-mapkit.com/ti/tile?country=IN&region=IN&style=46&size=1&x=371323&y=219623&z=19&scale=1&lang=en&v=2008184&poi=0&accessKey=1597851377_6762113937655275830_%2F_%2F%2FdSjhUFwz%2Bh4Co%2BIF4%2FQq8D7kDQ0phE9rD2DNZruKQ%3D&labels=0\n",
      "https://cdn3.apple-mapkit.com/ti/tile?country=IN&region=IN&style=46&size=1&x=371323&y=219629&z=19&scale=1&lang=en&v=2008184&poi=0&accessKey=1597851377_6762113937655275830_%2F_%2F%2FdSjhUFwz%2Bh4Co%2BIF4%2FQq8D7kDQ0phE9rD2DNZruKQ%3D&labels=0\n"
     ]
    },
    {
     "name": "stderr",
     "output_type": "stream",
     "text": [
      "\r",
      " 57%|█████▋    | 54/95 [00:18<00:23,  1.78it/s]"
     ]
    },
    {
     "name": "stdout",
     "output_type": "stream",
     "text": [
      "https://cdn3.apple-mapkit.com/ti/tile?country=IN&region=IN&style=46&size=1&x=371320&y=219597&z=19&scale=1&lang=en&v=2008184&poi=0&accessKey=1597851377_6762113937655275830_%2F_%2F%2FdSjhUFwz%2Bh4Co%2BIF4%2FQq8D7kDQ0phE9rD2DNZruKQ%3D&labels=0\n",
      "https://cdn3.apple-mapkit.com/ti/tile?country=IN&region=IN&style=46&size=1&x=371323&y=219612&z=19&scale=1&lang=en&v=2008184&poi=0&accessKey=1597851377_6762113937655275830_%2F_%2F%2FdSjhUFwz%2Bh4Co%2BIF4%2FQq8D7kDQ0phE9rD2DNZruKQ%3D&labels=0\n",
      "https://cdn3.apple-mapkit.com/ti/tile?country=IN&region=IN&style=46&size=1&x=371322&y=219604&z=19&scale=1&lang=en&v=2008184&poi=0&accessKey=1597851377_6762113937655275830_%2F_%2F%2FdSjhUFwz%2Bh4Co%2BIF4%2FQq8D7kDQ0phE9rD2DNZruKQ%3D&labels=0\n",
      "https://cdn3.apple-mapkit.com/ti/tile?country=IN&region=IN&style=46&size=1&x=371323&y=219622&z=19&scale=1&lang=en&v=2008184&poi=0&accessKey=1597851377_6762113937655275830_%2F_%2F%2FdSjhUFwz%2Bh4Co%2BIF4%2FQq8D7kDQ0phE9rD2DNZruKQ%3D&labels=0\n",
      "https://cdn3.apple-mapkit.com/ti/tile?country=IN&region=IN&style=46&size=1&x=371324&y=219629&z=19&scale=1&lang=en&v=2008184&poi=0&accessKey=1597851377_6762113937655275830_%2F_%2F%2FdSjhUFwz%2Bh4Co%2BIF4%2FQq8D7kDQ0phE9rD2DNZruKQ%3D&labels=0"
     ]
    },
    {
     "name": "stderr",
     "output_type": "stream",
     "text": [
      "\r",
      " 58%|█████▊    | 55/95 [00:19<00:26,  1.51it/s]"
     ]
    },
    {
     "name": "stdout",
     "output_type": "stream",
     "text": [
      "\n",
      "https://cdn3.apple-mapkit.com/ti/tile?country=IN&region=IN&style=46&size=1&x=371324&y=219613&z=19&scale=1&lang=en&v=2008184&poi=0&accessKey=1597851377_6762113937655275830_%2F_%2F%2FdSjhUFwz%2Bh4Co%2BIF4%2FQq8D7kDQ0phE9rD2DNZruKQ%3D&labels=0\n",
      "https://cdn3.apple-mapkit.com/ti/tile?country=IN&region=IN&style=46&size=1&x=371323&y=219616&z=19&scale=1&lang=en&v=2008184&poi=0&accessKey=1597851377_6762113937655275830_%2F_%2F%2FdSjhUFwz%2Bh4Co%2BIF4%2FQq8D7kDQ0phE9rD2DNZruKQ%3D&labels=0\n",
      "https://cdn3.apple-mapkit.com/ti/tile?country=IN&region=IN&style=46&size=1&x=371323&y=219611&z=19&scale=1&lang=en&v=2008184&poi=0&accessKey=1597851377_6762113937655275830_%2F_%2F%2FdSjhUFwz%2Bh4Co%2BIF4%2FQq8D7kDQ0phE9rD2DNZruKQ%3D&labels=0\n",
      "https://cdn3.apple-mapkit.com/ti/tile?country=IN&region=IN&style=46&size=1&x=371324&y=219620&z=19&scale=1&lang=en&v=2008184&poi=0&accessKey=1597851377_6762113937655275830_%2F_%2F%2FdSjhUFwz%2Bh4Co%2BIF4%2FQq8D7kDQ0phE9rD2DNZruKQ%3D&labels=0\n",
      "https://cdn3.apple-mapkit.com/ti/tile?country=IN&region=IN&style=46&size=1&x=371324&y=219611&z=19&scale=1&lang=en&v=2008184&poi=0&accessKey=1597851377_6762113937655275830_%2F_%2F%2FdSjhUFwz%2Bh4Co%2BIF4%2FQq8D7kDQ0phE9rD2DNZruKQ%3D&labels=0\n",
      "https://cdn3.apple-mapkit.com/ti/tile?country=IN&region=IN&style=46&size=1&x=371319&y=219590&z=19&scale=1&lang=en&v=2008184&poi=0&accessKey=1597851377_6762113937655275830_%2F_%2F%2FdSjhUFwz%2Bh4Co%2BIF4%2FQq8D7kDQ0phE9rD2DNZruKQ%3D&labels=0\n",
      "https://cdn3.apple-mapkit.com/ti/tile?country=IN&region=IN&style=46&size=1&x=371324&y=219615&z=19&scale=1&lang=en&v=2008184&poi=0&accessKey=1597851377_6762113937655275830_%2F_%2F%2FdSjhUFwz%2Bh4Co%2BIF4%2FQq8D7kDQ0phE9rD2DNZruKQ%3D&labels=0\n",
      "https://cdn3.apple-mapkit.com/ti/tile?country=IN&region=IN&style=46&size=1&x=371324&y=219627&z=19&scale=1&lang=en&v=2008184&poi=0&accessKey=1597851377_6762113937655275830_%2F_%2F%2FdSjhUFwz%2Bh4Co%2BIF4%2FQq8D7kDQ0phE9rD2DNZruKQ%3D&labels=0\n",
      "https://cdn3.apple-mapkit.com/ti/tile?country=IN&region=IN&style=46&size=1&x=371324&y=219624&z=19&scale=1&lang=en&v=2008184&poi=0&accessKey=1597851377_6762113937655275830_%2F_%2F%2FdSjhUFwz%2Bh4Co%2BIF4%2FQq8D7kDQ0phE9rD2DNZruKQ%3D&labels=0https://cdn3.apple-mapkit.com/ti/tile?country=IN&region=IN&style=46&size=1&x=371324&y=219614&z=19&scale=1&lang=en&v=2008184&poi=0&accessKey=1597851377_6762113937655275830_%2F_%2F%2FdSjhUFwz%2Bh4Co%2BIF4%2FQq8D7kDQ0phE9rD2DNZruKQ%3D&labels=0\n",
      "https://cdn3.apple-mapkit.com/ti/tile?country=IN&region=IN&style=46&size=1&x=371323&y=219627&z=19&scale=1&lang=en&v=2008184&poi=0&accessKey=1597851377_6762113937655275830_%2F_%2F%2FdSjhUFwz%2Bh4Co%2BIF4%2FQq8D7kDQ0phE9rD2DNZruKQ%3D&labels=0\n",
      "https://cdn3.apple-mapkit.com/ti/tile?country=IN&region=IN&style=46&size=1&x=371324&y=219626&z=19&scale=1&lang=en&v=2008184&poi=0&accessKey=1597851377_6762113937655275830_%2F_%2F%2FdSjhUFwz%2Bh4Co%2BIF4%2FQq8D7kDQ0phE9rD2DNZruKQ%3D&labels=0\n",
      "https://cdn3.apple-mapkit.com/ti/tile?country=IN&region=IN&style=46&size=1&x=371324&y=219616&z=19&scale=1&lang=en&v=2008184&poi=0&accessKey=1597851377_6762113937655275830_%2F_%2F%2FdSjhUFwz%2Bh4Co%2BIF4%2FQq8D7kDQ0phE9rD2DNZruKQ%3D&labels=0\n",
      "https://cdn3.apple-mapkit.com/ti/tile?country=IN&region=IN&style=46&size=1&x=371323&y=219628&z=19&scale=1&lang=en&v=2008184&poi=0&accessKey=1597851377_6762113937655275830_%2F_%2F%2FdSjhUFwz%2Bh4Co%2BIF4%2FQq8D7kDQ0phE9rD2DNZruKQ%3D&labels=0\n",
      "https://cdn3.apple-mapkit.com/ti/tile?country=IN&region=IN&style=46&size=1&x=371323&y=219624&z=19&scale=1&lang=en&v=2008184&poi=0&accessKey=1597851377_6762113937655275830_%2F_%2F%2FdSjhUFwz%2Bh4Co%2BIF4%2FQq8D7kDQ0phE9rD2DNZruKQ%3D&labels=0\n",
      "https://cdn3.apple-mapkit.com/ti/tile?country=IN&region=IN&style=46&size=1&x=371321&y=219597&z=19&scale=1&lang=en&v=2008184&poi=0&accessKey=1597851377_6762113937655275830_%2F_%2F%2FdSjhUFwz%2Bh4Co%2BIF4%2FQq8D7kDQ0phE9rD2DNZruKQ%3D&labels=0\n",
      "\n",
      "https://cdn3.apple-mapkit.com/ti/tile?country=IN&region=IN&style=46&size=1&x=371322&y=219603&z=19&scale=1&lang=en&v=2008184&poi=0&accessKey=1597851377_6762113937655275830_%2F_%2F%2FdSjhUFwz%2Bh4Co%2BIF4%2FQq8D7kDQ0phE9rD2DNZruKQ%3D&labels=0"
     ]
    },
    {
     "name": "stderr",
     "output_type": "stream",
     "text": [
      "\r",
      " 59%|█████▉    | 56/95 [00:20<00:21,  1.84it/s]"
     ]
    },
    {
     "name": "stdout",
     "output_type": "stream",
     "text": [
      "https://cdn3.apple-mapkit.com/ti/tile?country=IN&region=IN&style=46&size=1&x=371323&y=219616&z=19&scale=1&lang=en&v=2008184&poi=0&accessKey=1597851377_6762113937655275830_%2F_%2F%2FdSjhUFwz%2Bh4Co%2BIF4%2FQq8D7kDQ0phE9rD2DNZruKQ%3D&labels=0\n",
      "\n",
      "https://cdn3.apple-mapkit.com/ti/tile?country=IN&region=IN&style=46&size=1&x=371323&y=219625&z=19&scale=1&lang=en&v=2008184&poi=0&accessKey=1597851377_6762113937655275830_%2F_%2F%2FdSjhUFwz%2Bh4Co%2BIF4%2FQq8D7kDQ0phE9rD2DNZruKQ%3D&labels=0\n",
      "https://cdn3.apple-mapkit.com/ti/tile?country=IN&region=IN&style=46&size=1&x=371324&y=219630&z=19&scale=1&lang=en&v=2008184&poi=0&accessKey=1597851377_6762113937655275830_%2F_%2F%2FdSjhUFwz%2Bh4Co%2BIF4%2FQq8D7kDQ0phE9rD2DNZruKQ%3D&labels=0\n",
      "https://cdn3.apple-mapkit.com/ti/tile?country=IN&region=IN&style=46&size=1&x=371323&y=219611&z=19&scale=1&lang=en&v=2008184&poi=0&accessKey=1597851377_6762113937655275830_%2F_%2F%2FdSjhUFwz%2Bh4Co%2BIF4%2FQq8D7kDQ0phE9rD2DNZruKQ%3D&labels=0https://cdn3.apple-mapkit.com/ti/tile?country=IN&region=IN&style=46&size=1&x=371324&y=219616&z=19&scale=1&lang=en&v=2008184&poi=0&accessKey=1597851377_6762113937655275830_%2F_%2F%2FdSjhUFwz%2Bh4Co%2BIF4%2FQq8D7kDQ0phE9rD2DNZruKQ%3D&labels=0\n",
      "\n",
      "https://cdn3.apple-mapkit.com/ti/tile?country=IN&region=IN&style=46&size=1&x=371324&y=219625&z=19&scale=1&lang=en&v=2008184&poi=0&accessKey=1597851377_6762113937655275830_%2F_%2F%2FdSjhUFwz%2Bh4Co%2BIF4%2FQq8D7kDQ0phE9rD2DNZruKQ%3D&labels=0\n",
      "https://cdn3.apple-mapkit.com/ti/tile?country=IN&region=IN&style=46&size=1&x=371323&y=219607&z=19&scale=1&lang=en&v=2008184&poi=0&accessKey=1597851377_6762113937655275830_%2F_%2F%2FdSjhUFwz%2Bh4Co%2BIF4%2FQq8D7kDQ0phE9rD2DNZruKQ%3D&labels=0\n",
      "https://cdn3.apple-mapkit.com/ti/tile?country=IN&region=IN&style=46&size=1&x=371324&y=219625&z=19&scale=1&lang=en&v=2008184&poi=0&accessKey=1597851377_6762113937655275830_%2F_%2F%2FdSjhUFwz%2Bh4Co%2BIF4%2FQq8D7kDQ0phE9rD2DNZruKQ%3D&labels=0https://cdn3.apple-mapkit.com/ti/tile?country=IN&region=IN&style=46&size=1&x=371324&y=219623&z=19&scale=1&lang=en&v=2008184&poi=0&accessKey=1597851377_6762113937655275830_%2F_%2F%2FdSjhUFwz%2Bh4Co%2BIF4%2FQq8D7kDQ0phE9rD2DNZruKQ%3D&labels=0\n",
      "\n",
      "https://cdn3.apple-mapkit.com/ti/tile?country=IN&region=IN&style=46&size=1&x=371323&y=219608&z=19&scale=1&lang=en&v=2008184&poi=0&accessKey=1597851377_6762113937655275830_%2F_%2F%2FdSjhUFwz%2Bh4Co%2BIF4%2FQq8D7kDQ0phE9rD2DNZruKQ%3D&labels=0\n"
     ]
    },
    {
     "name": "stderr",
     "output_type": "stream",
     "text": [
      "\r",
      " 60%|██████    | 57/95 [00:20<00:17,  2.12it/s]"
     ]
    },
    {
     "name": "stdout",
     "output_type": "stream",
     "text": [
      "https://cdn3.apple-mapkit.com/ti/tile?country=IN&region=IN&style=46&size=1&x=371324&y=219618&z=19&scale=1&lang=en&v=2008184&poi=0&accessKey=1597851377_6762113937655275830_%2F_%2F%2FdSjhUFwz%2Bh4Co%2BIF4%2FQq8D7kDQ0phE9rD2DNZruKQ%3D&labels=0\n",
      "https://cdn3.apple-mapkit.com/ti/tile?country=IN&region=IN&style=46&size=1&x=371324&y=219617&z=19&scale=1&lang=en&v=2008184&poi=0&accessKey=1597851377_6762113937655275830_%2F_%2F%2FdSjhUFwz%2Bh4Co%2BIF4%2FQq8D7kDQ0phE9rD2DNZruKQ%3D&labels=0https://cdn3.apple-mapkit.com/ti/tile?country=IN&region=IN&style=46&size=1&x=371322&y=219600&z=19&scale=1&lang=en&v=2008184&poi=0&accessKey=1597851377_6762113937655275830_%2F_%2F%2FdSjhUFwz%2Bh4Co%2BIF4%2FQq8D7kDQ0phE9rD2DNZruKQ%3D&labels=0\n",
      "\n",
      "https://cdn3.apple-mapkit.com/ti/tile?country=IN&region=IN&style=46&size=1&x=371323&y=219607&z=19&scale=1&lang=en&v=2008184&poi=0&accessKey=1597851377_6762113937655275830_%2F_%2F%2FdSjhUFwz%2Bh4Co%2BIF4%2FQq8D7kDQ0phE9rD2DNZruKQ%3D&labels=0\n",
      "https://cdn3.apple-mapkit.com/ti/tile?country=IN&region=IN&style=46&size=1&x=371324&y=219610&z=19&scale=1&lang=en&v=2008184&poi=0&accessKey=1597851377_6762113937655275830_%2F_%2F%2FdSjhUFwz%2Bh4Co%2BIF4%2FQq8D7kDQ0phE9rD2DNZruKQ%3D&labels=0\n",
      "https://cdn3.apple-mapkit.com/ti/tile?country=IN&region=IN&style=46&size=1&x=371324&y=219622&z=19&scale=1&lang=en&v=2008184&poi=0&accessKey=1597851377_6762113937655275830_%2F_%2F%2FdSjhUFwz%2Bh4Co%2BIF4%2FQq8D7kDQ0phE9rD2DNZruKQ%3D&labels=0https://cdn3.apple-mapkit.com/ti/tile?country=IN&region=IN&style=46&size=1&x=371322&y=219600&z=19&scale=1&lang=en&v=2008184&poi=0&accessKey=1597851377_6762113937655275830_%2F_%2F%2FdSjhUFwz%2Bh4Co%2BIF4%2FQq8D7kDQ0phE9rD2DNZruKQ%3D&labels=0https://cdn3.apple-mapkit.com/ti/tile?country=IN&region=IN&style=46&size=1&x=371324&y=219612&z=19&scale=1&lang=en&v=2008184&poi=0&accessKey=1597851377_6762113937655275830_%2F_%2F%2FdSjhUFwz%2Bh4Co%2BIF4%2FQq8D7kDQ0phE9rD2DNZruKQ%3D&labels=0\n",
      "https://cdn3.apple-mapkit.com/ti/tile?country=IN&region=IN&style=46&size=1&x=371322&y=219599&z=19&scale=1&lang=en&v=2008184&poi=0&accessKey=1597851377_6762113937655275830_%2F_%2F%2FdSjhUFwz%2Bh4Co%2BIF4%2FQq8D7kDQ0phE9rD2DNZruKQ%3D&labels=0\n",
      "\n",
      "https://cdn3.apple-mapkit.com/ti/tile?country=IN&region=IN&style=46&size=1&x=371320&y=219590&z=19&scale=1&lang=en&v=2008184&poi=0&accessKey=1597851377_6762113937655275830_%2F_%2F%2FdSjhUFwz%2Bh4Co%2BIF4%2FQq8D7kDQ0phE9rD2DNZruKQ%3D&labels=0\n",
      "https://cdn3.apple-mapkit.com/ti/tile?country=IN&region=IN&style=46&size=1&x=371324&y=219621&z=19&scale=1&lang=en&v=2008184&poi=0&accessKey=1597851377_6762113937655275830_%2F_%2F%2FdSjhUFwz%2Bh4Co%2BIF4%2FQq8D7kDQ0phE9rD2DNZruKQ%3D&labels=0\n",
      "https://cdn3.apple-mapkit.com/ti/tile?country=IN&region=IN&style=46&size=1&x=371323&y=219610&z=19&scale=1&lang=en&v=2008184&poi=0&accessKey=1597851377_6762113937655275830_%2F_%2F%2FdSjhUFwz%2Bh4Co%2BIF4%2FQq8D7kDQ0phE9rD2DNZruKQ%3D&labels=0\n",
      "https://cdn3.apple-mapkit.com/ti/tile?country=IN&region=IN&style=46&size=1&x=371323&y=219609&z=19&scale=1&lang=en&v=2008184&poi=0&accessKey=1597851377_6762113937655275830_%2F_%2F%2FdSjhUFwz%2Bh4Co%2BIF4%2FQq8D7kDQ0phE9rD2DNZruKQ%3D&labels=0\n",
      "https://cdn3.apple-mapkit.com/ti/tile?country=IN&region=IN&style=46&size=1&x=371324&y=219621&z=19&scale=1&lang=en&v=2008184&poi=0&accessKey=1597851377_6762113937655275830_%2F_%2F%2FdSjhUFwz%2Bh4Co%2BIF4%2FQq8D7kDQ0phE9rD2DNZruKQ%3D&labels=0\n",
      "https://cdn3.apple-mapkit.com/ti/tile?country=IN&region=IN&style=46&size=1&x=371323&y=219605&z=19&scale=1&lang=en&v=2008184&poi=0&accessKey=1597851377_6762113937655275830_%2F_%2F%2FdSjhUFwz%2Bh4Co%2BIF4%2FQq8D7kDQ0phE9rD2DNZruKQ%3D&labels=0\n",
      "\n"
     ]
    },
    {
     "name": "stderr",
     "output_type": "stream",
     "text": [
      "\r",
      " 61%|██████    | 58/95 [00:21<00:22,  1.66it/s]"
     ]
    },
    {
     "name": "stdout",
     "output_type": "stream",
     "text": [
      "https://cdn3.apple-mapkit.com/ti/tile?country=IN&region=IN&style=46&size=1&x=371320&y=219595&z=19&scale=1&lang=en&v=2008184&poi=0&accessKey=1597851377_6762113937655275830_%2F_%2F%2FdSjhUFwz%2Bh4Co%2BIF4%2FQq8D7kDQ0phE9rD2DNZruKQ%3D&labels=0\n",
      "https://cdn3.apple-mapkit.com/ti/tile?country=IN&region=IN&style=46&size=1&x=371324&y=219609&z=19&scale=1&lang=en&v=2008184&poi=0&accessKey=1597851377_6762113937655275830_%2F_%2F%2FdSjhUFwz%2Bh4Co%2BIF4%2FQq8D7kDQ0phE9rD2DNZruKQ%3D&labels=0\n",
      "https://cdn3.apple-mapkit.com/ti/tile?country=IN&region=IN&style=46&size=1&x=371324&y=219628&z=19&scale=1&lang=en&v=2008184&poi=0&accessKey=1597851377_6762113937655275830_%2F_%2F%2FdSjhUFwz%2Bh4Co%2BIF4%2FQq8D7kDQ0phE9rD2DNZruKQ%3D&labels=0\n"
     ]
    },
    {
     "name": "stderr",
     "output_type": "stream",
     "text": [
      "\r",
      " 62%|██████▏   | 59/95 [00:22<00:25,  1.40it/s]"
     ]
    },
    {
     "name": "stdout",
     "output_type": "stream",
     "text": [
      "https://cdn3.apple-mapkit.com/ti/tile?country=IN&region=IN&style=46&size=1&x=371321&y=219595&z=19&scale=1&lang=en&v=2008184&poi=0&accessKey=1597851377_6762113937655275830_%2F_%2F%2FdSjhUFwz%2Bh4Co%2BIF4%2FQq8D7kDQ0phE9rD2DNZruKQ%3D&labels=0https://cdn3.apple-mapkit.com/ti/tile?country=IN&region=IN&style=46&size=1&x=371322&y=219599&z=19&scale=1&lang=en&v=2008184&poi=0&accessKey=1597851377_6762113937655275830_%2F_%2F%2FdSjhUFwz%2Bh4Co%2BIF4%2FQq8D7kDQ0phE9rD2DNZruKQ%3D&labels=0\n",
      "\n",
      "https://cdn3.apple-mapkit.com/ti/tile?country=IN&region=IN&style=46&size=1&x=371324&y=219606&z=19&scale=1&lang=en&v=2008184&poi=0&accessKey=1597851377_6762113937655275830_%2F_%2F%2FdSjhUFwz%2Bh4Co%2BIF4%2FQq8D7kDQ0phE9rD2DNZruKQ%3D&labels=0\n"
     ]
    },
    {
     "name": "stderr",
     "output_type": "stream",
     "text": [
      "\r",
      " 63%|██████▎   | 60/95 [00:23<00:27,  1.27it/s]"
     ]
    },
    {
     "name": "stdout",
     "output_type": "stream",
     "text": [
      "https://cdn3.apple-mapkit.com/ti/tile?country=IN&region=IN&style=46&size=1&x=371323&y=219606&z=19&scale=1&lang=en&v=2008184&poi=0&accessKey=1597851377_6762113937655275830_%2F_%2F%2FdSjhUFwz%2Bh4Co%2BIF4%2FQq8D7kDQ0phE9rD2DNZruKQ%3D&labels=0\n",
      "https://cdn3.apple-mapkit.com/ti/tile?country=IN&region=IN&style=46&size=1&x=371324&y=219608&z=19&scale=1&lang=en&v=2008184&poi=0&accessKey=1597851377_6762113937655275830_%2F_%2F%2FdSjhUFwz%2Bh4Co%2BIF4%2FQq8D7kDQ0phE9rD2DNZruKQ%3D&labels=0\n",
      "https://cdn3.apple-mapkit.com/ti/tile?country=IN&region=IN&style=46&size=1&x=371320&y=219593&z=19&scale=1&lang=en&v=2008184&poi=0&accessKey=1597851377_6762113937655275830_%2F_%2F%2FdSjhUFwz%2Bh4Co%2BIF4%2FQq8D7kDQ0phE9rD2DNZruKQ%3D&labels=0\n",
      "https://cdn3.apple-mapkit.com/ti/tile?country=IN&region=IN&style=46&size=1&x=371324&y=219607&z=19&scale=1&lang=en&v=2008184&poi=0&accessKey=1597851377_6762113937655275830_%2F_%2F%2FdSjhUFwz%2Bh4Co%2BIF4%2FQq8D7kDQ0phE9rD2DNZruKQ%3D&labels=0\n",
      "https://cdn3.apple-mapkit.com/ti/tile?country=IN&region=IN&style=46&size=1&x=371323&y=219602&z=19&scale=1&lang=en&v=2008184&poi=0&accessKey=1597851377_6762113937655275830_%2F_%2F%2FdSjhUFwz%2Bh4Co%2BIF4%2FQq8D7kDQ0phE9rD2DNZruKQ%3D&labels=0\n"
     ]
    },
    {
     "name": "stderr",
     "output_type": "stream",
     "text": [
      "\r",
      " 64%|██████▍   | 61/95 [00:23<00:21,  1.56it/s]"
     ]
    },
    {
     "name": "stdout",
     "output_type": "stream",
     "text": [
      "https://cdn3.apple-mapkit.com/ti/tile?country=IN&region=IN&style=46&size=1&x=371325&y=219619&z=19&scale=1&lang=en&v=2008184&poi=0&accessKey=1597851377_6762113937655275830_%2F_%2F%2FdSjhUFwz%2Bh4Co%2BIF4%2FQq8D7kDQ0phE9rD2DNZruKQ%3D&labels=0\n",
      "https://cdn3.apple-mapkit.com/ti/tile?country=IN&region=IN&style=46&size=1&x=371325&y=219619&z=19&scale=1&lang=en&v=2008184&poi=0&accessKey=1597851377_6762113937655275830_%2F_%2F%2FdSjhUFwz%2Bh4Co%2BIF4%2FQq8D7kDQ0phE9rD2DNZruKQ%3D&labels=0\n",
      "https://cdn3.apple-mapkit.com/ti/tile?country=IN&region=IN&style=46&size=1&x=371320&y=219592&z=19&scale=1&lang=en&v=2008184&poi=0&accessKey=1597851377_6762113937655275830_%2F_%2F%2FdSjhUFwz%2Bh4Co%2BIF4%2FQq8D7kDQ0phE9rD2DNZruKQ%3D&labels=0\n",
      "https://cdn3.apple-mapkit.com/ti/tile?country=IN&region=IN&style=46&size=1&x=371324&y=219607&z=19&scale=1&lang=en&v=2008184&poi=0&accessKey=1597851377_6762113937655275830_%2F_%2F%2FdSjhUFwz%2Bh4Co%2BIF4%2FQq8D7kDQ0phE9rD2DNZruKQ%3D&labels=0\n",
      "https://cdn3.apple-mapkit.com/ti/tile?country=IN&region=IN&style=46&size=1&x=371321&y=219592&z=19&scale=1&lang=en&v=2008184&poi=0&accessKey=1597851377_6762113937655275830_%2F_%2F%2FdSjhUFwz%2Bh4Co%2BIF4%2FQq8D7kDQ0phE9rD2DNZruKQ%3D&labels=0\n",
      "https://cdn3.apple-mapkit.com/ti/tile?country=IN&region=IN&style=46&size=1&x=371325&y=219630&z=19&scale=1&lang=en&v=2008184&poi=0&accessKey=1597851377_6762113937655275830_%2F_%2F%2FdSjhUFwz%2Bh4Co%2BIF4%2FQq8D7kDQ0phE9rD2DNZruKQ%3D&labels=0https://cdn3.apple-mapkit.com/ti/tile?country=IN&region=IN&style=46&size=1&x=371325&y=219615&z=19&scale=1&lang=en&v=2008184&poi=0&accessKey=1597851377_6762113937655275830_%2F_%2F%2FdSjhUFwz%2Bh4Co%2BIF4%2FQq8D7kDQ0phE9rD2DNZruKQ%3D&labels=0\n"
     ]
    },
    {
     "name": "stderr",
     "output_type": "stream",
     "text": [
      "\r",
      " 65%|██████▌   | 62/95 [00:24<00:21,  1.57it/s]"
     ]
    },
    {
     "name": "stdout",
     "output_type": "stream",
     "text": [
      "\n",
      "https://cdn3.apple-mapkit.com/ti/tile?country=IN&region=IN&style=46&size=1&x=371321&y=219592&z=19&scale=1&lang=en&v=2008184&poi=0&accessKey=1597851377_6762113937655275830_%2F_%2F%2FdSjhUFwz%2Bh4Co%2BIF4%2FQq8D7kDQ0phE9rD2DNZruKQ%3D&labels=0\n",
      "https://cdn3.apple-mapkit.com/ti/tile?country=IN&region=IN&style=46&size=1&x=371325&y=219618&z=19&scale=1&lang=en&v=2008184&poi=0&accessKey=1597851377_6762113937655275830_%2F_%2F%2FdSjhUFwz%2Bh4Co%2BIF4%2FQq8D7kDQ0phE9rD2DNZruKQ%3D&labels=0\n",
      "https://cdn3.apple-mapkit.com/ti/tile?country=IN&region=IN&style=46&size=1&x=371321&y=219593&z=19&scale=1&lang=en&v=2008184&poi=0&accessKey=1597851377_6762113937655275830_%2F_%2F%2FdSjhUFwz%2Bh4Co%2BIF4%2FQq8D7kDQ0phE9rD2DNZruKQ%3D&labels=0\n",
      "https://cdn3.apple-mapkit.com/ti/tile?country=IN&region=IN&style=46&size=1&x=371325&y=219620&z=19&scale=1&lang=en&v=2008184&poi=0&accessKey=1597851377_6762113937655275830_%2F_%2F%2FdSjhUFwz%2Bh4Co%2BIF4%2FQq8D7kDQ0phE9rD2DNZruKQ%3D&labels=0https://cdn3.apple-mapkit.com/ti/tile?country=IN&region=IN&style=46&size=1&x=371320&y=219592&z=19&scale=1&lang=en&v=2008184&poi=0&accessKey=1597851377_6762113937655275830_%2F_%2F%2FdSjhUFwz%2Bh4Co%2BIF4%2FQq8D7kDQ0phE9rD2DNZruKQ%3D&labels=0\n",
      "https://cdn3.apple-mapkit.com/ti/tile?country=IN&region=IN&style=46&size=1&x=371324&y=219602&z=19&scale=1&lang=en&v=2008184&poi=0&accessKey=1597851377_6762113937655275830_%2F_%2F%2FdSjhUFwz%2Bh4Co%2BIF4%2FQq8D7kDQ0phE9rD2DNZruKQ%3D&labels=0\n",
      "https://cdn3.apple-mapkit.com/ti/tile?country=IN&region=IN&style=46&size=1&x=371325&y=219611&z=19&scale=1&lang=en&v=2008184&poi=0&accessKey=1597851377_6762113937655275830_%2F_%2F%2FdSjhUFwz%2Bh4Co%2BIF4%2FQq8D7kDQ0phE9rD2DNZruKQ%3D&labels=0\n",
      "https://cdn3.apple-mapkit.com/ti/tile?country=IN&region=IN&style=46&size=1&x=371325&y=219611&z=19&scale=1&lang=en&v=2008184&poi=0&accessKey=1597851377_6762113937655275830_%2F_%2F%2FdSjhUFwz%2Bh4Co%2BIF4%2FQq8D7kDQ0phE9rD2DNZruKQ%3D&labels=0https://cdn3.apple-mapkit.com/ti/tile?country=IN&region=IN&style=46&size=1&x=371323&y=219603&z=19&scale=1&lang=en&v=2008184&poi=0&accessKey=1597851377_6762113937655275830_%2F_%2F%2FdSjhUFwz%2Bh4Co%2BIF4%2FQq8D7kDQ0phE9rD2DNZruKQ%3D&labels=0\n"
     ]
    },
    {
     "name": "stderr",
     "output_type": "stream",
     "text": [
      "\r",
      " 66%|██████▋   | 63/95 [00:24<00:20,  1.57it/s]"
     ]
    },
    {
     "name": "stdout",
     "output_type": "stream",
     "text": [
      "https://cdn3.apple-mapkit.com/ti/tile?country=IN&region=IN&style=46&size=1&x=371325&y=219623&z=19&scale=1&lang=en&v=2008184&poi=0&accessKey=1597851377_6762113937655275830_%2F_%2F%2FdSjhUFwz%2Bh4Co%2BIF4%2FQq8D7kDQ0phE9rD2DNZruKQ%3D&labels=0\n",
      "\n",
      "\n",
      "https://cdn3.apple-mapkit.com/ti/tile?country=IN&region=IN&style=46&size=1&x=371325&y=219614&z=19&scale=1&lang=en&v=2008184&poi=0&accessKey=1597851377_6762113937655275830_%2F_%2F%2FdSjhUFwz%2Bh4Co%2BIF4%2FQq8D7kDQ0phE9rD2DNZruKQ%3D&labels=0https://cdn3.apple-mapkit.com/ti/tile?country=IN&region=IN&style=46&size=1&x=371325&y=219618&z=19&scale=1&lang=en&v=2008184&poi=0&accessKey=1597851377_6762113937655275830_%2F_%2F%2FdSjhUFwz%2Bh4Co%2BIF4%2FQq8D7kDQ0phE9rD2DNZruKQ%3D&labels=0\n",
      "https://cdn3.apple-mapkit.com/ti/tile?country=IN&region=IN&style=46&size=1&x=371325&y=219615&z=19&scale=1&lang=en&v=2008184&poi=0&accessKey=1597851377_6762113937655275830_%2F_%2F%2FdSjhUFwz%2Bh4Co%2BIF4%2FQq8D7kDQ0phE9rD2DNZruKQ%3D&labels=0\n",
      "\n",
      "https://cdn3.apple-mapkit.com/ti/tile?country=IN&region=IN&style=46&size=1&x=371325&y=219624&z=19&scale=1&lang=en&v=2008184&poi=0&accessKey=1597851377_6762113937655275830_%2F_%2F%2FdSjhUFwz%2Bh4Co%2BIF4%2FQq8D7kDQ0phE9rD2DNZruKQ%3D&labels=0\n",
      "https://cdn3.apple-mapkit.com/ti/tile?country=IN&region=IN&style=46&size=1&x=371325&y=219626&z=19&scale=1&lang=en&v=2008184&poi=0&accessKey=1597851377_6762113937655275830_%2F_%2F%2FdSjhUFwz%2Bh4Co%2BIF4%2FQq8D7kDQ0phE9rD2DNZruKQ%3D&labels=0\n",
      "https://cdn3.apple-mapkit.com/ti/tile?country=IN&region=IN&style=46&size=1&x=371322&y=219597&z=19&scale=1&lang=en&v=2008184&poi=0&accessKey=1597851377_6762113937655275830_%2F_%2F%2FdSjhUFwz%2Bh4Co%2BIF4%2FQq8D7kDQ0phE9rD2DNZruKQ%3D&labels=0\n",
      "https://cdn3.apple-mapkit.com/ti/tile?country=IN&region=IN&style=46&size=1&x=371322&y=219597&z=19&scale=1&lang=en&v=2008184&poi=0&accessKey=1597851377_6762113937655275830_%2F_%2F%2FdSjhUFwz%2Bh4Co%2BIF4%2FQq8D7kDQ0phE9rD2DNZruKQ%3D&labels=0\n",
      "https://cdn3.apple-mapkit.com/ti/tile?country=IN&region=IN&style=46&size=1&x=371323&y=219604&z=19&scale=1&lang=en&v=2008184&poi=0&accessKey=1597851377_6762113937655275830_%2F_%2F%2FdSjhUFwz%2Bh4Co%2BIF4%2FQq8D7kDQ0phE9rD2DNZruKQ%3D&labels=0\n",
      "https://cdn3.apple-mapkit.com/ti/tile?country=IN&region=IN&style=46&size=1&x=371325&y=219617&z=19&scale=1&lang=en&v=2008184&poi=0&accessKey=1597851377_6762113937655275830_%2F_%2F%2FdSjhUFwz%2Bh4Co%2BIF4%2FQq8D7kDQ0phE9rD2DNZruKQ%3D&labels=0\n",
      "https://cdn3.apple-mapkit.com/ti/tile?country=IN&region=IN&style=46&size=1&x=371320&y=219590&z=19&scale=1&lang=en&v=2008184&poi=0&accessKey=1597851377_6762113937655275830_%2F_%2F%2FdSjhUFwz%2Bh4Co%2BIF4%2FQq8D7kDQ0phE9rD2DNZruKQ%3D&labels=0\n",
      "https://cdn3.apple-mapkit.com/ti/tile?country=IN&region=IN&style=46&size=1&x=371322&y=219597&z=19&scale=1&lang=en&v=2008184&poi=0&accessKey=1597851377_6762113937655275830_%2F_%2F%2FdSjhUFwz%2Bh4Co%2BIF4%2FQq8D7kDQ0phE9rD2DNZruKQ%3D&labels=0\n",
      "https://cdn3.apple-mapkit.com/ti/tile?country=IN&region=IN&style=46&size=1&x=371325&y=219627&z=19&scale=1&lang=en&v=2008184&poi=0&accessKey=1597851377_6762113937655275830_%2F_%2F%2FdSjhUFwz%2Bh4Co%2BIF4%2FQq8D7kDQ0phE9rD2DNZruKQ%3D&labels=0\n",
      "https://cdn3.apple-mapkit.com/ti/tile?country=IN&region=IN&style=46&size=1&x=371324&y=219604&z=19&scale=1&lang=en&v=2008184&poi=0&accessKey=1597851377_6762113937655275830_%2F_%2F%2FdSjhUFwz%2Bh4Co%2BIF4%2FQq8D7kDQ0phE9rD2DNZruKQ%3D&labels=0\n",
      "https://cdn3.apple-mapkit.com/ti/tile?country=IN&region=IN&style=46&size=1&x=371325&y=219612&z=19&scale=1&lang=en&v=2008184&poi=0&accessKey=1597851377_6762113937655275830_%2F_%2F%2FdSjhUFwz%2Bh4Co%2BIF4%2FQq8D7kDQ0phE9rD2DNZruKQ%3D&labels=0\n",
      "https://cdn3.apple-mapkit.com/ti/tile?country=IN&region=IN&style=46&size=1&x=371325&y=219611&z=19&scale=1&lang=en&v=2008184&poi=0&accessKey=1597851377_6762113937655275830_%2F_%2F%2FdSjhUFwz%2Bh4Co%2BIF4%2FQq8D7kDQ0phE9rD2DNZruKQ%3D&labels=0\n",
      "https://cdn3.apple-mapkit.com/ti/tile?country=IN&region=IN&style=46&size=1&x=371325&y=219629&z=19&scale=1&lang=en&v=2008184&poi=0&accessKey=1597851377_6762113937655275830_%2F_%2F%2FdSjhUFwz%2Bh4Co%2BIF4%2FQq8D7kDQ0phE9rD2DNZruKQ%3D&labels=0https://cdn3.apple-mapkit.com/ti/tile?country=IN&region=IN&style=46&size=1&x=371322&y=219597&z=19&scale=1&lang=en&v=2008184&poi=0&accessKey=1597851377_6762113937655275830_%2F_%2F%2FdSjhUFwz%2Bh4Co%2BIF4%2FQq8D7kDQ0phE9rD2DNZruKQ%3D&labels=0\n",
      "https://cdn3.apple-mapkit.com/ti/tile?country=IN&region=IN&style=46&size=1&x=371325&y=219626&z=19&scale=1&lang=en&v=2008184&poi=0&accessKey=1597851377_6762113937655275830_%2F_%2F%2FdSjhUFwz%2Bh4Co%2BIF4%2FQq8D7kDQ0phE9rD2DNZruKQ%3D&labels=0\n",
      "\n",
      "https://cdn3.apple-mapkit.com/ti/tile?country=IN&region=IN&style=46&size=1&x=371325&y=219614&z=19&scale=1&lang=en&v=2008184&poi=0&accessKey=1597851377_6762113937655275830_%2F_%2F%2FdSjhUFwz%2Bh4Co%2BIF4%2FQq8D7kDQ0phE9rD2DNZruKQ%3D&labels=0\n",
      "https://cdn3.apple-mapkit.com/ti/tile?country=IN&region=IN&style=46&size=1&x=371325&y=219621&z=19&scale=1&lang=en&v=2008184&poi=0&accessKey=1597851377_6762113937655275830_%2F_%2F%2FdSjhUFwz%2Bh4Co%2BIF4%2FQq8D7kDQ0phE9rD2DNZruKQ%3D&labels=0\n",
      "https://cdn3.apple-mapkit.com/ti/tile?country=IN&region=IN&style=46&size=1&x=371325&y=219621&z=19&scale=1&lang=en&v=2008184&poi=0&accessKey=1597851377_6762113937655275830_%2F_%2F%2FdSjhUFwz%2Bh4Co%2BIF4%2FQq8D7kDQ0phE9rD2DNZruKQ%3D&labels=0\n",
      "https://cdn3.apple-mapkit.com/ti/tile?country=IN&region=IN&style=46&size=1&x=371320&y=219583&z=19&scale=1&lang=en&v=2008184&poi=0&accessKey=1597851377_6762113937655275830_%2F_%2F%2FdSjhUFwz%2Bh4Co%2BIF4%2FQq8D7kDQ0phE9rD2DNZruKQ%3D&labels=0\n",
      "https://cdn3.apple-mapkit.com/ti/tile?country=IN&region=IN&style=46&size=1&x=371325&y=219613&z=19&scale=1&lang=en&v=2008184&poi=0&accessKey=1597851377_6762113937655275830_%2F_%2F%2FdSjhUFwz%2Bh4Co%2BIF4%2FQq8D7kDQ0phE9rD2DNZruKQ%3D&labels=0https://cdn3.apple-mapkit.com/ti/tile?country=IN&region=IN&style=46&size=1&x=371325&y=219616&z=19&scale=1&lang=en&v=2008184&poi=0&accessKey=1597851377_6762113937655275830_%2F_%2F%2FdSjhUFwz%2Bh4Co%2BIF4%2FQq8D7kDQ0phE9rD2DNZruKQ%3D&labels=0\n",
      "https://cdn3.apple-mapkit.com/ti/tile?country=IN&region=IN&style=46&size=1&x=371325&y=219620&z=19&scale=1&lang=en&v=2008184&poi=0&accessKey=1597851377_6762113937655275830_%2F_%2F%2FdSjhUFwz%2Bh4Co%2BIF4%2FQq8D7kDQ0phE9rD2DNZruKQ%3D&labels=0\n",
      "https://cdn3.apple-mapkit.com/ti/tile?country=IN&region=IN&style=46&size=1&x=371325&y=219630&z=19&scale=1&lang=en&v=2008184&poi=0&accessKey=1597851377_6762113937655275830_%2F_%2F%2FdSjhUFwz%2Bh4Co%2BIF4%2FQq8D7kDQ0phE9rD2DNZruKQ%3D&labels=0\n",
      "https://cdn3.apple-mapkit.com/ti/tile?country=IN&region=IN&style=46&size=1&x=371325&y=219624&z=19&scale=1&lang=en&v=2008184&poi=0&accessKey=1597851377_6762113937655275830_%2F_%2F%2FdSjhUFwz%2Bh4Co%2BIF4%2FQq8D7kDQ0phE9rD2DNZruKQ%3D&labels=0\n"
     ]
    },
    {
     "name": "stderr",
     "output_type": "stream",
     "text": [
      "\r",
      " 67%|██████▋   | 64/95 [00:26<00:26,  1.17it/s]"
     ]
    },
    {
     "name": "stdout",
     "output_type": "stream",
     "text": [
      "https://cdn3.apple-mapkit.com/ti/tile?country=IN&region=IN&style=46&size=1&x=371325&y=219605&z=19&scale=1&lang=en&v=2008184&poi=0&accessKey=1597851377_6762113937655275830_%2F_%2F%2FdSjhUFwz%2Bh4Co%2BIF4%2FQq8D7kDQ0phE9rD2DNZruKQ%3D&labels=0\n",
      "https://cdn3.apple-mapkit.com/ti/tile?country=IN&region=IN&style=46&size=1&x=371320&y=219582&z=19&scale=1&lang=en&v=2008184&poi=0&accessKey=1597851377_6762113937655275830_%2F_%2F%2FdSjhUFwz%2Bh4Co%2BIF4%2FQq8D7kDQ0phE9rD2DNZruKQ%3D&labels=0https://cdn3.apple-mapkit.com/ti/tile?country=IN&region=IN&style=46&size=1&x=371319&y=219583&z=19&scale=1&lang=en&v=2008184&poi=0&accessKey=1597851377_6762113937655275830_%2F_%2F%2FdSjhUFwz%2Bh4Co%2BIF4%2FQq8D7kDQ0phE9rD2DNZruKQ%3D&labels=0\n",
      "https://cdn3.apple-mapkit.com/ti/tile?country=IN&region=IN&style=46&size=1&x=371325&y=219625&z=19&scale=1&lang=en&v=2008184&poi=0&accessKey=1597851377_6762113937655275830_%2F_%2F%2FdSjhUFwz%2Bh4Co%2BIF4%2FQq8D7kDQ0phE9rD2DNZruKQ%3D&labels=0\n",
      "https://cdn3.apple-mapkit.com/ti/tile?country=IN&region=IN&style=46&size=1&x=371325&y=219625&z=19&scale=1&lang=en&v=2008184&poi=0&accessKey=1597851377_6762113937655275830_%2F_%2F%2FdSjhUFwz%2Bh4Co%2BIF4%2FQq8D7kDQ0phE9rD2DNZruKQ%3D&labels=0\n",
      "\n",
      "https://cdn3.apple-mapkit.com/ti/tile?country=IN&region=IN&style=46&size=1&x=371325&y=219611&z=19&scale=1&lang=en&v=2008184&poi=0&accessKey=1597851377_6762113937655275830_%2F_%2F%2FdSjhUFwz%2Bh4Co%2BIF4%2FQq8D7kDQ0phE9rD2DNZruKQ%3D&labels=0\n",
      "https://cdn3.apple-mapkit.com/ti/tile?country=IN&region=IN&style=46&size=1&x=371324&y=219603&z=19&scale=1&lang=en&v=2008184&poi=0&accessKey=1597851377_6762113937655275830_%2F_%2F%2FdSjhUFwz%2Bh4Co%2BIF4%2FQq8D7kDQ0phE9rD2DNZruKQ%3D&labels=0\n",
      "https://cdn3.apple-mapkit.com/ti/tile?country=IN&region=IN&style=46&size=1&x=371325&y=219607&z=19&scale=1&lang=en&v=2008184&poi=0&accessKey=1597851377_6762113937655275830_%2F_%2F%2FdSjhUFwz%2Bh4Co%2BIF4%2FQq8D7kDQ0phE9rD2DNZruKQ%3D&labels=0\n",
      "\n",
      "https://cdn3.apple-mapkit.com/ti/tile?country=IN&region=IN&style=46&size=1&x=371325&y=219622&z=19&scale=1&lang=en&v=2008184&poi=0&accessKey=1597851377_6762113937655275830_%2F_%2F%2FdSjhUFwz%2Bh4Co%2BIF4%2FQq8D7kDQ0phE9rD2DNZruKQ%3D&labels=0\n",
      "https://cdn3.apple-mapkit.com/ti/tile?country=IN&region=IN&style=46&size=1&x=371325&y=219616&z=19&scale=1&lang=en&v=2008184&poi=0&accessKey=1597851377_6762113937655275830_%2F_%2F%2FdSjhUFwz%2Bh4Co%2BIF4%2FQq8D7kDQ0phE9rD2DNZruKQ%3D&labels=0\n"
     ]
    },
    {
     "name": "stderr",
     "output_type": "stream",
     "text": [
      "\r",
      " 68%|██████▊   | 65/95 [00:26<00:22,  1.31it/s]"
     ]
    },
    {
     "name": "stdout",
     "output_type": "stream",
     "text": [
      "https://cdn3.apple-mapkit.com/ti/tile?country=IN&region=IN&style=46&size=1&x=371325&y=219629&z=19&scale=1&lang=en&v=2008184&poi=0&accessKey=1597851377_6762113937655275830_%2F_%2F%2FdSjhUFwz%2Bh4Co%2BIF4%2FQq8D7kDQ0phE9rD2DNZruKQ%3D&labels=0https://cdn3.apple-mapkit.com/ti/tile?country=IN&region=IN&style=46&size=1&x=371323&y=219600&z=19&scale=1&lang=en&v=2008184&poi=0&accessKey=1597851377_6762113937655275830_%2F_%2F%2FdSjhUFwz%2Bh4Co%2BIF4%2FQq8D7kDQ0phE9rD2DNZruKQ%3D&labels=0\n",
      "https://cdn3.apple-mapkit.com/ti/tile?country=IN&region=IN&style=46&size=1&x=371325&y=219622&z=19&scale=1&lang=en&v=2008184&poi=0&accessKey=1597851377_6762113937655275830_%2F_%2F%2FdSjhUFwz%2Bh4Co%2BIF4%2FQq8D7kDQ0phE9rD2DNZruKQ%3D&labels=0\n",
      "https://cdn3.apple-mapkit.com/ti/tile?country=IN&region=IN&style=46&size=1&x=371325&y=219607&z=19&scale=1&lang=en&v=2008184&poi=0&accessKey=1597851377_6762113937655275830_%2F_%2F%2FdSjhUFwz%2Bh4Co%2BIF4%2FQq8D7kDQ0phE9rD2DNZruKQ%3D&labels=0https://cdn3.apple-mapkit.com/ti/tile?country=IN&region=IN&style=46&size=1&x=371323&y=219599&z=19&scale=1&lang=en&v=2008184&poi=0&accessKey=1597851377_6762113937655275830_%2F_%2F%2FdSjhUFwz%2Bh4Co%2BIF4%2FQq8D7kDQ0phE9rD2DNZruKQ%3D&labels=0\n",
      "\n",
      "https://cdn3.apple-mapkit.com/ti/tile?country=IN&region=IN&style=46&size=1&x=371325&y=219628&z=19&scale=1&lang=en&v=2008184&poi=0&accessKey=1597851377_6762113937655275830_%2F_%2F%2FdSjhUFwz%2Bh4Co%2BIF4%2FQq8D7kDQ0phE9rD2DNZruKQ%3D&labels=0\n",
      "https://cdn3.apple-mapkit.com/ti/tile?country=IN&region=IN&style=46&size=1&x=371325&y=219627&z=19&scale=1&lang=en&v=2008184&poi=0&accessKey=1597851377_6762113937655275830_%2F_%2F%2FdSjhUFwz%2Bh4Co%2BIF4%2FQq8D7kDQ0phE9rD2DNZruKQ%3D&labels=0\n",
      "https://cdn3.apple-mapkit.com/ti/tile?country=IN&region=IN&style=46&size=1&x=371319&y=219580&z=19&scale=1&lang=en&v=2008184&poi=0&accessKey=1597851377_6762113937655275830_%2F_%2F%2FdSjhUFwz%2Bh4Co%2BIF4%2FQq8D7kDQ0phE9rD2DNZruKQ%3D&labels=0https://cdn3.apple-mapkit.com/ti/tile?country=IN&region=IN&style=46&size=1&x=371325&y=219625&z=19&scale=1&lang=en&v=2008184&poi=0&accessKey=1597851377_6762113937655275830_%2F_%2F%2FdSjhUFwz%2Bh4Co%2BIF4%2FQq8D7kDQ0phE9rD2DNZruKQ%3D&labels=0\n",
      "\n",
      "\n",
      "https://cdn3.apple-mapkit.com/ti/tile?country=IN&region=IN&style=46&size=1&x=371325&y=219612&z=19&scale=1&lang=en&v=2008184&poi=0&accessKey=1597851377_6762113937655275830_%2F_%2F%2FdSjhUFwz%2Bh4Co%2BIF4%2FQq8D7kDQ0phE9rD2DNZruKQ%3D&labels=0\n"
     ]
    },
    {
     "name": "stderr",
     "output_type": "stream",
     "text": [
      "\r",
      " 69%|██████▉   | 66/95 [00:26<00:17,  1.68it/s]"
     ]
    },
    {
     "name": "stdout",
     "output_type": "stream",
     "text": [
      "https://cdn3.apple-mapkit.com/ti/tile?country=IN&region=IN&style=46&size=1&x=371325&y=219613&z=19&scale=1&lang=en&v=2008184&poi=0&accessKey=1597851377_6762113937655275830_%2F_%2F%2FdSjhUFwz%2Bh4Co%2BIF4%2FQq8D7kDQ0phE9rD2DNZruKQ%3D&labels=0\n",
      "https://cdn3.apple-mapkit.com/ti/tile?country=IN&region=IN&style=46&size=1&x=371324&y=219605&z=19&scale=1&lang=en&v=2008184&poi=0&accessKey=1597851377_6762113937655275830_%2F_%2F%2FdSjhUFwz%2Bh4Co%2BIF4%2FQq8D7kDQ0phE9rD2DNZruKQ%3D&labels=0\n",
      "https://cdn3.apple-mapkit.com/ti/tile?country=IN&region=IN&style=46&size=1&x=371325&y=219609&z=19&scale=1&lang=en&v=2008184&poi=0&accessKey=1597851377_6762113937655275830_%2F_%2F%2FdSjhUFwz%2Bh4Co%2BIF4%2FQq8D7kDQ0phE9rD2DNZruKQ%3D&labels=0\n",
      "https://cdn3.apple-mapkit.com/ti/tile?country=IN&region=IN&style=46&size=1&x=371319&y=219582&z=19&scale=1&lang=en&v=2008184&poi=0&accessKey=1597851377_6762113937655275830_%2F_%2F%2FdSjhUFwz%2Bh4Co%2BIF4%2FQq8D7kDQ0phE9rD2DNZruKQ%3D&labels=0\n",
      "https://cdn3.apple-mapkit.com/ti/tile?country=IN&region=IN&style=46&size=1&x=371325&y=219616&z=19&scale=1&lang=en&v=2008184&poi=0&accessKey=1597851377_6762113937655275830_%2F_%2F%2FdSjhUFwz%2Bh4Co%2BIF4%2FQq8D7kDQ0phE9rD2DNZruKQ%3D&labels=0\n",
      "https://cdn3.apple-mapkit.com/ti/tile?country=IN&region=IN&style=46&size=1&x=371325&y=219621&z=19&scale=1&lang=en&v=2008184&poi=0&accessKey=1597851377_6762113937655275830_%2F_%2F%2FdSjhUFwz%2Bh4Co%2BIF4%2FQq8D7kDQ0phE9rD2DNZruKQ%3D&labels=0\n",
      "https://cdn3.apple-mapkit.com/ti/tile?country=IN&region=IN&style=46&size=1&x=371325&y=219623&z=19&scale=1&lang=en&v=2008184&poi=0&accessKey=1597851377_6762113937655275830_%2F_%2F%2FdSjhUFwz%2Bh4Co%2BIF4%2FQq8D7kDQ0phE9rD2DNZruKQ%3D&labels=0\n",
      "https://cdn3.apple-mapkit.com/ti/tile?country=IN&region=IN&style=46&size=1&x=371325&y=219608&z=19&scale=1&lang=en&v=2008184&poi=0&accessKey=1597851377_6762113937655275830_%2F_%2F%2FdSjhUFwz%2Bh4Co%2BIF4%2FQq8D7kDQ0phE9rD2DNZruKQ%3D&labels=0\n"
     ]
    },
    {
     "name": "stderr",
     "output_type": "stream",
     "text": [
      "\r",
      " 71%|███████   | 67/95 [00:27<00:17,  1.64it/s]"
     ]
    },
    {
     "name": "stdout",
     "output_type": "stream",
     "text": [
      "https://cdn3.apple-mapkit.com/ti/tile?country=IN&region=IN&style=46&size=1&x=371321&y=219590&z=19&scale=1&lang=en&v=2008184&poi=0&accessKey=1597851377_6762113937655275830_%2F_%2F%2FdSjhUFwz%2Bh4Co%2BIF4%2FQq8D7kDQ0phE9rD2DNZruKQ%3D&labels=0\n",
      "https://cdn3.apple-mapkit.com/ti/tile?country=IN&region=IN&style=46&size=1&x=371325&y=219616&z=19&scale=1&lang=en&v=2008184&poi=0&accessKey=1597851377_6762113937655275830_%2F_%2F%2FdSjhUFwz%2Bh4Co%2BIF4%2FQq8D7kDQ0phE9rD2DNZruKQ%3D&labels=0\n",
      "https://cdn3.apple-mapkit.com/ti/tile?country=IN&region=IN&style=46&size=1&x=371325&y=219625&z=19&scale=1&lang=en&v=2008184&poi=0&accessKey=1597851377_6762113937655275830_%2F_%2F%2FdSjhUFwz%2Bh4Co%2BIF4%2FQq8D7kDQ0phE9rD2DNZruKQ%3D&labels=0\n",
      "https://cdn3.apple-mapkit.com/ti/tile?country=IN&region=IN&style=46&size=1&x=371320&y=219579&z=19&scale=1&lang=en&v=2008184&poi=0&accessKey=1597851377_6762113937655275830_%2F_%2F%2FdSjhUFwz%2Bh4Co%2BIF4%2FQq8D7kDQ0phE9rD2DNZruKQ%3D&labels=0https://cdn3.apple-mapkit.com/ti/tile?country=IN&region=IN&style=46&size=1&x=371322&y=219595&z=19&scale=1&lang=en&v=2008184&poi=0&accessKey=1597851377_6762113937655275830_%2F_%2F%2FdSjhUFwz%2Bh4Co%2BIF4%2FQq8D7kDQ0phE9rD2DNZruKQ%3D&labels=0\n",
      "\n",
      "https://cdn3.apple-mapkit.com/ti/tile?country=IN&region=IN&style=46&size=1&x=371325&y=219628&z=19&scale=1&lang=en&v=2008184&poi=0&accessKey=1597851377_6762113937655275830_%2F_%2F%2FdSjhUFwz%2Bh4Co%2BIF4%2FQq8D7kDQ0phE9rD2DNZruKQ%3D&labels=0\n",
      "https://cdn3.apple-mapkit.com/ti/tile?country=IN&region=IN&style=46&size=1&x=371325&y=219617&z=19&scale=1&lang=en&v=2008184&poi=0&accessKey=1597851377_6762113937655275830_%2F_%2F%2FdSjhUFwz%2Bh4Co%2BIF4%2FQq8D7kDQ0phE9rD2DNZruKQ%3D&labels=0\n",
      "https://cdn3.apple-mapkit.com/ti/tile?country=IN&region=IN&style=46&size=1&x=371319&y=219579&z=19&scale=1&lang=en&v=2008184&poi=0&accessKey=1597851377_6762113937655275830_%2F_%2F%2FdSjhUFwz%2Bh4Co%2BIF4%2FQq8D7kDQ0phE9rD2DNZruKQ%3D&labels=0\n",
      "https://cdn3.apple-mapkit.com/ti/tile?country=IN&region=IN&style=46&size=1&x=371325&y=219610&z=19&scale=1&lang=en&v=2008184&poi=0&accessKey=1597851377_6762113937655275830_%2F_%2F%2FdSjhUFwz%2Bh4Co%2BIF4%2FQq8D7kDQ0phE9rD2DNZruKQ%3D&labels=0\n"
     ]
    },
    {
     "name": "stderr",
     "output_type": "stream",
     "text": [
      " 73%|███████▎  | 69/95 [00:28<00:14,  1.75it/s]"
     ]
    },
    {
     "name": "stdout",
     "output_type": "stream",
     "text": [
      "https://cdn3.apple-mapkit.com/ti/tile?country=IN&region=IN&style=46&size=1&x=371320&y=219580&z=19&scale=1&lang=en&v=2008184&poi=0&accessKey=1597851377_6762113937655275830_%2F_%2F%2FdSjhUFwz%2Bh4Co%2BIF4%2FQq8D7kDQ0phE9rD2DNZruKQ%3D&labels=0\n",
      "https://cdn3.apple-mapkit.com/ti/tile?country=IN&region=IN&style=46&size=1&x=371322&y=219595&z=19&scale=1&lang=en&v=2008184&poi=0&accessKey=1597851377_6762113937655275830_%2F_%2F%2FdSjhUFwz%2Bh4Co%2BIF4%2FQq8D7kDQ0phE9rD2DNZruKQ%3D&labels=0\n",
      "https://cdn3.apple-mapkit.com/ti/tile?country=IN&region=IN&style=46&size=1&x=371325&y=219608&z=19&scale=1&lang=en&v=2008184&poi=0&accessKey=1597851377_6762113937655275830_%2F_%2F%2FdSjhUFwz%2Bh4Co%2BIF4%2FQq8D7kDQ0phE9rD2DNZruKQ%3D&labels=0\n",
      "https://cdn3.apple-mapkit.com/ti/tile?country=IN&region=IN&style=46&size=1&x=371324&y=219600&z=19&scale=1&lang=en&v=2008184&poi=0&accessKey=1597851377_6762113937655275830_%2F_%2F%2FdSjhUFwz%2Bh4Co%2BIF4%2FQq8D7kDQ0phE9rD2DNZruKQ%3D&labels=0\n",
      "https://cdn3.apple-mapkit.com/ti/tile?country=IN&region=IN&style=46&size=1&x=371325&y=219609&z=19&scale=1&lang=en&v=2008184&poi=0&accessKey=1597851377_6762113937655275830_%2F_%2F%2FdSjhUFwz%2Bh4Co%2BIF4%2FQq8D7kDQ0phE9rD2DNZruKQ%3D&labels=0\n"
     ]
    },
    {
     "name": "stderr",
     "output_type": "stream",
     "text": [
      " 75%|███████▍  | 71/95 [00:29<00:12,  1.96it/s]"
     ]
    },
    {
     "name": "stdout",
     "output_type": "stream",
     "text": [
      "https://cdn3.apple-mapkit.com/ti/tile?country=IN&region=IN&style=46&size=1&x=371319&y=219578&z=19&scale=1&lang=en&v=2008184&poi=0&accessKey=1597851377_6762113937655275830_%2F_%2F%2FdSjhUFwz%2Bh4Co%2BIF4%2FQq8D7kDQ0phE9rD2DNZruKQ%3D&labels=0\n",
      "https://cdn3.apple-mapkit.com/ti/tile?country=IN&region=IN&style=46&size=1&x=371324&y=219599&z=19&scale=1&lang=en&v=2008184&poi=0&accessKey=1597851377_6762113937655275830_%2F_%2F%2FdSjhUFwz%2Bh4Co%2BIF4%2FQq8D7kDQ0phE9rD2DNZruKQ%3D&labels=0\n",
      "https://cdn3.apple-mapkit.com/ti/tile?country=IN&region=IN&style=46&size=1&x=371325&y=219606&z=19&scale=1&lang=en&v=2008184&poi=0&accessKey=1597851377_6762113937655275830_%2F_%2F%2FdSjhUFwz%2Bh4Co%2BIF4%2FQq8D7kDQ0phE9rD2DNZruKQ%3D&labels=0\n",
      "https://cdn3.apple-mapkit.com/ti/tile?country=IN&region=IN&style=46&size=1&x=371325&y=219607&z=19&scale=1&lang=en&v=2008184&poi=0&accessKey=1597851377_6762113937655275830_%2F_%2F%2FdSjhUFwz%2Bh4Co%2BIF4%2FQq8D7kDQ0phE9rD2DNZruKQ%3D&labels=0https://cdn3.apple-mapkit.com/ti/tile?country=IN&region=IN&style=46&size=1&x=371325&y=219602&z=19&scale=1&lang=en&v=2008184&poi=0&accessKey=1597851377_6762113937655275830_%2F_%2F%2FdSjhUFwz%2Bh4Co%2BIF4%2FQq8D7kDQ0phE9rD2DNZruKQ%3D&labels=0\n",
      "https://cdn3.apple-mapkit.com/ti/tile?country=IN&region=IN&style=46&size=1&x=371326&y=219619&z=19&scale=1&lang=en&v=2008184&poi=0&accessKey=1597851377_6762113937655275830_%2F_%2F%2FdSjhUFwz%2Bh4Co%2BIF4%2FQq8D7kDQ0phE9rD2DNZruKQ%3D&labels=0\n"
     ]
    },
    {
     "name": "stderr",
     "output_type": "stream",
     "text": [
      "\r",
      " 76%|███████▌  | 72/95 [00:29<00:10,  2.16it/s]"
     ]
    },
    {
     "name": "stdout",
     "output_type": "stream",
     "text": [
      "https://cdn3.apple-mapkit.com/ti/tile?country=IN&region=IN&style=46&size=1&x=371322&y=219593&z=19&scale=1&lang=en&v=2008184&poi=0&accessKey=1597851377_6762113937655275830_%2F_%2F%2FdSjhUFwz%2Bh4Co%2BIF4%2FQq8D7kDQ0phE9rD2DNZruKQ%3D&labels=0\n",
      "https://cdn3.apple-mapkit.com/ti/tile?country=IN&region=IN&style=46&size=1&x=371326&y=219618&z=19&scale=1&lang=en&v=2008184&poi=0&accessKey=1597851377_6762113937655275830_%2F_%2F%2FdSjhUFwz%2Bh4Co%2BIF4%2FQq8D7kDQ0phE9rD2DNZruKQ%3D&labels=0\n",
      "\n",
      "https://cdn3.apple-mapkit.com/ti/tile?country=IN&region=IN&style=46&size=1&x=371325&y=219606&z=19&scale=1&lang=en&v=2008184&poi=0&accessKey=1597851377_6762113937655275830_%2F_%2F%2FdSjhUFwz%2Bh4Co%2BIF4%2FQq8D7kDQ0phE9rD2DNZruKQ%3D&labels=0\n",
      "https://cdn3.apple-mapkit.com/ti/tile?country=IN&region=IN&style=46&size=1&x=371325&y=219610&z=19&scale=1&lang=en&v=2008184&poi=0&accessKey=1597851377_6762113937655275830_%2F_%2F%2FdSjhUFwz%2Bh4Co%2BIF4%2FQq8D7kDQ0phE9rD2DNZruKQ%3D&labels=0\n",
      "https://cdn3.apple-mapkit.com/ti/tile?country=IN&region=IN&style=46&size=1&x=371320&y=219578&z=19&scale=1&lang=en&v=2008184&poi=0&accessKey=1597851377_6762113937655275830_%2F_%2F%2FdSjhUFwz%2Bh4Co%2BIF4%2FQq8D7kDQ0phE9rD2DNZruKQ%3D&labels=0\n",
      "https://cdn3.apple-mapkit.com/ti/tile?country=IN&region=IN&style=46&size=1&x=371322&y=219592&z=19&scale=1&lang=en&v=2008184&poi=0&accessKey=1597851377_6762113937655275830_%2F_%2F%2FdSjhUFwz%2Bh4Co%2BIF4%2FQq8D7kDQ0phE9rD2DNZruKQ%3D&labels=0\n",
      "https://cdn3.apple-mapkit.com/ti/tile?country=IN&region=IN&style=46&size=1&x=371326&y=219615&z=19&scale=1&lang=en&v=2008184&poi=0&accessKey=1597851377_6762113937655275830_%2F_%2F%2FdSjhUFwz%2Bh4Co%2BIF4%2FQq8D7kDQ0phE9rD2DNZruKQ%3D&labels=0\n",
      "https://cdn3.apple-mapkit.com/ti/tile?country=IN&region=IN&style=46&size=1&x=371326&y=219626&z=19&scale=1&lang=en&v=2008184&poi=0&accessKey=1597851377_6762113937655275830_%2F_%2F%2FdSjhUFwz%2Bh4Co%2BIF4%2FQq8D7kDQ0phE9rD2DNZruKQ%3D&labels=0\n",
      "https://cdn3.apple-mapkit.com/ti/tile?country=IN&region=IN&style=46&size=1&x=371322&y=219592&z=19&scale=1&lang=en&v=2008184&poi=0&accessKey=1597851377_6762113937655275830_%2F_%2F%2FdSjhUFwz%2Bh4Co%2BIF4%2FQq8D7kDQ0phE9rD2DNZruKQ%3D&labels=0\n",
      "https://cdn3.apple-mapkit.com/ti/tile?country=IN&region=IN&style=46&size=1&x=371325&y=219603&z=19&scale=1&lang=en&v=2008184&poi=0&accessKey=1597851377_6762113937655275830_%2F_%2F%2FdSjhUFwz%2Bh4Co%2BIF4%2FQq8D7kDQ0phE9rD2DNZruKQ%3D&labels=0\n"
     ]
    },
    {
     "name": "stderr",
     "output_type": "stream",
     "text": [
      "\r",
      " 77%|███████▋  | 73/95 [00:30<00:13,  1.58it/s]"
     ]
    },
    {
     "name": "stdout",
     "output_type": "stream",
     "text": [
      "https://cdn3.apple-mapkit.com/ti/tile?country=IN&region=IN&style=46&size=1&x=371327&y=219619&z=19&scale=1&lang=en&v=2008184&poi=0&accessKey=1597851377_6762113937655275830_%2F_%2F%2FdSjhUFwz%2Bh4Co%2BIF4%2FQq8D7kDQ0phE9rD2DNZruKQ%3D&labels=0\n",
      "https://cdn3.apple-mapkit.com/ti/tile?country=IN&region=IN&style=46&size=1&x=371326&y=219616&z=19&scale=1&lang=en&v=2008184&poi=0&accessKey=1597851377_6762113937655275830_%2F_%2F%2FdSjhUFwz%2Bh4Co%2BIF4%2FQq8D7kDQ0phE9rD2DNZruKQ%3D&labels=0https://cdn3.apple-mapkit.com/ti/tile?country=IN&region=IN&style=46&size=1&x=371327&y=219615&z=19&scale=1&lang=en&v=2008184&poi=0&accessKey=1597851377_6762113937655275830_%2F_%2F%2FdSjhUFwz%2Bh4Co%2BIF4%2FQq8D7kDQ0phE9rD2DNZruKQ%3D&labels=0\n",
      "https://cdn3.apple-mapkit.com/ti/tile?country=IN&region=IN&style=46&size=1&x=371326&y=219611&z=19&scale=1&lang=en&v=2008184&poi=0&accessKey=1597851377_6762113937655275830_%2F_%2F%2FdSjhUFwz%2Bh4Co%2BIF4%2FQq8D7kDQ0phE9rD2DNZruKQ%3D&labels=0\n",
      "https://cdn3.apple-mapkit.com/ti/tile?country=IN&region=IN&style=46&size=1&x=371322&y=219590&z=19&scale=1&lang=en&v=2008184&poi=0&accessKey=1597851377_6762113937655275830_%2F_%2F%2FdSjhUFwz%2Bh4Co%2BIF4%2FQq8D7kDQ0phE9rD2DNZruKQ%3D&labels=0\n"
     ]
    },
    {
     "name": "stderr",
     "output_type": "stream",
     "text": [
      "\r",
      " 78%|███████▊  | 74/95 [00:31<00:12,  1.72it/s]"
     ]
    },
    {
     "name": "stdout",
     "output_type": "stream",
     "text": [
      "https://cdn3.apple-mapkit.com/ti/tile?country=IN&region=IN&style=46&size=1&x=371326&y=219630&z=19&scale=1&lang=en&v=2008184&poi=0&accessKey=1597851377_6762113937655275830_%2F_%2F%2FdSjhUFwz%2Bh4Co%2BIF4%2FQq8D7kDQ0phE9rD2DNZruKQ%3D&labels=0\n",
      "https://cdn3.apple-mapkit.com/ti/tile?country=IN&region=IN&style=46&size=1&x=371324&y=219597&z=19&scale=1&lang=en&v=2008184&poi=0&accessKey=1597851377_6762113937655275830_%2F_%2F%2FdSjhUFwz%2Bh4Co%2BIF4%2FQq8D7kDQ0phE9rD2DNZruKQ%3D&labels=0\n",
      "https://cdn3.apple-mapkit.com/ti/tile?country=IN&region=IN&style=46&size=1&x=371326&y=219624&z=19&scale=1&lang=en&v=2008184&poi=0&accessKey=1597851377_6762113937655275830_%2F_%2F%2FdSjhUFwz%2Bh4Co%2BIF4%2FQq8D7kDQ0phE9rD2DNZruKQ%3D&labels=0https://cdn3.apple-mapkit.com/ti/tile?country=IN&region=IN&style=46&size=1&x=371325&y=219604&z=19&scale=1&lang=en&v=2008184&poi=0&accessKey=1597851377_6762113937655275830_%2F_%2F%2FdSjhUFwz%2Bh4Co%2BIF4%2FQq8D7kDQ0phE9rD2DNZruKQ%3D&labels=0\n",
      "\n",
      "https://cdn3.apple-mapkit.com/ti/tile?country=IN&region=IN&style=46&size=1&x=371327&y=219618&z=19&scale=1&lang=en&v=2008184&poi=0&accessKey=1597851377_6762113937655275830_%2F_%2F%2FdSjhUFwz%2Bh4Co%2BIF4%2FQq8D7kDQ0phE9rD2DNZruKQ%3D&labels=0https://cdn3.apple-mapkit.com/ti/tile?country=IN&region=IN&style=46&size=1&x=371323&y=219597&z=19&scale=1&lang=en&v=2008184&poi=0&accessKey=1597851377_6762113937655275830_%2F_%2F%2FdSjhUFwz%2Bh4Co%2BIF4%2FQq8D7kDQ0phE9rD2DNZruKQ%3D&labels=0\n",
      "https://cdn3.apple-mapkit.com/ti/tile?country=IN&region=IN&style=46&size=1&x=371325&y=219605&z=19&scale=1&lang=en&v=2008184&poi=0&accessKey=1597851377_6762113937655275830_%2F_%2F%2FdSjhUFwz%2Bh4Co%2BIF4%2FQq8D7kDQ0phE9rD2DNZruKQ%3D&labels=0\n",
      "\n",
      "https://cdn3.apple-mapkit.com/ti/tile?country=IN&region=IN&style=46&size=1&x=371325&y=219604&z=19&scale=1&lang=en&v=2008184&poi=0&accessKey=1597851377_6762113937655275830_%2F_%2F%2FdSjhUFwz%2Bh4Co%2BIF4%2FQq8D7kDQ0phE9rD2DNZruKQ%3D&labels=0\n",
      "https://cdn3.apple-mapkit.com/ti/tile?country=IN&region=IN&style=46&size=1&x=371326&y=219623&z=19&scale=1&lang=en&v=2008184&poi=0&accessKey=1597851377_6762113937655275830_%2F_%2F%2FdSjhUFwz%2Bh4Co%2BIF4%2FQq8D7kDQ0phE9rD2DNZruKQ%3D&labels=0\n",
      "\n",
      "https://cdn3.apple-mapkit.com/ti/tile?country=IN&region=IN&style=46&size=1&x=371326&y=219611&z=19&scale=1&lang=en&v=2008184&poi=0&accessKey=1597851377_6762113937655275830_%2F_%2F%2FdSjhUFwz%2Bh4Co%2BIF4%2FQq8D7kDQ0phE9rD2DNZruKQ%3D&labels=0\n",
      "https://cdn3.apple-mapkit.com/ti/tile?country=IN&region=IN&style=46&size=1&x=371322&y=219592&z=19&scale=1&lang=en&v=2008184&poi=0&accessKey=1597851377_6762113937655275830_%2F_%2F%2FdSjhUFwz%2Bh4Co%2BIF4%2FQq8D7kDQ0phE9rD2DNZruKQ%3D&labels=0\n",
      "https://cdn3.apple-mapkit.com/ti/tile?country=IN&region=IN&style=46&size=1&x=371325&y=219607&z=19&scale=1&lang=en&v=2008184&poi=0&accessKey=1597851377_6762113937655275830_%2F_%2F%2FdSjhUFwz%2Bh4Co%2BIF4%2FQq8D7kDQ0phE9rD2DNZruKQ%3D&labels=0\n",
      "https://cdn3.apple-mapkit.com/ti/tile?country=IN&region=IN&style=46&size=1&x=371325&y=219602&z=19&scale=1&lang=en&v=2008184&poi=0&accessKey=1597851377_6762113937655275830_%2F_%2F%2FdSjhUFwz%2Bh4Co%2BIF4%2FQq8D7kDQ0phE9rD2DNZruKQ%3D&labels=0\n",
      "https://cdn3.apple-mapkit.com/ti/tile?country=IN&region=IN&style=46&size=1&x=371326&y=219612&z=19&scale=1&lang=en&v=2008184&poi=0&accessKey=1597851377_6762113937655275830_%2F_%2F%2FdSjhUFwz%2Bh4Co%2BIF4%2FQq8D7kDQ0phE9rD2DNZruKQ%3D&labels=0https://cdn3.apple-mapkit.com/ti/tile?country=IN&region=IN&style=46&size=1&x=371322&y=219593&z=19&scale=1&lang=en&v=2008184&poi=0&accessKey=1597851377_6762113937655275830_%2F_%2F%2FdSjhUFwz%2Bh4Co%2BIF4%2FQq8D7kDQ0phE9rD2DNZruKQ%3D&labels=0\n",
      "\n",
      "https://cdn3.apple-mapkit.com/ti/tile?country=IN&region=IN&style=46&size=1&x=371327&y=219627&z=19&scale=1&lang=en&v=2008184&poi=0&accessKey=1597851377_6762113937655275830_%2F_%2F%2FdSjhUFwz%2Bh4Co%2BIF4%2FQq8D7kDQ0phE9rD2DNZruKQ%3D&labels=0\n",
      "https://cdn3.apple-mapkit.com/ti/tile?country=IN&region=IN&style=46&size=1&x=371326&y=219617&z=19&scale=1&lang=en&v=2008184&poi=0&accessKey=1597851377_6762113937655275830_%2F_%2F%2FdSjhUFwz%2Bh4Co%2BIF4%2FQq8D7kDQ0phE9rD2DNZruKQ%3D&labels=0\n",
      "https://cdn3.apple-mapkit.com/ti/tile?country=IN&region=IN&style=46&size=1&x=371326&y=219620&z=19&scale=1&lang=en&v=2008184&poi=0&accessKey=1597851377_6762113937655275830_%2F_%2F%2FdSjhUFwz%2Bh4Co%2BIF4%2FQq8D7kDQ0phE9rD2DNZruKQ%3D&labels=0\n",
      "https://cdn3.apple-mapkit.com/ti/tile?country=IN&region=IN&style=46&size=1&x=371323&y=219597&z=19&scale=1&lang=en&v=2008184&poi=0&accessKey=1597851377_6762113937655275830_%2F_%2F%2FdSjhUFwz%2Bh4Co%2BIF4%2FQq8D7kDQ0phE9rD2DNZruKQ%3D&labels=0\n",
      "https://cdn3.apple-mapkit.com/ti/tile?country=IN&region=IN&style=46&size=1&x=371326&y=219627&z=19&scale=1&lang=en&v=2008184&poi=0&accessKey=1597851377_6762113937655275830_%2F_%2F%2FdSjhUFwz%2Bh4Co%2BIF4%2FQq8D7kDQ0phE9rD2DNZruKQ%3D&labels=0\n",
      "https://cdn3.apple-mapkit.com/ti/tile?country=IN&region=IN&style=46&size=1&x=371326&y=219614&z=19&scale=1&lang=en&v=2008184&poi=0&accessKey=1597851377_6762113937655275830_%2F_%2F%2FdSjhUFwz%2Bh4Co%2BIF4%2FQq8D7kDQ0phE9rD2DNZruKQ%3D&labels=0\n",
      "https://cdn3.apple-mapkit.com/ti/tile?country=IN&region=IN&style=46&size=1&x=371326&y=219607&z=19&scale=1&lang=en&v=2008184&poi=0&accessKey=1597851377_6762113937655275830_%2F_%2F%2FdSjhUFwz%2Bh4Co%2BIF4%2FQq8D7kDQ0phE9rD2DNZruKQ%3D&labels=0\n"
     ]
    },
    {
     "name": "stderr",
     "output_type": "stream",
     "text": [
      "\r",
      " 79%|███████▉  | 75/95 [00:32<00:15,  1.31it/s]"
     ]
    },
    {
     "name": "stdout",
     "output_type": "stream",
     "text": [
      "https://cdn3.apple-mapkit.com/ti/tile?country=IN&region=IN&style=46&size=1&x=371327&y=219621&z=19&scale=1&lang=en&v=2008184&poi=0&accessKey=1597851377_6762113937655275830_%2F_%2F%2FdSjhUFwz%2Bh4Co%2BIF4%2FQq8D7kDQ0phE9rD2DNZruKQ%3D&labels=0\n",
      "https://cdn3.apple-mapkit.com/ti/tile?country=IN&region=IN&style=46&size=1&x=371326&y=219607&z=19&scale=1&lang=en&v=2008184&poi=0&accessKey=1597851377_6762113937655275830_%2F_%2F%2FdSjhUFwz%2Bh4Co%2BIF4%2FQq8D7kDQ0phE9rD2DNZruKQ%3D&labels=0\n",
      "https://cdn3.apple-mapkit.com/ti/tile?country=IN&region=IN&style=46&size=1&x=371327&y=219623&z=19&scale=1&lang=en&v=2008184&poi=0&accessKey=1597851377_6762113937655275830_%2F_%2F%2FdSjhUFwz%2Bh4Co%2BIF4%2FQq8D7kDQ0phE9rD2DNZruKQ%3D&labels=0\n",
      "https://cdn3.apple-mapkit.com/ti/tile?country=IN&region=IN&style=46&size=1&x=371322&y=219592&z=19&scale=1&lang=en&v=2008184&poi=0&accessKey=1597851377_6762113937655275830_%2F_%2F%2FdSjhUFwz%2Bh4Co%2BIF4%2FQq8D7kDQ0phE9rD2DNZruKQ%3D&labels=0\n",
      "https://cdn3.apple-mapkit.com/ti/tile?country=IN&region=IN&style=46&size=1&x=371327&y=219625&z=19&scale=1&lang=en&v=2008184&poi=0&accessKey=1597851377_6762113937655275830_%2F_%2F%2FdSjhUFwz%2Bh4Co%2BIF4%2FQq8D7kDQ0phE9rD2DNZruKQ%3D&labels=0\n",
      "https://cdn3.apple-mapkit.com/ti/tile?country=IN&region=IN&style=46&size=1&x=371326&y=219609&z=19&scale=1&lang=en&v=2008184&poi=0&accessKey=1597851377_6762113937655275830_%2F_%2F%2FdSjhUFwz%2Bh4Co%2BIF4%2FQq8D7kDQ0phE9rD2DNZruKQ%3D&labels=0\n",
      "https://cdn3.apple-mapkit.com/ti/tile?country=IN&region=IN&style=46&size=1&x=371320&y=219583&z=19&scale=1&lang=en&v=2008184&poi=0&accessKey=1597851377_6762113937655275830_%2F_%2F%2FdSjhUFwz%2Bh4Co%2BIF4%2FQq8D7kDQ0phE9rD2DNZruKQ%3D&labels=0\n",
      "https://cdn3.apple-mapkit.com/ti/tile?country=IN&region=IN&style=46&size=1&x=371327&y=219629&z=19&scale=1&lang=en&v=2008184&poi=0&accessKey=1597851377_6762113937655275830_%2F_%2F%2FdSjhUFwz%2Bh4Co%2BIF4%2FQq8D7kDQ0phE9rD2DNZruKQ%3D&labels=0\n",
      "https://cdn3.apple-mapkit.com/ti/tile?country=IN&region=IN&style=46&size=1&x=371326&y=219621&z=19&scale=1&lang=en&v=2008184&poi=0&accessKey=1597851377_6762113937655275830_%2F_%2F%2FdSjhUFwz%2Bh4Co%2BIF4%2FQq8D7kDQ0phE9rD2DNZruKQ%3D&labels=0\n",
      "https://cdn3.apple-mapkit.com/ti/tile?country=IN&region=IN&style=46&size=1&x=371325&y=219621&z=19&scale=1&lang=en&v=2008184&poi=0&accessKey=1597851377_6762113937655275830_%2F_%2F%2FdSjhUFwz%2Bh4Co%2BIF4%2FQq8D7kDQ0phE9rD2DNZruKQ%3D&labels=0\n",
      "https://cdn3.apple-mapkit.com/ti/tile?country=IN&region=IN&style=46&size=1&x=371326&y=219625&z=19&scale=1&lang=en&v=2008184&poi=0&accessKey=1597851377_6762113937655275830_%2F_%2F%2FdSjhUFwz%2Bh4Co%2BIF4%2FQq8D7kDQ0phE9rD2DNZruKQ%3D&labels=0\n",
      "https://cdn3.apple-mapkit.com/ti/tile?country=IN&region=IN&style=46&size=1&x=371327&y=219624&z=19&scale=1&lang=en&v=2008184&poi=0&accessKey=1597851377_6762113937655275830_%2F_%2F%2FdSjhUFwz%2Bh4Co%2BIF4%2FQq8D7kDQ0phE9rD2DNZruKQ%3D&labels=0\n",
      "https://cdn3.apple-mapkit.com/ti/tile?country=IN&region=IN&style=46&size=1&x=371326&y=219622&z=19&scale=1&lang=en&v=2008184&poi=0&accessKey=1597851377_6762113937655275830_%2F_%2F%2FdSjhUFwz%2Bh4Co%2BIF4%2FQq8D7kDQ0phE9rD2DNZruKQ%3D&labels=0\n",
      "https://cdn3.apple-mapkit.com/ti/tile?country=IN&region=IN&style=46&size=1&x=371321&y=219583&z=19&scale=1&lang=en&v=2008184&poi=0&accessKey=1597851377_6762113937655275830_%2F_%2F%2FdSjhUFwz%2Bh4Co%2BIF4%2FQq8D7kDQ0phE9rD2DNZruKQ%3D&labels=0\n",
      "https://cdn3.apple-mapkit.com/ti/tile?country=IN&region=IN&style=46&size=1&x=371327&y=219630&z=19&scale=1&lang=en&v=2008184&poi=0&accessKey=1597851377_6762113937655275830_%2F_%2F%2FdSjhUFwz%2Bh4Co%2BIF4%2FQq8D7kDQ0phE9rD2DNZruKQ%3D&labels=0\n",
      "https://cdn3.apple-mapkit.com/ti/tile?country=IN&region=IN&style=46&size=1&x=371326&y=219605&z=19&scale=1&lang=en&v=2008184&poi=0&accessKey=1597851377_6762113937655275830_%2F_%2F%2FdSjhUFwz%2Bh4Co%2BIF4%2FQq8D7kDQ0phE9rD2DNZruKQ%3D&labels=0\n",
      "https://cdn3.apple-mapkit.com/ti/tile?country=IN&region=IN&style=46&size=1&x=371327&y=219611&z=19&scale=1&lang=en&v=2008184&poi=0&accessKey=1597851377_6762113937655275830_%2F_%2F%2FdSjhUFwz%2Bh4Co%2BIF4%2FQq8D7kDQ0phE9rD2DNZruKQ%3D&labels=0\n",
      "https://cdn3.apple-mapkit.com/ti/tile?country=IN&region=IN&style=46&size=1&x=371325&y=219599&z=19&scale=1&lang=en&v=2008184&poi=0&accessKey=1597851377_6762113937655275830_%2F_%2F%2FdSjhUFwz%2Bh4Co%2BIF4%2FQq8D7kDQ0phE9rD2DNZruKQ%3D&labels=0\n"
     ]
    },
    {
     "name": "stderr",
     "output_type": "stream",
     "text": [
      " 81%|████████  | 77/95 [00:33<00:11,  1.61it/s]"
     ]
    },
    {
     "name": "stdout",
     "output_type": "stream",
     "text": [
      "https://cdn3.apple-mapkit.com/ti/tile?country=IN&region=IN&style=46&size=1&x=371325&y=219603&z=19&scale=1&lang=en&v=2008184&poi=0&accessKey=1597851377_6762113937655275830_%2F_%2F%2FdSjhUFwz%2Bh4Co%2BIF4%2FQq8D7kDQ0phE9rD2DNZruKQ%3D&labels=0\n",
      "https://cdn3.apple-mapkit.com/ti/tile?country=IN&region=IN&style=46&size=1&x=371327&y=219620&z=19&scale=1&lang=en&v=2008184&poi=0&accessKey=1597851377_6762113937655275830_%2F_%2F%2FdSjhUFwz%2Bh4Co%2BIF4%2FQq8D7kDQ0phE9rD2DNZruKQ%3D&labels=0\n",
      "https://cdn3.apple-mapkit.com/ti/tile?country=IN&region=IN&style=46&size=1&x=371326&y=219625&z=19&scale=1&lang=en&v=2008184&poi=0&accessKey=1597851377_6762113937655275830_%2F_%2F%2FdSjhUFwz%2Bh4Co%2BIF4%2FQq8D7kDQ0phE9rD2DNZruKQ%3D&labels=0\n",
      "https://cdn3.apple-mapkit.com/ti/tile?country=IN&region=IN&style=46&size=1&x=371326&y=219613&z=19&scale=1&lang=en&v=2008184&poi=0&accessKey=1597851377_6762113937655275830_%2F_%2F%2FdSjhUFwz%2Bh4Co%2BIF4%2FQq8D7kDQ0phE9rD2DNZruKQ%3D&labels=0\n",
      "https://cdn3.apple-mapkit.com/ti/tile?country=IN&region=IN&style=46&size=1&x=371325&y=219600&z=19&scale=1&lang=en&v=2008184&poi=0&accessKey=1597851377_6762113937655275830_%2F_%2F%2FdSjhUFwz%2Bh4Co%2BIF4%2FQq8D7kDQ0phE9rD2DNZruKQ%3D&labels=0\n",
      "https://cdn3.apple-mapkit.com/ti/tile?country=IN&region=IN&style=46&size=1&x=371327&y=219626&z=19&scale=1&lang=en&v=2008184&poi=0&accessKey=1597851377_6762113937655275830_%2F_%2F%2FdSjhUFwz%2Bh4Co%2BIF4%2FQq8D7kDQ0phE9rD2DNZruKQ%3D&labels=0\n",
      "https://cdn3.apple-mapkit.com/ti/tile?country=IN&region=IN&style=46&size=1&x=371320&y=219580&z=19&scale=1&lang=en&v=2008184&poi=0&accessKey=1597851377_6762113937655275830_%2F_%2F%2FdSjhUFwz%2Bh4Co%2BIF4%2FQq8D7kDQ0phE9rD2DNZruKQ%3D&labels=0\n",
      "https://cdn3.apple-mapkit.com/ti/tile?country=IN&region=IN&style=46&size=1&x=371321&y=219582&z=19&scale=1&lang=en&v=2008184&poi=0&accessKey=1597851377_6762113937655275830_%2F_%2F%2FdSjhUFwz%2Bh4Co%2BIF4%2FQq8D7kDQ0phE9rD2DNZruKQ%3D&labels=0\n",
      "https://cdn3.apple-mapkit.com/ti/tile?country=IN&region=IN&style=46&size=1&x=371326&y=219621&z=19&scale=1&lang=en&v=2008184&poi=0&accessKey=1597851377_6762113937655275830_%2F_%2F%2FdSjhUFwz%2Bh4Co%2BIF4%2FQq8D7kDQ0phE9rD2DNZruKQ%3D&labels=0\n"
     ]
    },
    {
     "name": "stderr",
     "output_type": "stream",
     "text": [
      "\r",
      " 82%|████████▏ | 78/95 [00:33<00:08,  1.99it/s]"
     ]
    },
    {
     "name": "stdout",
     "output_type": "stream",
     "text": [
      "https://cdn3.apple-mapkit.com/ti/tile?country=IN&region=IN&style=46&size=1&x=371327&y=219616&z=19&scale=1&lang=en&v=2008184&poi=0&accessKey=1597851377_6762113937655275830_%2F_%2F%2FdSjhUFwz%2Bh4Co%2BIF4%2FQq8D7kDQ0phE9rD2DNZruKQ%3D&labels=0\n",
      "https://cdn3.apple-mapkit.com/ti/tile?country=IN&region=IN&style=46&size=1&x=371326&y=219608&z=19&scale=1&lang=en&v=2008184&poi=0&accessKey=1597851377_6762113937655275830_%2F_%2F%2FdSjhUFwz%2Bh4Co%2BIF4%2FQq8D7kDQ0phE9rD2DNZruKQ%3D&labels=0https://cdn3.apple-mapkit.com/ti/tile?country=IN&region=IN&style=46&size=1&x=371320&y=219582&z=19&scale=1&lang=en&v=2008184&poi=0&accessKey=1597851377_6762113937655275830_%2F_%2F%2FdSjhUFwz%2Bh4Co%2BIF4%2FQq8D7kDQ0phE9rD2DNZruKQ%3D&labels=0https://cdn3.apple-mapkit.com/ti/tile?country=IN&region=IN&style=46&size=1&x=371324&y=219597&z=19&scale=1&lang=en&v=2008184&poi=0&accessKey=1597851377_6762113937655275830_%2F_%2F%2FdSjhUFwz%2Bh4Co%2BIF4%2FQq8D7kDQ0phE9rD2DNZruKQ%3D&labels=0https://cdn3.apple-mapkit.com/ti/tile?country=IN&region=IN&style=46&size=1&x=371326&y=219628&z=19&scale=1&lang=en&v=2008184&poi=0&accessKey=1597851377_6762113937655275830_%2F_%2F%2FdSjhUFwz%2Bh4Co%2BIF4%2FQq8D7kDQ0phE9rD2DNZruKQ%3D&labels=0\n",
      "\n",
      "\n",
      "\n",
      "https://cdn3.apple-mapkit.com/ti/tile?country=IN&region=IN&style=46&size=1&x=371327&y=219616&z=19&scale=1&lang=en&v=2008184&poi=0&accessKey=1597851377_6762113937655275830_%2F_%2F%2FdSjhUFwz%2Bh4Co%2BIF4%2FQq8D7kDQ0phE9rD2DNZruKQ%3D&labels=0\n",
      "https://cdn3.apple-mapkit.com/ti/tile?country=IN&region=IN&style=46&size=1&x=371326&y=219629&z=19&scale=1&lang=en&v=2008184&poi=0&accessKey=1597851377_6762113937655275830_%2F_%2F%2FdSjhUFwz%2Bh4Co%2BIF4%2FQq8D7kDQ0phE9rD2DNZruKQ%3D&labels=0\n",
      "https://cdn3.apple-mapkit.com/ti/tile?country=IN&region=IN&style=46&size=1&x=371327&y=219614&z=19&scale=1&lang=en&v=2008184&poi=0&accessKey=1597851377_6762113937655275830_%2F_%2F%2FdSjhUFwz%2Bh4Co%2BIF4%2FQq8D7kDQ0phE9rD2DNZruKQ%3D&labels=0\n",
      "https://cdn3.apple-mapkit.com/ti/tile?country=IN&region=IN&style=46&size=1&x=371327&y=219622&z=19&scale=1&lang=en&v=2008184&poi=0&accessKey=1597851377_6762113937655275830_%2F_%2F%2FdSjhUFwz%2Bh4Co%2BIF4%2FQq8D7kDQ0phE9rD2DNZruKQ%3D&labels=0\n",
      "https://cdn3.apple-mapkit.com/ti/tile?country=IN&region=IN&style=46&size=1&x=371322&y=219590&z=19&scale=1&lang=en&v=2008184&poi=0&accessKey=1597851377_6762113937655275830_%2F_%2F%2FdSjhUFwz%2Bh4Co%2BIF4%2FQq8D7kDQ0phE9rD2DNZruKQ%3D&labels=0\n",
      "https://cdn3.apple-mapkit.com/ti/tile?country=IN&region=IN&style=46&size=1&x=371320&y=219572&z=19&scale=1&lang=en&v=2008184&poi=0&accessKey=1597851377_6762113937655275830_%2F_%2F%2FdSjhUFwz%2Bh4Co%2BIF4%2FQq8D7kDQ0phE9rD2DNZruKQ%3D&labels=0\n",
      "https://cdn3.apple-mapkit.com/ti/tile?country=IN&region=IN&style=46&size=1&x=371327&y=219625&z=19&scale=1&lang=en&v=2008184&poi=0&accessKey=1597851377_6762113937655275830_%2F_%2F%2FdSjhUFwz%2Bh4Co%2BIF4%2FQq8D7kDQ0phE9rD2DNZruKQ%3D&labels=0\n",
      "https://cdn3.apple-mapkit.com/ti/tile?country=IN&region=IN&style=46&size=1&x=371327&y=219617&z=19&scale=1&lang=en&v=2008184&poi=0&accessKey=1597851377_6762113937655275830_%2F_%2F%2FdSjhUFwz%2Bh4Co%2BIF4%2FQq8D7kDQ0phE9rD2DNZruKQ%3D&labels=0\n"
     ]
    },
    {
     "name": "stderr",
     "output_type": "stream",
     "text": [
      "\r",
      " 83%|████████▎ | 79/95 [00:34<00:08,  1.80it/s]"
     ]
    },
    {
     "name": "stdout",
     "output_type": "stream",
     "text": [
      "https://cdn3.apple-mapkit.com/ti/tile?country=IN&region=IN&style=46&size=1&x=371320&y=219579&z=19&scale=1&lang=en&v=2008184&poi=0&accessKey=1597851377_6762113937655275830_%2F_%2F%2FdSjhUFwz%2Bh4Co%2BIF4%2FQq8D7kDQ0phE9rD2DNZruKQ%3D&labels=0https://cdn3.apple-mapkit.com/ti/tile?country=IN&region=IN&style=46&size=1&x=371327&y=219628&z=19&scale=1&lang=en&v=2008184&poi=0&accessKey=1597851377_6762113937655275830_%2F_%2F%2FdSjhUFwz%2Bh4Co%2BIF4%2FQq8D7kDQ0phE9rD2DNZruKQ%3D&labels=0https://cdn3.apple-mapkit.com/ti/tile?country=IN&region=IN&style=46&size=1&x=371327&y=219611&z=19&scale=1&lang=en&v=2008184&poi=0&accessKey=1597851377_6762113937655275830_%2F_%2F%2FdSjhUFwz%2Bh4Co%2BIF4%2FQq8D7kDQ0phE9rD2DNZruKQ%3D&labels=0\n",
      "https://cdn3.apple-mapkit.com/ti/tile?country=IN&region=IN&style=46&size=1&x=371319&y=219572&z=19&scale=1&lang=en&v=2008184&poi=0&accessKey=1597851377_6762113937655275830_%2F_%2F%2FdSjhUFwz%2Bh4Co%2BIF4%2FQq8D7kDQ0phE9rD2DNZruKQ%3D&labels=0\n",
      "\n",
      "\n",
      "https://cdn3.apple-mapkit.com/ti/tile?country=IN&region=IN&style=46&size=1&x=371326&y=219616&z=19&scale=1&lang=en&v=2008184&poi=0&accessKey=1597851377_6762113937655275830_%2F_%2F%2FdSjhUFwz%2Bh4Co%2BIF4%2FQq8D7kDQ0phE9rD2DNZruKQ%3D&labels=0\n",
      "https://cdn3.apple-mapkit.com/ti/tile?country=IN&region=IN&style=46&size=1&x=371327&y=219613&z=19&scale=1&lang=en&v=2008184&poi=0&accessKey=1597851377_6762113937655275830_%2F_%2F%2FdSjhUFwz%2Bh4Co%2BIF4%2FQq8D7kDQ0phE9rD2DNZruKQ%3D&labels=0\n",
      "https://cdn3.apple-mapkit.com/ti/tile?country=IN&region=IN&style=46&size=1&x=371327&y=219612&z=19&scale=1&lang=en&v=2008184&poi=0&accessKey=1597851377_6762113937655275830_%2F_%2F%2FdSjhUFwz%2Bh4Co%2BIF4%2FQq8D7kDQ0phE9rD2DNZruKQ%3D&labels=0\n",
      "https://cdn3.apple-mapkit.com/ti/tile?country=IN&region=IN&style=46&size=1&x=371321&y=219579&z=19&scale=1&lang=en&v=2008184&poi=0&accessKey=1597851377_6762113937655275830_%2F_%2F%2FdSjhUFwz%2Bh4Co%2BIF4%2FQq8D7kDQ0phE9rD2DNZruKQ%3D&labels=0\n",
      "https://cdn3.apple-mapkit.com/ti/tile?country=IN&region=IN&style=46&size=1&x=371323&y=219595&z=19&scale=1&lang=en&v=2008184&poi=0&accessKey=1597851377_6762113937655275830_%2F_%2F%2FdSjhUFwz%2Bh4Co%2BIF4%2FQq8D7kDQ0phE9rD2DNZruKQ%3D&labels=0\n",
      "https://cdn3.apple-mapkit.com/ti/tile?country=IN&region=IN&style=46&size=1&x=371323&y=219593&z=19&scale=1&lang=en&v=2008184&poi=0&accessKey=1597851377_6762113937655275830_%2F_%2F%2FdSjhUFwz%2Bh4Co%2BIF4%2FQq8D7kDQ0phE9rD2DNZruKQ%3D&labels=0\n",
      "https://cdn3.apple-mapkit.com/ti/tile?country=IN&region=IN&style=46&size=1&x=371327&y=219609&z=19&scale=1&lang=en&v=2008184&poi=0&accessKey=1597851377_6762113937655275830_%2F_%2F%2FdSjhUFwz%2Bh4Co%2BIF4%2FQq8D7kDQ0phE9rD2DNZruKQ%3D&labels=0\n",
      "https://cdn3.apple-mapkit.com/ti/tile?country=IN&region=IN&style=46&size=1&x=371325&y=219599&z=19&scale=1&lang=en&v=2008184&poi=0&accessKey=1597851377_6762113937655275830_%2F_%2F%2FdSjhUFwz%2Bh4Co%2BIF4%2FQq8D7kDQ0phE9rD2DNZruKQ%3D&labels=0\n",
      "https://cdn3.apple-mapkit.com/ti/tile?country=IN&region=IN&style=46&size=1&x=371326&y=219610&z=19&scale=1&lang=en&v=2008184&poi=0&accessKey=1597851377_6762113937655275830_%2F_%2F%2FdSjhUFwz%2Bh4Co%2BIF4%2FQq8D7kDQ0phE9rD2DNZruKQ%3D&labels=0\n"
     ]
    },
    {
     "name": "stderr",
     "output_type": "stream",
     "text": [
      " 85%|████████▌ | 81/95 [00:37<00:12,  1.14it/s]"
     ]
    },
    {
     "name": "stdout",
     "output_type": "stream",
     "text": [
      "https://cdn3.apple-mapkit.com/ti/tile?country=IN&region=IN&style=46&size=1&x=371320&y=219570&z=19&scale=1&lang=en&v=2008184&poi=0&accessKey=1597851377_6762113937655275830_%2F_%2F%2FdSjhUFwz%2Bh4Co%2BIF4%2FQq8D7kDQ0phE9rD2DNZruKQ%3D&labels=0\n",
      "https://cdn3.apple-mapkit.com/ti/tile?country=IN&region=IN&style=46&size=1&x=371327&y=219608&z=19&scale=1&lang=en&v=2008184&poi=0&accessKey=1597851377_6762113937655275830_%2F_%2F%2FdSjhUFwz%2Bh4Co%2BIF4%2FQq8D7kDQ0phE9rD2DNZruKQ%3D&labels=0\n",
      "https://cdn3.apple-mapkit.com/ti/tile?country=IN&region=IN&style=46&size=1&x=371325&y=219600&z=19&scale=1&lang=en&v=2008184&poi=0&accessKey=1597851377_6762113937655275830_%2F_%2F%2FdSjhUFwz%2Bh4Co%2BIF4%2FQq8D7kDQ0phE9rD2DNZruKQ%3D&labels=0\n",
      "https://cdn3.apple-mapkit.com/ti/tile?country=IN&region=IN&style=46&size=1&x=371320&y=219578&z=19&scale=1&lang=en&v=2008184&poi=0&accessKey=1597851377_6762113937655275830_%2F_%2F%2FdSjhUFwz%2Bh4Co%2BIF4%2FQq8D7kDQ0phE9rD2DNZruKQ%3D&labels=0\n",
      "https://cdn3.apple-mapkit.com/ti/tile?country=IN&region=IN&style=46&size=1&x=371319&y=219570&z=19&scale=1&lang=en&v=2008184&poi=0&accessKey=1597851377_6762113937655275830_%2F_%2F%2FdSjhUFwz%2Bh4Co%2BIF4%2FQq8D7kDQ0phE9rD2DNZruKQ%3D&labels=0\n",
      "https://cdn3.apple-mapkit.com/ti/tile?country=IN&region=IN&style=46&size=1&x=371326&y=219606&z=19&scale=1&lang=en&v=2008184&poi=0&accessKey=1597851377_6762113937655275830_%2F_%2F%2FdSjhUFwz%2Bh4Co%2BIF4%2FQq8D7kDQ0phE9rD2DNZruKQ%3D&labels=0\n",
      "https://cdn3.apple-mapkit.com/ti/tile?country=IN&region=IN&style=46&size=1&x=371321&y=219580&z=19&scale=1&lang=en&v=2008184&poi=0&accessKey=1597851377_6762113937655275830_%2F_%2F%2FdSjhUFwz%2Bh4Co%2BIF4%2FQq8D7kDQ0phE9rD2DNZruKQ%3D&labels=0\n",
      "https://cdn3.apple-mapkit.com/ti/tile?country=IN&region=IN&style=46&size=1&x=371323&y=219592&z=19&scale=1&lang=en&v=2008184&poi=0&accessKey=1597851377_6762113937655275830_%2F_%2F%2FdSjhUFwz%2Bh4Co%2BIF4%2FQq8D7kDQ0phE9rD2DNZruKQ%3D&labels=0\n",
      "https://cdn3.apple-mapkit.com/ti/tile?country=IN&region=IN&style=46&size=1&x=371319&y=219568&z=19&scale=1&lang=en&v=2008184&poi=0&accessKey=1597851377_6762113937655275830_%2F_%2F%2FdSjhUFwz%2Bh4Co%2BIF4%2FQq8D7kDQ0phE9rD2DNZruKQ%3D&labels=0\n"
     ]
    },
    {
     "name": "stderr",
     "output_type": "stream",
     "text": [
      "\r",
      " 86%|████████▋ | 82/95 [00:37<00:09,  1.31it/s]"
     ]
    },
    {
     "name": "stdout",
     "output_type": "stream",
     "text": [
      "https://cdn3.apple-mapkit.com/ti/tile?country=IN&region=IN&style=46&size=1&x=371324&y=219595&z=19&scale=1&lang=en&v=2008184&poi=0&accessKey=1597851377_6762113937655275830_%2F_%2F%2FdSjhUFwz%2Bh4Co%2BIF4%2FQq8D7kDQ0phE9rD2DNZruKQ%3D&labels=0\n",
      "https://cdn3.apple-mapkit.com/ti/tile?country=IN&region=IN&style=46&size=1&x=371320&y=219568&z=19&scale=1&lang=en&v=2008184&poi=0&accessKey=1597851377_6762113937655275830_%2F_%2F%2FdSjhUFwz%2Bh4Co%2BIF4%2FQq8D7kDQ0phE9rD2DNZruKQ%3D&labels=0\n",
      "https://cdn3.apple-mapkit.com/ti/tile?country=IN&region=IN&style=46&size=1&x=371328&y=219615&z=19&scale=1&lang=en&v=2008184&poi=0&accessKey=1597851377_6762113937655275830_%2F_%2F%2FdSjhUFwz%2Bh4Co%2BIF4%2FQq8D7kDQ0phE9rD2DNZruKQ%3D&labels=0\n",
      "https://cdn3.apple-mapkit.com/ti/tile?country=IN&region=IN&style=46&size=1&x=371327&y=219610&z=19&scale=1&lang=en&v=2008184&poi=0&accessKey=1597851377_6762113937655275830_%2F_%2F%2FdSjhUFwz%2Bh4Co%2BIF4%2FQq8D7kDQ0phE9rD2DNZruKQ%3D&labels=0\n",
      "https://cdn3.apple-mapkit.com/ti/tile?country=IN&region=IN&style=46&size=1&x=371328&y=219611&z=19&scale=1&lang=en&v=2008184&poi=0&accessKey=1597851377_6762113937655275830_%2F_%2F%2FdSjhUFwz%2Bh4Co%2BIF4%2FQq8D7kDQ0phE9rD2DNZruKQ%3D&labels=0\n",
      "https://cdn3.apple-mapkit.com/ti/tile?country=IN&region=IN&style=46&size=1&x=371328&y=219618&z=19&scale=1&lang=en&v=2008184&poi=0&accessKey=1597851377_6762113937655275830_%2F_%2F%2FdSjhUFwz%2Bh4Co%2BIF4%2FQq8D7kDQ0phE9rD2DNZruKQ%3D&labels=0\n",
      "https://cdn3.apple-mapkit.com/ti/tile?country=IN&region=IN&style=46&size=1&x=371323&y=219592&z=19&scale=1&lang=en&v=2008184&poi=0&accessKey=1597851377_6762113937655275830_%2F_%2F%2FdSjhUFwz%2Bh4Co%2BIF4%2FQq8D7kDQ0phE9rD2DNZruKQ%3D&labels=0\n"
     ]
    },
    {
     "name": "stderr",
     "output_type": "stream",
     "text": [
      "\r",
      " 87%|████████▋ | 83/95 [00:38<00:09,  1.28it/s]"
     ]
    },
    {
     "name": "stdout",
     "output_type": "stream",
     "text": [
      "https://cdn3.apple-mapkit.com/ti/tile?country=IN&region=IN&style=46&size=1&x=371321&y=219578&z=19&scale=1&lang=en&v=2008184&poi=0&accessKey=1597851377_6762113937655275830_%2F_%2F%2FdSjhUFwz%2Bh4Co%2BIF4%2FQq8D7kDQ0phE9rD2DNZruKQ%3D&labels=0\n",
      "https://cdn3.apple-mapkit.com/ti/tile?country=IN&region=IN&style=46&size=1&x=371320&y=219565&z=19&scale=1&lang=en&v=2008184&poi=0&accessKey=1597851377_6762113937655275830_%2F_%2F%2FdSjhUFwz%2Bh4Co%2BIF4%2FQq8D7kDQ0phE9rD2DNZruKQ%3D&labels=0\n",
      "https://cdn3.apple-mapkit.com/ti/tile?country=IN&region=IN&style=46&size=1&x=371320&y=219569&z=19&scale=1&lang=en&v=2008184&poi=0&accessKey=1597851377_6762113937655275830_%2F_%2F%2FdSjhUFwz%2Bh4Co%2BIF4%2FQq8D7kDQ0phE9rD2DNZruKQ%3D&labels=0\n",
      "https://cdn3.apple-mapkit.com/ti/tile?country=IN&region=IN&style=46&size=1&x=371327&y=219606&z=19&scale=1&lang=en&v=2008184&poi=0&accessKey=1597851377_6762113937655275830_%2F_%2F%2FdSjhUFwz%2Bh4Co%2BIF4%2FQq8D7kDQ0phE9rD2DNZruKQ%3D&labels=0https://cdn3.apple-mapkit.com/ti/tile?country=IN&region=IN&style=46&size=1&x=371327&y=219602&z=19&scale=1&lang=en&v=2008184&poi=0&accessKey=1597851377_6762113937655275830_%2F_%2F%2FdSjhUFwz%2Bh4Co%2BIF4%2FQq8D7kDQ0phE9rD2DNZruKQ%3D&labels=0https://cdn3.apple-mapkit.com/ti/tile?country=IN&region=IN&style=46&size=1&x=371324&y=219592&z=19&scale=1&lang=en&v=2008184&poi=0&accessKey=1597851377_6762113937655275830_%2F_%2F%2FdSjhUFwz%2Bh4Co%2BIF4%2FQq8D7kDQ0phE9rD2DNZruKQ%3D&labels=0\n",
      "https://cdn3.apple-mapkit.com/ti/tile?country=IN&region=IN&style=46&size=1&x=371319&y=219569&z=19&scale=1&lang=en&v=2008184&poi=0&accessKey=1597851377_6762113937655275830_%2F_%2F%2FdSjhUFwz%2Bh4Co%2BIF4%2FQq8D7kDQ0phE9rD2DNZruKQ%3D&labels=0\n",
      "https://cdn3.apple-mapkit.com/ti/tile?country=IN&region=IN&style=46&size=1&x=371328&y=219615&z=19&scale=1&lang=en&v=2008184&poi=0&accessKey=1597851377_6762113937655275830_%2F_%2F%2FdSjhUFwz%2Bh4Co%2BIF4%2FQq8D7kDQ0phE9rD2DNZruKQ%3D&labels=0\n",
      "https://cdn3.apple-mapkit.com/ti/tile?country=IN&region=IN&style=46&size=1&x=371328&y=219619&z=19&scale=1&lang=en&v=2008184&poi=0&accessKey=1597851377_6762113937655275830_%2F_%2F%2FdSjhUFwz%2Bh4Co%2BIF4%2FQq8D7kDQ0phE9rD2DNZruKQ%3D&labels=0\n",
      "\n",
      "\n"
     ]
    },
    {
     "name": "stderr",
     "output_type": "stream",
     "text": [
      "\r",
      " 88%|████████▊ | 84/95 [00:39<00:09,  1.19it/s]"
     ]
    },
    {
     "name": "stdout",
     "output_type": "stream",
     "text": [
      "https://cdn3.apple-mapkit.com/ti/tile?country=IN&region=IN&style=46&size=1&x=371326&y=219604&z=19&scale=1&lang=en&v=2008184&poi=0&accessKey=1597851377_6762113937655275830_%2F_%2F%2FdSjhUFwz%2Bh4Co%2BIF4%2FQq8D7kDQ0phE9rD2DNZruKQ%3D&labels=0https://cdn3.apple-mapkit.com/ti/tile?country=IN&region=IN&style=46&size=1&x=371326&y=219602&z=19&scale=1&lang=en&v=2008184&poi=0&accessKey=1597851377_6762113937655275830_%2F_%2F%2FdSjhUFwz%2Bh4Co%2BIF4%2FQq8D7kDQ0phE9rD2DNZruKQ%3D&labels=0\n",
      "https://cdn3.apple-mapkit.com/ti/tile?country=IN&region=IN&style=46&size=1&x=371328&y=219623&z=19&scale=1&lang=en&v=2008184&poi=0&accessKey=1597851377_6762113937655275830_%2F_%2F%2FdSjhUFwz%2Bh4Co%2BIF4%2FQq8D7kDQ0phE9rD2DNZruKQ%3D&labels=0\n",
      "\n",
      "https://cdn3.apple-mapkit.com/ti/tile?country=IN&region=IN&style=46&size=1&x=371328&y=219614&z=19&scale=1&lang=en&v=2008184&poi=0&accessKey=1597851377_6762113937655275830_%2F_%2F%2FdSjhUFwz%2Bh4Co%2BIF4%2FQq8D7kDQ0phE9rD2DNZruKQ%3D&labels=0\n",
      "https://cdn3.apple-mapkit.com/ti/tile?country=IN&region=IN&style=46&size=1&x=371328&y=219626&z=19&scale=1&lang=en&v=2008184&poi=0&accessKey=1597851377_6762113937655275830_%2F_%2F%2FdSjhUFwz%2Bh4Co%2BIF4%2FQq8D7kDQ0phE9rD2DNZruKQ%3D&labels=0\n",
      "https://cdn3.apple-mapkit.com/ti/tile?country=IN&region=IN&style=46&size=1&x=371328&y=219611&z=19&scale=1&lang=en&v=2008184&poi=0&accessKey=1597851377_6762113937655275830_%2F_%2F%2FdSjhUFwz%2Bh4Co%2BIF4%2FQq8D7kDQ0phE9rD2DNZruKQ%3D&labels=0\n",
      "https://cdn3.apple-mapkit.com/ti/tile?country=IN&region=IN&style=46&size=1&x=371328&y=219618&z=19&scale=1&lang=en&v=2008184&poi=0&accessKey=1597851377_6762113937655275830_%2F_%2F%2FdSjhUFwz%2Bh4Co%2BIF4%2FQq8D7kDQ0phE9rD2DNZruKQ%3D&labels=0\n",
      "https://cdn3.apple-mapkit.com/ti/tile?country=IN&region=IN&style=46&size=1&x=371328&y=219627&z=19&scale=1&lang=en&v=2008184&poi=0&accessKey=1597851377_6762113937655275830_%2F_%2F%2FdSjhUFwz%2Bh4Co%2BIF4%2FQq8D7kDQ0phE9rD2DNZruKQ%3D&labels=0https://cdn3.apple-mapkit.com/ti/tile?country=IN&region=IN&style=46&size=1&x=371327&y=219605&z=19&scale=1&lang=en&v=2008184&poi=0&accessKey=1597851377_6762113937655275830_%2F_%2F%2FdSjhUFwz%2Bh4Co%2BIF4%2FQq8D7kDQ0phE9rD2DNZruKQ%3D&labels=0\n",
      "https://cdn3.apple-mapkit.com/ti/tile?country=IN&region=IN&style=46&size=1&x=371328&y=219617&z=19&scale=1&lang=en&v=2008184&poi=0&accessKey=1597851377_6762113937655275830_%2F_%2F%2FdSjhUFwz%2Bh4Co%2BIF4%2FQq8D7kDQ0phE9rD2DNZruKQ%3D&labels=0\n",
      "\n",
      "https://cdn3.apple-mapkit.com/ti/tile?country=IN&region=IN&style=46&size=1&x=371326&y=219603&z=19&scale=1&lang=en&v=2008184&poi=0&accessKey=1597851377_6762113937655275830_%2F_%2F%2FdSjhUFwz%2Bh4Co%2BIF4%2FQq8D7kDQ0phE9rD2DNZruKQ%3D&labels=0\n",
      "https://cdn3.apple-mapkit.com/ti/tile?country=IN&region=IN&style=46&size=1&x=371325&y=219597&z=19&scale=1&lang=en&v=2008184&poi=0&accessKey=1597851377_6762113937655275830_%2F_%2F%2FdSjhUFwz%2Bh4Co%2BIF4%2FQq8D7kDQ0phE9rD2DNZruKQ%3D&labels=0https://cdn3.apple-mapkit.com/ti/tile?country=IN&region=IN&style=46&size=1&x=371319&y=219564&z=19&scale=1&lang=en&v=2008184&poi=0&accessKey=1597851377_6762113937655275830_%2F_%2F%2FdSjhUFwz%2Bh4Co%2BIF4%2FQq8D7kDQ0phE9rD2DNZruKQ%3D&labels=0\n",
      "https://cdn3.apple-mapkit.com/ti/tile?country=IN&region=IN&style=46&size=1&x=371328&y=219630&z=19&scale=1&lang=en&v=2008184&poi=0&accessKey=1597851377_6762113937655275830_%2F_%2F%2FdSjhUFwz%2Bh4Co%2BIF4%2FQq8D7kDQ0phE9rD2DNZruKQ%3D&labels=0\n",
      "https://cdn3.apple-mapkit.com/ti/tile?country=IN&region=IN&style=46&size=1&x=371328&y=219623&z=19&scale=1&lang=en&v=2008184&poi=0&accessKey=1597851377_6762113937655275830_%2F_%2F%2FdSjhUFwz%2Bh4Co%2BIF4%2FQq8D7kDQ0phE9rD2DNZruKQ%3D&labels=0\n",
      "\n",
      "https://cdn3.apple-mapkit.com/ti/tile?country=IN&region=IN&style=46&size=1&x=371328&y=219612&z=19&scale=1&lang=en&v=2008184&poi=0&accessKey=1597851377_6762113937655275830_%2F_%2F%2FdSjhUFwz%2Bh4Co%2BIF4%2FQq8D7kDQ0phE9rD2DNZruKQ%3D&labels=0\n",
      "https://cdn3.apple-mapkit.com/ti/tile?country=IN&region=IN&style=46&size=1&x=371328&y=219619&z=19&scale=1&lang=en&v=2008184&poi=0&accessKey=1597851377_6762113937655275830_%2F_%2F%2FdSjhUFwz%2Bh4Co%2BIF4%2FQq8D7kDQ0phE9rD2DNZruKQ%3D&labels=0\n",
      "https://cdn3.apple-mapkit.com/ti/tile?country=IN&region=IN&style=46&size=1&x=371326&y=219599&z=19&scale=1&lang=en&v=2008184&poi=0&accessKey=1597851377_6762113937655275830_%2F_%2F%2FdSjhUFwz%2Bh4Co%2BIF4%2FQq8D7kDQ0phE9rD2DNZruKQ%3D&labels=0\n",
      "https://cdn3.apple-mapkit.com/ti/tile?country=IN&region=IN&style=46&size=1&x=371328&y=219625&z=19&scale=1&lang=en&v=2008184&poi=0&accessKey=1597851377_6762113937655275830_%2F_%2F%2FdSjhUFwz%2Bh4Co%2BIF4%2FQq8D7kDQ0phE9rD2DNZruKQ%3D&labels=0\n",
      "https://cdn3.apple-mapkit.com/ti/tile?country=IN&region=IN&style=46&size=1&x=371328&y=219627&z=19&scale=1&lang=en&v=2008184&poi=0&accessKey=1597851377_6762113937655275830_%2F_%2F%2FdSjhUFwz%2Bh4Co%2BIF4%2FQq8D7kDQ0phE9rD2DNZruKQ%3D&labels=0\n",
      "https://cdn3.apple-mapkit.com/ti/tile?country=IN&region=IN&style=46&size=1&x=371322&y=219580&z=19&scale=1&lang=en&v=2008184&poi=0&accessKey=1597851377_6762113937655275830_%2F_%2F%2FdSjhUFwz%2Bh4Co%2BIF4%2FQq8D7kDQ0phE9rD2DNZruKQ%3D&labels=0\n",
      "https://cdn3.apple-mapkit.com/ti/tile?country=IN&region=IN&style=46&size=1&x=371320&y=219564&z=19&scale=1&lang=en&v=2008184&poi=0&accessKey=1597851377_6762113937655275830_%2F_%2F%2FdSjhUFwz%2Bh4Co%2BIF4%2FQq8D7kDQ0phE9rD2DNZruKQ%3D&labels=0\n",
      "https://cdn3.apple-mapkit.com/ti/tile?country=IN&region=IN&style=46&size=1&x=371328&y=219630&z=19&scale=1&lang=en&v=2008184&poi=0&accessKey=1597851377_6762113937655275830_%2F_%2F%2FdSjhUFwz%2Bh4Co%2BIF4%2FQq8D7kDQ0phE9rD2DNZruKQ%3D&labels=0\n",
      "https://cdn3.apple-mapkit.com/ti/tile?country=IN&region=IN&style=46&size=1&x=371328&y=219616&z=19&scale=1&lang=en&v=2008184&poi=0&accessKey=1597851377_6762113937655275830_%2F_%2F%2FdSjhUFwz%2Bh4Co%2BIF4%2FQq8D7kDQ0phE9rD2DNZruKQ%3D&labels=0https://cdn3.apple-mapkit.com/ti/tile?country=IN&region=IN&style=46&size=1&x=371323&y=219590&z=19&scale=1&lang=en&v=2008184&poi=0&accessKey=1597851377_6762113937655275830_%2F_%2F%2FdSjhUFwz%2Bh4Co%2BIF4%2FQq8D7kDQ0phE9rD2DNZruKQ%3D&labels=0https://cdn3.apple-mapkit.com/ti/tile?country=IN&region=IN&style=46&size=1&x=371328&y=219607&z=19&scale=1&lang=en&v=2008184&poi=0&accessKey=1597851377_6762113937655275830_%2F_%2F%2FdSjhUFwz%2Bh4Co%2BIF4%2FQq8D7kDQ0phE9rD2DNZruKQ%3D&labels=0\n",
      "\n",
      "https://cdn3.apple-mapkit.com/ti/tile?country=IN&region=IN&style=46&size=1&x=371319&y=219565&z=19&scale=1&lang=en&v=2008184&poi=0&accessKey=1597851377_6762113937655275830_%2F_%2F%2FdSjhUFwz%2Bh4Co%2BIF4%2FQq8D7kDQ0phE9rD2DNZruKQ%3D&labels=0\n",
      "https://cdn3.apple-mapkit.com/ti/tile?country=IN&region=IN&style=46&size=1&x=371322&y=219583&z=19&scale=1&lang=en&v=2008184&poi=0&accessKey=1597851377_6762113937655275830_%2F_%2F%2FdSjhUFwz%2Bh4Co%2BIF4%2FQq8D7kDQ0phE9rD2DNZruKQ%3D&labels=0\n",
      "\n",
      "https://cdn3.apple-mapkit.com/ti/tile?country=IN&region=IN&style=46&size=1&x=371328&y=219624&z=19&scale=1&lang=en&v=2008184&poi=0&accessKey=1597851377_6762113937655275830_%2F_%2F%2FdSjhUFwz%2Bh4Co%2BIF4%2FQq8D7kDQ0phE9rD2DNZruKQ%3D&labels=0\n",
      "https://cdn3.apple-mapkit.com/ti/tile?country=IN&region=IN&style=46&size=1&x=371322&y=219583&z=19&scale=1&lang=en&v=2008184&poi=0&accessKey=1597851377_6762113937655275830_%2F_%2F%2FdSjhUFwz%2Bh4Co%2BIF4%2FQq8D7kDQ0phE9rD2DNZruKQ%3D&labels=0\n",
      "https://cdn3.apple-mapkit.com/ti/tile?country=IN&region=IN&style=46&size=1&x=371327&y=219607&z=19&scale=1&lang=en&v=2008184&poi=0&accessKey=1597851377_6762113937655275830_%2F_%2F%2FdSjhUFwz%2Bh4Co%2BIF4%2FQq8D7kDQ0phE9rD2DNZruKQ%3D&labels=0\n",
      "https://cdn3.apple-mapkit.com/ti/tile?country=IN&region=IN&style=46&size=1&x=371328&y=219621&z=19&scale=1&lang=en&v=2008184&poi=0&accessKey=1597851377_6762113937655275830_%2F_%2F%2FdSjhUFwz%2Bh4Co%2BIF4%2FQq8D7kDQ0phE9rD2DNZruKQ%3D&labels=0\n"
     ]
    }
   ],
   "source": [
    "a.download()"
   ]
  },
  {
   "cell_type": "code",
   "execution_count": null,
   "metadata": {},
   "outputs": [],
   "source": []
  },
  {
   "cell_type": "code",
   "execution_count": 6,
   "metadata": {},
   "outputs": [
    {
     "data": {
      "text/plain": [
       "(371317, 219631)"
      ]
     },
     "execution_count": 6,
     "metadata": {},
     "output_type": "execute_result"
    }
   ],
   "source": []
  },
  {
   "cell_type": "code",
   "execution_count": null,
   "metadata": {},
   "outputs": [],
   "source": []
  },
  {
   "cell_type": "code",
   "execution_count": null,
   "metadata": {},
   "outputs": [],
   "source": []
  },
  {
   "cell_type": "code",
   "execution_count": null,
   "metadata": {},
   "outputs": [],
   "source": []
  }
 ],
 "metadata": {
  "kernelspec": {
   "display_name": "Python 3",
   "language": "python",
   "name": "python3"
  },
  "language_info": {
   "codemirror_mode": {
    "name": "ipython",
    "version": 3
   },
   "file_extension": ".py",
   "mimetype": "text/x-python",
   "name": "python",
   "nbconvert_exporter": "python",
   "pygments_lexer": "ipython3",
   "version": "3.6.9"
  }
 },
 "nbformat": 4,
 "nbformat_minor": 4
}
