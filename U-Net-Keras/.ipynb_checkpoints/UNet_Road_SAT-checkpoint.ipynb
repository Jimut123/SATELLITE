{
 "cells": [
  {
   "cell_type": "code",
   "execution_count": null,
   "metadata": {
    "colab": {},
    "colab_type": "code",
    "id": "mnYg_w-CAW86"
   },
   "outputs": [],
   "source": [
    "a = []\n",
    "while True:\n",
    "  a.append([\"lot\"])"
   ]
  },
  {
   "cell_type": "code",
   "execution_count": 19,
   "metadata": {
    "colab": {
     "base_uri": "https://localhost:8080/",
     "height": 110
    },
    "colab_type": "code",
    "id": "ijNIkvIqCcHH",
    "outputId": "c34fc388-9fca-44ed-f92c-921c93375bec"
   },
   "outputs": [
    {
     "name": "stdout",
     "output_type": "stream",
     "text": [
      "2020-07-21 20:21:32.290320: I tensorflow/stream_executor/platform/default/dso_loader.cc:44] Successfully opened dynamic library libcudart.so.10.1\n",
      "Serving TensorBoard on localhost; to expose to the network, use a proxy or pass --bind_all\n",
      "TensorBoard 2.2.2 at http://localhost:6006/ (Press CTRL+C to quit)\n",
      "^C\n"
     ]
    }
   ],
   "source": [
    "! python -m tensorboard.main --logdir=/path/to/logs"
   ]
  },
  {
   "cell_type": "code",
   "execution_count": 1,
   "metadata": {
    "colab": {
     "base_uri": "https://localhost:8080/",
     "height": 238
    },
    "colab_type": "code",
    "id": "RAiDmm-W4ESJ",
    "outputId": "77a3189b-df96-49d3-eaf3-926db0610292"
   },
   "outputs": [
    {
     "name": "stdout",
     "output_type": "stream",
     "text": [
      "--2020-07-21 19:37:50--  https://people.eecs.berkeley.edu/~tinghuiz/projects/pix2pix/datasets/maps.tar.gz\n",
      "Resolving people.eecs.berkeley.edu (people.eecs.berkeley.edu)... 128.32.189.73\n",
      "Connecting to people.eecs.berkeley.edu (people.eecs.berkeley.edu)|128.32.189.73|:443... connected.\n",
      "HTTP request sent, awaiting response... 200 OK\n",
      "Length: 250242400 (239M) [application/x-gzip]\n",
      "Saving to: ‘maps.tar.gz’\n",
      "\n",
      "maps.tar.gz         100%[===================>] 238.65M  20.2MB/s    in 13s     \n",
      "\n",
      "2020-07-21 19:38:04 (19.1 MB/s) - ‘maps.tar.gz’ saved [250242400/250242400]\n",
      "\n"
     ]
    }
   ],
   "source": [
    "! wget \"https://people.eecs.berkeley.edu/~tinghuiz/projects/pix2pix/datasets/maps.tar.gz\"\n",
    "! tar -xf maps.tar.gz > /dev/null"
   ]
  },
  {
   "cell_type": "code",
   "execution_count": 1,
   "metadata": {
    "colab": {
     "base_uri": "https://localhost:8080/",
     "height": 35
    },
    "colab_type": "code",
    "id": "47WN9nVK47tj",
    "outputId": "377fe413-72c6-4446-845a-0f2709cc9c29"
   },
   "outputs": [
    {
     "name": "stdout",
     "output_type": "stream",
     "text": [
      "1096\n"
     ]
    }
   ],
   "source": [
    "import glob\n",
    "png_files = glob.glob('maps/train/*.jpg')\n",
    "print(len(png_files))"
   ]
  },
  {
   "cell_type": "code",
   "execution_count": 2,
   "metadata": {
    "colab": {
     "base_uri": "https://localhost:8080/",
     "height": 35
    },
    "colab_type": "code",
    "id": "1QA__7YI4aKD",
    "outputId": "191fb6ec-612a-429c-9df2-c48061330a89"
   },
   "outputs": [
    {
     "name": "stderr",
     "output_type": "stream",
     "text": [
      "Using TensorFlow backend.\n"
     ]
    }
   ],
   "source": [
    "import cv2\n",
    "from PIL import Image\n",
    "import numpy as np\n",
    "import h5py\n",
    "\n",
    "import os\n",
    "import cv2\n",
    "import glob\n",
    "import random\n",
    "from tqdm import tqdm\n",
    "import pandas as pd\n",
    "import numpy as np\n",
    "import matplotlib.pyplot as plt\n",
    "plt.style.use(\"ggplot\")\n",
    "%matplotlib inline\n",
    "\n",
    "from tqdm import tqdm_notebook, tnrange\n",
    "from itertools import chain\n",
    "from skimage.io import imread, imshow, concatenate_images\n",
    "from skimage.transform import resize\n",
    "from skimage.morphology import label\n",
    "from sklearn.model_selection import train_test_split\n",
    "\n",
    "import tensorflow as tf\n",
    "\n",
    "from keras.models import Model, load_model\n",
    "from keras.layers import Input, BatchNormalization, Activation, Dense, Dropout, UpSampling2D\n",
    "from keras.layers.core import Lambda, RepeatVector, Reshape\n",
    "from keras.layers.convolutional import Conv2D, Conv2DTranspose\n",
    "from keras.layers.pooling import MaxPooling2D, GlobalMaxPool2D\n",
    "from keras.layers.merge import concatenate, add\n",
    "from keras.callbacks import EarlyStopping, ModelCheckpoint, ReduceLROnPlateau\n",
    "from keras.optimizers import Adam\n",
    "from keras.preprocessing.image import ImageDataGenerator, array_to_img, img_to_array, load_img\n",
    "import warnings\n",
    "warnings.filterwarnings('ignore')"
   ]
  },
  {
   "cell_type": "code",
   "execution_count": 3,
   "metadata": {
    "colab": {
     "base_uri": "https://localhost:8080/",
     "height": 54
    },
    "colab_type": "code",
    "id": "_ej4SSL15QLZ",
    "outputId": "d2963902-c716-4977-8281-8b35893efacb"
   },
   "outputs": [
    {
     "name": "stdout",
     "output_type": "stream",
     "text": [
      "mkdir: cannot create directory ‘mask_train’: File exists\n",
      "mkdir: cannot create directory ‘images_train’: File exists\n"
     ]
    }
   ],
   "source": [
    "! mkdir mask_train\n",
    "! mkdir images_train"
   ]
  },
  {
   "cell_type": "code",
   "execution_count": 7,
   "metadata": {
    "colab": {
     "base_uri": "https://localhost:8080/",
     "height": 35
    },
    "colab_type": "code",
    "id": "0vw-jA5x5loN",
    "outputId": "3be3335e-b6b7-4d06-f847-f85b262fa250"
   },
   "outputs": [
    {
     "name": "stderr",
     "output_type": "stream",
     "text": [
      "100%|██████████| 1096/1096 [00:20<00:00, 52.76it/s]\n"
     ]
    }
   ],
   "source": [
    "\n",
    "counter = 1\n",
    "for item in tqdm(png_files):\n",
    "  #print(item)\n",
    "  #print(str(item.split('.')[0]).split('/')[-1])\n",
    "  dim = (256, 256) #(w,h)\n",
    "  img = cv2.imread(item,cv2.IMREAD_UNCHANGED)\n",
    "  img_o = img[0:600,0:600]\n",
    "  img_t = img[0:600,600:1200] # the mask image\n",
    "  img_t = cv2.resize(img_t, dim, interpolation=cv2.INTER_AREA)\n",
    "  img_o = cv2.resize(img_o, dim, interpolation=cv2.INTER_AREA)\n",
    "  cv2.imwrite('images_train/' + str(counter) + '.jpg', img_o)\n",
    "  img_t = cv2.cvtColor(img_t, cv2.COLOR_BGR2GRAY)\n",
    "  ret,thresh1 = cv2.threshold(img_t,245,255,cv2.THRESH_BINARY)\n",
    "  cv2.imwrite('mask_train/' + str(counter) + '.jpg', thresh1)\n",
    "  # plt.imshow(img_o)\n",
    "  # plt.show()\n",
    "  # break100%|__________________________________________________________________________________________________________________________________________________________________| 2193/2193 [00:03<00:00, 672.22it/s]\n",
    "******************************\n",
    "Loading and preprocessing train data...\n",
    "******************************\n",
    "******************************\n",
    "Creating and compiling model...\n",
    "******************************\n",
    "2020-07-22 02:21:00.827079: I tensorflow/stream_executor/platform/default/dso_loader.cc:44] Successfully opened dynamic library libcuda.so.1\n",
    "2020-07-22 02:21:00.844584: I tensorflow/stream_executor/cuda/cuda_gpu_executor.cc:981] s\n",
    "  counter += 1"
   ]
  },
  {
   "cell_type": "code",
   "execution_count": 8,
   "metadata": {
    "colab": {
     "base_uri": "https://localhost:8080/",
     "height": 35
    },
    "colab_type": "code",
    "id": "PUIQ4bYT9VsK",
    "outputId": "9bf5751c-c29b-46d3-b6d6-37f779e99c8b"
   },
   "outputs": [
    {
     "name": "stdout",
     "output_type": "stream",
     "text": [
      "1098\n"
     ]
    }
   ],
   "source": [
    "png_files = glob.glob('maps/val/*.jpg')\n",
    "print(len(png_files))"
   ]
  },
  {
   "cell_type": "code",
   "execution_count": 9,
   "metadata": {
    "colab": {
     "base_uri": "https://localhost:8080/",
     "height": 35
    },
    "colab_type": "code",
    "id": "qCV3I2iY9VpC",
    "outputId": "1a60de7a-501c-41ad-da63-8fb643f81d88"
   },
   "outputs": [
    {
     "name": "stderr",
     "output_type": "stream",
     "text": [
      "100%|██████████| 1098/1098 [00:22<00:00, 47.98it/s]\n"
     ]
    }
   ],
   "source": [
    "\n",
    "for item in tqdm(png_files):\n",
    "  #print(item)\n",
    "  #print(str(item.split('.')[0]).split('/')[-1])\n",
    "  dim = (256, 256) #(w,h)\n",
    "  img = cv2.imread(item,cv2.IMREAD_UNCHANGED)\n",
    "  img_o = img[0:600,0:600]\n",
    "  img_t = img[0:600,600:1200] # the mask image\n",
    "  img_t = cv2.resize(img_t, dim, interpolation=cv2.INTER_AREA)\n",
    "  img_o = cv2.resize(img_o, dim, interpolation=cv2.INTER_AREA)\n",
    "  cv2.imwrite('images_train/' + str(counter) + '.jpg', img_o)\n",
    "  img_t = cv2.cvtColor(img_t, cv2.COLOR_BGR2GRAY)\n",
    "  ret,thresh1 = cv2.threshold(img_t,245,255,cv2.THRESH_BINARY)\n",
    "  cv2.imwrite('mask_train/' + str(counter) + '.jpg', thresh1)\n",
    "  # plt.imshow(thresh1)\n",
    "  # plt.show()\n",
    "  # break\n",
    "  counter += 1"
   ]
  },
  {
   "cell_type": "code",
   "execution_count": 10,
   "metadata": {
    "colab": {
     "base_uri": "https://localhost:8080/",
     "height": 35
    },
    "colab_type": "code",
    "id": "MwPmLo-49Vmv",
    "outputId": "e2de6ac4-653e-4932-8a1e-2a1621376c9d"
   },
   "outputs": [
    {
     "name": "stdout",
     "output_type": "stream",
     "text": [
      "2194\n"
     ]
    }
   ],
   "source": [
    "png_files = glob.glob('mask_train/*.jpg')\n",
    "print(len(png_files))"
   ]
  },
  {
   "cell_type": "code",
   "execution_count": 11,
   "metadata": {
    "colab": {
     "base_uri": "https://localhost:8080/",
     "height": 35
    },
    "colab_type": "code",
    "id": "eTsx57Gy9Vjt",
    "outputId": "8187ca6d-44b6-4179-e543-ab6ccddb2856"
   },
   "outputs": [
    {
     "name": "stdout",
     "output_type": "stream",
     "text": [
      "2194\n"
     ]
    }
   ],
   "source": [
    "png_files = glob.glob('images_train/*.jpg')\n",
    "print(len(png_files))"
   ]
  },
  {
   "cell_type": "code",
   "execution_count": 12,
   "metadata": {
    "colab": {
     "base_uri": "https://localhost:8080/",
     "height": 35
    },
    "colab_type": "code",
    "id": "NuW3ekxP4co2",
    "outputId": "ea7fde67-28c6-44b6-f91e-f63444d8a351"
   },
   "outputs": [
    {
     "name": "stderr",
     "output_type": "stream",
     "text": [
      "100%|██████████| 2193/2193 [00:05<00:00, 398.72it/s]\n"
     ]
    }
   ],
   "source": [
    "images = []\n",
    "masks = []\n",
    "for i in tqdm(range(1, 2194)):\n",
    "    img = Image.open(\"images_train/\" + str(i) + \".jpg\")\n",
    "    arr = np.array(img)\n",
    "    images.append(arr)\n",
    "    img = Image.open(\"mask_train/\" + str(i) + \".jpg\")\n",
    "    arr = np.array(img)\n",
    "    arr = np.expand_dims(arr, -1)\n",
    "    masks.append(arr)"
   ]
  },
  {
   "cell_type": "code",
   "execution_count": 13,
   "metadata": {
    "colab": {
     "base_uri": "https://localhost:8080/",
     "height": 35
    },
    "colab_type": "code",
    "id": "PsdphGfJ-WMb",
    "outputId": "d6e851fe-a235-4851-c917-d0ddfbac0c95"
   },
   "outputs": [
    {
     "data": {
      "text/plain": [
       "(2193, 256, 256, 1)"
      ]
     },
     "execution_count": 13,
     "metadata": {
      "tags": []
     },
     "output_type": "execute_result"
    }
   ],
   "source": [
    "images = np.array(images)\n",
    "masks = np.array(masks)\n",
    "masks.shape\n"
   ]
  },
  {
   "cell_type": "code",
   "execution_count": 14,
   "metadata": {
    "colab": {},
    "colab_type": "code",
    "id": "qvBrIjOM-W0D"
   },
   "outputs": [],
   "source": [
    "with h5py.File(\"Dataset_train.h5\", 'w') as hdf:\n",
    "    hdf.create_dataset('images', data=images, compression='gzip', compression_opts=9)\n",
    "    hdf.create_dataset('masks', data=masks, compression='gzip', compression_opts=9)"
   ]
  },
  {
   "cell_type": "code",
   "execution_count": 16,
   "metadata": {
    "colab": {
     "base_uri": "https://localhost:8080/",
     "height": 394
    },
    "colab_type": "code",
    "id": "9C8uXOpS-Ww0",
    "outputId": "0ae91b92-cd29-4b6e-e4fc-da8a7e4d7056"
   },
   "outputs": [
    {
     "ename": "ImportError",
     "evalue": "ignored",
     "output_type": "error",
     "traceback": [
      "\u001b[0;31m---------------------------------------------------------------------------\u001b[0m",
      "\u001b[0;31mImportError\u001b[0m                               Traceback (most recent call last)",
      "\u001b[0;32m<ipython-input-16-2c7f2a5cfe80>\u001b[0m in \u001b[0;36m<module>\u001b[0;34m()\u001b[0m\n\u001b[1;32m      6\u001b[0m \u001b[0;32mfrom\u001b[0m \u001b[0mkeras\u001b[0m\u001b[0;34m.\u001b[0m\u001b[0mlayers\u001b[0m \u001b[0;32mimport\u001b[0m \u001b[0;34m*\u001b[0m\u001b[0;34m\u001b[0m\u001b[0;34m\u001b[0m\u001b[0m\n\u001b[1;32m      7\u001b[0m \u001b[0;32mfrom\u001b[0m \u001b[0mkeras\u001b[0m\u001b[0;34m.\u001b[0m\u001b[0moptimizers\u001b[0m \u001b[0;32mimport\u001b[0m \u001b[0;34m*\u001b[0m\u001b[0;34m\u001b[0m\u001b[0;34m\u001b[0m\u001b[0m\n\u001b[0;32m----> 8\u001b[0;31m \u001b[0;32mfrom\u001b[0m \u001b[0mkeras\u001b[0m\u001b[0;34m.\u001b[0m\u001b[0mcallbacks\u001b[0m \u001b[0;32mimport\u001b[0m \u001b[0mModelCheckpoint\u001b[0m\u001b[0;34m,\u001b[0m \u001b[0mTensorboard\u001b[0m\u001b[0;34m\u001b[0m\u001b[0;34m\u001b[0m\u001b[0m\n\u001b[0m\u001b[1;32m      9\u001b[0m \u001b[0;32mfrom\u001b[0m \u001b[0mkeras\u001b[0m \u001b[0;32mimport\u001b[0m \u001b[0mbackend\u001b[0m \u001b[0;32mas\u001b[0m \u001b[0mkeras\u001b[0m\u001b[0;34m\u001b[0m\u001b[0;34m\u001b[0m\u001b[0m\n\u001b[1;32m     10\u001b[0m \u001b[0;34m\u001b[0m\u001b[0m\n",
      "\u001b[0;31mImportError\u001b[0m: cannot import name 'Tensorboard'",
      "",
      "\u001b[0;31m---------------------------------------------------------------------------\u001b[0;32m\nNOTE: If your import is failing due to a missing package, you can\nmanually install dependencies using either !pip or !apt.\n\nTo view examples of installing some common dependencies, click the\n\"Open Examples\" button below.\n\u001b[0;31m---------------------------------------------------------------------------\u001b[0m\n"
     ]
    }
   ],
   "source": [
    "# import numpy as np \n",
    "# import os\n",
    "# import cv2\n",
    "\n",
    "# from keras.models import *\n",
    "# from keras.layers import *\n",
    "# from keras.optimizers import *\n",
    "# from keras.callbacks import ModelCheckpoint, Tensorboard\n",
    "# from keras import backend as keras\n",
    "\n",
    "# import matplotlib.pyplot as plt"
   ]
  },
  {
   "cell_type": "code",
   "execution_count": 20,
   "metadata": {
    "colab": {},
    "colab_type": "code",
    "id": "Q1OCUORF-eaJ"
   },
   "outputs": [],
   "source": [
    "def unet(input_size = (256, 256, 3)):\n",
    "    inputs = Input(input_size)\n",
    "    conv1 = Conv2D(64, 3, activation = 'relu', padding = 'same', \n",
    "                                               kernel_initializer = 'he_normal'\n",
    "                                               )(inputs)\n",
    "    \n",
    "    conv1 = Conv2D(64, 3, activation = 'relu', padding = 'same', \n",
    "                                               kernel_initializer = 'he_normal'\n",
    "                                               )(conv1)\n",
    "    \n",
    "    pool1 = MaxPooling2D(pool_size=(2, 2))(conv1)\n",
    "    \n",
    "    conv2 = Conv2D(128, 3, activation = 'relu', padding = 'same', \n",
    "                                                kernel_initializer = 'he_normal'\n",
    "                                                )(pool1)\n",
    "    \n",
    "    conv2 = Conv2D(128, 3, activation = 'relu', padding = 'same', \n",
    "                                                kernel_initializer = 'he_normal'\n",
    "                                                )(conv2)\n",
    "    \n",
    "    pool2 = MaxPooling2D(pool_size=(2, 2))(conv2)\n",
    "    \n",
    "    conv3 = Conv2D(256, 3, activation = 'relu', padding = 'same', \n",
    "                                                kernel_initializer = 'he_normal'\n",
    "                                                )(pool2)\n",
    "    \n",
    "    conv3 = Conv2D(256, 3, activation = 'relu', padding = 'same',\n",
    "                                                kernel_initializer = 'he_normal'\n",
    "                                                )(conv3)\n",
    "    \n",
    "    pool3 = MaxPooling2D(pool_size=(2, 2))(conv3)\n",
    "    \n",
    "    conv4 = Conv2D(512, 3, activation = 'relu', padding = 'same', \n",
    "                                                kernel_initializer = 'he_normal'\n",
    "                                                )(pool3)\n",
    "    \n",
    "    conv4 = Conv2D(512, 3, activation = 'relu', padding = 'same', \n",
    "                                                kernel_initializer = 'he_normal'\n",
    "                                                )(conv4)\n",
    "    \n",
    "    drop4 = Dropout(0.5)(conv4)\n",
    "    \n",
    "    pool4 = MaxPooling2D(pool_size=(2, 2))(drop4)\n",
    "\n",
    "    conv5 = Conv2D(1024, 3, activation = 'relu', padding = 'same', \n",
    "                                                 kernel_initializer = 'he_normal'\n",
    "                                                 )(pool4)\n",
    "    \n",
    "    conv5 = Conv2D(1024, 3, activation = 'relu', padding = 'same', \n",
    "                                                 kernel_initializer = 'he_normal'\n",
    "                                                 )(conv5)\n",
    "    \n",
    "    drop5 = Dropout(0.5)(conv5)\n",
    "\n",
    "    up6 = Conv2D(512, 2, activation = 'relu', padding = 'same', \n",
    "                                              kernel_initializer = 'he_normal'\n",
    "                                              )(UpSampling2D(size = (2,2))(drop5))\n",
    "    \n",
    "    merge6 = concatenate([drop4,up6])\n",
    "    \n",
    "    conv6 = Conv2D(512, 3, activation = 'relu', padding = 'same',\n",
    "                                                kernel_initializer = 'he_normal'\n",
    "                                                )(merge6)\n",
    "    \n",
    "    conv6 = Conv2D(512, 3, activation = 'relu', padding = 'same',\n",
    "                                                kernel_initializer = 'he_normal'\n",
    "                                                )(conv6)\n",
    "\n",
    "    up7 = Conv2D(256, 2, activation = 'relu', padding = 'same',\n",
    "                                              kernel_initializer = 'he_normal'\n",
    "                                              )(UpSampling2D(size = (2,2))(conv6))\n",
    "    \n",
    "    merge7 = concatenate([conv3,up7])\n",
    "    \n",
    "    conv7 = Conv2D(256, 3, activation = 'relu', padding = 'same',\n",
    "                                                kernel_initializer = 'he_normal'\n",
    "                                                )(merge7)\n",
    "    \n",
    "    conv7 = Conv2D(256, 3, activation = 'relu', padding = 'same', kernel_initializer = 'he_normal'\n",
    "                                                )(conv7)\n",
    "\n",
    "    \n",
    "    up8 = Conv2D(128, 2, activation = 'relu', padding = 'same',\n",
    "                                              kernel_initializer = 'he_normal'\n",
    "                                              )(UpSampling2D(size = (2,2))(conv7))\n",
    "    \n",
    "    merge8 = concatenate([conv2,up8])\n",
    "    \n",
    "    conv8 = Conv2D(128, 3, activation = 'relu', padding = 'same',\n",
    "                                                kernel_initializer = 'he_normal'\n",
    "                                                )(merge8)\n",
    "    \n",
    "    conv8 = Conv2D(128, 3, activation = 'relu', padding = 'same',\n",
    "                                                kernel_initializer = 'he_normal'\n",
    "                                                )(conv8)\n",
    "\n",
    "    up9 = Conv2D(64, 2, activation = 'relu', padding = 'same',\n",
    "                                             kernel_initializer = 'he_normal'\n",
    "                                             )(UpSampling2D(size = (2,2))(conv8))\n",
    "    \n",
    "    merge9 = concatenate([conv1,up9])\n",
    "    \n",
    "    conv9 = Conv2D(64, 3, activation = 'relu', padding = 'same',\n",
    "                                               kernel_initializer = 'he_normal'\n",
    "                                               )(merge9)\n",
    "    \n",
    "    conv9 = Conv2D(64, 3, activation = 'relu', padding = 'same',\n",
    "                                               kernel_initializer = 'he_normal'\n",
    "                                               )(conv9)\n",
    "    \n",
    "    conv9 = Conv2D(2, 3, activation = 'relu', padding = 'same',\n",
    "                                              kernel_initializer = 'he_normal'\n",
    "                                              )(conv9)\n",
    "    \n",
    "    conv10 = Conv2D(1, 1, activation = 'sigmoid')(conv9)\n",
    "\n",
    "    model = Model(inputs = inputs, outputs = conv10)\n",
    "\n",
    "    model.compile(optimizer = Adam(lr = 1e-3), loss = 'binary_crossentropy', metrics = ['accuracy'])\n",
    "    \n",
    "    \n",
    "    return model"
   ]
  },
  {
   "cell_type": "code",
   "execution_count": null,
   "metadata": {
    "colab": {},
    "colab_type": "code",
    "id": "ffb8xcIqC2FX"
   },
   "outputs": [],
   "source": [
    "callbacks = [\n",
    "    EarlyStopping(patience=10, verbose=1),\n",
    "    ReduceLROnPlateau(factor=0.1, patience=5, min_lr=0.0001, verbose=1),\n",
    "    ModelCheckpoint('UNetRoads.h5', verbose=1, save_best_only=True, save_weights_only=True)\n",
    "]\n"
   ]
  },
  {
   "cell_type": "code",
   "execution_count": 22,
   "metadata": {
    "colab": {
     "base_uri": "https://localhost:8080/",
     "height": 127
    },
    "colab_type": "code",
    "id": "4_T-nvKpCwAv",
    "outputId": "0482060b-05ce-4bd5-c98f-9793d5b8f7b7"
   },
   "outputs": [
    {
     "name": "stdout",
     "output_type": "stream",
     "text": [
      "******************************\n",
      "Loading and preprocessing train data...\n",
      "******************************\n",
      "******************************\n",
      "Creating and compiling model...\n",
      "******************************\n"
     ]
    }
   ],
   "source": [
    "print('*'*30)\n",
    "print('Loading and preprocessing train data...')\n",
    "print('*'*30)\n",
    "file = h5py.File('Dataset_train.h5', 'r')\n",
    "imgs_train = file.get('images')\n",
    "imgs_mask_train = file.get('masks')\n",
    "imgs_train = np.array(imgs_train)\n",
    "imgs_mask_train = np.array(imgs_mask_train)\n",
    "\n",
    "imgs_train = imgs_train.astype('float32')\n",
    "mean = np.mean(imgs_train)  # mean for data centering\n",
    "std = np.std(imgs_train)  # std for data normalization\n",
    "\n",
    "imgs_train -= mean\n",
    "imgs_train /= std\n",
    "\n",
    "imgs_mask_train = imgs_mask_train.astype('float32')\n",
    "imgs_mask_train /= 255  # scale masks to [0, 1]\n",
    "\n",
    "print('*'*30)\n",
    "print('Creating and compiling model...')\n",
    "print('*'*30)"
   ]
  },
  {
   "cell_type": "code",
   "execution_count": 25,
   "metadata": {
    "colab": {},
    "colab_type": "code",
    "id": "pGWWqud7DK8G"
   },
   "outputs": [],
   "source": [
    "from keras.callbacks import TensorBoard"
   ]
  },
  {
   "cell_type": "code",
   "execution_count": 26,
   "metadata": {
    "colab": {},
    "colab_type": "code",
    "id": "C09n2PLv-eXE"
   },
   "outputs": [],
   "source": [
    "\n",
    "model = unet()\n",
    "model_checkpoint = ModelCheckpoint('weights.h5', monitor='val_loss', save_best_only=True)\n",
    "tensorboard = TensorBoard(log_dir='tensorboard/', write_graph=True, write_images=True)"
   ]
  },
  {
   "cell_type": "code",
   "execution_count": 27,
   "metadata": {
    "colab": {
     "base_uri": "https://localhost:8080/",
     "height": 1000
    },
    "colab_type": "code",
    "id": "dqy_5ydr-eUd",
    "outputId": "d2964227-c655-48fb-a887-ceacbfbc80b6"
   },
   "outputs": [
    {
     "name": "stdout",
     "output_type": "stream",
     "text": [
      "Model: \"model_3\"\n",
      "__________________________________________________________________________________________________\n",
      "Layer (type)                    Output Shape         Param #     Connected to                     \n",
      "==================================================================================================\n",
      "input_3 (InputLayer)            (None, 256, 256, 3)  0                                            \n",
      "__________________________________________________________________________________________________\n",
      "conv2d_49 (Conv2D)              (None, 256, 256, 64) 1792        input_3[0][0]                    \n",
      "__________________________________________________________________________________________________\n",
      "conv2d_50 (Conv2D)              (None, 256, 256, 64) 36928       conv2d_49[0][0]                  \n",
      "__________________________________________________________________________________________________\n",
      "max_pooling2d_9 (MaxPooling2D)  (None, 128, 128, 64) 0           conv2d_50[0][0]                  \n",
      "__________________________________________________________________________________________________\n",
      "conv2d_51 (Conv2D)              (None, 128, 128, 128 73856       max_pooling2d_9[0][0]            \n",
      "__________________________________________________________________________________________________\n",
      "conv2d_52 (Conv2D)              (None, 128, 128, 128 147584      conv2d_51[0][0]                  \n",
      "__________________________________________________________________________________________________\n",
      "max_pooling2d_10 (MaxPooling2D) (None, 64, 64, 128)  0           conv2d_52[0][0]                  \n",
      "__________________________________________________________________________________________________\n",
      "conv2d_53 (Conv2D)              (None, 64, 64, 256)  295168      max_pooling2d_10[0][0]           \n",
      "__________________________________________________________________________________________________\n",
      "conv2d_54 (Conv2D)              (None, 64, 64, 256)  590080      conv2d_53[0][0]                  \n",
      "__________________________________________________________________________________________________\n",
      "max_pooling2d_11 (MaxPooling2D) (None, 32, 32, 256)  0           conv2d_54[0][0]                  \n",
      "__________________________________________________________________________________________________\n",
      "conv2d_55 (Conv2D)              (None, 32, 32, 512)  1180160     max_pooling2d_11[0][0]           \n",
      "__________________________________________________________________________________________________\n",
      "conv2d_56 (Conv2D)              (None, 32, 32, 512)  2359808     conv2d_55[0][0]                  \n",
      "__________________________________________________________________________________________________\n",
      "dropout_5 (Dropout)             (None, 32, 32, 512)  0           conv2d_56[0][0]                  \n",
      "__________________________________________________________________________________________________\n",
      "max_pooling2d_12 (MaxPooling2D) (None, 16, 16, 512)  0           dropout_5[0][0]                  \n",
      "__________________________________________________________________________________________________\n",
      "conv2d_57 (Conv2D)              (None, 16, 16, 1024) 4719616     max_pooling2d_12[0][0]           \n",
      "__________________________________________________________________________________________________\n",
      "conv2d_58 (Conv2D)              (None, 16, 16, 1024) 9438208     conv2d_57[0][0]                  \n",
      "__________________________________________________________________________________________________\n",
      "dropout_6 (Dropout)             (None, 16, 16, 1024) 0           conv2d_58[0][0]                  \n",
      "__________________________________________________________________________________________________\n",
      "up_sampling2d_9 (UpSampling2D)  (None, 32, 32, 1024) 0           dropout_6[0][0]                  \n",
      "__________________________________________________________________________________________________\n",
      "conv2d_59 (Conv2D)              (None, 32, 32, 512)  2097664     up_sampling2d_9[0][0]            \n",
      "__________________________________________________________________________________________________\n",
      "concatenate_9 (Concatenate)     (None, 32, 32, 1024) 0           dropout_5[0][0]                  \n",
      "                                                                 conv2d_59[0][0]                  \n",
      "__________________________________________________________________________________________________\n",
      "conv2d_60 (Conv2D)              (None, 32, 32, 512)  4719104     concatenate_9[0][0]              \n",
      "__________________________________________________________________________________________________\n",
      "conv2d_61 (Conv2D)              (None, 32, 32, 512)  2359808     conv2d_60[0][0]                  \n",
      "__________________________________________________________________________________________________\n",
      "up_sampling2d_10 (UpSampling2D) (None, 64, 64, 512)  0           conv2d_61[0][0]                  \n",
      "__________________________________________________________________________________________________\n",
      "conv2d_62 (Conv2D)              (None, 64, 64, 256)  524544      up_sampling2d_10[0][0]           \n",
      "__________________________________________________________________________________________________\n",
      "concatenate_10 (Concatenate)    (None, 64, 64, 512)  0           conv2d_54[0][0]                  \n",
      "                                                                 conv2d_62[0][0]                  \n",
      "__________________________________________________________________________________________________\n",
      "conv2d_63 (Conv2D)              (None, 64, 64, 256)  1179904     concatenate_10[0][0]             \n",
      "__________________________________________________________________________________________________\n",
      "conv2d_64 (Conv2D)              (None, 64, 64, 256)  590080      conv2d_63[0][0]                  \n",
      "__________________________________________________________________________________________________\n",
      "up_sampling2d_11 (UpSampling2D) (None, 128, 128, 256 0           conv2d_64[0][0]                  \n",
      "__________________________________________________________________________________________________\n",
      "conv2d_65 (Conv2D)              (None, 128, 128, 128 131200      up_sampling2d_11[0][0]           \n",
      "__________________________________________________________________________________________________\n",
      "concatenate_11 (Concatenate)    (None, 128, 128, 256 0           conv2d_52[0][0]                  \n",
      "                                                                 conv2d_65[0][0]                  \n",
      "__________________________________________________________________________________________________\n",
      "conv2d_66 (Conv2D)              (None, 128, 128, 128 295040      concatenate_11[0][0]             \n",
      "__________________________________________________________________________________________________\n",
      "conv2d_67 (Conv2D)              (None, 128, 128, 128 147584      conv2d_66[0][0]                  \n",
      "__________________________________________________________________________________________________\n",
      "up_sampling2d_12 (UpSampling2D) (None, 256, 256, 128 0           conv2d_67[0][0]                  \n",
      "__________________________________________________________________________________________________\n",
      "conv2d_68 (Conv2D)              (None, 256, 256, 64) 32832       up_sampling2d_12[0][0]           \n",
      "__________________________________________________________________________________________________\n",
      "concatenate_12 (Concatenate)    (None, 256, 256, 128 0           conv2d_50[0][0]                  \n",
      "                                                                 conv2d_68[0][0]                  \n",
      "__________________________________________________________________________________________________\n",
      "conv2d_69 (Conv2D)              (None, 256, 256, 64) 73792       concatenate_12[0][0]             \n",
      "__________________________________________________________________________________________________\n",
      "conv2d_70 (Conv2D)              (None, 256, 256, 64) 36928       conv2d_69[0][0]                  \n",
      "__________________________________________________________________________________________________\n",
      "conv2d_71 (Conv2D)              (None, 256, 256, 2)  1154        conv2d_70[0][0]                  \n",
      "__________________________________________________________________________________________________\n",
      "conv2d_72 (Conv2D)              (None, 256, 256, 1)  3           conv2d_71[0][0]                  \n",
      "==================================================================================================\n",
      "Total params: 31,032,837\n",
      "Trainable params: 31,032,837\n",
      "Non-trainable params: 0\n",
      "__________________________________________________________________________________________________\n"
     ]
    }
   ],
   "source": [
    "model.summary()"
   ]
  },
  {
   "cell_type": "code",
   "execution_count": null,
   "metadata": {
    "colab": {
     "base_uri": "https://localhost:8080/",
     "height": 403
    },
    "colab_type": "code",
    "id": "b-gaAKHJ-eSn",
    "outputId": "4473b127-7638-4309-ed1f-1bd19a12feeb"
   },
   "outputs": [
    {
     "name": "stdout",
     "output_type": "stream",
     "text": [
      "******************************\n",
      "Fitting model...\n",
      "******************************\n",
      "Train on 1754 samples, validate on 439 samples\n",
      "Epoch 1/30\n",
      "1754/1754 [==============================] - 337s 192ms/step - loss: 0.6351 - accuracy: 0.8227 - val_loss: 0.6194 - val_accuracy: 0.7945\n",
      "Epoch 2/30\n",
      "1754/1754 [==============================] - 318s 181ms/step - loss: 0.5988 - accuracy: 0.8227 - val_loss: 0.5866 - val_accuracy: 0.7945\n",
      "Epoch 3/30\n",
      "1754/1754 [==============================] - 318s 181ms/step - loss: 0.5663 - accuracy: 0.8227 - val_loss: 0.5575 - val_accuracy: 0.7945\n",
      "Epoch 4/30\n",
      "1754/1754 [==============================] - 318s 181ms/step - loss: 0.5372 - accuracy: 0.8227 - val_loss: 0.5316 - val_accuracy: 0.7945\n",
      "Epoch 5/30\n",
      "1754/1754 [==============================] - 318s 181ms/step - loss: 0.5112 - accuracy: 0.8227 - val_loss: 0.5086 - val_accuracy: 0.7945\n",
      "Epoch 6/30\n",
      "1754/1754 [==============================] - 318s 181ms/step - loss: 0.4881 - accuracy: 0.8227 - val_loss: 0.4882 - val_accuracy: 0.7945\n",
      "Epoch 7/30\n",
      "1754/1754 [==============================] - 318s 181ms/step - loss: 0.4676 - accuracy: 0.8227 - val_loss: 0.4702 - val_accuracy: 0.7945\n",
      "Epoch 8/30\n",
      " 880/1754 [==============>...............] - ETA: 2:25 - loss: 0.4536 - accuracy: 0.8227"
     ]
    }
   ],
   "source": [
    "print('*'*30)\n",
    "print('Fitting model...')\n",
    "print('*'*30)\n",
    "history =  model.fit(imgs_train, imgs_mask_train, batch_size=16, epochs=30, verbose=1, shuffle=True,\n",
    "          validation_split=0.2,\n",
    "          callbacks=[model_checkpoint, tensorboard])\n",
    "\n",
    "plt.figure(figsize=(60, 30))\n",
    "plt.plot(history.history['loss'], linewidth=8, color='r')                   #visualising training and validation loss curves\n",
    "plt.plot(history.history['val_loss'], linewidth=8, color='b')\n",
    "plt.title('Model train vs Validation Loss', fontsize=100, fontweight=\"bold\")\n",
    "plt.ylabel('Loss', fontsize=80)\n",
    "plt.xlabel('Epoch', fontsize=80)\n",
    "plt.legend(['Train', 'Validation'], loc='upper right', fontsize=50)\n",
    "plt.xticks(fontsize=60)\n",
    "plt.yticks(fontsize=60)\n",
    "plt.show()\n"
   ]
  },
  {
   "cell_type": "code",
   "execution_count": null,
   "metadata": {
    "colab": {},
    "colab_type": "code",
    "id": "4L0ZwSgs-ePJ"
   },
   "outputs": [],
   "source": [
    "file = h5py.File('Dataset_test.h5', 'r')\n",
    "imgs_test = file.get('images')\n",
    "#imgs_mask_test = file.get('masks')\n",
    "imgs_test = np.array(imgs_test)\n",
    "#imgs_mask_test = np.array(imgs_mask_test)\n",
    "imgs_test = imgs_test.astype('float32')\n",
    "imgs_test -= mean\n",
    "imgs_test /= std\n",
    "\n",
    "print('*'*30)\n",
    "print('Loading saved weights...')\n",
    "print('*'*30)\n",
    "model.load_weights('weights.h5')\n",
    "\n",
    "print('*'*30)\n",
    "print('Predicting masks on test data...')\n",
    "print('*'*30)\n",
    "imgs_mask_test = model.predict(imgs_test, verbose=1)"
   ]
  },
  {
   "cell_type": "code",
   "execution_count": null,
   "metadata": {
    "colab": {},
    "colab_type": "code",
    "id": "62YRtEn6-eMl"
   },
   "outputs": [],
   "source": [
    "print('*' * 30)\n",
    "print('Saving predicted masks to files...')\n",
    "print('*' * 30)\n",
    "pred_dir = 'Preds2'\n",
    "if not os.path.exists(pred_dir):\n",
    "    os.mkdir(pred_dir)\n",
    "for i, image in enumerate(imgs_mask_test):\n",
    "    image = (image * 255).astype(np.uint8)\n",
    "    cv2.imwrite(os.path.join(pred_dir, str(i + 1) + '_pred.png'), image)\n"
   ]
  },
  {
   "cell_type": "code",
   "execution_count": null,
   "metadata": {
    "colab": {},
    "colab_type": "code",
    "id": "yU-wZHfG-eJh"
   },
   "outputs": [],
   "source": [
    "plt.figure(figsize=(60, 30))\n",
    "plt.plot(history.history['loss'], linewidth=8, color='r')                   #visualising training and validation loss curves\n",
    "plt.plot(history.history['val_loss'], linewidth=8, color='b')\n",
    "plt.title('Model train vs Validation Loss', fontsize=100, fontweight=\"bold\")\n",
    "plt.ylabel('Loss', fontsize=80)\n",
    "plt.xlabel('Epoch', fontsize=80)\n",
    "plt.legend(['Train', 'Validation'], loc='upper right', fontsize=50)\n",
    "plt.xticks(fontsize=60)\n",
    "plt.yticks(fontsize=60)\n",
    "plt.show()\n"
   ]
  },
  {
   "cell_type": "code",
   "execution_count": null,
   "metadata": {
    "colab": {},
    "colab_type": "code",
    "id": "UHBwMSYJ-yDY"
   },
   "outputs": [],
   "source": []
  },
  {
   "cell_type": "code",
   "execution_count": null,
   "metadata": {
    "colab": {},
    "colab_type": "code",
    "id": "fxWsJl7N-yB2"
   },
   "outputs": [],
   "source": []
  },
  {
   "cell_type": "code",
   "execution_count": null,
   "metadata": {
    "colab": {},
    "colab_type": "code",
    "id": "jKN3cE2M-x-x"
   },
   "outputs": [],
   "source": []
  },
  {
   "cell_type": "code",
   "execution_count": null,
   "metadata": {
    "colab": {},
    "colab_type": "code",
    "id": "MtlSdqKW-x7T"
   },
   "outputs": [],
   "source": []
  },
  {
   "cell_type": "code",
   "execution_count": null,
   "metadata": {
    "colab": {},
    "colab_type": "code",
    "id": "iLs-cq-T-x4f"
   },
   "outputs": [],
   "source": []
  },
  {
   "cell_type": "code",
   "execution_count": null,
   "metadata": {
    "colab": {},
    "colab_type": "code",
    "id": "rBs6OduK-eGU"
   },
   "outputs": [],
   "source": []
  }
 ],
 "metadata": {
  "accelerator": "GPU",
  "colab": {
   "collapsed_sections": [],
   "name": "UNet-Road-SAT.ipynb",
   "provenance": []
  },
  "kernelspec": {
   "display_name": "Python 3",
   "language": "python",
   "name": "python3"
  },
  "language_info": {
   "codemirror_mode": {
    "name": "ipython",
    "version": 3
   },
   "file_extension": ".py",
   "mimetype": "text/x-python",
   "name": "python",
   "nbconvert_exporter": "python",
   "pygments_lexer": "ipython3",
   "version": "3.8.5"
  }
 },
 "nbformat": 4,
 "nbformat_minor": 1
}
